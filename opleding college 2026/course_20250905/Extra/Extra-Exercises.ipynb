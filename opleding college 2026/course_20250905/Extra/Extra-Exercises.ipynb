{
 "cells": [
  {
   "cell_type": "markdown",
   "id": "a5376726",
   "metadata": {},
   "source": [
    "# Erasmus Q-Intelligence\n",
    "\n",
    "\n",
    "## Extra exercise on topics 01 - 04 (Introduction - Advanced Graphics)\n",
    "\n",
    "In this exercise we use the dataset 'gapminder' from 'gapminder.csv'. It is an excerpt of the Gapminder data on life expectancy, GDP per capita, and population by country."
   ]
  },
  {
   "cell_type": "markdown",
   "id": "fbf1ef6a",
   "metadata": {},
   "source": [
    "### Q1 - Introduction\n",
    "a) Open this notebook in jupyter. Make sure you save this script to a convenient place (not 'Downloads'!). Further, save the data 'gapminder.csv' from Canvas in the same working directory."
   ]
  },
  {
   "cell_type": "markdown",
   "id": "93d74b80",
   "metadata": {},
   "source": [
    "b) Import the module pandas with the alias pd, which is needed to import data from a .csv-file"
   ]
  },
  {
   "cell_type": "code",
   "execution_count": null,
   "id": "d9b63afe",
   "metadata": {},
   "outputs": [],
   "source": []
  },
  {
   "cell_type": "markdown",
   "id": "aba74f36",
   "metadata": {},
   "source": [
    "c) Load the dataset 'gapminder' from 'gapminder.csv'."
   ]
  },
  {
   "cell_type": "code",
   "execution_count": null,
   "id": "c511dd25",
   "metadata": {},
   "outputs": [],
   "source": []
  },
  {
   "cell_type": "markdown",
   "id": "8be2b8f0",
   "metadata": {},
   "source": [
    "### Q2 - Descriptives\n",
    "a) Use the function head(), tail() and describe() to get a second view on your data. Change the number of rows shown in head() and tail()."
   ]
  },
  {
   "cell_type": "code",
   "execution_count": null,
   "id": "fb61695c",
   "metadata": {},
   "outputs": [],
   "source": []
  },
  {
   "cell_type": "code",
   "execution_count": null,
   "id": "1f8488bc",
   "metadata": {},
   "outputs": [],
   "source": []
  },
  {
   "cell_type": "code",
   "execution_count": null,
   "id": "4af1e5db",
   "metadata": {
    "scrolled": true
   },
   "outputs": [],
   "source": []
  },
  {
   "cell_type": "markdown",
   "id": "c30b9398",
   "metadata": {},
   "source": [
    "b) Use a function to get the number of rows and columns in the dataset."
   ]
  },
  {
   "cell_type": "code",
   "execution_count": null,
   "id": "b7cedf41",
   "metadata": {},
   "outputs": [],
   "source": []
  },
  {
   "cell_type": "markdown",
   "id": "79891fc6",
   "metadata": {},
   "source": [
    "c) Show in a table how many observations there are by continent. Next, show in a two-way table how many observations there are by continent, by year. Check the help-file of pd.crosstab() if needed."
   ]
  },
  {
   "cell_type": "code",
   "execution_count": null,
   "id": "26dc8be4",
   "metadata": {},
   "outputs": [],
   "source": []
  },
  {
   "cell_type": "code",
   "execution_count": null,
   "id": "72e58235",
   "metadata": {},
   "outputs": [],
   "source": []
  },
  {
   "cell_type": "code",
   "execution_count": null,
   "id": "4a5bb1bd",
   "metadata": {},
   "outputs": [],
   "source": []
  },
  {
   "cell_type": "markdown",
   "id": "928fea23",
   "metadata": {},
   "source": [
    "d) Get a view on the distribution of life expectancy by showing the following set of quantiles: c(0, 0.01, 0.05, 0.1, 0.25, 0.5, 0.75, 0.9, 0.95, 0.99, 1). What does it tell you?"
   ]
  },
  {
   "cell_type": "code",
   "execution_count": null,
   "id": "a7b03b17",
   "metadata": {},
   "outputs": [],
   "source": []
  },
  {
   "cell_type": "markdown",
   "id": "87bcb641",
   "metadata": {},
   "source": [
    "e) Get the correlation matrix of the numeric variables in the dataset. Elaborate on the correlation between lifeExp and gdpPercap. (use .select_dtypes(include='number') to remove non number columns)"
   ]
  },
  {
   "cell_type": "code",
   "execution_count": null,
   "id": "fd0fa64e",
   "metadata": {},
   "outputs": [],
   "source": []
  },
  {
   "cell_type": "markdown",
   "id": "4a5b2fea",
   "metadata": {},
   "source": [
    "A flaw in the above investigations is that we have observations over the years, and now take them all together. It would be interesting to see differences over the years: something for the next exercises of visualization and of a later topic in the course (05_Data-Wrangling)."
   ]
  },
  {
   "cell_type": "markdown",
   "id": "e600f3e2",
   "metadata": {},
   "source": [
    "### Q3 - Graphics\n",
    "a) Get a third view of the data by using the function plot() on the dataset. Use the Zoom-button to see that it is still not very informative."
   ]
  },
  {
   "cell_type": "code",
   "execution_count": null,
   "id": "d55d342a",
   "metadata": {},
   "outputs": [],
   "source": []
  },
  {
   "cell_type": "code",
   "execution_count": null,
   "id": "3f8d9e67",
   "metadata": {},
   "outputs": [],
   "source": []
  },
  {
   "cell_type": "markdown",
   "id": "e279b4fb",
   "metadata": {},
   "source": [
    "b) Load the module matplotlib to make your own visualizations."
   ]
  },
  {
   "cell_type": "code",
   "execution_count": null,
   "id": "0394bcdb",
   "metadata": {},
   "outputs": [],
   "source": []
  },
  {
   "cell_type": "markdown",
   "id": "33914932",
   "metadata": {},
   "source": [
    "c) Visualize the relation between GDP per capita and life expectancy in a scatter plot using ggplot2."
   ]
  },
  {
   "cell_type": "code",
   "execution_count": null,
   "id": "bb73acea",
   "metadata": {},
   "outputs": [],
   "source": []
  },
  {
   "cell_type": "markdown",
   "id": "27ea31ee",
   "metadata": {},
   "source": [
    "d) Visualize the distribution of life expectancy using a boxplot and differentiate over year. Interpret the visualization."
   ]
  },
  {
   "cell_type": "code",
   "execution_count": null,
   "id": "3f7d56c2",
   "metadata": {},
   "outputs": [],
   "source": []
  },
  {
   "cell_type": "markdown",
   "id": "bbd74487",
   "metadata": {},
   "source": [
    "e) Visualize the distribution of GDP per capita using a histogram. Play with the number of bins."
   ]
  },
  {
   "cell_type": "code",
   "execution_count": null,
   "id": "00975893",
   "metadata": {},
   "outputs": [],
   "source": []
  },
  {
   "cell_type": "markdown",
   "id": "5bf471b9",
   "metadata": {},
   "source": [
    "The distribution of GDP per capita is very skewed. Visualize a log-transformation instead to find a clearer view, not only on the extreme outliers. For this log-transformation, we need the numpy-module; use this code:\n",
    "<br> \n",
    "import numpy as np\n",
    "<br>\n",
    "np.log(..variable..)"
   ]
  },
  {
   "cell_type": "code",
   "execution_count": null,
   "id": "349bcab8",
   "metadata": {},
   "outputs": [],
   "source": []
  },
  {
   "cell_type": "markdown",
   "id": "2555304e",
   "metadata": {},
   "source": [
    "### Q4 - Advanced Graphics\n",
    "a) We continue with the visualization from 3c). Visualize the relation between GDP per capita and life expectancy in a scatter plot using ggplot2. Given what we found in 3e), use log(gdpPercap) instead of gdpPercap. Change the shape of the points to 'o', the color of the dots to red and the edge to black, choose an other-than-default transparency, change the x-label to 'logarithm of GDP per capita (in US dollars)' and the y-label to 'life expectancy (in years)'."
   ]
  },
  {
   "cell_type": "code",
   "execution_count": null,
   "id": "ac1d702c",
   "metadata": {},
   "outputs": [],
   "source": []
  },
  {
   "cell_type": "markdown",
   "id": "de86ff9b",
   "metadata": {},
   "source": [
    "b) We continue with the visualization from 4a). Make the color of the dots dependent on continent and use your own manual colors (not the default). Play with transparency to clearify your plot. Make edgecolors to be 'white'."
   ]
  },
  {
   "cell_type": "code",
   "execution_count": null,
   "id": "3f796fd6",
   "metadata": {},
   "outputs": [],
   "source": []
  },
  {
   "cell_type": "code",
   "execution_count": null,
   "id": "f3338ba7",
   "metadata": {},
   "outputs": [],
   "source": []
  },
  {
   "cell_type": "markdown",
   "id": "4289e678",
   "metadata": {},
   "source": [
    "c) We continue with the visualization from 3d). Visualize the distribution of life expectancy using a boxplot and differentiate over year. Add a title to the plot and update the x- and y-labels.Next, update the y-axis, having breaks 30-35-40-...-80."
   ]
  },
  {
   "cell_type": "code",
   "execution_count": null,
   "id": "830168fa",
   "metadata": {},
   "outputs": [],
   "source": []
  },
  {
   "cell_type": "markdown",
   "id": "1ef3ada5",
   "metadata": {},
   "source": [
    "d) **EXTRA** Instead of a boxplot, where a lot of information is lost, we can create a violinplot. Look for the helpfile of [matplotlib.violinplot](https://matplotlib.org/stable/api/_as_gen/matplotlib.axes.Axes.violinplot.html). Visualize life expectancy over year, using only 1957, 1982 and 2007 (otherwise, the final visualization will be too full). Using the following code:\n",
    "<br>\n",
    "gapminder_filtered <- filter(gapminder, year %in% c(1957, 1982, 2007))\n",
    "<br>\n",
    "<br>\n",
    "You need to transform your data to wider, as is done in Advanced Graphics, the eredivisie-plot. (gapminder.pivot()) \n",
    "What do you see from this visualization?"
   ]
  },
  {
   "cell_type": "code",
   "execution_count": null,
   "id": "2889fc35",
   "metadata": {},
   "outputs": [],
   "source": []
  },
  {
   "cell_type": "markdown",
   "id": "02937e4f",
   "metadata": {},
   "source": [
    "Make the same violinplot, but then in subplots by continent. What can you conclude from the visualization?"
   ]
  },
  {
   "cell_type": "markdown",
   "id": "05dc8780",
   "metadata": {},
   "source": [
    "### Q5 - Data Wrangling\n",
    "\n",
    "a) Using the original gapminder dataset. Filter only the observations for continent Europe, drop the column lifeExp and create a new column which represents GDP (not being GDP per capita)"
   ]
  },
  {
   "cell_type": "code",
   "execution_count": null,
   "id": "55d957fc",
   "metadata": {},
   "outputs": [],
   "source": []
  },
  {
   "cell_type": "markdown",
   "id": "fbe8f6c4",
   "metadata": {},
   "source": [
    "b) Only for Netherlands, create a column which shows the five-yearly increase or decrease in gdpPercap. You migth want to use the function ?lag() for this question. Make sure your data is ordered by year before using this lag-function! Visualise the newly created column in a simple time series."
   ]
  },
  {
   "cell_type": "code",
   "execution_count": null,
   "id": "d8a8f347",
   "metadata": {},
   "outputs": [],
   "source": []
  },
  {
   "cell_type": "markdown",
   "id": "a1cc513e",
   "metadata": {},
   "source": [
    "c) Get, for all countries, the increase in lifeExp from the beginning till the end of the dataset. Which country increased most? Get a subset of countries which had a decrease in lifeExp."
   ]
  },
  {
   "cell_type": "code",
   "execution_count": null,
   "id": "117a2a2c",
   "metadata": {},
   "outputs": [],
   "source": []
  },
  {
   "cell_type": "markdown",
   "id": "fbd6aa75",
   "metadata": {},
   "source": [
    "d) Get, only for 2007, for each continent, the country with the highest and the country with the lowest life expectancy."
   ]
  },
  {
   "cell_type": "code",
   "execution_count": null,
   "id": "f3ccce66",
   "metadata": {},
   "outputs": [],
   "source": []
  },
  {
   "cell_type": "markdown",
   "id": "32a3122d",
   "metadata": {},
   "source": [
    "### Q6 - Functions, Iteration and Conditions\n",
    "\n",
    "a) Write a function get_vis(data, nation, var) which creates the time series of 'var' for a given 'nation'. Use an if-statement to:\n",
    "- print an informative warning if the given 'nation' is not in 'data'\n",
    "- print an informative warning if 'var' is not a numeric column in 'data' \n",
    "if nation and var are OK, the plot should be made (and if not OK, the plot should not be made!)\n",
    "if both 'nation' and 'var' are incorrect, 2 messages should be printed."
   ]
  },
  {
   "cell_type": "code",
   "execution_count": null,
   "id": "3f1f011a",
   "metadata": {},
   "outputs": [],
   "source": []
  },
  {
   "cell_type": "markdown",
   "id": "62dccece",
   "metadata": {},
   "source": [
    "b) Iterate the function from a) over a set of 5 countries (chosen by you) for var = lifeExp"
   ]
  },
  {
   "cell_type": "code",
   "execution_count": null,
   "id": "16b0d191",
   "metadata": {},
   "outputs": [],
   "source": []
  },
  {
   "cell_type": "markdown",
   "id": "609c85cc",
   "metadata": {},
   "source": [
    "c) Write a function get_avg_lifeExp(data, countries) which calculates the average lifeExp by year of the countries given in the vector 'countries'. The function should return the averages by year of the countries known in the data and print a warning message containing those countries in the given vector which are not in the data. If none of the given countries is available, this should give a warning as well (and no averages).\n",
    "HINT: you probably might want to use data-wrangling-functions in this question."
   ]
  },
  {
   "cell_type": "code",
   "execution_count": null,
   "id": "1dcf8a66",
   "metadata": {},
   "outputs": [],
   "source": []
  },
  {
   "cell_type": "markdown",
   "id": "0d3f57d4",
   "metadata": {},
   "source": [
    "d) Execute get_avg_lifeExp() on a set of 5 countries (chosen by you)"
   ]
  },
  {
   "cell_type": "code",
   "execution_count": null,
   "id": "89e57a28",
   "metadata": {},
   "outputs": [],
   "source": []
  },
  {
   "cell_type": "markdown",
   "id": "30074f40",
   "metadata": {},
   "source": [
    "e) BONUS: Get a list countries_by_alphabet from A-Z with all countries in list-element A, B, C ... based on the first letter of the country name"
   ]
  },
  {
   "cell_type": "code",
   "execution_count": null,
   "id": "e34ae10e",
   "metadata": {},
   "outputs": [],
   "source": []
  },
  {
   "cell_type": "markdown",
   "id": "04d0bf24",
   "metadata": {},
   "source": [
    "f) BONUS: Iterate get_avg_lifeExp() over the list countries_by_alphabet. From the resulting list of data.frames, get (again by iterating) the average lifeExp in 2007 and store those in a vector. What is striking?"
   ]
  },
  {
   "cell_type": "code",
   "execution_count": null,
   "id": "a86289bd",
   "metadata": {},
   "outputs": [],
   "source": []
  }
 ],
 "metadata": {
  "kernelspec": {
   "display_name": "Python 3",
   "language": "python",
   "name": "python3"
  },
  "language_info": {
   "codemirror_mode": {
    "name": "ipython",
    "version": 3
   },
   "file_extension": ".py",
   "mimetype": "text/x-python",
   "name": "python",
   "nbconvert_exporter": "python",
   "pygments_lexer": "ipython3",
   "version": "3.8.8"
  }
 },
 "nbformat": 4,
 "nbformat_minor": 5
}
