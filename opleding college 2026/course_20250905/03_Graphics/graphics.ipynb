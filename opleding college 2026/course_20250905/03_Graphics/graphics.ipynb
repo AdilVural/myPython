{
 "cells": [
  {
   "cell_type": "code",
   "execution_count": null,
   "id": "9b5e1bb8",
   "metadata": {},
   "outputs": [],
   "source": [
    "# Import pandas\n",
    "import pandas as pd"
   ]
  },
  {
   "cell_type": "code",
   "execution_count": null,
   "id": "f9d0ce40",
   "metadata": {},
   "outputs": [],
   "source": [
    "storms = pd.read_csv(\"storms.csv\")\n",
    "storms[[\"pressure\"]].plot()"
   ]
  },
  {
   "cell_type": "code",
   "execution_count": null,
   "id": "73057bb5",
   "metadata": {},
   "outputs": [],
   "source": [
    "pd.plotting.scatter_matrix(storms[[\"status\", \"category\", \n",
    "                               \"wind\", \"pressure\"]])"
   ]
  },
  {
   "cell_type": "code",
   "execution_count": null,
   "id": "234713f6",
   "metadata": {},
   "outputs": [],
   "source": [
    "import matplotlib.pyplot as plt"
   ]
  },
  {
   "cell_type": "code",
   "execution_count": null,
   "id": "90d71681",
   "metadata": {},
   "outputs": [],
   "source": [
    "import seaborn as sns"
   ]
  },
  {
   "cell_type": "code",
   "execution_count": null,
   "id": "c75342b6",
   "metadata": {},
   "outputs": [],
   "source": [
    "sns.relplot(data = storms, x = \"wind\", y = \"pressure\")"
   ]
  },
  {
   "cell_type": "code",
   "execution_count": null,
   "id": "be7a2830",
   "metadata": {},
   "outputs": [],
   "source": [
    "# Create histogram\n",
    "sns.histplot(data = storms, x = \"wind\")"
   ]
  },
  {
   "cell_type": "code",
   "execution_count": null,
   "id": "11a60596",
   "metadata": {},
   "outputs": [],
   "source": [
    "# Adjusting the bin width \n",
    "sns.histplot(data = storms, x = \"wind\", bins = 15)"
   ]
  },
  {
   "cell_type": "code",
   "execution_count": null,
   "id": "b4dc3e83",
   "metadata": {},
   "outputs": [],
   "source": [
    "sns.histplot(data = storms, x = \"wind\", bins = 15, stat = \"density\")"
   ]
  },
  {
   "cell_type": "code",
   "execution_count": null,
   "id": "b61c33eb",
   "metadata": {},
   "outputs": [],
   "source": [
    "sns.displot(storms, x = \"wind\", kind = \"kde\")"
   ]
  },
  {
   "cell_type": "code",
   "execution_count": null,
   "id": "b68ac749",
   "metadata": {},
   "outputs": [],
   "source": [
    "storms[[\"wind\"]].plot(kind='density')"
   ]
  },
  {
   "cell_type": "code",
   "execution_count": null,
   "id": "31a391e9",
   "metadata": {},
   "outputs": [],
   "source": [
    "max(storms[\"wind\"])"
   ]
  },
  {
   "cell_type": "code",
   "execution_count": null,
   "id": "cc4319a7",
   "metadata": {},
   "outputs": [],
   "source": [
    "import statsmodels.api as sm"
   ]
  },
  {
   "cell_type": "code",
   "execution_count": null,
   "id": "b0297cb9",
   "metadata": {},
   "outputs": [],
   "source": [
    "fig = sm.qqplot(storms['wind'])\n",
    "plt.show()\n",
    "\n",
    "# Add theoretical line\n",
    "#fig = sm.qqplot(storms['wind'], line = \"45\", fit = True)\n",
    "#plt.show()"
   ]
  },
  {
   "cell_type": "code",
   "execution_count": null,
   "id": "dcc8f38d",
   "metadata": {},
   "outputs": [],
   "source": [
    "sns.boxplot(data = storms, y = \"wind\")\n",
    "plt.show()\n",
    "\n",
    "storms"
   ]
  },
  {
   "cell_type": "code",
   "execution_count": null,
   "id": "4d5c74a6",
   "metadata": {},
   "outputs": [],
   "source": [
    "sns.boxplot(data = storms, y = \"wind\", x = \"month\")\n",
    "plt.show()"
   ]
  },
  {
   "cell_type": "code",
   "execution_count": null,
   "id": "e2abaccb",
   "metadata": {},
   "outputs": [],
   "source": [
    "sns.countplot(data = storms, x = 'status')\n",
    "plt.show()"
   ]
  },
  {
   "cell_type": "code",
   "execution_count": null,
   "id": "1bc27856",
   "metadata": {},
   "outputs": [],
   "source": [
    "economics = pd.read_csv(\"economics.csv\")\n",
    "\n",
    "sns.relplot(economics, kind = \"line\", x = \"date\", y = \"unemploy\")\n",
    "\n",
    "plt.show()"
   ]
  },
  {
   "cell_type": "code",
   "execution_count": null,
   "id": "1c691774",
   "metadata": {},
   "outputs": [],
   "source": [
    "economics.plot('date', 'unemploy')"
   ]
  }
 ],
 "metadata": {
  "kernelspec": {
   "display_name": "les3",
   "language": "python",
   "name": "python3"
  },
  "language_info": {
   "codemirror_mode": {
    "name": "ipython",
    "version": 3
   },
   "file_extension": ".py",
   "mimetype": "text/x-python",
   "name": "python",
   "nbconvert_exporter": "python",
   "pygments_lexer": "ipython3",
   "version": "3.13.5"
  }
 },
 "nbformat": 4,
 "nbformat_minor": 5
}
