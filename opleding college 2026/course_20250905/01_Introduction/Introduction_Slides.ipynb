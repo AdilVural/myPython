{
 "cells": [
  {
   "cell_type": "markdown",
   "id": "a9604053",
   "metadata": {},
   "source": [
    "# Introduction Slides\n",
    "\n",
    "---\n",
    "Erasmus Q-Intelligence B.V.\n",
    "\n",
    "---"
   ]
  },
  {
   "cell_type": "markdown",
   "id": "79ff3a74",
   "metadata": {},
   "source": [
    "## Installing packages with pip\n",
    "\n",
    "Check pip version"
   ]
  },
  {
   "cell_type": "code",
   "execution_count": 1,
   "id": "b7f7a627",
   "metadata": {},
   "outputs": [
    {
     "name": "stdout",
     "output_type": "stream",
     "text": [
      "pip 25.2 from /Library/Frameworks/Python.framework/Versions/3.13/lib/python3.13/site-packages/pip (python 3.13)\n",
      "Note: you may need to restart the kernel to use updated packages.\n"
     ]
    }
   ],
   "source": [
    "pip --version"
   ]
  },
  {
   "cell_type": "markdown",
   "id": "a7cdde4f",
   "metadata": {},
   "source": [
    "Get list of installed packages"
   ]
  },
  {
   "cell_type": "code",
   "execution_count": 2,
   "id": "49b7390c",
   "metadata": {},
   "outputs": [
    {
     "name": "stdout",
     "output_type": "stream",
     "text": [
      "Package                 Version\n",
      "----------------------- -----------\n",
      "appnope                 0.1.4\n",
      "asttokens               3.0.0\n",
      "comm                    0.2.3\n",
      "debugpy                 1.8.16\n",
      "decorator               5.2.1\n",
      "executing               2.2.1\n",
      "ipykernel               6.30.1\n",
      "ipython                 9.5.0\n",
      "ipython_pygments_lexers 1.1.1\n",
      "jedi                    0.19.2\n",
      "jupyter_client          8.6.3\n",
      "jupyter_core            5.8.1\n",
      "matplotlib-inline       0.1.7\n",
      "nest-asyncio            1.6.0\n",
      "packaging               25.0\n",
      "parso                   0.8.5\n",
      "pexpect                 4.9.0\n",
      "pip                     25.2\n",
      "platformdirs            4.4.0\n",
      "prompt_toolkit          3.0.52\n",
      "psutil                  7.0.0\n",
      "ptyprocess              0.7.0\n",
      "pure_eval               0.2.3\n",
      "Pygments                2.19.2\n",
      "python-dateutil         2.9.0.post0\n",
      "pyzmq                   27.0.2\n",
      "six                     1.17.0\n",
      "stack-data              0.6.3\n",
      "tornado                 6.5.2\n",
      "traitlets               5.14.3\n",
      "wcwidth                 0.2.13\n",
      "Note: you may need to restart the kernel to use updated packages.\n"
     ]
    }
   ],
   "source": [
    "pip list"
   ]
  },
  {
   "cell_type": "markdown",
   "id": "941b7474",
   "metadata": {},
   "source": [
    "Install package (replace `<package_name>` with the package you wish to install)"
   ]
  },
  {
   "cell_type": "code",
   "execution_count": 7,
   "id": "1d17d823",
   "metadata": {},
   "outputs": [
    {
     "name": "stdout",
     "output_type": "stream",
     "text": [
      "Requirement already satisfied: ipykernel in /Users/adilvural/Library/Python/3.13/lib/python/site-packages (6.30.1)\n",
      "Requirement already satisfied: appnope>=0.1.2 in /Users/adilvural/Library/Python/3.13/lib/python/site-packages (from ipykernel) (0.1.4)\n",
      "Requirement already satisfied: comm>=0.1.1 in /Users/adilvural/Library/Python/3.13/lib/python/site-packages (from ipykernel) (0.2.3)\n",
      "Requirement already satisfied: debugpy>=1.6.5 in /Users/adilvural/Library/Python/3.13/lib/python/site-packages (from ipykernel) (1.8.16)\n",
      "Requirement already satisfied: ipython>=7.23.1 in /Users/adilvural/Library/Python/3.13/lib/python/site-packages (from ipykernel) (9.5.0)\n",
      "Requirement already satisfied: jupyter-client>=8.0.0 in /Users/adilvural/Library/Python/3.13/lib/python/site-packages (from ipykernel) (8.6.3)\n",
      "Requirement already satisfied: jupyter-core!=5.0.*,>=4.12 in /Users/adilvural/Library/Python/3.13/lib/python/site-packages (from ipykernel) (5.8.1)\n",
      "Requirement already satisfied: matplotlib-inline>=0.1 in /Users/adilvural/Library/Python/3.13/lib/python/site-packages (from ipykernel) (0.1.7)\n",
      "Requirement already satisfied: nest-asyncio>=1.4 in /Users/adilvural/Library/Python/3.13/lib/python/site-packages (from ipykernel) (1.6.0)\n",
      "Requirement already satisfied: packaging>=22 in /Users/adilvural/Library/Python/3.13/lib/python/site-packages (from ipykernel) (25.0)\n",
      "Requirement already satisfied: psutil>=5.7 in /Users/adilvural/Library/Python/3.13/lib/python/site-packages (from ipykernel) (7.0.0)\n",
      "Requirement already satisfied: pyzmq>=25 in /Users/adilvural/Library/Python/3.13/lib/python/site-packages (from ipykernel) (27.0.2)\n",
      "Requirement already satisfied: tornado>=6.2 in /Users/adilvural/Library/Python/3.13/lib/python/site-packages (from ipykernel) (6.5.2)\n",
      "Requirement already satisfied: traitlets>=5.4.0 in /Users/adilvural/Library/Python/3.13/lib/python/site-packages (from ipykernel) (5.14.3)\n",
      "Requirement already satisfied: decorator in /Users/adilvural/Library/Python/3.13/lib/python/site-packages (from ipython>=7.23.1->ipykernel) (5.2.1)\n",
      "Requirement already satisfied: ipython-pygments-lexers in /Users/adilvural/Library/Python/3.13/lib/python/site-packages (from ipython>=7.23.1->ipykernel) (1.1.1)\n",
      "Requirement already satisfied: jedi>=0.16 in /Users/adilvural/Library/Python/3.13/lib/python/site-packages (from ipython>=7.23.1->ipykernel) (0.19.2)\n",
      "Requirement already satisfied: pexpect>4.3 in /Users/adilvural/Library/Python/3.13/lib/python/site-packages (from ipython>=7.23.1->ipykernel) (4.9.0)\n",
      "Requirement already satisfied: prompt_toolkit<3.1.0,>=3.0.41 in /Users/adilvural/Library/Python/3.13/lib/python/site-packages (from ipython>=7.23.1->ipykernel) (3.0.52)\n",
      "Requirement already satisfied: pygments>=2.4.0 in /Users/adilvural/Library/Python/3.13/lib/python/site-packages (from ipython>=7.23.1->ipykernel) (2.19.2)\n",
      "Requirement already satisfied: stack_data in /Users/adilvural/Library/Python/3.13/lib/python/site-packages (from ipython>=7.23.1->ipykernel) (0.6.3)\n",
      "Requirement already satisfied: wcwidth in /Users/adilvural/Library/Python/3.13/lib/python/site-packages (from prompt_toolkit<3.1.0,>=3.0.41->ipython>=7.23.1->ipykernel) (0.2.13)\n",
      "Requirement already satisfied: parso<0.9.0,>=0.8.4 in /Users/adilvural/Library/Python/3.13/lib/python/site-packages (from jedi>=0.16->ipython>=7.23.1->ipykernel) (0.8.5)\n",
      "Requirement already satisfied: python-dateutil>=2.8.2 in /Users/adilvural/Library/Python/3.13/lib/python/site-packages (from jupyter-client>=8.0.0->ipykernel) (2.9.0.post0)\n",
      "Requirement already satisfied: platformdirs>=2.5 in /Users/adilvural/Library/Python/3.13/lib/python/site-packages (from jupyter-core!=5.0.*,>=4.12->ipykernel) (4.4.0)\n",
      "Requirement already satisfied: ptyprocess>=0.5 in /Users/adilvural/Library/Python/3.13/lib/python/site-packages (from pexpect>4.3->ipython>=7.23.1->ipykernel) (0.7.0)\n",
      "Requirement already satisfied: six>=1.5 in /Users/adilvural/Library/Python/3.13/lib/python/site-packages (from python-dateutil>=2.8.2->jupyter-client>=8.0.0->ipykernel) (1.17.0)\n",
      "Requirement already satisfied: executing>=1.2.0 in /Users/adilvural/Library/Python/3.13/lib/python/site-packages (from stack_data->ipython>=7.23.1->ipykernel) (2.2.1)\n",
      "Requirement already satisfied: asttokens>=2.1.0 in /Users/adilvural/Library/Python/3.13/lib/python/site-packages (from stack_data->ipython>=7.23.1->ipykernel) (3.0.0)\n",
      "Requirement already satisfied: pure-eval in /Users/adilvural/Library/Python/3.13/lib/python/site-packages (from stack_data->ipython>=7.23.1->ipykernel) (0.2.3)\n",
      "Note: you may need to restart the kernel to use updated packages.\n"
     ]
    }
   ],
   "source": [
    "pip install ipykernel"
   ]
  },
  {
   "cell_type": "markdown",
   "id": "3287fd53",
   "metadata": {},
   "source": [
    "## A package is a collection of modules. Modules define functions, classes and objects.\n",
    "\n",
    "#### Importing installed modules"
   ]
  },
  {
   "cell_type": "markdown",
   "id": "7f70fe94",
   "metadata": {},
   "source": [
    "Import complete module"
   ]
  },
  {
   "cell_type": "code",
   "execution_count": null,
   "id": "deea63e5",
   "metadata": {},
   "outputs": [],
   "source": [
    "import math\n",
    "math.sqrt(25)"
   ]
  },
  {
   "cell_type": "markdown",
   "id": "548d255a",
   "metadata": {},
   "source": [
    "Import specific things from a module"
   ]
  },
  {
   "cell_type": "code",
   "execution_count": null,
   "id": "8ee9f016",
   "metadata": {},
   "outputs": [],
   "source": [
    "from math import sqrt\n",
    "sqrt(25)"
   ]
  },
  {
   "cell_type": "markdown",
   "id": "460649df",
   "metadata": {},
   "source": [
    "Import module using an alias"
   ]
  },
  {
   "cell_type": "code",
   "execution_count": null,
   "id": "f29e5b66",
   "metadata": {},
   "outputs": [],
   "source": [
    "import math as m\n",
    "m.sqrt(25)"
   ]
  },
  {
   "cell_type": "markdown",
   "id": "ff151d0a",
   "metadata": {},
   "source": [
    "## Using the help function\n",
    "\n",
    "The help() function can be used to get the documentation of\n",
    "a function.\n",
    "\n",
    "\n",
    "Get the help of the `math.sqrt()` function"
   ]
  },
  {
   "cell_type": "code",
   "execution_count": null,
   "id": "cb091780",
   "metadata": {},
   "outputs": [],
   "source": [
    "help(math.sqrt)"
   ]
  },
  {
   "cell_type": "markdown",
   "id": "3cb68447",
   "metadata": {},
   "source": [
    "Get the help of the `math.pow()`\n",
    "function"
   ]
  },
  {
   "cell_type": "code",
   "execution_count": 14,
   "id": "2f3b3b3a",
   "metadata": {},
   "outputs": [
    {
     "name": "stdout",
     "output_type": "stream",
     "text": [
      "Help on built-in function pow in module math:\n",
      "\n",
      "pow(x, y, /)\n",
      "    Return x**y (x to the power of y).\n",
      "\n"
     ]
    }
   ],
   "source": [
    "help(math.pow)"
   ]
  },
  {
   "cell_type": "markdown",
   "id": "e409e00c",
   "metadata": {},
   "source": [
    "# Functions and methods\n",
    "\n",
    "1. Functions exist on their own, and are not tied to any object.\n",
    "2. Functions are called by using their name, and they use objects that are passed as parameters.\n",
    "\n"
   ]
  },
  {
   "cell_type": "code",
   "execution_count": null,
   "id": "ea6f6dbe",
   "metadata": {},
   "outputs": [
    {
     "data": {
      "text/plain": [
       "(3,)"
      ]
     },
     "execution_count": 13,
     "metadata": {},
     "output_type": "execute_result"
    }
   ],
   "source": [
    "age = [20,22,52]\n",
    "# Built in function\n",
    "len(age)"
   ]
  },
  {
   "cell_type": "code",
   "execution_count": null,
   "id": "dd1c2e99",
   "metadata": {},
   "outputs": [
    {
     "data": {
      "text/plain": [
       "25.0"
      ]
     },
     "execution_count": 16,
     "metadata": {},
     "output_type": "execute_result"
    }
   ],
   "source": [
    "#Function from package\n",
    "math.pow(5,2)"
   ]
  },
  {
   "cell_type": "markdown",
   "id": "bfc58861",
   "metadata": {},
   "source": [
    "3. Methods are associated with objects.\n",
    "4. Methods are called on the object, and they can use the object they are associated with.\n",
    "5. For example, df.head() returns the first five lines of the df object.\n"
   ]
  },
  {
   "cell_type": "markdown",
   "id": "cd1d3625",
   "metadata": {},
   "source": [
    "## View CSV datasets\n",
    "\n",
    "Use pandas to import `iris.csv`."
   ]
  },
  {
   "cell_type": "code",
   "execution_count": null,
   "id": "80f4eb5e",
   "metadata": {},
   "outputs": [],
   "source": [
    "import pandas as pd\n",
    "#File paths are relative to the location of the notebook.\n",
    "df = pd.read_csv(\"iris.csv\")\n",
    "df"
   ]
  },
  {
   "cell_type": "markdown",
   "id": "356bcc02",
   "metadata": {},
   "source": [
    "Display first 5 rows"
   ]
  },
  {
   "cell_type": "code",
   "execution_count": 17,
   "id": "79be8598",
   "metadata": {},
   "outputs": [
    {
     "data": {
      "text/html": [
       "<div>\n",
       "<style scoped>\n",
       "    .dataframe tbody tr th:only-of-type {\n",
       "        vertical-align: middle;\n",
       "    }\n",
       "\n",
       "    .dataframe tbody tr th {\n",
       "        vertical-align: top;\n",
       "    }\n",
       "\n",
       "    .dataframe thead th {\n",
       "        text-align: right;\n",
       "    }\n",
       "</style>\n",
       "<table border=\"1\" class=\"dataframe\">\n",
       "  <thead>\n",
       "    <tr style=\"text-align: right;\">\n",
       "      <th></th>\n",
       "      <th>Sepal.Length</th>\n",
       "      <th>Sepal.Width</th>\n",
       "      <th>Petal.Length</th>\n",
       "      <th>Petal.Width</th>\n",
       "      <th>Species</th>\n",
       "    </tr>\n",
       "  </thead>\n",
       "  <tbody>\n",
       "    <tr>\n",
       "      <th>0</th>\n",
       "      <td>5.1</td>\n",
       "      <td>3.5</td>\n",
       "      <td>1.4</td>\n",
       "      <td>0.2</td>\n",
       "      <td>setosa</td>\n",
       "    </tr>\n",
       "    <tr>\n",
       "      <th>1</th>\n",
       "      <td>4.9</td>\n",
       "      <td>3.0</td>\n",
       "      <td>1.4</td>\n",
       "      <td>0.2</td>\n",
       "      <td>setosa</td>\n",
       "    </tr>\n",
       "    <tr>\n",
       "      <th>2</th>\n",
       "      <td>4.7</td>\n",
       "      <td>3.2</td>\n",
       "      <td>1.3</td>\n",
       "      <td>0.2</td>\n",
       "      <td>setosa</td>\n",
       "    </tr>\n",
       "    <tr>\n",
       "      <th>3</th>\n",
       "      <td>4.6</td>\n",
       "      <td>3.1</td>\n",
       "      <td>1.5</td>\n",
       "      <td>0.2</td>\n",
       "      <td>setosa</td>\n",
       "    </tr>\n",
       "    <tr>\n",
       "      <th>4</th>\n",
       "      <td>5.0</td>\n",
       "      <td>3.6</td>\n",
       "      <td>1.4</td>\n",
       "      <td>0.2</td>\n",
       "      <td>setosa</td>\n",
       "    </tr>\n",
       "  </tbody>\n",
       "</table>\n",
       "</div>"
      ],
      "text/plain": [
       "   Sepal.Length  Sepal.Width  Petal.Length  Petal.Width Species\n",
       "0           5.1          3.5           1.4          0.2  setosa\n",
       "1           4.9          3.0           1.4          0.2  setosa\n",
       "2           4.7          3.2           1.3          0.2  setosa\n",
       "3           4.6          3.1           1.5          0.2  setosa\n",
       "4           5.0          3.6           1.4          0.2  setosa"
      ]
     },
     "execution_count": 17,
     "metadata": {},
     "output_type": "execute_result"
    }
   ],
   "source": [
    "# Is a method on the df object. It already knows the context of df.\n",
    "df.head()"
   ]
  },
  {
   "cell_type": "markdown",
   "id": "e8e12bc6",
   "metadata": {},
   "source": [
    "Dipslay last 5 rows"
   ]
  },
  {
   "cell_type": "code",
   "execution_count": 24,
   "id": "867cbfe3",
   "metadata": {},
   "outputs": [
    {
     "data": {
      "text/html": [
       "<div>\n",
       "<style scoped>\n",
       "    .dataframe tbody tr th:only-of-type {\n",
       "        vertical-align: middle;\n",
       "    }\n",
       "\n",
       "    .dataframe tbody tr th {\n",
       "        vertical-align: top;\n",
       "    }\n",
       "\n",
       "    .dataframe thead th {\n",
       "        text-align: right;\n",
       "    }\n",
       "</style>\n",
       "<table border=\"1\" class=\"dataframe\">\n",
       "  <thead>\n",
       "    <tr style=\"text-align: right;\">\n",
       "      <th></th>\n",
       "      <th>Sepal.Length</th>\n",
       "      <th>Sepal.Width</th>\n",
       "      <th>Petal.Length</th>\n",
       "      <th>Petal.Width</th>\n",
       "      <th>Species</th>\n",
       "    </tr>\n",
       "  </thead>\n",
       "  <tbody>\n",
       "    <tr>\n",
       "      <th>145</th>\n",
       "      <td>6.7</td>\n",
       "      <td>3.0</td>\n",
       "      <td>5.2</td>\n",
       "      <td>2.3</td>\n",
       "      <td>virginica</td>\n",
       "    </tr>\n",
       "    <tr>\n",
       "      <th>146</th>\n",
       "      <td>6.3</td>\n",
       "      <td>2.5</td>\n",
       "      <td>5.0</td>\n",
       "      <td>1.9</td>\n",
       "      <td>virginica</td>\n",
       "    </tr>\n",
       "    <tr>\n",
       "      <th>147</th>\n",
       "      <td>6.5</td>\n",
       "      <td>3.0</td>\n",
       "      <td>5.2</td>\n",
       "      <td>2.0</td>\n",
       "      <td>virginica</td>\n",
       "    </tr>\n",
       "    <tr>\n",
       "      <th>148</th>\n",
       "      <td>6.2</td>\n",
       "      <td>3.4</td>\n",
       "      <td>5.4</td>\n",
       "      <td>2.3</td>\n",
       "      <td>virginica</td>\n",
       "    </tr>\n",
       "    <tr>\n",
       "      <th>149</th>\n",
       "      <td>5.9</td>\n",
       "      <td>3.0</td>\n",
       "      <td>5.1</td>\n",
       "      <td>1.8</td>\n",
       "      <td>virginica</td>\n",
       "    </tr>\n",
       "  </tbody>\n",
       "</table>\n",
       "</div>"
      ],
      "text/plain": [
       "     Sepal.Length  Sepal.Width  Petal.Length  Petal.Width    Species\n",
       "145           6.7          3.0           5.2          2.3  virginica\n",
       "146           6.3          2.5           5.0          1.9  virginica\n",
       "147           6.5          3.0           5.2          2.0  virginica\n",
       "148           6.2          3.4           5.4          2.3  virginica\n",
       "149           5.9          3.0           5.1          1.8  virginica"
      ]
     },
     "execution_count": 24,
     "metadata": {},
     "output_type": "execute_result"
    }
   ],
   "source": [
    "df.tail()"
   ]
  },
  {
   "cell_type": "markdown",
   "id": "de242b51",
   "metadata": {},
   "source": [
    "Get a summary of the data"
   ]
  },
  {
   "cell_type": "code",
   "execution_count": null,
   "id": "3774c800",
   "metadata": {},
   "outputs": [],
   "source": [
    "#Get overview of the marginal distributions of the variables\n",
    "df.describe()"
   ]
  }
 ],
 "metadata": {
  "kernelspec": {
   "display_name": "Python 3",
   "language": "python",
   "name": "python3"
  },
  "language_info": {
   "codemirror_mode": {
    "name": "ipython",
    "version": 3
   },
   "file_extension": ".py",
   "mimetype": "text/x-python",
   "name": "python",
   "nbconvert_exporter": "python",
   "pygments_lexer": "ipython3",
   "version": "3.13.7"
  }
 },
 "nbformat": 4,
 "nbformat_minor": 5
}
