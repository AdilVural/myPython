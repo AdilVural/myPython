{
 "cells": [
  {
   "cell_type": "markdown",
   "id": "a9604053",
   "metadata": {},
   "source": [
    "# Introduction Slides\n",
    "\n",
    "---\n",
    "Erasmus Q-Intelligence B.V.\n",
    "\n",
    "---"
   ]
  },
  {
   "cell_type": "markdown",
   "id": "79ff3a74",
   "metadata": {},
   "source": [
    "## Installing packages with pip\n",
    "\n",
    "Check pip version"
   ]
  },
  {
   "cell_type": "code",
   "execution_count": null,
   "id": "b7f7a627",
   "metadata": {},
   "outputs": [],
   "source": [
    "pip --version"
   ]
  },
  {
   "cell_type": "markdown",
   "id": "a7cdde4f",
   "metadata": {},
   "source": [
    "Get list of installed packages"
   ]
  },
  {
   "cell_type": "code",
   "execution_count": null,
   "id": "49b7390c",
   "metadata": {},
   "outputs": [],
   "source": [
    "pip list"
   ]
  },
  {
   "cell_type": "markdown",
   "id": "941b7474",
   "metadata": {},
   "source": [
    "Install package (replace `<package_name>` with the package you wish to install)"
   ]
  },
  {
   "cell_type": "code",
   "execution_count": null,
   "id": "1d17d823",
   "metadata": {},
   "outputs": [],
   "source": [
    "#pip install <package_name>"
   ]
  },
  {
   "cell_type": "markdown",
   "id": "3287fd53",
   "metadata": {},
   "source": [
    "## A package is a collection of modules. Modules define functions, classes and objects.\n",
    "\n",
    "#### Importing installed modules"
   ]
  },
  {
   "cell_type": "markdown",
   "id": "7f70fe94",
   "metadata": {},
   "source": [
    "Import complete module"
   ]
  },
  {
   "cell_type": "code",
   "execution_count": null,
   "id": "deea63e5",
   "metadata": {},
   "outputs": [],
   "source": [
    "import math\n",
    "math.sqrt(25)"
   ]
  },
  {
   "cell_type": "markdown",
   "id": "548d255a",
   "metadata": {},
   "source": [
    "Import specific things from a module"
   ]
  },
  {
   "cell_type": "code",
   "execution_count": null,
   "id": "8ee9f016",
   "metadata": {},
   "outputs": [],
   "source": [
    "from math import sqrt\n",
    "sqrt(25)"
   ]
  },
  {
   "cell_type": "markdown",
   "id": "460649df",
   "metadata": {},
   "source": [
    "Import module using an alias"
   ]
  },
  {
   "cell_type": "code",
   "execution_count": null,
   "id": "f29e5b66",
   "metadata": {},
   "outputs": [],
   "source": [
    "import math as m\n",
    "m.sqrt(25)"
   ]
  },
  {
   "cell_type": "markdown",
   "id": "ff151d0a",
   "metadata": {},
   "source": [
    "## Using the help function\n",
    "\n",
    "The help() function can be used to get the documentation of\n",
    "a function.\n",
    "\n",
    "\n",
    "Get the help of the `math.sqrt()` function"
   ]
  },
  {
   "cell_type": "code",
   "execution_count": null,
   "id": "cb091780",
   "metadata": {},
   "outputs": [],
   "source": [
    "help(math.sqrt)"
   ]
  },
  {
   "cell_type": "markdown",
   "id": "3cb68447",
   "metadata": {},
   "source": [
    "Get the help of the `math.pow()`\n",
    "function"
   ]
  },
  {
   "cell_type": "code",
   "execution_count": 14,
   "id": "2f3b3b3a",
   "metadata": {},
   "outputs": [
    {
     "name": "stdout",
     "output_type": "stream",
     "text": [
      "Help on built-in function pow in module math:\n",
      "\n",
      "pow(x, y, /)\n",
      "    Return x**y (x to the power of y).\n",
      "\n"
     ]
    }
   ],
   "source": [
    "help(math.pow)"
   ]
  },
  {
   "cell_type": "markdown",
   "id": "e409e00c",
   "metadata": {},
   "source": [
    "# Functions and methods\n",
    "\n",
    "1. Functions exist on their own, and are not tied to any object.\n",
    "2. Functions are called by using their name, and they use objects that are passed as parameters.\n",
    "\n"
   ]
  },
  {
   "cell_type": "code",
   "execution_count": null,
   "id": "ea6f6dbe",
   "metadata": {},
   "outputs": [
    {
     "data": {
      "text/plain": [
       "(3,)"
      ]
     },
     "execution_count": 13,
     "metadata": {},
     "output_type": "execute_result"
    }
   ],
   "source": [
    "age = [20,22,52]\n",
    "# Built in function\n",
    "len(age)"
   ]
  },
  {
   "cell_type": "code",
   "execution_count": null,
   "id": "dd1c2e99",
   "metadata": {},
   "outputs": [
    {
     "data": {
      "text/plain": [
       "25.0"
      ]
     },
     "execution_count": 16,
     "metadata": {},
     "output_type": "execute_result"
    }
   ],
   "source": [
    "#Function from package\n",
    "math.pow(5,2)"
   ]
  },
  {
   "cell_type": "markdown",
   "id": "bfc58861",
   "metadata": {},
   "source": [
    "3. Methods are associated with objects.\n",
    "4. Methods are called on the object, and they can use the object they are associated with.\n",
    "5. For example, df.head() returns the first five lines of the df object.\n"
   ]
  },
  {
   "cell_type": "markdown",
   "id": "cd1d3625",
   "metadata": {},
   "source": [
    "## View CSV datasets\n",
    "\n",
    "Use pandas to import `iris.csv`."
   ]
  },
  {
   "cell_type": "code",
   "execution_count": null,
   "id": "80f4eb5e",
   "metadata": {},
   "outputs": [],
   "source": [
    "import pandas as pd\n",
    "#File paths are relative to the location of the notebook.\n",
    "df = pd.read_csv(\"iris.csv\")\n",
    "df"
   ]
  },
  {
   "cell_type": "markdown",
   "id": "356bcc02",
   "metadata": {},
   "source": [
    "Display first 5 rows"
   ]
  },
  {
   "cell_type": "code",
   "execution_count": 17,
   "id": "79be8598",
   "metadata": {},
   "outputs": [
    {
     "data": {
      "text/html": [
       "<div>\n",
       "<style scoped>\n",
       "    .dataframe tbody tr th:only-of-type {\n",
       "        vertical-align: middle;\n",
       "    }\n",
       "\n",
       "    .dataframe tbody tr th {\n",
       "        vertical-align: top;\n",
       "    }\n",
       "\n",
       "    .dataframe thead th {\n",
       "        text-align: right;\n",
       "    }\n",
       "</style>\n",
       "<table border=\"1\" class=\"dataframe\">\n",
       "  <thead>\n",
       "    <tr style=\"text-align: right;\">\n",
       "      <th></th>\n",
       "      <th>Sepal.Length</th>\n",
       "      <th>Sepal.Width</th>\n",
       "      <th>Petal.Length</th>\n",
       "      <th>Petal.Width</th>\n",
       "      <th>Species</th>\n",
       "    </tr>\n",
       "  </thead>\n",
       "  <tbody>\n",
       "    <tr>\n",
       "      <th>0</th>\n",
       "      <td>5.1</td>\n",
       "      <td>3.5</td>\n",
       "      <td>1.4</td>\n",
       "      <td>0.2</td>\n",
       "      <td>setosa</td>\n",
       "    </tr>\n",
       "    <tr>\n",
       "      <th>1</th>\n",
       "      <td>4.9</td>\n",
       "      <td>3.0</td>\n",
       "      <td>1.4</td>\n",
       "      <td>0.2</td>\n",
       "      <td>setosa</td>\n",
       "    </tr>\n",
       "    <tr>\n",
       "      <th>2</th>\n",
       "      <td>4.7</td>\n",
       "      <td>3.2</td>\n",
       "      <td>1.3</td>\n",
       "      <td>0.2</td>\n",
       "      <td>setosa</td>\n",
       "    </tr>\n",
       "    <tr>\n",
       "      <th>3</th>\n",
       "      <td>4.6</td>\n",
       "      <td>3.1</td>\n",
       "      <td>1.5</td>\n",
       "      <td>0.2</td>\n",
       "      <td>setosa</td>\n",
       "    </tr>\n",
       "    <tr>\n",
       "      <th>4</th>\n",
       "      <td>5.0</td>\n",
       "      <td>3.6</td>\n",
       "      <td>1.4</td>\n",
       "      <td>0.2</td>\n",
       "      <td>setosa</td>\n",
       "    </tr>\n",
       "  </tbody>\n",
       "</table>\n",
       "</div>"
      ],
      "text/plain": [
       "   Sepal.Length  Sepal.Width  Petal.Length  Petal.Width Species\n",
       "0           5.1          3.5           1.4          0.2  setosa\n",
       "1           4.9          3.0           1.4          0.2  setosa\n",
       "2           4.7          3.2           1.3          0.2  setosa\n",
       "3           4.6          3.1           1.5          0.2  setosa\n",
       "4           5.0          3.6           1.4          0.2  setosa"
      ]
     },
     "execution_count": 17,
     "metadata": {},
     "output_type": "execute_result"
    }
   ],
   "source": [
    "# Is a method on the df object. It already knows the context of df.\n",
    "df.head()"
   ]
  },
  {
   "cell_type": "markdown",
   "id": "e8e12bc6",
   "metadata": {},
   "source": [
    "Dipslay last 5 rows"
   ]
  },
  {
   "cell_type": "code",
   "execution_count": 24,
   "id": "867cbfe3",
   "metadata": {},
   "outputs": [
    {
     "data": {
      "text/html": [
       "<div>\n",
       "<style scoped>\n",
       "    .dataframe tbody tr th:only-of-type {\n",
       "        vertical-align: middle;\n",
       "    }\n",
       "\n",
       "    .dataframe tbody tr th {\n",
       "        vertical-align: top;\n",
       "    }\n",
       "\n",
       "    .dataframe thead th {\n",
       "        text-align: right;\n",
       "    }\n",
       "</style>\n",
       "<table border=\"1\" class=\"dataframe\">\n",
       "  <thead>\n",
       "    <tr style=\"text-align: right;\">\n",
       "      <th></th>\n",
       "      <th>Sepal.Length</th>\n",
       "      <th>Sepal.Width</th>\n",
       "      <th>Petal.Length</th>\n",
       "      <th>Petal.Width</th>\n",
       "      <th>Species</th>\n",
       "    </tr>\n",
       "  </thead>\n",
       "  <tbody>\n",
       "    <tr>\n",
       "      <th>145</th>\n",
       "      <td>6.7</td>\n",
       "      <td>3.0</td>\n",
       "      <td>5.2</td>\n",
       "      <td>2.3</td>\n",
       "      <td>virginica</td>\n",
       "    </tr>\n",
       "    <tr>\n",
       "      <th>146</th>\n",
       "      <td>6.3</td>\n",
       "      <td>2.5</td>\n",
       "      <td>5.0</td>\n",
       "      <td>1.9</td>\n",
       "      <td>virginica</td>\n",
       "    </tr>\n",
       "    <tr>\n",
       "      <th>147</th>\n",
       "      <td>6.5</td>\n",
       "      <td>3.0</td>\n",
       "      <td>5.2</td>\n",
       "      <td>2.0</td>\n",
       "      <td>virginica</td>\n",
       "    </tr>\n",
       "    <tr>\n",
       "      <th>148</th>\n",
       "      <td>6.2</td>\n",
       "      <td>3.4</td>\n",
       "      <td>5.4</td>\n",
       "      <td>2.3</td>\n",
       "      <td>virginica</td>\n",
       "    </tr>\n",
       "    <tr>\n",
       "      <th>149</th>\n",
       "      <td>5.9</td>\n",
       "      <td>3.0</td>\n",
       "      <td>5.1</td>\n",
       "      <td>1.8</td>\n",
       "      <td>virginica</td>\n",
       "    </tr>\n",
       "  </tbody>\n",
       "</table>\n",
       "</div>"
      ],
      "text/plain": [
       "     Sepal.Length  Sepal.Width  Petal.Length  Petal.Width    Species\n",
       "145           6.7          3.0           5.2          2.3  virginica\n",
       "146           6.3          2.5           5.0          1.9  virginica\n",
       "147           6.5          3.0           5.2          2.0  virginica\n",
       "148           6.2          3.4           5.4          2.3  virginica\n",
       "149           5.9          3.0           5.1          1.8  virginica"
      ]
     },
     "execution_count": 24,
     "metadata": {},
     "output_type": "execute_result"
    }
   ],
   "source": [
    "df.tail()"
   ]
  },
  {
   "cell_type": "markdown",
   "id": "de242b51",
   "metadata": {},
   "source": [
    "Get a summary of the data"
   ]
  },
  {
   "cell_type": "code",
   "execution_count": null,
   "id": "3774c800",
   "metadata": {},
   "outputs": [],
   "source": [
    "#Get overview of the marginal distributions of the variables\n",
    "df.describe()"
   ]
  }
 ],
 "metadata": {
  "kernelspec": {
   "display_name": "les1",
   "language": "python",
   "name": "python3"
  },
  "language_info": {
   "codemirror_mode": {
    "name": "ipython",
    "version": 3
   },
   "file_extension": ".py",
   "mimetype": "text/x-python",
   "name": "python",
   "nbconvert_exporter": "python",
   "pygments_lexer": "ipython3",
   "version": "3.12.5"
  }
 },
 "nbformat": 4,
 "nbformat_minor": 5
}
