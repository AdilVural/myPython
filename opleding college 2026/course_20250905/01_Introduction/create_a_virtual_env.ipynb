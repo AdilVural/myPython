{
 "cells": [
  {
   "cell_type": "markdown",
   "id": "78b8ab3d",
   "metadata": {},
   "source": [
    "### To create a virtual environment for Mac/Linux run the following cell.\n",
    "\n",
    "If it doesn't work as a cell, you can run the commands manually in the terminal. Note that when running it in a terminal you first have to remove the !"
   ]
  },
  {
   "cell_type": "code",
   "execution_count": 2,
   "id": "3192d8a9",
   "metadata": {},
   "outputs": [
    {
     "name": "stdout",
     "output_type": "stream",
     "text": [
      "Requirement already satisfied: numpy in ./les1/lib/python3.13/site-packages (from -r requirements.txt (line 1)) (2.3.2)\n",
      "Requirement already satisfied: pandas in ./les1/lib/python3.13/site-packages (from -r requirements.txt (line 2)) (2.3.2)\n",
      "Requirement already satisfied: ipykernel in ./les1/lib/python3.13/site-packages (from -r requirements.txt (line 3)) (6.30.1)\n",
      "Requirement already satisfied: python-dateutil>=2.8.2 in ./les1/lib/python3.13/site-packages (from pandas->-r requirements.txt (line 2)) (2.9.0.post0)\n",
      "Requirement already satisfied: pytz>=2020.1 in ./les1/lib/python3.13/site-packages (from pandas->-r requirements.txt (line 2)) (2025.2)\n",
      "Requirement already satisfied: tzdata>=2022.7 in ./les1/lib/python3.13/site-packages (from pandas->-r requirements.txt (line 2)) (2025.2)\n",
      "Requirement already satisfied: appnope>=0.1.2 in ./les1/lib/python3.13/site-packages (from ipykernel->-r requirements.txt (line 3)) (0.1.4)\n",
      "Requirement already satisfied: comm>=0.1.1 in ./les1/lib/python3.13/site-packages (from ipykernel->-r requirements.txt (line 3)) (0.2.3)\n",
      "Requirement already satisfied: debugpy>=1.6.5 in ./les1/lib/python3.13/site-packages (from ipykernel->-r requirements.txt (line 3)) (1.8.16)\n",
      "Requirement already satisfied: ipython>=7.23.1 in ./les1/lib/python3.13/site-packages (from ipykernel->-r requirements.txt (line 3)) (9.5.0)\n",
      "Requirement already satisfied: jupyter-client>=8.0.0 in ./les1/lib/python3.13/site-packages (from ipykernel->-r requirements.txt (line 3)) (8.6.3)\n",
      "Requirement already satisfied: jupyter-core!=5.0.*,>=4.12 in ./les1/lib/python3.13/site-packages (from ipykernel->-r requirements.txt (line 3)) (5.8.1)\n",
      "Requirement already satisfied: matplotlib-inline>=0.1 in ./les1/lib/python3.13/site-packages (from ipykernel->-r requirements.txt (line 3)) (0.1.7)\n",
      "Requirement already satisfied: nest-asyncio>=1.4 in ./les1/lib/python3.13/site-packages (from ipykernel->-r requirements.txt (line 3)) (1.6.0)\n",
      "Requirement already satisfied: packaging>=22 in ./les1/lib/python3.13/site-packages (from ipykernel->-r requirements.txt (line 3)) (25.0)\n",
      "Requirement already satisfied: psutil>=5.7 in ./les1/lib/python3.13/site-packages (from ipykernel->-r requirements.txt (line 3)) (7.0.0)\n",
      "Requirement already satisfied: pyzmq>=25 in ./les1/lib/python3.13/site-packages (from ipykernel->-r requirements.txt (line 3)) (27.0.2)\n",
      "Requirement already satisfied: tornado>=6.2 in ./les1/lib/python3.13/site-packages (from ipykernel->-r requirements.txt (line 3)) (6.5.2)\n",
      "Requirement already satisfied: traitlets>=5.4.0 in ./les1/lib/python3.13/site-packages (from ipykernel->-r requirements.txt (line 3)) (5.14.3)\n",
      "Requirement already satisfied: decorator in ./les1/lib/python3.13/site-packages (from ipython>=7.23.1->ipykernel->-r requirements.txt (line 3)) (5.2.1)\n",
      "Requirement already satisfied: ipython-pygments-lexers in ./les1/lib/python3.13/site-packages (from ipython>=7.23.1->ipykernel->-r requirements.txt (line 3)) (1.1.1)\n",
      "Requirement already satisfied: jedi>=0.16 in ./les1/lib/python3.13/site-packages (from ipython>=7.23.1->ipykernel->-r requirements.txt (line 3)) (0.19.2)\n",
      "Requirement already satisfied: pexpect>4.3 in ./les1/lib/python3.13/site-packages (from ipython>=7.23.1->ipykernel->-r requirements.txt (line 3)) (4.9.0)\n",
      "Requirement already satisfied: prompt_toolkit<3.1.0,>=3.0.41 in ./les1/lib/python3.13/site-packages (from ipython>=7.23.1->ipykernel->-r requirements.txt (line 3)) (3.0.52)\n",
      "Requirement already satisfied: pygments>=2.4.0 in ./les1/lib/python3.13/site-packages (from ipython>=7.23.1->ipykernel->-r requirements.txt (line 3)) (2.19.2)\n",
      "Requirement already satisfied: stack_data in ./les1/lib/python3.13/site-packages (from ipython>=7.23.1->ipykernel->-r requirements.txt (line 3)) (0.6.3)\n",
      "Requirement already satisfied: wcwidth in ./les1/lib/python3.13/site-packages (from prompt_toolkit<3.1.0,>=3.0.41->ipython>=7.23.1->ipykernel->-r requirements.txt (line 3)) (0.2.13)\n",
      "Requirement already satisfied: parso<0.9.0,>=0.8.4 in ./les1/lib/python3.13/site-packages (from jedi>=0.16->ipython>=7.23.1->ipykernel->-r requirements.txt (line 3)) (0.8.5)\n",
      "Requirement already satisfied: platformdirs>=2.5 in ./les1/lib/python3.13/site-packages (from jupyter-core!=5.0.*,>=4.12->ipykernel->-r requirements.txt (line 3)) (4.4.0)\n",
      "Requirement already satisfied: ptyprocess>=0.5 in ./les1/lib/python3.13/site-packages (from pexpect>4.3->ipython>=7.23.1->ipykernel->-r requirements.txt (line 3)) (0.7.0)\n",
      "Requirement already satisfied: six>=1.5 in ./les1/lib/python3.13/site-packages (from python-dateutil>=2.8.2->pandas->-r requirements.txt (line 2)) (1.17.0)\n",
      "Requirement already satisfied: executing>=1.2.0 in ./les1/lib/python3.13/site-packages (from stack_data->ipython>=7.23.1->ipykernel->-r requirements.txt (line 3)) (2.2.1)\n",
      "Requirement already satisfied: asttokens>=2.1.0 in ./les1/lib/python3.13/site-packages (from stack_data->ipython>=7.23.1->ipykernel->-r requirements.txt (line 3)) (3.0.0)\n",
      "Requirement already satisfied: pure-eval in ./les1/lib/python3.13/site-packages (from stack_data->ipython>=7.23.1->ipykernel->-r requirements.txt (line 3)) (0.2.3)\n"
     ]
    }
   ],
   "source": [
    "!python3 -m venv les1\n",
    "!source les1/bin/activate && pip3 install -r requirements.txt"
   ]
  },
  {
   "cell_type": "markdown",
   "id": "21bd281e",
   "metadata": {},
   "source": [
    "### To create a virtual enviornment for Windows run the following cell:\n",
    "\n",
    "If it doesn't work as a cell, you can run the commands manually in the terminal. Note that when running it in a terminal you first have to remove the !"
   ]
  },
  {
   "cell_type": "code",
   "execution_count": null,
   "id": "fe553639",
   "metadata": {},
   "outputs": [],
   "source": [
    "!python -m venv les1\n",
    "!les1\\scripts\\activate && pip install -r requirements.txt"
   ]
  }
 ],
 "metadata": {
  "kernelspec": {
   "display_name": "Python 3",
   "language": "python",
   "name": "python3"
  },
  "language_info": {
   "codemirror_mode": {
    "name": "ipython",
    "version": 3
   },
   "file_extension": ".py",
   "mimetype": "text/x-python",
   "name": "python",
   "nbconvert_exporter": "python",
   "pygments_lexer": "ipython3",
   "version": "3.13.7"
  }
 },
 "nbformat": 4,
 "nbformat_minor": 5
}
