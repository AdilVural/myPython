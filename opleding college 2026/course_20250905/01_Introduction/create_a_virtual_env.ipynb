{
 "cells": [
  {
   "cell_type": "markdown",
   "id": "78b8ab3d",
   "metadata": {},
   "source": [
    "### To create a virtual environment for Mac/Linux run the following cell.\n",
    "\n",
    "If it doesn't work as a cell, you can run the commands manually in the terminal. Note that when running it in a terminal you first have to remove the !"
   ]
  },
  {
   "cell_type": "code",
   "execution_count": null,
   "id": "3192d8a9",
   "metadata": {
    "vscode": {
     "languageId": "shellscript"
    }
   },
   "outputs": [],
   "source": [
    "!python3 -m venv les1\n",
    "!source les1/bin/activate && pip3 install -r requirements.txt"
   ]
  },
  {
   "cell_type": "markdown",
   "id": "21bd281e",
   "metadata": {},
   "source": [
    "### To create a virtual enviornment for Windows run the following cell:\n",
    "\n",
    "If it doesn't work as a cell, you can run the commands manually in the terminal. Note that when running it in a terminal you first have to remove the !"
   ]
  },
  {
   "cell_type": "code",
   "execution_count": null,
   "id": "fe553639",
   "metadata": {},
   "outputs": [],
   "source": [
    "!python -m venv les1\n",
    "!les1\\scripts\\activate && pip install -r requirements.txt"
   ]
  }
 ],
 "metadata": {
  "kernelspec": {
   "display_name": "les1",
   "language": "python",
   "name": "python3"
  },
  "language_info": {
   "codemirror_mode": {
    "name": "ipython",
    "version": 3
   },
   "file_extension": ".py",
   "mimetype": "text/x-python",
   "name": "python",
   "nbconvert_exporter": "python",
   "pygments_lexer": "ipython3",
   "version": "3.12.5"
  }
 },
 "nbformat": 4,
 "nbformat_minor": 5
}
