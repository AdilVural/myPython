{
 "cells": [
  {
   "cell_type": "markdown",
   "id": "94889f04",
   "metadata": {},
   "source": [
    "# Descriptive statistics\n",
    "\n",
    "---\n",
    "Erasmus Q-Intelligence B.V.\n",
    "\n",
    "---\n",
    "\n",
    "Below is a set of exercises. For every question, an empty code cell is provided where you can add your code that serves as an answer to the question. If there are additional questions regarding interpreting what you see, you can do so by adding comments (start with `#`), or adding a *Markdown* cell below or above the *Code* cell, and providing your findings there."
   ]
  },
  {
   "cell_type": "markdown",
   "id": "0d97e18c",
   "metadata": {},
   "source": [
    "## Exercise 1.1 (Data loading and exploration)\n",
    "\n",
    "Download the house price data in the file\n",
    "`forsale.csv` from Canvas by saving it directly to disk. Store it in an appropriate folder."
   ]
  },
  {
   "cell_type": "markdown",
   "id": "dcd2040d",
   "metadata": {},
   "source": [
    "### a\n",
    "Load the `forsale.csv` file into the notebook and name it `forsale`. Hint: use the appropriate function from the `pandas` module."
   ]
  },
  {
   "cell_type": "code",
   "execution_count": null,
   "id": "297c0d32",
   "metadata": {},
   "outputs": [],
   "source": []
  },
  {
   "cell_type": "markdown",
   "id": "04566e82",
   "metadata": {},
   "source": [
    "### b\n",
    "Display the contents of the `forsale` data, and provide an answer to the following questions:\n",
    "- Are all rows of the `DataFrame` displayed? How can you tell? \n",
    "- What about the columns?\n",
    "- How many rows and columns does the DataFrame contain?\n"
   ]
  },
  {
   "cell_type": "code",
   "execution_count": null,
   "id": "f6be13f8",
   "metadata": {},
   "outputs": [],
   "source": []
  },
  {
   "cell_type": "markdown",
   "id": "afafdc38",
   "metadata": {},
   "source": [
    "### c\n",
    "If not all columns were visible in question **b**, how can you retrieve all column names?"
   ]
  },
  {
   "cell_type": "code",
   "execution_count": null,
   "id": "7e5384d3",
   "metadata": {},
   "outputs": [],
   "source": []
  },
  {
   "cell_type": "markdown",
   "id": "e073d6e7",
   "metadata": {},
   "source": [
    "### d\n",
    "Use the `describe()` method on the `DataFrame` object to see what output this gives you.\n",
    "Note down some of the key points that you have learned about the data."
   ]
  },
  {
   "cell_type": "code",
   "execution_count": null,
   "id": "b9166272",
   "metadata": {},
   "outputs": [],
   "source": []
  },
  {
   "cell_type": "markdown",
   "id": "a1129c85",
   "metadata": {},
   "source": [
    "## Exercise 1.2 (Univariate summary statistics)\n",
    "\n",
    "Now that you are familiar with the basics of the\n",
    "data, let’s answer some simple but important questions. Remember that you can extract a single\n",
    "column vector from a data frame using `df['column_key']`.\n",
    "\n",
    "### a\n",
    "What is the mean living area of a house in this data set? Include code to calculate this\n",
    "using the `mean()` method."
   ]
  },
  {
   "cell_type": "code",
   "execution_count": null,
   "id": "fedf0425",
   "metadata": {},
   "outputs": [],
   "source": []
  },
  {
   "cell_type": "markdown",
   "id": "03745dcb",
   "metadata": {},
   "source": [
    "### b\n",
    "How does that compare to the median price? Can you say something about the expected\n",
    "skewness of the data based on the mean and median?."
   ]
  },
  {
   "cell_type": "code",
   "execution_count": null,
   "id": "e7722523",
   "metadata": {},
   "outputs": [],
   "source": []
  },
  {
   "cell_type": "markdown",
   "id": "f07a0d6a",
   "metadata": {},
   "source": [
    "### c\n",
    "\n",
    "What is the least amount of bedrooms any house has in the dataset? And the most bedrooms? Use the `min()` and `max()` methods to answer this question"
   ]
  },
  {
   "cell_type": "code",
   "execution_count": null,
   "id": "8e0807ba",
   "metadata": {},
   "outputs": [],
   "source": []
  },
  {
   "cell_type": "code",
   "execution_count": null,
   "id": "b008507c",
   "metadata": {},
   "outputs": [],
   "source": []
  },
  {
   "cell_type": "markdown",
   "id": "54247604",
   "metadata": {},
   "source": [
    "### d\n",
    "\n",
    "Calculate the median of the asking prices, as well as the standard deviation."
   ]
  },
  {
   "cell_type": "code",
   "execution_count": null,
   "id": "a79d1541",
   "metadata": {},
   "outputs": [],
   "source": []
  },
  {
   "cell_type": "code",
   "execution_count": null,
   "id": "1dead03b",
   "metadata": {},
   "outputs": [],
   "source": []
  },
  {
   "cell_type": "markdown",
   "id": "20588db4",
   "metadata": {},
   "source": [
    "### e\n",
    "\n",
    "What values do the variables `nr_rooms`, `jacuzzi`, `bathrooms` and `alarm` take? Make\n",
    "frequency tables of counts for each of these variables separately using the `value_counts()` method.\n",
    "How many houses have six rooms? How many have two bathrooms?"
   ]
  },
  {
   "cell_type": "code",
   "execution_count": null,
   "id": "1f4d344d",
   "metadata": {},
   "outputs": [],
   "source": []
  },
  {
   "cell_type": "code",
   "execution_count": null,
   "id": "4fbb4827",
   "metadata": {},
   "outputs": [],
   "source": []
  },
  {
   "cell_type": "code",
   "execution_count": null,
   "id": "70ee623d",
   "metadata": {},
   "outputs": [],
   "source": []
  },
  {
   "cell_type": "code",
   "execution_count": null,
   "id": "ba9103eb",
   "metadata": {},
   "outputs": [],
   "source": []
  },
  {
   "cell_type": "markdown",
   "id": "504e0205",
   "metadata": {},
   "source": [
    "### f\n",
    "\n",
    "With `pd.crosstab()`, you can make a contingency table with two variables. Note that this is a function, called on the `pandas` (or the alias `pd`) module, not a method that is called on the `forsale` object. It requires *two* arguments, namely the two columns in the data with which you want to make the table. Make sure you actually provide the subsetted dataset (i.e. `df['column_key']`), not just the column key.\n",
    "\n",
    "Make a contingency table for the columns `sauna` and `bath`. How many houses do have a sauna but don't have a bath? How many houses have neither?"
   ]
  },
  {
   "cell_type": "code",
   "execution_count": null,
   "id": "165b2450",
   "metadata": {},
   "outputs": [],
   "source": []
  }
 ],
 "metadata": {
  "kernelspec": {
   "display_name": "Python 3 (ipykernel)",
   "language": "python",
   "name": "python3"
  },
  "language_info": {
   "codemirror_mode": {
    "name": "ipython",
    "version": 3
   },
   "file_extension": ".py",
   "mimetype": "text/x-python",
   "name": "python",
   "nbconvert_exporter": "python",
   "pygments_lexer": "ipython3",
   "version": "3.9.12"
  }
 },
 "nbformat": 4,
 "nbformat_minor": 5
}
