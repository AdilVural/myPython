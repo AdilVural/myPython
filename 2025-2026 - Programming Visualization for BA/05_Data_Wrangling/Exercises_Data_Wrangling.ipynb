{
 "cells": [
  {
   "cell_type": "markdown",
   "id": "63cf9ada",
   "metadata": {},
   "source": [
    "# Data Wrangling: Exercises\n",
    "\n",
    "---\n",
    "Erasmus Q-Intelligence B.V.\n",
    "\n",
    "---\n",
    "\n",
    "Below is a set of exercises. For every question, an empty code cell is provided where you can add your code that serves as an answer to the question. If there are additional questions regarding interpreting what you see, you can do so by adding comments (start with `#`), or adding a *Markdown* cell below or above the *Code* cell, and providing your findings there."
   ]
  },
  {
   "cell_type": "markdown",
   "id": "2153af00",
   "metadata": {},
   "source": [
    "## Exercise 1: query()\n",
    "\n",
    "Use the flights data from the file flights.csv. The data set contains information on flights\n",
    "from airports in New York in 2013."
   ]
  },
  {
   "cell_type": "markdown",
   "id": "d2d2de27",
   "metadata": {},
   "source": [
    "### a\n",
    "Find all flights without any delay on departure (dep delay) and with at least 2 hours delay\n",
    "on arrival (arr delay)"
   ]
  },
  {
   "cell_type": "code",
   "execution_count": null,
   "id": "41b062d2",
   "metadata": {},
   "outputs": [],
   "source": [
    "import pandas as pd\n",
    "\n",
    "flights = pd.read_csv(\"flights.csv\")\n"
   ]
  },
  {
   "cell_type": "markdown",
   "id": "ef970a68",
   "metadata": {},
   "source": [
    "### b\n",
    "Find all flights of carriers United (UA), American (AA) and Delta (DL)"
   ]
  },
  {
   "cell_type": "code",
   "execution_count": null,
   "id": "38ec0a51",
   "metadata": {},
   "outputs": [],
   "source": []
  },
  {
   "cell_type": "markdown",
   "id": "6fa9fcf9",
   "metadata": {},
   "source": [
    "## Exercise 2: sort_values()\n"
   ]
  },
  {
   "cell_type": "markdown",
   "id": "888f8064",
   "metadata": {},
   "source": [
    "### a\n",
    "Sort the flights dataset in such a way that flights with the highest delay at arrival\n",
    "(arr delay) come first."
   ]
  },
  {
   "cell_type": "code",
   "execution_count": null,
   "id": "93dddc4a",
   "metadata": {},
   "outputs": [],
   "source": []
  },
  {
   "cell_type": "markdown",
   "id": "c1cbe721",
   "metadata": {},
   "source": [
    "### b\n",
    "Sort the flights dataset in such a way that flights with tailnum equal to NaN come first."
   ]
  },
  {
   "cell_type": "code",
   "execution_count": null,
   "id": "19822765",
   "metadata": {},
   "outputs": [],
   "source": []
  },
  {
   "cell_type": "markdown",
   "id": "b933e9f7",
   "metadata": {},
   "source": [
    "## Exercise 3: filter and loc()\n"
   ]
  },
  {
   "cell_type": "markdown",
   "id": "af5ad18d",
   "metadata": {},
   "source": [
    "### a\n",
    " Select all columns that end with time or with delay."
   ]
  },
  {
   "cell_type": "code",
   "execution_count": null,
   "id": "f76f43f2",
   "metadata": {},
   "outputs": [],
   "source": []
  },
  {
   "cell_type": "markdown",
   "id": "1b5ece67",
   "metadata": {},
   "source": [
    "## Exercise 4: assign()\n",
    "### a\n",
    "\n",
    "The sched_dep_time column is formatted like a digital clock, where 515 actually means 5:15. Use\n",
    "assign() to create a column sched_dep_time_in_mins which gives the total number of minutes since\n",
    "midnight."
   ]
  },
  {
   "cell_type": "code",
   "execution_count": null,
   "id": "45ed638d",
   "metadata": {},
   "outputs": [],
   "source": []
  },
  {
   "cell_type": "markdown",
   "id": "42eeecb4",
   "metadata": {},
   "source": [
    "## Exercise 5. agg() and groupby()\n",
    "\n",
    "### a\n",
    "Calculate the number of canceled flights by month, the total number of flights per month and\n",
    "the amount of canceled flights per month. Sort the new data.frame such that months\n",
    "with the highest amount of canceled flights come first. Canceled flights either have no\n",
    "dep time or do not have arr time.\n",
    "\n",
    "Use: flights_with_status = flights.assign(is_canceled = (flights['dep_time'].isna() | flights['arr_time'].isna())) to create the column that gets the canceled flights"
   ]
  },
  {
   "cell_type": "code",
   "execution_count": null,
   "id": "1618ac67",
   "metadata": {},
   "outputs": [],
   "source": [
    "flights_with_status = flights.assign(is_canceled = (flights['dep_time'].isna() | flights['arr_time'].isna()))\n",
    "\n"
   ]
  },
  {
   "cell_type": "markdown",
   "id": "6675217c",
   "metadata": {},
   "source": [
    "### b\n",
    "Calculate the minimum, maximum, mean, median and standard deviation of air_time by\n",
    "dest. Sort the new data.frame such that destinations with the highest mean air time\n",
    "comes first."
   ]
  },
  {
   "cell_type": "code",
   "execution_count": null,
   "id": "2d8be7d5",
   "metadata": {},
   "outputs": [],
   "source": []
  },
  {
   "cell_type": "markdown",
   "id": "8daee4c8",
   "metadata": {},
   "source": [
    "## Exercise 6. groupby(), query() and assign()\n",
    "\n",
    "### a\n",
    "Add a column dep_delay_lag to flights, with dep delay of the previous flight from that\n",
    "airport. (We use the .shift function here, which isn't covered in the lessons)\n",
    "\n",
    "Show the dataframe with the origin, dest, dep_delay and dep_delay_lag columns"
   ]
  },
  {
   "cell_type": "code",
   "execution_count": null,
   "id": "27b018ac",
   "metadata": {},
   "outputs": [],
   "source": [
    "# 1. Shift values down by 1 position within each group (airport) 2.  Creates a \"previous flight\" reference for each flight from the same origin airport\n",
    "# 3. The first flight from each airport gets NaN since there's no previous flight\n",
    "flightsdepdelay = flights.assign(dep_delay_lag = flights.groupby('origin')['dep_delay'].shift(1))\n",
    "\n"
   ]
  },
  {
   "cell_type": "markdown",
   "id": "1d20957f",
   "metadata": {},
   "source": [
    "### b \n",
    "Filter the observations such that you only have those where neither dep delay, nor dep delay lag is missing. Use the dataframe: flightsdepdelay from 6.a\n",
    "\n",
    "Tip use .notnull()"
   ]
  },
  {
   "cell_type": "code",
   "execution_count": null,
   "id": "925badef",
   "metadata": {},
   "outputs": [],
   "source": []
  },
  {
   "cell_type": "markdown",
   "id": "8090d20e",
   "metadata": {},
   "source": [
    "### c\n",
    "\n",
    "Find the average of dep_delay, separate for each value of dep_delay_lag and for each origin\n",
    "using groupby. Name this variable dep delay avg. Use the dataframe from 6.b"
   ]
  },
  {
   "cell_type": "code",
   "execution_count": null,
   "id": "477b1ac7",
   "metadata": {},
   "outputs": [],
   "source": []
  },
  {
   "cell_type": "markdown",
   "id": "ab5bccff",
   "metadata": {},
   "source": [
    "### d \n",
    "Visualize the relation (using a scatter plot) between dep delay lag and dep delay avg, where\n",
    "the color of the point depends on origin."
   ]
  },
  {
   "cell_type": "code",
   "execution_count": null,
   "id": "3fbe5ff1",
   "metadata": {},
   "outputs": [],
   "source": [
    "import seaborn as sns\n",
    "\n"
   ]
  },
  {
   "cell_type": "markdown",
   "id": "c5ffd690",
   "metadata": {},
   "source": [
    "## Exercise 7. combined\n",
    "Consider the forsale.Rds-dataset from Canvas. It contains information about houses for sale\n",
    "in Rotterdam area during the recent past.\n",
    "\n",
    "### a \n",
    "Load the data from canvas"
   ]
  },
  {
   "cell_type": "code",
   "execution_count": null,
   "id": "4955844f",
   "metadata": {},
   "outputs": [],
   "source": [
    "forsale = pd.read_csv(\"forsale.csv\")\n",
    "forsale"
   ]
  },
  {
   "cell_type": "markdown",
   "id": "21e70e36",
   "metadata": {},
   "source": [
    "### b \n",
    "Show the first 10 observations, with only the variables postcode, city, suburb,\n",
    "asking price and living area."
   ]
  },
  {
   "cell_type": "code",
   "execution_count": null,
   "id": "275007b5",
   "metadata": {},
   "outputs": [],
   "source": []
  },
  {
   "cell_type": "markdown",
   "id": "2201e83b",
   "metadata": {},
   "source": [
    "### c \n",
    "Add a variable to the original dataframe forsale that contains the price per square metre.\n",
    "Call this column price_m2."
   ]
  },
  {
   "cell_type": "code",
   "execution_count": null,
   "id": "48160abd",
   "metadata": {},
   "outputs": [],
   "source": []
  },
  {
   "cell_type": "markdown",
   "id": "9f28a741",
   "metadata": {},
   "source": [
    "### d \n",
    "Calculate the number of houses in this dataset in each city, as well as the minimum, average\n",
    "and maximum asking price. Which city is the cheapest, on average?"
   ]
  },
  {
   "cell_type": "code",
   "execution_count": null,
   "id": "8bb5aaf4",
   "metadata": {},
   "outputs": [],
   "source": []
  },
  {
   "cell_type": "markdown",
   "id": "b455feaf",
   "metadata": {},
   "source": [
    "### e \n",
    "Create a subset of the forsale dataset called forsalesubset, which contains only houses that satisfy\n",
    "the following criteria: it is within the city of Rotterdam, it has at least 3 bedrooms and 2\n",
    "bathrooms and costs no more than 400.000 euro."
   ]
  },
  {
   "cell_type": "code",
   "execution_count": null,
   "id": "ccfd8053",
   "metadata": {},
   "outputs": [],
   "source": []
  },
  {
   "cell_type": "markdown",
   "id": "e9a4401c",
   "metadata": {},
   "source": [
    "### g \n",
    "Sort the new dataframe such that those with the highest asking_price occur first. "
   ]
  },
  {
   "cell_type": "code",
   "execution_count": null,
   "id": "415ef039",
   "metadata": {},
   "outputs": [],
   "source": []
  },
  {
   "cell_type": "markdown",
   "id": "7de6b45b",
   "metadata": {},
   "source": [
    "## Exercise 8. nunique & isna\n",
    "\n",
    "### a \n",
    "Load the penguins-data from penguins.csv. The data is on penguin\n",
    "species in Palmer Archipelago."
   ]
  },
  {
   "cell_type": "code",
   "execution_count": null,
   "id": "853d53c0",
   "metadata": {},
   "outputs": [],
   "source": [
    "penguins = pd.read_csv(\"penguins.csv\")\n",
    "penguins"
   ]
  },
  {
   "cell_type": "markdown",
   "id": "00858fe2",
   "metadata": {},
   "source": [
    "### b\n",
    " Get the number of distinct categories for all variables, using the function nunique()."
   ]
  },
  {
   "cell_type": "code",
   "execution_count": null,
   "id": "98c44f5f",
   "metadata": {},
   "outputs": [],
   "source": []
  },
  {
   "cell_type": "markdown",
   "id": "5e0ad189",
   "metadata": {},
   "source": [
    "### c \n",
    "Get the number of distinct categories, only for species, island, year and sex."
   ]
  },
  {
   "cell_type": "code",
   "execution_count": null,
   "id": "43d85e70",
   "metadata": {},
   "outputs": [],
   "source": []
  },
  {
   "cell_type": "markdown",
   "id": "dbd6c140",
   "metadata": {},
   "source": [
    "### d\n",
    "Get the number of missing values, only for the variables of type factor (categorical variables). Use isna()"
   ]
  },
  {
   "cell_type": "code",
   "execution_count": null,
   "id": "62e6df86",
   "metadata": {},
   "outputs": [],
   "source": []
  },
  {
   "cell_type": "markdown",
   "id": "9a9199b3",
   "metadata": {},
   "source": [
    "### e \n",
    "Get the number of missing values for all columns that start with bill_"
   ]
  },
  {
   "cell_type": "code",
   "execution_count": null,
   "id": "05ee3a91",
   "metadata": {},
   "outputs": [],
   "source": []
  },
  {
   "cell_type": "markdown",
   "id": "8d64a4b0",
   "metadata": {},
   "source": [
    "## Exercise 9. join\n",
    "### a \n",
    "Add name from the airlines data set (available from the nycflights13-\n",
    "package, you have to pip install nycflights13 if you haven't already) to the flights-dataframe. Which\n",
    "key should be used?"
   ]
  },
  {
   "cell_type": "code",
   "execution_count": null,
   "id": "d2f6783d",
   "metadata": {},
   "outputs": [],
   "source": [
    "from nycflights13 import airlines\n",
    "airlines"
   ]
  },
  {
   "cell_type": "code",
   "execution_count": null,
   "id": "1a0ed614",
   "metadata": {},
   "outputs": [],
   "source": []
  },
  {
   "cell_type": "markdown",
   "id": "9239a62d",
   "metadata": {},
   "source": [
    "## Exercise 10. tidy data - Melt\n",
    "### a \n",
    "Load the data melt_example.csv from Canvas. The data is on the distribution of male and female in the US navy."
   ]
  },
  {
   "cell_type": "code",
   "execution_count": null,
   "id": "95d39f63",
   "metadata": {},
   "outputs": [],
   "source": [
    "melt = pd.read_csv(\"melt_example.csv\")\n",
    "melt = melt.filter(melt.columns[1:]) # Removes the first column which is a fake index leftover from R\n",
    "melt"
   ]
  },
  {
   "cell_type": "markdown",
   "id": "952155f8",
   "metadata": {},
   "source": [
    " Take all the columns (except paygrade) and \"melt\" them into two new columns - one for the column names (gender_marital) and one for their values (amount)."
   ]
  },
  {
   "cell_type": "code",
   "execution_count": null,
   "id": "66bc87e3",
   "metadata": {},
   "outputs": [],
   "source": []
  },
  {
   "cell_type": "markdown",
   "id": "cf53eb60",
   "metadata": {},
   "source": [
    "## Exercise 11. tidy data - Pivot\n",
    "### a \n",
    "Load the data on NBA players and points scored (fictive) from Canvas."
   ]
  },
  {
   "cell_type": "code",
   "execution_count": null,
   "id": "6abaf03e",
   "metadata": {},
   "outputs": [],
   "source": [
    "nba = pd.read_csv(\"nba.csv\")\n",
    "nba = nba.filter(nba.columns[1:]) # Removes the first column which is a fake index leftover from R\n",
    "nba"
   ]
  },
  {
   "cell_type": "markdown",
   "id": "960d7f78",
   "metadata": {},
   "source": [
    "### b\n",
    "Use pivot to transform the long format data into wide format, where each unique value in the 'day' column becomes a separate column, with 'player' and 'team' as row identifiers and 'points' as the values.\""
   ]
  },
  {
   "cell_type": "code",
   "execution_count": null,
   "id": "b093dd0f",
   "metadata": {},
   "outputs": [],
   "source": []
  }
 ],
 "metadata": {
  "kernelspec": {
   "display_name": "les3",
   "language": "python",
   "name": "python3"
  },
  "language_info": {
   "codemirror_mode": {
    "name": "ipython",
    "version": 3
   },
   "file_extension": ".py",
   "mimetype": "text/x-python",
   "name": "python",
   "nbconvert_exporter": "python",
   "pygments_lexer": "ipython3",
   "version": "3.12.5"
  }
 },
 "nbformat": 4,
 "nbformat_minor": 5
}
