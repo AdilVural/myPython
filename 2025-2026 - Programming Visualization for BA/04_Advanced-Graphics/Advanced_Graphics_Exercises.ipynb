{
 "cells": [
  {
   "cell_type": "markdown",
   "id": "94889f04",
   "metadata": {},
   "source": [
    "# Getting started with graphics: Exercises\n",
    "\n",
    "---\n",
    "Erasmus Q-Intelligence B.V.\n",
    "\n",
    "---\n",
    "\n",
    "Below is a set of exercises. For every question, an empty code cell is provided where you can add your code that serves as an answer to the question. If there are additional questions regarding interpreting what you see, you can do so by adding comments (start with `#`), or adding a *Markdown* cell below or above the *Code* cell, and providing your findings there."
   ]
  },
  {
   "cell_type": "markdown",
   "id": "0d97e18c",
   "metadata": {},
   "source": [
    "## Exercise 1\n",
    "\n",
    "Load the patents data from the provided patents.csv file. The data set contains information on patents granted in 2012 in each of the 50 US federal states and the District of Columbia. See the appendix for a description of the variables."
   ]
  },
  {
   "cell_type": "markdown",
   "id": "dcd2040d",
   "metadata": {},
   "source": [
    "### a\n",
    "Produce a density plot of [**logutility**] with separate density estimates for observations corresponding to different population density categories (variable [**densitycat**]). Use different colors for the different population density categories. Hint: use hue in seaborn"
   ]
  },
  {
   "cell_type": "code",
   "execution_count": null,
   "id": "297c0d32",
   "metadata": {},
   "outputs": [],
   "source": [
    "import pandas as pd\n",
    "import seaborn as sns\n",
    "import matplotlib.pyplot as plt\n"
   ]
  },
  {
   "cell_type": "markdown",
   "id": "04566e82",
   "metadata": {},
   "source": [
    "### b\n",
    "Make a density plot of **logtotal**.  Fill the area under the density with the color black and play with different values of transparancy (**alpha**).\n",
    "\n",
    "Tip:\n",
    "1. Use kdeplot"
   ]
  },
  {
   "cell_type": "code",
   "execution_count": null,
   "id": "f6be13f8",
   "metadata": {},
   "outputs": [],
   "source": []
  },
  {
   "cell_type": "markdown",
   "id": "afafdc38",
   "metadata": {},
   "source": [
    "### c\n",
    "Produce a scatterplot of **logtotal** vs **logplant**. Use plot symbol X and color the points colored according to party affiliation of the governor (variable **areacat**). Also play with the size of the points until you obtain a visually appealing graph.\n"
   ]
  },
  {
   "cell_type": "code",
   "execution_count": null,
   "id": "7e5384d3",
   "metadata": {},
   "outputs": [],
   "source": []
  },
  {
   "cell_type": "markdown",
   "id": "e073d6e7",
   "metadata": {},
   "source": [
    "### d\n",
    "Produce the same scatterplot as in (c), but with plot symbol \"H\"."
   ]
  },
  {
   "cell_type": "code",
   "execution_count": null,
   "id": "b9166272",
   "metadata": {
    "scrolled": true
   },
   "outputs": [],
   "source": []
  },
  {
   "cell_type": "markdown",
   "id": "a1129c85",
   "metadata": {},
   "source": [
    "### e\n",
    "Produce conditional boxplots of **logutility** with observations grouped by population density category (variable **densitycat**). "
   ]
  },
  {
   "cell_type": "code",
   "execution_count": null,
   "id": "fedf0425",
   "metadata": {},
   "outputs": [],
   "source": []
  },
  {
   "cell_type": "code",
   "execution_count": null,
   "id": "e7722523",
   "metadata": {},
   "outputs": [],
   "source": []
  },
  {
   "cell_type": "markdown",
   "id": "3638215e",
   "metadata": {},
   "source": [
    "## Exercise 2\n",
    "Load the **msleep** data from the provided msleep.csv file. Dataset on mammalian sleep.\n"
   ]
  },
  {
   "cell_type": "markdown",
   "id": "47b89f81",
   "metadata": {},
   "source": [
    "### a\n",
    "Produce a scatterplot of **sleep_total** vs **sleep_cycle**.  Use plot symbol s and color the observations according to **vore** with the default color scale.  Set the size of the points to a suitable value.\n",
    "*Bonus*: Change legend position to the upper right corner"
   ]
  },
  {
   "cell_type": "code",
   "execution_count": null,
   "id": "bc77bdef",
   "metadata": {},
   "outputs": [],
   "source": []
  },
  {
   "cell_type": "markdown",
   "id": "d2c8abba",
   "metadata": {},
   "source": [
    "### b\n",
    "Produce the same scatterplot as in (a), but using a color scale of with four colors of your choice."
   ]
  },
  {
   "cell_type": "code",
   "execution_count": null,
   "id": "3b719aa5",
   "metadata": {},
   "outputs": [],
   "source": []
  },
  {
   "cell_type": "markdown",
   "id": "96db159b",
   "metadata": {},
   "source": [
    "### c\n",
    "Categorize the variable **sleep_total** using the following code: \n",
    "\n",
    "msleep['sleep_cut'] = pd.cut(msleep['sleep_total'], bins=range(0, 21, 5))"
   ]
  },
  {
   "cell_type": "code",
   "execution_count": null,
   "id": "ed6bbbfc",
   "metadata": {},
   "outputs": [],
   "source": [
    "msleep['sleep_cut'] = pd.cut(msleep['sleep_total'], bins=range(0, 21, 5))\n",
    "\n"
   ]
  },
  {
   "cell_type": "markdown",
   "id": "84b5d3ef",
   "metadata": {},
   "source": [
    "### d\n",
    "Use the new variable from (c) to produce a barplot by putting **vore** on the x-axis and specifying **sleep_cut** as fill color. Make the bars horizontal rather than vertical.\n",
    "\n",
    "Hint: to create a stacked barchart, make use of the function displot from seaborn.\n"
   ]
  },
  {
   "cell_type": "code",
   "execution_count": null,
   "id": "01659956",
   "metadata": {},
   "outputs": [],
   "source": []
  },
  {
   "cell_type": "markdown",
   "id": "80a75550",
   "metadata": {},
   "source": [
    "### e\n",
    "Continue with the plot from (d).  Change the axis labels to Type and Frequency and manually change the colors.\n",
    "*Bonus*: Change the legend title"
   ]
  },
  {
   "cell_type": "code",
   "execution_count": null,
   "id": "0820c0a1",
   "metadata": {},
   "outputs": [],
   "source": []
  },
  {
   "cell_type": "markdown",
   "id": "a57bda08",
   "metadata": {},
   "source": [
    "### f\n",
    "Produce a similar barplot as in f, but put the bars for different **vore** side-by-side instead of stacking them."
   ]
  },
  {
   "cell_type": "code",
   "execution_count": null,
   "id": "56a3c0d3",
   "metadata": {},
   "outputs": [],
   "source": []
  },
  {
   "cell_type": "markdown",
   "id": "6c367913",
   "metadata": {},
   "source": [
    "## Exercise 3\n",
    "Consider again the *patents* data"
   ]
  },
  {
   "cell_type": "markdown",
   "id": "26e21190",
   "metadata": {},
   "source": [
    "### a \n",
    "Produce a boxplot of **logdensity** to verify that there are two potential outliers.  Remove the x-axis label and change the y-axis label to 'Logarithm of population density'."
   ]
  },
  {
   "cell_type": "code",
   "execution_count": null,
   "id": "da4316d7",
   "metadata": {},
   "outputs": [],
   "source": []
  },
  {
   "cell_type": "markdown",
   "id": "9c0970dd",
   "metadata": {},
   "source": [
    "### b \n",
    "The cut-off values for outliers according to the boxplot from (a) are 0.5242581 and 6.8220640.  Produce a scatterplot of **logtotal** vs **logdensity**, and add grey reference lines for the cut-off values."
   ]
  },
  {
   "cell_type": "code",
   "execution_count": null,
   "id": "be615bb7",
   "metadata": {},
   "outputs": [],
   "source": []
  },
  {
   "cell_type": "markdown",
   "id": "ea1e71a8",
   "metadata": {},
   "source": [
    "### c\n",
    "Refine the plot from (b). Change the axis labels to 'Logarithm of total number of patents' and 'Logarithm of population density', respectively. Furthermore, expand the axis limits (use suitable values of your choice)."
   ]
  },
  {
   "cell_type": "code",
   "execution_count": null,
   "id": "b3319a3a",
   "metadata": {},
   "outputs": [],
   "source": []
  },
  {
   "cell_type": "markdown",
   "id": "f5e7c3b7",
   "metadata": {},
   "source": [
    "### d\n",
    "Produce a scatterplot of **logtotal** vs **logdensity** and add a linear scatterplot smoother.\n",
    "*Bonus* Add also confidence intervals."
   ]
  },
  {
   "cell_type": "code",
   "execution_count": null,
   "id": "de932193",
   "metadata": {},
   "outputs": [],
   "source": []
  },
  {
   "cell_type": "markdown",
   "id": "ae16c229",
   "metadata": {},
   "source": [
    "### e\n",
    "Change the color of the scatterplot smoother to a color of your choice."
   ]
  },
  {
   "cell_type": "code",
   "execution_count": null,
   "id": "ea9c754c",
   "metadata": {},
   "outputs": [],
   "source": []
  },
  {
   "cell_type": "markdown",
   "id": "bd84391b",
   "metadata": {},
   "source": [
    "## Exercise 4\n",
    "Consider the vwgolf.csv-dataset from Canvas. It contains information about occasions for sale. Use matplotlib-functions where possible."
   ]
  },
  {
   "cell_type": "markdown",
   "id": "030431a2",
   "metadata": {},
   "source": [
    "### a\n",
    "Load the data."
   ]
  },
  {
   "cell_type": "code",
   "execution_count": null,
   "id": "c3f00b5b",
   "metadata": {},
   "outputs": [],
   "source": []
  },
  {
   "cell_type": "markdown",
   "id": "f82941f0",
   "metadata": {},
   "source": [
    "### b\n",
    "Produce a scatterplot with original price on the x-axis and asking price on the y-axis.\n",
    "Add x and y-labels to the axes."
   ]
  },
  {
   "cell_type": "code",
   "execution_count": null,
   "id": "d8ef4652",
   "metadata": {},
   "outputs": [],
   "source": []
  },
  {
   "cell_type": "markdown",
   "id": "a5c25bb9",
   "metadata": {},
   "source": [
    "### c\n",
    "Refine the plot from (b) by letting the color of the points depend on mileage and the size of the points on top speed."
   ]
  },
  {
   "cell_type": "code",
   "execution_count": null,
   "id": "75660a98",
   "metadata": {},
   "outputs": [],
   "source": []
  },
  {
   "cell_type": "markdown",
   "id": "84001028",
   "metadata": {},
   "source": [
    "### d\n",
    "Change the colors in the plot from (c) such that the continuous color scale ranges from white for cars with a low mileage to red for cars with a high mileage."
   ]
  },
  {
   "cell_type": "code",
   "execution_count": null,
   "id": "d299b217",
   "metadata": {},
   "outputs": [],
   "source": []
  },
  {
   "cell_type": "markdown",
   "id": "896797ec",
   "metadata": {},
   "source": [
    "### e\n",
    "Further refine the plot from (c) by changing the axis labels to 'New price (euro)' and 'Asking price (euro)', respectively."
   ]
  },
  {
   "cell_type": "code",
   "execution_count": null,
   "id": "32c806b1",
   "metadata": {},
   "outputs": [],
   "source": []
  },
  {
   "cell_type": "markdown",
   "id": "608d0d97",
   "metadata": {},
   "source": [
    "### f\n",
    "Add a plot title and subtitle to the plot from (e). Use Google or another search machine to find how to do this. Use 'Asking Price versus New Price' as plot title, and '56 second-hand VW Golfs from Marktplaats.nl' as subtitle."
   ]
  },
  {
   "cell_type": "code",
   "execution_count": null,
   "id": "7a6c019c",
   "metadata": {},
   "outputs": [],
   "source": []
  }
 ],
 "metadata": {
  "kernelspec": {
   "display_name": "les4",
   "language": "python",
   "name": "python3"
  },
  "language_info": {
   "codemirror_mode": {
    "name": "ipython",
    "version": 3
   },
   "file_extension": ".py",
   "mimetype": "text/x-python",
   "name": "python",
   "nbconvert_exporter": "python",
   "pygments_lexer": "ipython3",
   "version": "3.13.5"
  }
 },
 "nbformat": 4,
 "nbformat_minor": 5
}
