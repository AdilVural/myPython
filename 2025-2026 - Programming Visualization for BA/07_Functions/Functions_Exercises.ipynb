{
 "cells": [
  {
   "cell_type": "markdown",
   "id": "fd36e44a",
   "metadata": {},
   "source": [
    "# Erasmus Q-Intelligence\n",
    "## DSBA - Programming\n",
    "\n",
    "### Functions - Exercises\n",
    "\n",
    "#### Execise 1: Writing our own functions\n"
   ]
  },
  {
   "cell_type": "markdown",
   "id": "b5e4fa6c",
   "metadata": {},
   "source": [
    "### a \n",
    " Write your own function with 2 arguments and return value the product of the two arguments."
   ]
  },
  {
   "cell_type": "code",
   "execution_count": null,
   "id": "073a1acc",
   "metadata": {},
   "outputs": [],
   "source": []
  },
  {
   "cell_type": "code",
   "execution_count": null,
   "id": "efae8717",
   "metadata": {},
   "outputs": [],
   "source": []
  },
  {
   "cell_type": "markdown",
   "id": "7c56057e",
   "metadata": {},
   "source": [
    "### b \n",
    " Drop the second argument from your function call. Would your function still work? When would it (not)?"
   ]
  },
  {
   "cell_type": "code",
   "execution_count": null,
   "id": "302591d5",
   "metadata": {},
   "outputs": [],
   "source": []
  },
  {
   "cell_type": "markdown",
   "id": "413ce7d1",
   "metadata": {},
   "source": [
    "See the following function."
   ]
  },
  {
   "cell_type": "code",
   "execution_count": null,
   "id": "59ae2ead",
   "metadata": {},
   "outputs": [],
   "source": [
    "a = 1\n",
    "b = 2\n",
    "c = 3\n",
    "def get_something(b, d = 4):\n",
    "    c = 5\n",
    "    e = a + d * c ** b\n",
    "    print('e equals', e)"
   ]
  },
  {
   "cell_type": "markdown",
   "id": "6445af1f",
   "metadata": {},
   "source": [
    "### c\n",
    "#### What would be the result of:\n",
    "---\n",
    "1.  get_something(b)\n",
    "2.  get_something(1)\n",
    "3. get_something(a)\n",
    "4.  get_something(d = 2)\n",
    "5.  get_something(a = 2)\n",
    "6. get_something(b, d = 3)\n",
    "7.  get_something (3, d = 1)\n",
    "\n",
    "Why?"
   ]
  },
  {
   "cell_type": "code",
   "execution_count": null,
   "id": "64f3a71c",
   "metadata": {},
   "outputs": [],
   "source": []
  },
  {
   "cell_type": "code",
   "execution_count": null,
   "id": "ac270c7d",
   "metadata": {},
   "outputs": [],
   "source": []
  },
  {
   "cell_type": "code",
   "execution_count": null,
   "id": "fc84262f",
   "metadata": {},
   "outputs": [],
   "source": []
  },
  {
   "cell_type": "code",
   "execution_count": null,
   "id": "01130c41",
   "metadata": {},
   "outputs": [],
   "source": []
  },
  {
   "cell_type": "code",
   "execution_count": null,
   "id": "5b47ef2c",
   "metadata": {},
   "outputs": [],
   "source": []
  },
  {
   "cell_type": "code",
   "execution_count": null,
   "id": "7ee647fc",
   "metadata": {},
   "outputs": [],
   "source": []
  },
  {
   "cell_type": "markdown",
   "id": "a445e412",
   "metadata": {},
   "source": [
    "### d\n",
    "Call the create_plot function using the appropriate input values to display a scatter plot."
   ]
  },
  {
   "cell_type": "code",
   "execution_count": null,
   "id": "82a81d07",
   "metadata": {},
   "outputs": [],
   "source": [
    "import pandas as pd\n",
    "import matplotlib.pyplot as plt\n",
    "import seaborn as sns\n",
    "storms = pd.read_csv(\"storms.csv\")\n",
    "\n",
    "def create_plot(dataframe, x_col, y_col):\n",
    "    \"\"\"Create a scatter plot from two DataFrame columns using seaborn.\"\"\"\n",
    "    plt.figure(figsize=(6,4))\n",
    "    sns.scatterplot(data=dataframe, x=x_col, y=y_col, alpha=0.7)\n",
    "    plt.title(f\"Scatter plot of {y_col} vs {x_col}\")\n",
    "    return plt\n"
   ]
  },
  {
   "cell_type": "markdown",
   "id": "ef45e3ef",
   "metadata": {},
   "source": [
    "### Exercise 2 – Functions\n",
    "\n",
    "### a \n",
    " Create a function with 2 input arguments with the maximum of these inputs as\n",
    "output."
   ]
  },
  {
   "cell_type": "code",
   "execution_count": null,
   "id": "2e2a03a1",
   "metadata": {},
   "outputs": [],
   "source": []
  },
  {
   "cell_type": "code",
   "execution_count": null,
   "id": "fa47955a",
   "metadata": {},
   "outputs": [],
   "source": []
  },
  {
   "cell_type": "markdown",
   "id": "cffc790f",
   "metadata": {},
   "source": [
    "### b\n",
    " Break the function isolation and see what happens. (Use a variable that was created outside of the function and use it in the function)"
   ]
  },
  {
   "cell_type": "code",
   "execution_count": null,
   "id": "edc3346d",
   "metadata": {},
   "outputs": [],
   "source": []
  },
  {
   "cell_type": "code",
   "execution_count": null,
   "id": "5cecf72c",
   "metadata": {},
   "outputs": [],
   "source": []
  },
  {
   "cell_type": "markdown",
   "id": "6aaca630",
   "metadata": {},
   "source": [
    "### Bonus: \n",
    "What is going wrong here, and why? If we want this function to work, how do we\n",
    "solve it? "
   ]
  },
  {
   "cell_type": "code",
   "execution_count": null,
   "id": "0e213b81",
   "metadata": {},
   "outputs": [],
   "source": [
    "def max(a, b):         \n",
    "    c = max(a, b)       \n",
    "    return(c)          \n",
    "\n",
    "max(1, 2)"
   ]
  },
  {
   "cell_type": "markdown",
   "id": "db0137f6",
   "metadata": {},
   "source": [
    "#### Q3 \n",
    "\n",
    "You have the following repeated code to get grouped rows:"
   ]
  },
  {
   "cell_type": "code",
   "execution_count": null,
   "id": "b192ec3f",
   "metadata": {},
   "outputs": [],
   "source": [
    "import pandas as pd\n",
    "mtcars = pd.read_csv('mtcars.csv')\n",
    "storms = pd.read_csv('storms.csv')\n",
    "\n",
    "(storms\n",
    ".groupby('year')\n",
    ".agg(group_count = ('year', len)))\n",
    "\n",
    "(mtcars\n",
    ".groupby('carb')\n",
    ".agg(group_count = ('carb', len)))\n",
    "\n",
    "(mtcars\n",
    ".groupby('cyl')\n",
    ".agg(group_count = ('cyl', len)))"
   ]
  },
  {
   "cell_type": "markdown",
   "id": "7ea48479",
   "metadata": {},
   "source": [
    "This repeats the same pattern with only small changes. Refactor this into a single function. Follow these steps:\n",
    "\n",
    "1. Copy one block of code.\n",
    "\n",
    "2. Turn it into a function (write the function header and body).\n",
    "\n",
    "3. Identify the parts that change (dataset? variable to group by?).\n",
    "4. Replace the hard-coded values with parameters (add defaults if necessary)."
   ]
  },
  {
   "cell_type": "code",
   "execution_count": null,
   "id": "12fbbef8",
   "metadata": {},
   "outputs": [],
   "source": []
  },
  {
   "cell_type": "code",
   "execution_count": null,
   "id": "8edf090e",
   "metadata": {},
   "outputs": [],
   "source": []
  },
  {
   "cell_type": "markdown",
   "id": "941ed0fb",
   "metadata": {},
   "source": [
    "## Exercise 4 – Reusability\n",
    "\n",
    "We are using data on animal species diversity and weights found within plots at a study site.  \n",
    "The dataset is stored as a csv file.  \n",
    "Each row holds information for a single animal, with the following columns:\n",
    "\n",
    "| Column            | Description                           |\n",
    "|-------------------|---------------------------------------|\n",
    "| `record_id`       | Unique observation ID                 |\n",
    "| `month`           | Month of observation                  |\n",
    "| `day`             | Day of observation                    |\n",
    "| `year`            | Year of observation                   |\n",
    "| `plot_id`         | ID of the particular plot             |\n",
    "| `species_id`      | Species ID (2-letter code)            |\n",
    "| `sex`             | Sex of the animal (`'F'` or `'M'`)    |\n",
    "| `hindfoot_length` | Length of hindfoot (mm)               |\n",
    "| `weight`          | Weight (grams)                        |\n",
    "| `genus`           | Genus (Latin group name)              |\n",
    "| `species`         | Species (Latin name)                  |\n",
    "| `taxa`            | Class of animals                      |\n",
    "| `plot_type`            | type of plot                     |"
   ]
  },
  {
   "cell_type": "code",
   "execution_count": null,
   "id": "5a4fc4eb",
   "metadata": {},
   "outputs": [],
   "source": [
    "animal_species = pd.read_csv('animal_species.csv')"
   ]
  },
  {
   "cell_type": "markdown",
   "id": "7e44bedb",
   "metadata": {},
   "source": [
    "### a \n",
    "\n",
    "Write a function that:  \n",
    "- Takes a dataset, a variable (column), and a grouping column as inputs.  \n",
    "- Groups the data by the chosen grouping column.  \n",
    "- For the chosen variable, calculates the following within each group:  \n",
    "  - **Average** (mean)  \n",
    "  - **Standard deviation**  \n",
    "  - **Number of rows** (len)  \n",
    "\n",
    "The function should return a summary table with these statistics."
   ]
  },
  {
   "cell_type": "code",
   "execution_count": null,
   "id": "a1ff5f12",
   "metadata": {},
   "outputs": [],
   "source": []
  },
  {
   "cell_type": "markdown",
   "id": "86cdb1be",
   "metadata": {},
   "source": [
    "### b\n",
    "\n",
    "Answer the following questions by using the function from a:\n",
    "1. What is the average weight in 1989?\n",
    "2. What is standard deviation of hindfoot_length for taxa ‘Rodent’?\n",
    "3. How many non-missing weight rows has the genus ‘Onychomys’?"
   ]
  },
  {
   "cell_type": "code",
   "execution_count": null,
   "id": "1210e262",
   "metadata": {},
   "outputs": [],
   "source": []
  },
  {
   "cell_type": "markdown",
   "id": "100214a9",
   "metadata": {},
   "source": [
    "### Bonus: \n",
    "\n",
    "Using lambdas, add 25th percentile and 75th percentile to the function aggregation. (np.percentile(x, q = 25) can be used as argument). Afterwards get the q25 amd q75 of weight in year 1977"
   ]
  },
  {
   "cell_type": "code",
   "execution_count": null,
   "id": "1e367003",
   "metadata": {},
   "outputs": [],
   "source": [
    "# We need to remove the NA values in weight, otherwise the quartiles will be NA\n",
    "animal_species = animal_species.query('weight.notnull()')\n"
   ]
  },
  {
   "cell_type": "code",
   "execution_count": null,
   "id": "52c5190e",
   "metadata": {},
   "outputs": [],
   "source": []
  }
 ],
 "metadata": {
  "kernelspec": {
   "display_name": "base",
   "language": "python",
   "name": "python3"
  },
  "language_info": {
   "codemirror_mode": {
    "name": "ipython",
    "version": 3
   },
   "file_extension": ".py",
   "mimetype": "text/x-python",
   "name": "python",
   "nbconvert_exporter": "python",
   "pygments_lexer": "ipython3",
   "version": "3.13.5"
  }
 },
 "nbformat": 4,
 "nbformat_minor": 5
}
