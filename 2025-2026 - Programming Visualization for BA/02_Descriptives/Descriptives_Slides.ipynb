{
 "cells": [
  {
   "cell_type": "markdown",
   "id": "3f09d51e",
   "metadata": {},
   "source": [
    "# Descriptives Slides\n",
    "\n",
    "---\n",
    "Erasmus Q-Intelligence B.V.\n",
    "\n",
    "---"
   ]
  },
  {
   "cell_type": "markdown",
   "id": "fb6467f2",
   "metadata": {},
   "source": [
    "## Load data"
   ]
  },
  {
   "cell_type": "code",
   "execution_count": null,
   "id": "334131bc",
   "metadata": {},
   "outputs": [],
   "source": [
    "import pandas as pd\n",
    "\n",
    "iris = pd.read_csv(\"iris.csv\")\n",
    "forsale = pd.read_csv(\"forsale.csv\")\n"
   ]
  },
  {
   "cell_type": "markdown",
   "id": "1eb627f1",
   "metadata": {},
   "source": [
    "## Data exploration\n",
    "\n",
    "Number of observations and columns together. "
   ]
  },
  {
   "cell_type": "code",
   "execution_count": null,
   "id": "7a3c4a57",
   "metadata": {},
   "outputs": [],
   "source": [
    "iris.shape"
   ]
  },
  {
   "cell_type": "markdown",
   "id": "b55e86ac",
   "metadata": {},
   "source": [
    "Number of observations and columns separately"
   ]
  },
  {
   "cell_type": "code",
   "execution_count": null,
   "id": "f679a122",
   "metadata": {},
   "outputs": [],
   "source": [
    "print(iris.shape[0]) # number of observations\n",
    "print(iris.shape[1]) # number of columns"
   ]
  },
  {
   "cell_type": "markdown",
   "id": "6a89cd83",
   "metadata": {},
   "source": [
    "Variable names"
   ]
  },
  {
   "cell_type": "code",
   "execution_count": null,
   "id": "b9f6902a",
   "metadata": {},
   "outputs": [],
   "source": [
    "iris.columns.values"
   ]
  },
  {
   "cell_type": "markdown",
   "id": "0d17b2e4",
   "metadata": {},
   "source": [
    "Row names"
   ]
  },
  {
   "cell_type": "code",
   "execution_count": null,
   "id": "37456584",
   "metadata": {},
   "outputs": [],
   "source": [
    "iris.index.values"
   ]
  },
  {
   "cell_type": "markdown",
   "id": "9ea8a6d2",
   "metadata": {},
   "source": [
    "Count frequencies"
   ]
  },
  {
   "cell_type": "code",
   "execution_count": null,
   "id": "54b5d7fe",
   "metadata": {},
   "outputs": [],
   "source": [
    "iris['Species'].value_counts()"
   ]
  },
  {
   "cell_type": "markdown",
   "id": "98ea2579",
   "metadata": {},
   "source": [
    "## Descriptive statistics\n",
    "\n",
    "Minimum value"
   ]
  },
  {
   "cell_type": "code",
   "execution_count": null,
   "id": "0db10b4b",
   "metadata": {},
   "outputs": [],
   "source": [
    "iris['Sepal.Length'].min()"
   ]
  },
  {
   "cell_type": "markdown",
   "id": "d78934c6",
   "metadata": {},
   "source": [
    "Maximum value"
   ]
  },
  {
   "cell_type": "code",
   "execution_count": null,
   "id": "cc2ee0e7",
   "metadata": {},
   "outputs": [],
   "source": [
    "iris['Sepal.Length'].max()"
   ]
  },
  {
   "cell_type": "markdown",
   "id": "b8d93e95",
   "metadata": {},
   "source": [
    "Default quantiles, A quantile is a value that divides your data into equal parts. Default is 0.5 quantile → median, 50% of the data is below this value"
   ]
  },
  {
   "cell_type": "code",
   "execution_count": null,
   "id": "287afd57",
   "metadata": {},
   "outputs": [],
   "source": [
    "iris['Sepal.Length'].quantile()"
   ]
  },
  {
   "cell_type": "markdown",
   "id": "98fed367",
   "metadata": {},
   "source": [
    "Quantiles for specified probabilities \n",
    "\n",
    "1. 0.25 quantile → 25% of the data is below this value\n",
    "\n",
    "2. 0.5 quantile → median, 50% of the data is below this value\n",
    "\n",
    "3. 0.75 quantile → 75% of the data is below this value"
   ]
  },
  {
   "cell_type": "code",
   "execution_count": null,
   "id": "eeca599a",
   "metadata": {},
   "outputs": [],
   "source": [
    "iris['Sepal.Length'].quantile([0, 0.25, 0.50, 0.75, 1])"
   ]
  },
  {
   "cell_type": "markdown",
   "id": "d27665a5",
   "metadata": {},
   "source": [
    "Mean  (Sensitive to outliers)"
   ]
  },
  {
   "cell_type": "code",
   "execution_count": null,
   "id": "cec4443b",
   "metadata": {},
   "outputs": [],
   "source": [
    "iris['Sepal.Length'].mean()"
   ]
  },
  {
   "cell_type": "markdown",
   "id": "42a3dfc4",
   "metadata": {},
   "source": [
    "Median (gives a better sense of a “typical” value, not affected by outliers)"
   ]
  },
  {
   "cell_type": "code",
   "execution_count": null,
   "id": "0ef3defb",
   "metadata": {},
   "outputs": [],
   "source": [
    "iris['Sepal.Length'].median()"
   ]
  },
  {
   "cell_type": "markdown",
   "id": "78eb533f",
   "metadata": {},
   "source": [
    "Standard deviation - The square root of variance."
   ]
  },
  {
   "cell_type": "code",
   "execution_count": null,
   "id": "b5a67ad8",
   "metadata": {},
   "outputs": [],
   "source": [
    "iris['Sepal.Length'].std()"
   ]
  },
  {
   "cell_type": "markdown",
   "id": "79e017b4",
   "metadata": {},
   "source": [
    "Variance - Measures the average squared deviation from the mean."
   ]
  },
  {
   "cell_type": "code",
   "execution_count": null,
   "id": "8cb5b82c",
   "metadata": {},
   "outputs": [],
   "source": [
    "iris['Sepal.Length'].var()"
   ]
  },
  {
   "cell_type": "markdown",
   "id": "fe8e4a3d",
   "metadata": {},
   "source": [
    "Covariance - Measures the direction of the linear relationship between two variables. “Do they move together?”"
   ]
  },
  {
   "cell_type": "code",
   "execution_count": null,
   "id": "cc2181aa",
   "metadata": {},
   "outputs": [],
   "source": [
    "iris.select_dtypes(include='number').cov()"
   ]
  },
  {
   "cell_type": "markdown",
   "id": "69268200",
   "metadata": {},
   "source": [
    "Correlation - Measures the strength and direction of a linear relationship between two variables. How strongly and in which direction do they move together?”"
   ]
  },
  {
   "cell_type": "code",
   "execution_count": null,
   "id": "2bda626f",
   "metadata": {},
   "outputs": [],
   "source": [
    "iris.select_dtypes(include='number').corr()"
   ]
  },
  {
   "cell_type": "markdown",
   "id": "37c10779",
   "metadata": {},
   "source": [
    "Distribution of a variable"
   ]
  },
  {
   "cell_type": "code",
   "execution_count": null,
   "id": "9fe62669",
   "metadata": {},
   "outputs": [],
   "source": [
    "forsale['living_area'].describe()"
   ]
  },
  {
   "cell_type": "markdown",
   "id": "0b6c835e",
   "metadata": {},
   "source": [
    "Histogram"
   ]
  },
  {
   "cell_type": "code",
   "execution_count": null,
   "id": "c1bcbdba",
   "metadata": {},
   "outputs": [],
   "source": [
    "forsale['living_area'].hist(bins = 30)"
   ]
  }
 ],
 "metadata": {
  "kernelspec": {
   "display_name": "les2",
   "language": "python",
   "name": "python3"
  },
  "language_info": {
   "codemirror_mode": {
    "name": "ipython",
    "version": 3
   },
   "file_extension": ".py",
   "mimetype": "text/x-python",
   "name": "python",
   "nbconvert_exporter": "python",
   "pygments_lexer": "ipython3",
   "version": "3.12.5"
  }
 },
 "nbformat": 4,
 "nbformat_minor": 5
}
