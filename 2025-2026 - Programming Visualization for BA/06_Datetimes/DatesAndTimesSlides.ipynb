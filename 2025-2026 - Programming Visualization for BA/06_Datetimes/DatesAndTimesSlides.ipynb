{
 "cells": [
  {
   "cell_type": "markdown",
   "id": "d0ab46f5",
   "metadata": {},
   "source": [
    "## Dates & Times\n",
    "### Programming 06 slides\n",
    "\n",
    "#### Working with dates and times"
   ]
  },
  {
   "cell_type": "code",
   "execution_count": 1,
   "id": "92188fd8",
   "metadata": {},
   "outputs": [
    {
     "name": "stdout",
     "output_type": "stream",
     "text": [
      "        start         end\n",
      "0  2023-01-01  2023-01-10\n",
      "1  2023-03-15  2023-03-20\n",
      "============================================================\n",
      "<class 'pandas.core.frame.DataFrame'>\n",
      "RangeIndex: 2 entries, 0 to 1\n",
      "Data columns (total 2 columns):\n",
      " #   Column  Non-Null Count  Dtype \n",
      "---  ------  --------------  ----- \n",
      " 0   start   2 non-null      object\n",
      " 1   end     2 non-null      object\n",
      "dtypes: object(2)\n",
      "memory usage: 164.0+ bytes\n"
     ]
    }
   ],
   "source": [
    "import pandas as pd\n",
    "\n",
    "# Example data\n",
    "df = pd.DataFrame({\n",
    "    \"start\": [\"2023-01-01\", \"2023-03-15\"],\n",
    "    \"end\": [\"2023-01-10\", \"2023-03-20\"]\n",
    "})\n",
    "\n",
    "print(df)\n",
    "print(\"============================================================\")\n",
    "df.info()\n"
   ]
  },
  {
   "cell_type": "code",
   "execution_count": 22,
   "id": "716994fa",
   "metadata": {},
   "outputs": [
    {
     "name": "stdout",
     "output_type": "stream",
     "text": [
      "       start        end\n",
      "0 2023-01-01 2023-01-10\n",
      "1 2023-03-15 2023-03-20\n",
      "============================================================\n",
      "<class 'pandas.core.frame.DataFrame'>\n",
      "RangeIndex: 2 entries, 0 to 1\n",
      "Data columns (total 2 columns):\n",
      " #   Column  Non-Null Count  Dtype         \n",
      "---  ------  --------------  -----         \n",
      " 0   start   2 non-null      datetime64[ns]\n",
      " 1   end     2 non-null      datetime64[ns]\n",
      "dtypes: datetime64[ns](2)\n",
      "memory usage: 164.0 bytes\n"
     ]
    }
   ],
   "source": [
    "# Convert to datetime\n",
    "df[\"start\"] = pd.to_datetime(df[\"start\"])\n",
    "df[\"end\"] = pd.to_datetime(df[\"end\"])\n",
    "\n",
    "print(df)\n",
    "print(\"============================================================\")\n",
    "df.info()"
   ]
  },
  {
   "cell_type": "code",
   "execution_count": 23,
   "id": "de78e7b4",
   "metadata": {},
   "outputs": [
    {
     "name": "stdout",
     "output_type": "stream",
     "text": [
      "       start        end duration\n",
      "0 2023-01-01 2023-01-10   9 days\n",
      "1 2023-03-15 2023-03-20   5 days\n"
     ]
    }
   ],
   "source": [
    "# Calculate difference\n",
    "df = df.assign(duration=df[\"end\"] - df[\"start\"])\n",
    "print(df)\n"
   ]
  },
  {
   "cell_type": "code",
   "execution_count": 24,
   "id": "895c77c7",
   "metadata": {},
   "outputs": [
    {
     "data": {
      "text/html": [
       "<div>\n",
       "<style scoped>\n",
       "    .dataframe tbody tr th:only-of-type {\n",
       "        vertical-align: middle;\n",
       "    }\n",
       "\n",
       "    .dataframe tbody tr th {\n",
       "        vertical-align: top;\n",
       "    }\n",
       "\n",
       "    .dataframe thead th {\n",
       "        text-align: right;\n",
       "    }\n",
       "</style>\n",
       "<table border=\"1\" class=\"dataframe\">\n",
       "  <thead>\n",
       "    <tr style=\"text-align: right;\">\n",
       "      <th></th>\n",
       "      <th>start</th>\n",
       "      <th>end</th>\n",
       "      <th>duration</th>\n",
       "      <th>start_plus_week_extra</th>\n",
       "    </tr>\n",
       "  </thead>\n",
       "  <tbody>\n",
       "    <tr>\n",
       "      <th>0</th>\n",
       "      <td>2023-01-01</td>\n",
       "      <td>2023-01-10</td>\n",
       "      <td>9 days</td>\n",
       "      <td>2023-01-08 03:00:00</td>\n",
       "    </tr>\n",
       "    <tr>\n",
       "      <th>1</th>\n",
       "      <td>2023-03-15</td>\n",
       "      <td>2023-03-20</td>\n",
       "      <td>5 days</td>\n",
       "      <td>2023-03-22 03:00:00</td>\n",
       "    </tr>\n",
       "  </tbody>\n",
       "</table>\n",
       "</div>"
      ],
      "text/plain": [
       "       start        end duration start_plus_week_extra\n",
       "0 2023-01-01 2023-01-10   9 days   2023-01-08 03:00:00\n",
       "1 2023-03-15 2023-03-20   5 days   2023-03-22 03:00:00"
      ]
     },
     "execution_count": 24,
     "metadata": {},
     "output_type": "execute_result"
    }
   ],
   "source": [
    "# Add 7 days to start\n",
    "df = df.assign(start_plus_week_extra=df[\"start\"] + pd.Timedelta(days=7, hours=3))\n",
    "#df = df.assign(duration_week_extra=df[\"end\"] - df[\"start_plus_week_extra\"])\n",
    "df\n"
   ]
  },
  {
   "cell_type": "markdown",
   "id": "d109f56b",
   "metadata": {},
   "source": [
    "## Date-times as a Data Type in pandas\n",
    "\n",
    "Single timestamp: \n",
    "\n",
    "1. It is precise to nanoseconds and supports operations like adding/subtracting timedeltas.\n",
    "\n",
    "2. Example use: storing a single event’s exact date and time."
   ]
  },
  {
   "cell_type": "code",
   "execution_count": null,
   "id": "f3702c0d",
   "metadata": {},
   "outputs": [
    {
     "name": "stdout",
     "output_type": "stream",
     "text": [
      "Timestamp: 2023-01-01 12:30:00\n"
     ]
    }
   ],
   "source": [
    "# Single Timestamp, aka a single point in time\n",
    "ts = pd.Timestamp(\"2023-01-01 12:30:00\")\n",
    "type\n",
    "#ts = ts - pd.Timedelta(days=2, hours=4)\n",
    "print(\"Timestamp:\", ts)"
   ]
  },
  {
   "cell_type": "markdown",
   "id": "85369204",
   "metadata": {},
   "source": [
    "pd.Timedelta represents a duration (the difference between two times).\n",
    "\n",
    "1. You can add or subtract it from a Timestamp to shift time forward/backward.\n",
    "\n",
    "2. Example: adding 3 days and 5 hours to a deadline."
   ]
  },
  {
   "cell_type": "code",
   "execution_count": null,
   "id": "14fb6760",
   "metadata": {},
   "outputs": [
    {
     "name": "stdout",
     "output_type": "stream",
     "text": [
      "Timedelta: 3 days 03:00:00\n"
     ]
    }
   ],
   "source": [
    "# Timedelta (duration)\n",
    "delta = pd.Timedelta(days=3, hours=5)\n",
    "\n",
    "#delta = delta - pd.Timedelta(hours=2)\n",
    "print(\"Timedelta:\", delta)"
   ]
  },
  {
   "cell_type": "markdown",
   "id": "cdd24058",
   "metadata": {},
   "source": [
    "pd.to_datetime() converts text into datetime objects."
   ]
  },
  {
   "cell_type": "code",
   "execution_count": 27,
   "id": "f72372f6",
   "metadata": {},
   "outputs": [
    {
     "name": "stdout",
     "output_type": "stream",
     "text": [
      "Datetime: 2023-01-01 00:00:00\n"
     ]
    }
   ],
   "source": [
    "# Converting text to datetime\n",
    "date = pd.to_datetime(\"2023-01-01\")\n",
    "print(\"Datetime:\", date)"
   ]
  },
  {
   "cell_type": "markdown",
   "id": "de1fca92",
   "metadata": {},
   "source": [
    "## Time Periods in pandas"
   ]
  },
  {
   "cell_type": "code",
   "execution_count": 28,
   "id": "8a3b028f",
   "metadata": {},
   "outputs": [
    {
     "name": "stdout",
     "output_type": "stream",
     "text": [
      "Timestamp + 1h: 2023-01-01 13:00:00\n"
     ]
    }
   ],
   "source": [
    "# Timedelta\n",
    "# # Duration of 1 hour\n",
    "delta = pd.Timedelta(hours=1)\n",
    "\n",
    "# Add to a timestamp\n",
    "ts = pd.Timestamp(\"2023-01-01 12:00:00\")\n",
    "print(\"Timestamp + 1h:\", ts + delta)\n"
   ]
  },
  {
   "cell_type": "code",
   "execution_count": null,
   "id": "7476fe16",
   "metadata": {},
   "outputs": [
    {
     "name": "stdout",
     "output_type": "stream",
     "text": [
      "Interval: [2023-01-01 12:30:00, 2023-01-01 17:30:00]\n"
     ]
    }
   ],
   "source": [
    "# Interval\n",
    "# Duration of 5 hours\n",
    "delta = pd.Timedelta(hours=5)\n",
    "\n",
    "# Interval from 12:00 to 17:00\n",
    "interval = pd.Interval(left=ts, right=ts + delta, closed=\"both\")\n",
    "print(\"Interval:\", interval)\n"
   ]
  },
  {
   "cell_type": "code",
   "execution_count": 45,
   "id": "7d6dbc44",
   "metadata": {},
   "outputs": [
    {
     "name": "stdout",
     "output_type": "stream",
     "text": [
      "True\n",
      "True\n",
      "False\n"
     ]
    }
   ],
   "source": [
    "# To check if a time is in the interval:\n",
    "print(ts in interval) \n",
    "print(ts + delta in interval) \n",
    "print(ts - delta in interval)  "
   ]
  },
  {
   "cell_type": "markdown",
   "id": "7038f3f5",
   "metadata": {},
   "source": [
    "All of is this is also possible on a dataset. Here we take a new flights.csv with specific flight data, at first they are stored as strings"
   ]
  },
  {
   "cell_type": "code",
   "execution_count": 30,
   "id": "4670dddc",
   "metadata": {},
   "outputs": [
    {
     "data": {
      "text/html": [
       "<div>\n",
       "<style scoped>\n",
       "    .dataframe tbody tr th:only-of-type {\n",
       "        vertical-align: middle;\n",
       "    }\n",
       "\n",
       "    .dataframe tbody tr th {\n",
       "        vertical-align: top;\n",
       "    }\n",
       "\n",
       "    .dataframe thead th {\n",
       "        text-align: right;\n",
       "    }\n",
       "</style>\n",
       "<table border=\"1\" class=\"dataframe\">\n",
       "  <thead>\n",
       "    <tr style=\"text-align: right;\">\n",
       "      <th></th>\n",
       "      <th>dep_time</th>\n",
       "      <th>sched_dep_time</th>\n",
       "      <th>arr_time</th>\n",
       "      <th>sched_arr_time</th>\n",
       "      <th>carrier</th>\n",
       "      <th>flight</th>\n",
       "      <th>tailnum</th>\n",
       "      <th>origin</th>\n",
       "      <th>dest</th>\n",
       "      <th>distance</th>\n",
       "      <th>origin_lat</th>\n",
       "      <th>origin_long</th>\n",
       "      <th>dest_lat</th>\n",
       "      <th>dest_long</th>\n",
       "    </tr>\n",
       "  </thead>\n",
       "  <tbody>\n",
       "    <tr>\n",
       "      <th>0</th>\n",
       "      <td>2013-01-01 05:17</td>\n",
       "      <td>2013-01-01 05:15</td>\n",
       "      <td>2013-01-01 08:30</td>\n",
       "      <td>2013-01-01 08:19</td>\n",
       "      <td>UA</td>\n",
       "      <td>1545</td>\n",
       "      <td>N14228</td>\n",
       "      <td>EWR</td>\n",
       "      <td>IAH</td>\n",
       "      <td>1400</td>\n",
       "      <td>40.692497</td>\n",
       "      <td>-74.168661</td>\n",
       "      <td>29.980472</td>\n",
       "      <td>-95.339722</td>\n",
       "    </tr>\n",
       "    <tr>\n",
       "      <th>1</th>\n",
       "      <td>2013-01-01 05:33</td>\n",
       "      <td>2013-01-01 05:29</td>\n",
       "      <td>2013-01-01 08:50</td>\n",
       "      <td>2013-01-01 08:30</td>\n",
       "      <td>UA</td>\n",
       "      <td>1714</td>\n",
       "      <td>N24211</td>\n",
       "      <td>LGA</td>\n",
       "      <td>IAH</td>\n",
       "      <td>1416</td>\n",
       "      <td>40.777243</td>\n",
       "      <td>-73.872609</td>\n",
       "      <td>29.980472</td>\n",
       "      <td>-95.339722</td>\n",
       "    </tr>\n",
       "    <tr>\n",
       "      <th>2</th>\n",
       "      <td>2013-01-01 05:42</td>\n",
       "      <td>2013-01-01 05:40</td>\n",
       "      <td>2013-01-01 09:23</td>\n",
       "      <td>2013-01-01 08:50</td>\n",
       "      <td>AA</td>\n",
       "      <td>1141</td>\n",
       "      <td>N619AA</td>\n",
       "      <td>JFK</td>\n",
       "      <td>MIA</td>\n",
       "      <td>1089</td>\n",
       "      <td>40.639751</td>\n",
       "      <td>-73.778926</td>\n",
       "      <td>25.793250</td>\n",
       "      <td>-80.290556</td>\n",
       "    </tr>\n",
       "    <tr>\n",
       "      <th>3</th>\n",
       "      <td>2013-01-01 05:44</td>\n",
       "      <td>2013-01-01 05:45</td>\n",
       "      <td>2013-01-01 10:04</td>\n",
       "      <td>2013-01-01 10:22</td>\n",
       "      <td>B6</td>\n",
       "      <td>725</td>\n",
       "      <td>N804JB</td>\n",
       "      <td>JFK</td>\n",
       "      <td>BQN</td>\n",
       "      <td>1576</td>\n",
       "      <td>40.639751</td>\n",
       "      <td>-73.778926</td>\n",
       "      <td>18.494861</td>\n",
       "      <td>-67.129444</td>\n",
       "    </tr>\n",
       "    <tr>\n",
       "      <th>4</th>\n",
       "      <td>2013-01-01 05:54</td>\n",
       "      <td>2013-01-01 06:00</td>\n",
       "      <td>2013-01-01 08:12</td>\n",
       "      <td>2013-01-01 08:37</td>\n",
       "      <td>DL</td>\n",
       "      <td>461</td>\n",
       "      <td>N668DN</td>\n",
       "      <td>LGA</td>\n",
       "      <td>ATL</td>\n",
       "      <td>762</td>\n",
       "      <td>40.777243</td>\n",
       "      <td>-73.872609</td>\n",
       "      <td>33.640444</td>\n",
       "      <td>-84.426944</td>\n",
       "    </tr>\n",
       "    <tr>\n",
       "      <th>...</th>\n",
       "      <td>...</td>\n",
       "      <td>...</td>\n",
       "      <td>...</td>\n",
       "      <td>...</td>\n",
       "      <td>...</td>\n",
       "      <td>...</td>\n",
       "      <td>...</td>\n",
       "      <td>...</td>\n",
       "      <td>...</td>\n",
       "      <td>...</td>\n",
       "      <td>...</td>\n",
       "      <td>...</td>\n",
       "      <td>...</td>\n",
       "      <td>...</td>\n",
       "    </tr>\n",
       "    <tr>\n",
       "      <th>336771</th>\n",
       "      <td>NaN</td>\n",
       "      <td>2013-09-30 14:55</td>\n",
       "      <td>NaN</td>\n",
       "      <td>2013-09-30 16:34</td>\n",
       "      <td>9E</td>\n",
       "      <td>3393</td>\n",
       "      <td>NaN</td>\n",
       "      <td>JFK</td>\n",
       "      <td>DCA</td>\n",
       "      <td>213</td>\n",
       "      <td>40.639751</td>\n",
       "      <td>-73.778926</td>\n",
       "      <td>38.852083</td>\n",
       "      <td>-77.037722</td>\n",
       "    </tr>\n",
       "    <tr>\n",
       "      <th>336772</th>\n",
       "      <td>NaN</td>\n",
       "      <td>2013-09-30 22:00</td>\n",
       "      <td>NaN</td>\n",
       "      <td>2013-09-30 23:12</td>\n",
       "      <td>9E</td>\n",
       "      <td>3525</td>\n",
       "      <td>NaN</td>\n",
       "      <td>LGA</td>\n",
       "      <td>SYR</td>\n",
       "      <td>198</td>\n",
       "      <td>40.777243</td>\n",
       "      <td>-73.872609</td>\n",
       "      <td>43.111187</td>\n",
       "      <td>-76.106311</td>\n",
       "    </tr>\n",
       "    <tr>\n",
       "      <th>336773</th>\n",
       "      <td>NaN</td>\n",
       "      <td>2013-09-30 12:10</td>\n",
       "      <td>NaN</td>\n",
       "      <td>2013-09-30 13:30</td>\n",
       "      <td>MQ</td>\n",
       "      <td>3461</td>\n",
       "      <td>N535MQ</td>\n",
       "      <td>LGA</td>\n",
       "      <td>BNA</td>\n",
       "      <td>764</td>\n",
       "      <td>40.777243</td>\n",
       "      <td>-73.872609</td>\n",
       "      <td>36.124477</td>\n",
       "      <td>-86.678182</td>\n",
       "    </tr>\n",
       "    <tr>\n",
       "      <th>336774</th>\n",
       "      <td>NaN</td>\n",
       "      <td>2013-09-30 11:59</td>\n",
       "      <td>NaN</td>\n",
       "      <td>2013-09-30 13:44</td>\n",
       "      <td>MQ</td>\n",
       "      <td>3572</td>\n",
       "      <td>N511MQ</td>\n",
       "      <td>LGA</td>\n",
       "      <td>CLE</td>\n",
       "      <td>419</td>\n",
       "      <td>40.777243</td>\n",
       "      <td>-73.872609</td>\n",
       "      <td>41.410894</td>\n",
       "      <td>-81.849397</td>\n",
       "    </tr>\n",
       "    <tr>\n",
       "      <th>336775</th>\n",
       "      <td>NaN</td>\n",
       "      <td>2013-09-30 08:40</td>\n",
       "      <td>NaN</td>\n",
       "      <td>2013-09-30 10:20</td>\n",
       "      <td>MQ</td>\n",
       "      <td>3531</td>\n",
       "      <td>N839MQ</td>\n",
       "      <td>LGA</td>\n",
       "      <td>RDU</td>\n",
       "      <td>431</td>\n",
       "      <td>40.777243</td>\n",
       "      <td>-73.872609</td>\n",
       "      <td>35.877639</td>\n",
       "      <td>-78.787472</td>\n",
       "    </tr>\n",
       "  </tbody>\n",
       "</table>\n",
       "<p>336776 rows × 14 columns</p>\n",
       "</div>"
      ],
      "text/plain": [
       "                dep_time    sched_dep_time          arr_time  \\\n",
       "0       2013-01-01 05:17  2013-01-01 05:15  2013-01-01 08:30   \n",
       "1       2013-01-01 05:33  2013-01-01 05:29  2013-01-01 08:50   \n",
       "2       2013-01-01 05:42  2013-01-01 05:40  2013-01-01 09:23   \n",
       "3       2013-01-01 05:44  2013-01-01 05:45  2013-01-01 10:04   \n",
       "4       2013-01-01 05:54  2013-01-01 06:00  2013-01-01 08:12   \n",
       "...                  ...               ...               ...   \n",
       "336771               NaN  2013-09-30 14:55               NaN   \n",
       "336772               NaN  2013-09-30 22:00               NaN   \n",
       "336773               NaN  2013-09-30 12:10               NaN   \n",
       "336774               NaN  2013-09-30 11:59               NaN   \n",
       "336775               NaN  2013-09-30 08:40               NaN   \n",
       "\n",
       "          sched_arr_time carrier  flight tailnum origin dest  distance  \\\n",
       "0       2013-01-01 08:19      UA    1545  N14228    EWR  IAH      1400   \n",
       "1       2013-01-01 08:30      UA    1714  N24211    LGA  IAH      1416   \n",
       "2       2013-01-01 08:50      AA    1141  N619AA    JFK  MIA      1089   \n",
       "3       2013-01-01 10:22      B6     725  N804JB    JFK  BQN      1576   \n",
       "4       2013-01-01 08:37      DL     461  N668DN    LGA  ATL       762   \n",
       "...                  ...     ...     ...     ...    ...  ...       ...   \n",
       "336771  2013-09-30 16:34      9E    3393     NaN    JFK  DCA       213   \n",
       "336772  2013-09-30 23:12      9E    3525     NaN    LGA  SYR       198   \n",
       "336773  2013-09-30 13:30      MQ    3461  N535MQ    LGA  BNA       764   \n",
       "336774  2013-09-30 13:44      MQ    3572  N511MQ    LGA  CLE       419   \n",
       "336775  2013-09-30 10:20      MQ    3531  N839MQ    LGA  RDU       431   \n",
       "\n",
       "        origin_lat  origin_long   dest_lat  dest_long  \n",
       "0        40.692497   -74.168661  29.980472 -95.339722  \n",
       "1        40.777243   -73.872609  29.980472 -95.339722  \n",
       "2        40.639751   -73.778926  25.793250 -80.290556  \n",
       "3        40.639751   -73.778926  18.494861 -67.129444  \n",
       "4        40.777243   -73.872609  33.640444 -84.426944  \n",
       "...            ...          ...        ...        ...  \n",
       "336771   40.639751   -73.778926  38.852083 -77.037722  \n",
       "336772   40.777243   -73.872609  43.111187 -76.106311  \n",
       "336773   40.777243   -73.872609  36.124477 -86.678182  \n",
       "336774   40.777243   -73.872609  41.410894 -81.849397  \n",
       "336775   40.777243   -73.872609  35.877639 -78.787472  \n",
       "\n",
       "[336776 rows x 14 columns]"
      ]
     },
     "execution_count": 30,
     "metadata": {},
     "output_type": "execute_result"
    }
   ],
   "source": [
    "flights = pd.read_csv(\"flighttimes.csv\")\n",
    "flights"
   ]
  },
  {
   "cell_type": "code",
   "execution_count": 31,
   "id": "941cf268",
   "metadata": {},
   "outputs": [
    {
     "name": "stdout",
     "output_type": "stream",
     "text": [
      "<class 'pandas.core.frame.DataFrame'>\n",
      "RangeIndex: 336776 entries, 0 to 336775\n",
      "Data columns (total 14 columns):\n",
      " #   Column          Non-Null Count   Dtype  \n",
      "---  ------          --------------   -----  \n",
      " 0   dep_time        328521 non-null  object \n",
      " 1   sched_dep_time  336776 non-null  object \n",
      " 2   arr_time        328063 non-null  object \n",
      " 3   sched_arr_time  336776 non-null  object \n",
      " 4   carrier         336776 non-null  object \n",
      " 5   flight          336776 non-null  int64  \n",
      " 6   tailnum         334264 non-null  object \n",
      " 7   origin          336776 non-null  object \n",
      " 8   dest            336776 non-null  object \n",
      " 9   distance        336776 non-null  int64  \n",
      " 10  origin_lat      336776 non-null  float64\n",
      " 11  origin_long     336776 non-null  float64\n",
      " 12  dest_lat        336776 non-null  float64\n",
      " 13  dest_long       336776 non-null  float64\n",
      "dtypes: float64(4), int64(2), object(8)\n",
      "memory usage: 36.0+ MB\n"
     ]
    }
   ],
   "source": [
    "flights.info()"
   ]
  },
  {
   "cell_type": "code",
   "execution_count": 47,
   "id": "75832341",
   "metadata": {},
   "outputs": [
    {
     "name": "stdout",
     "output_type": "stream",
     "text": [
      "             dep_time           delay       new_departure\n",
      "0 2013-01-01 05:17:00 0 days 01:30:00 2013-01-01 06:47:00\n",
      "1 2013-01-01 05:33:00 0 days 01:30:00 2013-01-01 07:03:00\n",
      "2 2013-01-01 05:42:00 0 days 01:30:00 2013-01-01 07:12:00\n",
      "3 2013-01-01 05:44:00 0 days 01:30:00 2013-01-01 07:14:00\n",
      "4 2013-01-01 05:54:00 0 days 01:30:00 2013-01-01 07:24:00\n",
      "5 2013-01-01 05:54:00 0 days 01:30:00 2013-01-01 07:24:00\n",
      "6 2013-01-01 05:55:00 0 days 01:30:00 2013-01-01 07:25:00\n",
      "7 2013-01-01 05:57:00 0 days 01:30:00 2013-01-01 07:27:00\n",
      "8 2013-01-01 05:57:00 0 days 01:30:00 2013-01-01 07:27:00\n",
      "9 2013-01-01 05:58:00 0 days 01:30:00 2013-01-01 07:28:00\n"
     ]
    }
   ],
   "source": [
    "import pandas as pd\n",
    "\n",
    "flights = pd.read_csv(\"flighttimes.csv\")\n",
    "# Convert to datetime\n",
    "flights[\"dep_time\"] = pd.to_datetime(flights[\"dep_time\"])\n",
    "\n",
    "# Calculate flight delay (pretend all flights were delayed 90 minutes)\n",
    "flights = flights.assign(delay=pd.Timedelta(minutes=90))\n",
    "\n",
    "flights = flights.assign(new_departure=flights[\"dep_time\"] + flights[\"delay\"])\n",
    "\n",
    "flights = flights[[\"dep_time\",\"delay\", \"new_departure\"]]\n",
    "print(flights.head(10))"
   ]
  },
  {
   "cell_type": "markdown",
   "id": "f32d170b",
   "metadata": {},
   "source": [
    "### Date and Time Formats in pandas\n",
    "\n",
    "1. pd.to_datetime() can automatically parse many common formats\n",
    "\n",
    "2. If parsing fails, you can specify a format string for example: pd.to_datetime(\"2023-01-15\", format=\"%Y-%m-%d\") "
   ]
  },
  {
   "cell_type": "code",
   "execution_count": 33,
   "id": "e9dc38aa",
   "metadata": {},
   "outputs": [
    {
     "data": {
      "text/plain": [
       "Timestamp('2023-01-15 14:30:00')"
      ]
     },
     "execution_count": 33,
     "metadata": {},
     "output_type": "execute_result"
    }
   ],
   "source": [
    "pd.to_datetime(\"2023-01-15\", format=\"%Y-%m-%d\")\n",
    "# 2023-01-15 00:00:00\n",
    "\n",
    "pd.to_datetime(\"15/01/2023\", format=\"%d/%m/%Y\")\n",
    "# 2023-01-15 00:00:00\n",
    "\n",
    "pd.to_datetime(\"01-15-23 14:30\", format=\"%m-%d-%y %H:%M\")\n",
    "# 2023-01-15 14:30:00\n",
    "\n",
    "# And a whole lot more..."
   ]
  },
  {
   "cell_type": "markdown",
   "id": "e4644bc0",
   "metadata": {},
   "source": [
    "## <dataframe> .dt.total_seconds()\n",
    "\n",
    "We can convert datetime objects to seconds/minutes by using dt.total_seconds and dt.total_seconds / 60 respectively"
   ]
  },
  {
   "cell_type": "code",
   "execution_count": 34,
   "id": "8c01c7e4",
   "metadata": {},
   "outputs": [
    {
     "name": "stdout",
     "output_type": "stream",
     "text": [
      "            scheduled              actual  delay_secs  delay_min\n",
      "0 2023-05-01 09:00:00 2023-05-01 09:10:00       600.0       10.0\n",
      "1 2023-05-01 14:00:00 2023-05-01 13:50:00      -600.0      -10.0\n"
     ]
    }
   ],
   "source": [
    "# Example data: scheduled vs actual meeting times\n",
    "df = pd.DataFrame({\n",
    "    \"scheduled\": [\"2023-05-01 09:00:00\", \"2023-05-01 14:00:00\"],\n",
    "    \"actual\":    [\"2023-05-01 09:10:00\", \"2023-05-01 13:50:00\"]\n",
    "})\n",
    "\n",
    "# Convert to datetime\n",
    "df[\"scheduled\"] = pd.to_datetime(df[\"scheduled\"])\n",
    "df[\"actual\"] = pd.to_datetime(df[\"actual\"])\n",
    "\n",
    "# Calculate delay in minutes\n",
    "df = df.assign(delay_secs=(df[\"actual\"] - df[\"scheduled\"]).dt.total_seconds())\n",
    "df = df.assign(delay_min=df[\"delay_secs\"] / 60)\n",
    "\n",
    "print(df)"
   ]
  }
 ],
 "metadata": {
  "kernelspec": {
   "display_name": "Python 3",
   "language": "python",
   "name": "python3"
  },
  "language_info": {
   "codemirror_mode": {
    "name": "ipython",
    "version": 3
   },
   "file_extension": ".py",
   "mimetype": "text/x-python",
   "name": "python",
   "nbconvert_exporter": "python",
   "pygments_lexer": "ipython3",
   "version": "3.13.7"
  }
 },
 "nbformat": 4,
 "nbformat_minor": 5
}
