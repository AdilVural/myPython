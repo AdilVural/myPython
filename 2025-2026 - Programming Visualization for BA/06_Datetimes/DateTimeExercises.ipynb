{
 "cells": [
  {
   "cell_type": "markdown",
   "id": "a117ab77",
   "metadata": {},
   "source": [
    "## Execise 1: Transforming strings into dates\n",
    "\n",
    "### Prerequisites\n",
    "1. Load in the flightsttimes dataset.\n",
    "2. Transform the following columns to datetime: dep_time, sched_dep_time, arr_time, sched_arr_time,"
   ]
  },
  {
   "cell_type": "code",
   "execution_count": null,
   "id": "486b061e",
   "metadata": {},
   "outputs": [],
   "source": [
    "import pandas as pd\n",
    "flights = pd.read_csv(\"flighttimes.csv\")\n"
   ]
  },
  {
   "cell_type": "markdown",
   "id": "9bff1e3b",
   "metadata": {},
   "source": [
    "#### A. Create a new column \"dep_delay\" containing the difference in minutes between the scheduled departure and the actual departure."
   ]
  },
  {
   "cell_type": "code",
   "execution_count": null,
   "id": "4f1c2fb5",
   "metadata": {},
   "outputs": [],
   "source": []
  },
  {
   "cell_type": "markdown",
   "id": "35ef76a0",
   "metadata": {},
   "source": [
    "#### B. What is the average dep_delay for flights leaving from LGA?\n"
   ]
  },
  {
   "cell_type": "code",
   "execution_count": null,
   "id": "0a04e47d",
   "metadata": {},
   "outputs": [],
   "source": []
  },
  {
   "cell_type": "markdown",
   "id": "83332f8d",
   "metadata": {},
   "source": [
    "#### C. Compute the average dep_delay for each carrier in the dataset."
   ]
  },
  {
   "cell_type": "code",
   "execution_count": null,
   "id": "27792eaa",
   "metadata": {},
   "outputs": [],
   "source": []
  },
  {
   "cell_type": "markdown",
   "id": "9e090d05",
   "metadata": {},
   "source": [
    "#### D. For flights longer than 1000 km (distance), calculate:\n",
    "\n",
    "1. The actual air time (arr_time - dep_time)\n",
    "\n",
    "2. The planned air time (sched_arr_time - sched_dep_time)\n",
    "\n",
    "3. Compare the average between the two: what do you notice about actual vs scheduled flight times?"
   ]
  },
  {
   "cell_type": "code",
   "execution_count": null,
   "id": "84b92d4b",
   "metadata": {},
   "outputs": [],
   "source": []
  },
  {
   "cell_type": "markdown",
   "id": "745c8cb6",
   "metadata": {},
   "source": [
    "#### E. Calculate the average departure delay (dep_delay) for each destination airport. Are there airports that consistently have longer delays?"
   ]
  },
  {
   "cell_type": "code",
   "execution_count": null,
   "id": "63aac2bd",
   "metadata": {},
   "outputs": [],
   "source": []
  },
  {
   "cell_type": "markdown",
   "id": "e9cfbe7d",
   "metadata": {},
   "source": [
    "## Exercise 2: Errors\n",
    "\n",
    "This code has several bugs - can you find and fix them?"
   ]
  },
  {
   "cell_type": "code",
   "execution_count": 25,
   "id": "9036a03c",
   "metadata": {},
   "outputs": [
    {
     "ename": "SyntaxError",
     "evalue": "invalid syntax. Perhaps you forgot a comma? (1190776874.py, line 15)",
     "output_type": "error",
     "traceback": [
      "  \u001b[36mCell\u001b[39m\u001b[36m \u001b[39m\u001b[32mIn[25]\u001b[39m\u001b[32m, line 15\u001b[39m\n\u001b[31m    \u001b[39m\u001b[31mprint(\"Top 3 worst airports for delays:\" avg_delays.head(3))\u001b[39m\n          ^\n\u001b[31mSyntaxError\u001b[39m\u001b[31m:\u001b[39m invalid syntax. Perhaps you forgot a comma?\n"
     ]
    }
   ],
   "source": [
    "# Calculate the average departure delay for each destination airport and show the top 3 worst airports.\n",
    "# This code has several bugs - can you find and fix them?\n",
    "import pandas as pd\n",
    "\n",
    "# Load data \n",
    "flights2 = pandas.read_excel(\"data/flighttimes.csv\")\n",
    "\n",
    "# Calculate departure delay in minutes\n",
    "flights2 = flights2.assign(dep_delay=(flights2[\"dep_time\"] - flights2[\"sched_dep_time\"]).dt.total_seconds() / 60)\n",
    "\n",
    "# Group by destination and calculate average delay\n",
    "avg_delays = flights2.groupby(\"destination\")[\"dep_delay\"].mean().sort_values(ascending=True)\n",
    "\n",
    "# Show top 3 worst airports\n",
    "print(\"Top 3 worst airports for delays:\" avg_delays.head(3))"
   ]
  }
 ],
 "metadata": {
  "kernelspec": {
   "display_name": "Python 3",
   "language": "python",
   "name": "python3"
  },
  "language_info": {
   "codemirror_mode": {
    "name": "ipython",
    "version": 3
   },
   "file_extension": ".py",
   "mimetype": "text/x-python",
   "name": "python",
   "nbconvert_exporter": "python",
   "pygments_lexer": "ipython3",
   "version": "3.12.5"
  }
 },
 "nbformat": 4,
 "nbformat_minor": 5
}
