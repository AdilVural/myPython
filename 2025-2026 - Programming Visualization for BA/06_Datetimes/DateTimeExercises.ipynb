{
 "cells": [
  {
   "cell_type": "markdown",
   "id": "a117ab77",
   "metadata": {},
   "source": [
    "## Execise 1: Transforming strings into dates\n",
    "\n",
    "### Prerequisites\n",
    "1. Load in the flightsttimes dataset.\n",
    "2. Transform the following columns to datetime: dep_time, sched_dep_time, arr_time, sched_arr_time,"
   ]
  },
  {
   "cell_type": "code",
   "execution_count": 7,
   "id": "486b061e",
   "metadata": {},
   "outputs": [],
   "source": [
    "import pandas as pd\n",
    "flights = pd.read_csv(\"flighttimes.csv\")\n"
   ]
  },
  {
   "cell_type": "markdown",
   "id": "9bff1e3b",
   "metadata": {},
   "source": [
    "#### A. Create a new column \"dep_delay\" containing the difference in minutes between the scheduled departure and the actual departure."
   ]
  },
  {
   "cell_type": "code",
   "execution_count": 16,
   "id": "2594c670",
   "metadata": {},
   "outputs": [
    {
     "data": {
      "text/plain": [
       "0        2013-01-01 05:15:00\n",
       "1        2013-01-01 05:29:00\n",
       "2        2013-01-01 05:40:00\n",
       "3        2013-01-01 05:45:00\n",
       "4        2013-01-01 06:00:00\n",
       "                 ...        \n",
       "336771   2013-09-30 14:55:00\n",
       "336772   2013-09-30 22:00:00\n",
       "336773   2013-09-30 12:10:00\n",
       "336774   2013-09-30 11:59:00\n",
       "336775   2013-09-30 08:40:00\n",
       "Name: sched_dep_time, Length: 336776, dtype: datetime64[ns]"
      ]
     },
     "execution_count": 16,
     "metadata": {},
     "output_type": "execute_result"
    }
   ],
   "source": [
    "import pandas as pd\n",
    "# Voorbeeld DataFrame 'flights' aanmaken (indien nodig)\n",
    "# flights = pd.DataFrame({\n",
    "#     'dep_time': [1200, 1330, None],\n",
    "#     'sched_dep_time': [1215, 1345, None]\n",
    "# })\n",
    "# Zorg ervoor dat de datatypes correct zijn\n",
    "# Convert columns to datetime\n",
    "flights['dep_time'] = pd.to_datetime(flights['dep_time'], errors='coerce')\n",
    "flights['sched_dep_time'] = pd.to_datetime(flights['sched_dep_time'], errors='coerce')\n",
    "\n",
    "flights['dep_time']\n",
    "flights['sched_dep_time']"
   ]
  },
  {
   "cell_type": "code",
   "execution_count": 18,
   "id": "d64b3ed8",
   "metadata": {},
   "outputs": [
    {
     "name": "stdout",
     "output_type": "stream",
     "text": [
      "                  dep_time      sched_dep_time  dep_delay\n",
      "0      2013-01-01 05:17:00 2013-01-01 05:15:00        2.0\n",
      "1      2013-01-01 05:33:00 2013-01-01 05:29:00        4.0\n",
      "2      2013-01-01 05:42:00 2013-01-01 05:40:00        2.0\n",
      "3      2013-01-01 05:44:00 2013-01-01 05:45:00       -1.0\n",
      "4      2013-01-01 05:54:00 2013-01-01 06:00:00       -6.0\n",
      "...                    ...                 ...        ...\n",
      "336771                 NaT 2013-09-30 14:55:00        NaN\n",
      "336772                 NaT 2013-09-30 22:00:00        NaN\n",
      "336773                 NaT 2013-09-30 12:10:00        NaN\n",
      "336774                 NaT 2013-09-30 11:59:00        NaN\n",
      "336775                 NaT 2013-09-30 08:40:00        NaN\n",
      "\n",
      "[336776 rows x 3 columns]\n"
     ]
    }
   ],
   "source": [
    "# Nieuwe kolom 'dep_delay' toevoegen (difference in minutes)\n",
    "flights = flights.assign(\n",
    "    dep_delay=lambda x: (\n",
    "        (x['dep_time'] - x['sched_dep_time']).dt.total_seconds() / 60\n",
    "    )\n",
    ")\n",
    "\n",
    "# Optioneel: Laat de nieuwe DataFrame zien met 'dep_delay'\n",
    "#print(flights)\n",
    "# Laat alleen de drie gewenste kolommen zien\n",
    "result = flights[['dep_time', 'sched_dep_time', 'dep_delay']]\n",
    "# Toon het resultaat\n",
    "print(result)"
   ]
  },
  {
   "cell_type": "markdown",
   "id": "35ef76a0",
   "metadata": {},
   "source": [
    "#### B. What is the average dep_delay for flights leaving from LGA?\n"
   ]
  },
  {
   "cell_type": "code",
   "execution_count": 23,
   "id": "0a04e47d",
   "metadata": {},
   "outputs": [
    {
     "data": {
      "text/plain": [
       "0         2.0\n",
       "1         4.0\n",
       "2         2.0\n",
       "3        -1.0\n",
       "4        -6.0\n",
       "         ... \n",
       "336771    NaN\n",
       "336772    NaN\n",
       "336773    NaN\n",
       "336774    NaN\n",
       "336775    NaN\n",
       "Name: dep_delay, Length: 336776, dtype: float64"
      ]
     },
     "execution_count": 23,
     "metadata": {},
     "output_type": "execute_result"
    }
   ],
   "source": [
    "# Zorg ervoor dat de datatypes correct zijn voor dep_delay\n",
    "flights['dep_delay'] = flights['dep_delay'].astype(float)\n",
    "flights['dep_delay']"
   ]
  },
  {
   "cell_type": "code",
   "execution_count": null,
   "id": "02ff2ee3",
   "metadata": {},
   "outputs": [
    {
     "data": {
      "text/html": [
       "<div>\n",
       "<style scoped>\n",
       "    .dataframe tbody tr th:only-of-type {\n",
       "        vertical-align: middle;\n",
       "    }\n",
       "\n",
       "    .dataframe tbody tr th {\n",
       "        vertical-align: top;\n",
       "    }\n",
       "\n",
       "    .dataframe thead th {\n",
       "        text-align: right;\n",
       "    }\n",
       "</style>\n",
       "<table border=\"1\" class=\"dataframe\">\n",
       "  <thead>\n",
       "    <tr style=\"text-align: right;\">\n",
       "      <th></th>\n",
       "      <th>dep_time</th>\n",
       "      <th>sched_dep_time</th>\n",
       "      <th>arr_time</th>\n",
       "      <th>sched_arr_time</th>\n",
       "      <th>carrier</th>\n",
       "      <th>flight</th>\n",
       "      <th>tailnum</th>\n",
       "      <th>origin</th>\n",
       "      <th>dest</th>\n",
       "      <th>distance</th>\n",
       "      <th>origin_lat</th>\n",
       "      <th>origin_long</th>\n",
       "      <th>dest_lat</th>\n",
       "      <th>dest_long</th>\n",
       "      <th>dep_delay</th>\n",
       "    </tr>\n",
       "  </thead>\n",
       "  <tbody>\n",
       "    <tr>\n",
       "      <th>1</th>\n",
       "      <td>2013-01-01 05:33:00</td>\n",
       "      <td>2013-01-01 05:29:00</td>\n",
       "      <td>2013-01-01 08:50</td>\n",
       "      <td>2013-01-01 08:30</td>\n",
       "      <td>UA</td>\n",
       "      <td>1714</td>\n",
       "      <td>N24211</td>\n",
       "      <td>LGA</td>\n",
       "      <td>IAH</td>\n",
       "      <td>1416</td>\n",
       "      <td>40.777243</td>\n",
       "      <td>-73.872609</td>\n",
       "      <td>29.980472</td>\n",
       "      <td>-95.339722</td>\n",
       "      <td>4.0</td>\n",
       "    </tr>\n",
       "    <tr>\n",
       "      <th>4</th>\n",
       "      <td>2013-01-01 05:54:00</td>\n",
       "      <td>2013-01-01 06:00:00</td>\n",
       "      <td>2013-01-01 08:12</td>\n",
       "      <td>2013-01-01 08:37</td>\n",
       "      <td>DL</td>\n",
       "      <td>461</td>\n",
       "      <td>N668DN</td>\n",
       "      <td>LGA</td>\n",
       "      <td>ATL</td>\n",
       "      <td>762</td>\n",
       "      <td>40.777243</td>\n",
       "      <td>-73.872609</td>\n",
       "      <td>33.640444</td>\n",
       "      <td>-84.426944</td>\n",
       "      <td>-6.0</td>\n",
       "    </tr>\n",
       "    <tr>\n",
       "      <th>7</th>\n",
       "      <td>2013-01-01 05:57:00</td>\n",
       "      <td>2013-01-01 06:00:00</td>\n",
       "      <td>2013-01-01 07:09</td>\n",
       "      <td>2013-01-01 07:23</td>\n",
       "      <td>EV</td>\n",
       "      <td>5708</td>\n",
       "      <td>N829AS</td>\n",
       "      <td>LGA</td>\n",
       "      <td>IAD</td>\n",
       "      <td>229</td>\n",
       "      <td>40.777243</td>\n",
       "      <td>-73.872609</td>\n",
       "      <td>38.944532</td>\n",
       "      <td>-77.455810</td>\n",
       "      <td>-3.0</td>\n",
       "    </tr>\n",
       "    <tr>\n",
       "      <th>9</th>\n",
       "      <td>2013-01-01 05:58:00</td>\n",
       "      <td>2013-01-01 06:00:00</td>\n",
       "      <td>2013-01-01 07:53</td>\n",
       "      <td>2013-01-01 07:45</td>\n",
       "      <td>AA</td>\n",
       "      <td>301</td>\n",
       "      <td>N3ALAA</td>\n",
       "      <td>LGA</td>\n",
       "      <td>ORD</td>\n",
       "      <td>733</td>\n",
       "      <td>40.777243</td>\n",
       "      <td>-73.872609</td>\n",
       "      <td>41.979595</td>\n",
       "      <td>-87.904464</td>\n",
       "      <td>-2.0</td>\n",
       "    </tr>\n",
       "    <tr>\n",
       "      <th>14</th>\n",
       "      <td>2013-01-01 05:59:00</td>\n",
       "      <td>2013-01-01 06:00:00</td>\n",
       "      <td>2013-01-01 09:41</td>\n",
       "      <td>2013-01-01 09:10</td>\n",
       "      <td>AA</td>\n",
       "      <td>707</td>\n",
       "      <td>N3DUAA</td>\n",
       "      <td>LGA</td>\n",
       "      <td>DFW</td>\n",
       "      <td>1389</td>\n",
       "      <td>40.777243</td>\n",
       "      <td>-73.872609</td>\n",
       "      <td>32.895951</td>\n",
       "      <td>-97.037200</td>\n",
       "      <td>-1.0</td>\n",
       "    </tr>\n",
       "    <tr>\n",
       "      <th>...</th>\n",
       "      <td>...</td>\n",
       "      <td>...</td>\n",
       "      <td>...</td>\n",
       "      <td>...</td>\n",
       "      <td>...</td>\n",
       "      <td>...</td>\n",
       "      <td>...</td>\n",
       "      <td>...</td>\n",
       "      <td>...</td>\n",
       "      <td>...</td>\n",
       "      <td>...</td>\n",
       "      <td>...</td>\n",
       "      <td>...</td>\n",
       "      <td>...</td>\n",
       "      <td>...</td>\n",
       "    </tr>\n",
       "    <tr>\n",
       "      <th>336770</th>\n",
       "      <td>NaT</td>\n",
       "      <td>2013-09-30 18:42:00</td>\n",
       "      <td>NaN</td>\n",
       "      <td>2013-09-30 20:19</td>\n",
       "      <td>EV</td>\n",
       "      <td>5274</td>\n",
       "      <td>N740EV</td>\n",
       "      <td>LGA</td>\n",
       "      <td>BNA</td>\n",
       "      <td>764</td>\n",
       "      <td>40.777243</td>\n",
       "      <td>-73.872609</td>\n",
       "      <td>36.124477</td>\n",
       "      <td>-86.678182</td>\n",
       "      <td>NaN</td>\n",
       "    </tr>\n",
       "    <tr>\n",
       "      <th>336772</th>\n",
       "      <td>NaT</td>\n",
       "      <td>2013-09-30 22:00:00</td>\n",
       "      <td>NaN</td>\n",
       "      <td>2013-09-30 23:12</td>\n",
       "      <td>9E</td>\n",
       "      <td>3525</td>\n",
       "      <td>NaN</td>\n",
       "      <td>LGA</td>\n",
       "      <td>SYR</td>\n",
       "      <td>198</td>\n",
       "      <td>40.777243</td>\n",
       "      <td>-73.872609</td>\n",
       "      <td>43.111187</td>\n",
       "      <td>-76.106311</td>\n",
       "      <td>NaN</td>\n",
       "    </tr>\n",
       "    <tr>\n",
       "      <th>336773</th>\n",
       "      <td>NaT</td>\n",
       "      <td>2013-09-30 12:10:00</td>\n",
       "      <td>NaN</td>\n",
       "      <td>2013-09-30 13:30</td>\n",
       "      <td>MQ</td>\n",
       "      <td>3461</td>\n",
       "      <td>N535MQ</td>\n",
       "      <td>LGA</td>\n",
       "      <td>BNA</td>\n",
       "      <td>764</td>\n",
       "      <td>40.777243</td>\n",
       "      <td>-73.872609</td>\n",
       "      <td>36.124477</td>\n",
       "      <td>-86.678182</td>\n",
       "      <td>NaN</td>\n",
       "    </tr>\n",
       "    <tr>\n",
       "      <th>336774</th>\n",
       "      <td>NaT</td>\n",
       "      <td>2013-09-30 11:59:00</td>\n",
       "      <td>NaN</td>\n",
       "      <td>2013-09-30 13:44</td>\n",
       "      <td>MQ</td>\n",
       "      <td>3572</td>\n",
       "      <td>N511MQ</td>\n",
       "      <td>LGA</td>\n",
       "      <td>CLE</td>\n",
       "      <td>419</td>\n",
       "      <td>40.777243</td>\n",
       "      <td>-73.872609</td>\n",
       "      <td>41.410894</td>\n",
       "      <td>-81.849397</td>\n",
       "      <td>NaN</td>\n",
       "    </tr>\n",
       "    <tr>\n",
       "      <th>336775</th>\n",
       "      <td>NaT</td>\n",
       "      <td>2013-09-30 08:40:00</td>\n",
       "      <td>NaN</td>\n",
       "      <td>2013-09-30 10:20</td>\n",
       "      <td>MQ</td>\n",
       "      <td>3531</td>\n",
       "      <td>N839MQ</td>\n",
       "      <td>LGA</td>\n",
       "      <td>RDU</td>\n",
       "      <td>431</td>\n",
       "      <td>40.777243</td>\n",
       "      <td>-73.872609</td>\n",
       "      <td>35.877639</td>\n",
       "      <td>-78.787472</td>\n",
       "      <td>NaN</td>\n",
       "    </tr>\n",
       "  </tbody>\n",
       "</table>\n",
       "<p>104662 rows × 15 columns</p>\n",
       "</div>"
      ],
      "text/plain": [
       "                  dep_time      sched_dep_time          arr_time  \\\n",
       "1      2013-01-01 05:33:00 2013-01-01 05:29:00  2013-01-01 08:50   \n",
       "4      2013-01-01 05:54:00 2013-01-01 06:00:00  2013-01-01 08:12   \n",
       "7      2013-01-01 05:57:00 2013-01-01 06:00:00  2013-01-01 07:09   \n",
       "9      2013-01-01 05:58:00 2013-01-01 06:00:00  2013-01-01 07:53   \n",
       "14     2013-01-01 05:59:00 2013-01-01 06:00:00  2013-01-01 09:41   \n",
       "...                    ...                 ...               ...   \n",
       "336770                 NaT 2013-09-30 18:42:00               NaN   \n",
       "336772                 NaT 2013-09-30 22:00:00               NaN   \n",
       "336773                 NaT 2013-09-30 12:10:00               NaN   \n",
       "336774                 NaT 2013-09-30 11:59:00               NaN   \n",
       "336775                 NaT 2013-09-30 08:40:00               NaN   \n",
       "\n",
       "          sched_arr_time carrier  flight tailnum origin dest  distance  \\\n",
       "1       2013-01-01 08:30      UA    1714  N24211    LGA  IAH      1416   \n",
       "4       2013-01-01 08:37      DL     461  N668DN    LGA  ATL       762   \n",
       "7       2013-01-01 07:23      EV    5708  N829AS    LGA  IAD       229   \n",
       "9       2013-01-01 07:45      AA     301  N3ALAA    LGA  ORD       733   \n",
       "14      2013-01-01 09:10      AA     707  N3DUAA    LGA  DFW      1389   \n",
       "...                  ...     ...     ...     ...    ...  ...       ...   \n",
       "336770  2013-09-30 20:19      EV    5274  N740EV    LGA  BNA       764   \n",
       "336772  2013-09-30 23:12      9E    3525     NaN    LGA  SYR       198   \n",
       "336773  2013-09-30 13:30      MQ    3461  N535MQ    LGA  BNA       764   \n",
       "336774  2013-09-30 13:44      MQ    3572  N511MQ    LGA  CLE       419   \n",
       "336775  2013-09-30 10:20      MQ    3531  N839MQ    LGA  RDU       431   \n",
       "\n",
       "        origin_lat  origin_long   dest_lat  dest_long  dep_delay  \n",
       "1        40.777243   -73.872609  29.980472 -95.339722        4.0  \n",
       "4        40.777243   -73.872609  33.640444 -84.426944       -6.0  \n",
       "7        40.777243   -73.872609  38.944532 -77.455810       -3.0  \n",
       "9        40.777243   -73.872609  41.979595 -87.904464       -2.0  \n",
       "14       40.777243   -73.872609  32.895951 -97.037200       -1.0  \n",
       "...            ...          ...        ...        ...        ...  \n",
       "336770   40.777243   -73.872609  36.124477 -86.678182        NaN  \n",
       "336772   40.777243   -73.872609  43.111187 -76.106311        NaN  \n",
       "336773   40.777243   -73.872609  36.124477 -86.678182        NaN  \n",
       "336774   40.777243   -73.872609  41.410894 -81.849397        NaN  \n",
       "336775   40.777243   -73.872609  35.877639 -78.787472        NaN  \n",
       "\n",
       "[104662 rows x 15 columns]"
      ]
     },
     "execution_count": 21,
     "metadata": {},
     "output_type": "execute_result"
    }
   ],
   "source": [
    "# Filter de DataFrame voor vluchten van LGA\n",
    "lga_flights = flights[flights['origin'] == 'LGA']\n",
    "lga_flights"
   ]
  },
  {
   "cell_type": "code",
   "execution_count": 22,
   "id": "81916200",
   "metadata": {},
   "outputs": [
    {
     "name": "stdout",
     "output_type": "stream",
     "text": [
      "Average dep_delay for flights leaving from LGA: 10.3468756464944\n"
     ]
    }
   ],
   "source": [
    "# Bereken de gemiddelde dep_delay voor LGA-vluchten\n",
    "average_dep_delay = lga_flights['dep_delay'].mean()\n",
    "\n",
    "# Toon het resultaat\n",
    "print(f\"Average dep_delay for flights leaving from LGA: {average_dep_delay}\")"
   ]
  },
  {
   "cell_type": "markdown",
   "id": "83332f8d",
   "metadata": {},
   "source": [
    "#### C. Compute the average dep_delay for each carrier in the dataset."
   ]
  },
  {
   "cell_type": "code",
   "execution_count": 44,
   "id": "27792eaa",
   "metadata": {},
   "outputs": [
    {
     "name": "stdout",
     "output_type": "stream",
     "text": [
      "   carrier  average_dep_delay\n",
      "0       9E          16.725769\n",
      "1       AA           8.586016\n",
      "2       AS           5.804775\n",
      "3       B6          13.022522\n",
      "4       DL           9.264505\n",
      "5       EV          19.955390\n",
      "6       F9          20.215543\n",
      "7       FL          18.726075\n",
      "8       HA           4.900585\n",
      "9       MQ          10.552041\n",
      "10      OO          12.586207\n",
      "11      UA          12.106073\n",
      "12      US           3.782418\n",
      "13      VX          12.869421\n",
      "14      WN          17.711744\n",
      "15      YV          18.996330\n"
     ]
    }
   ],
   "source": [
    "# Zorg ervoor dat de dep_delay kolom de juiste datatype heeft\n",
    "flights['dep_delay'] = flights['dep_delay'].astype(float)\n",
    "\n",
    "# Groeperen op carrier en gemiddelde dep_delay berekenen\n",
    "average_dep_delay_per_carrier = flights.groupby('carrier')['dep_delay'].mean().reset_index() \n",
    "\n",
    "# Optioneel: Het resultaat een nieuwe naam geven\n",
    "average_dep_delay_per_carrier.columns = ['carrier', 'average_dep_delay']\n",
    "\n",
    "# Toon het resultaat\n",
    "print(average_dep_delay_per_carrier)"
   ]
  },
  {
   "cell_type": "markdown",
   "id": "9e090d05",
   "metadata": {},
   "source": [
    "#### D. For flights longer than 1000 km (distance), calculate:\n",
    "\n",
    "1. The actual air time (arr_time - dep_time)\n",
    "\n",
    "2. The planned air time (sched_arr_time - sched_dep_time)\n",
    "\n",
    "3. Compare the average between the two: what do you notice about actual vs scheduled flight times?"
   ]
  },
  {
   "cell_type": "code",
   "execution_count": 47,
   "id": "84b92d4b",
   "metadata": {},
   "outputs": [
    {
     "data": {
      "text/plain": [
       "0         0.0\n",
       "1         0.0\n",
       "2         0.0\n",
       "3         0.0\n",
       "4         0.0\n",
       "         ... \n",
       "336771    0.0\n",
       "336772    0.0\n",
       "336773    0.0\n",
       "336774    0.0\n",
       "336775    0.0\n",
       "Name: actual_air_time, Length: 336776, dtype: float64"
      ]
     },
     "execution_count": 47,
     "metadata": {},
     "output_type": "execute_result"
    }
   ],
   "source": [
    "# Zorg ervoor dat de tijdsformaten correct zijn: hier gaan we ervan uit dat ze integer zijn (bijv. 1200 is 12:00)\n",
    "# Zet arr_time en dep_time om naar integers (indien mogelijk)\n",
    "flights['arr_time_int'] = pd.to_numeric(flights['arr_time'], errors='coerce')\n",
    "flights['dep_time_int'] = pd.to_numeric(flights['dep_time'], errors='coerce')\n",
    "\n",
    "# Bereken de werkelijke vliegtijd\n",
    "flights['actual_air_time'] = (\n",
    "    (flights['arr_time_int'] // 100) * 60 + (flights['arr_time_int'] % 100) -\n",
    "    ((flights['dep_time_int'] // 100) * 60 + (flights['dep_time_int'] % 100))\n",
    ")\n",
    "\n",
    "flights['actual_air_time'] = flights['actual_air_time'].astype(float)\n",
    "flights['actual_air_time'] = flights['actual_air_time'].fillna(0)\n",
    "flights['actual_air_time']\n"
   ]
  },
  {
   "cell_type": "code",
   "execution_count": 38,
   "id": "c6843379",
   "metadata": {},
   "outputs": [],
   "source": [
    "# Zet sched_arr_time en sched_dep_time om naar integers (indien nodig)\n",
    "flights['sched_arr_time_int'] = pd.to_numeric(flights['sched_arr_time'], errors='coerce')\n",
    "flights['sched_dep_time_int'] = pd.to_numeric(flights['sched_dep_time'], errors='coerce')\n",
    "\n",
    "# Bereken de geplande vliegtijd\n",
    "flights['planned_air_time'] = (\n",
    "    (flights['sched_arr_time_int'] // 100) * 60 + (flights['sched_arr_time_int'] % 100) -\n",
    "    ((flights['sched_dep_time_int'] // 100) * 60 + (flights['sched_dep_time_int'] % 100))\n",
    ")"
   ]
  },
  {
   "cell_type": "code",
   "execution_count": 41,
   "id": "1cfd9220",
   "metadata": {},
   "outputs": [],
   "source": [
    "# Filter op afstand groter dan 1000 km\n",
    "long_flights = flights[flights['distance'] > 1000]\n"
   ]
  },
  {
   "cell_type": "code",
   "execution_count": 42,
   "id": "ccaf85f4",
   "metadata": {},
   "outputs": [
    {
     "name": "stdout",
     "output_type": "stream",
     "text": [
      "Average actual air time for flights over 1000 km: nan minutes\n",
      "Average planned air time for flights over 1000 km: nan minutes\n"
     ]
    }
   ],
   "source": [
    "# Bereken gemiddelde van de werkelijke en geplande vliegtijd\n",
    "average_actual_air_time = long_flights['actual_air_time'].mean()\n",
    "average_planned_air_time = long_flights['planned_air_time'].mean()\n",
    "print(f\"Average actual air time for flights over 1000 km: {average_actual_air_time} minutes\")\n",
    "print(f\"Average planned air time for flights over 1000 km: {average_planned_air_time} minutes\")"
   ]
  },
  {
   "cell_type": "code",
   "execution_count": 43,
   "id": "3a80380d",
   "metadata": {},
   "outputs": [
    {
     "name": "stdout",
     "output_type": "stream",
     "text": [
      "Average Actual Air Time (min): nan\n",
      "Average Planned Air Time (min): nan\n",
      "Conclusion: Flights are on time with the schedule.\n"
     ]
    }
   ],
   "source": [
    "# Toon de resultaten\n",
    "print(f\"Average Actual Air Time (min): {average_actual_air_time}\")\n",
    "print(f\"Average Planned Air Time (min): {average_planned_air_time}\")\n",
    "# Vergelijk de twee gemiddelden\n",
    "if average_actual_air_time > average_planned_air_time:\n",
    "    conclusion = \"Flights are taking longer than scheduled.\"\n",
    "elif average_actual_air_time < average_planned_air_time:\n",
    "    conclusion = \"Flights are taking shorter than scheduled.\"\n",
    "else:\n",
    "    conclusion = \"Flights are on time with the schedule.\"\n",
    "print(\"Conclusion:\", conclusion)"
   ]
  },
  {
   "cell_type": "markdown",
   "id": "745c8cb6",
   "metadata": {},
   "source": [
    "#### E. Calculate the average departure delay (dep_delay) for each destination airport. Are there airports that consistently have longer delays?"
   ]
  },
  {
   "cell_type": "code",
   "execution_count": null,
   "id": "63aac2bd",
   "metadata": {},
   "outputs": [],
   "source": []
  },
  {
   "cell_type": "markdown",
   "id": "e9cfbe7d",
   "metadata": {},
   "source": [
    "## Exercise 2: Errors\n",
    "\n",
    "This code has several bugs - can you find and fix them?"
   ]
  },
  {
   "cell_type": "code",
   "execution_count": 58,
   "id": "9036a03c",
   "metadata": {},
   "outputs": [
    {
     "name": "stdout",
     "output_type": "stream",
     "text": [
      "Top 3 worst airports for delays: dest\n",
      "CAE    35.570093\n",
      "TUL    34.906355\n",
      "OKC    30.568807\n",
      "Name: dep_delay, dtype: float64\n"
     ]
    }
   ],
   "source": [
    "# Calculate the average departure delay for each destination airport and show the top 3 worst airports.\n",
    "# This code has several bugs - can you find and fix them?\n",
    "# Use the already loaded 'flights' DataFrame\n",
    "\n",
    "# Calculate average departure delay for each destination airport and show the top 3 worst airports\n",
    "avg_delays = flights.groupby(\"dest\")[\"dep_delay\"].mean().sort_values(ascending=False)\n",
    "\n",
    "# Show top 3 worst airports\n",
    "print(\"Top 3 worst airports for delays:\", avg_delays.head(3))"
   ]
  }
 ],
 "metadata": {
  "kernelspec": {
   "display_name": "Python 3",
   "language": "python",
   "name": "python3"
  },
  "language_info": {
   "codemirror_mode": {
    "name": "ipython",
    "version": 3
   },
   "file_extension": ".py",
   "mimetype": "text/x-python",
   "name": "python",
   "nbconvert_exporter": "python",
   "pygments_lexer": "ipython3",
   "version": "3.13.7"
  }
 },
 "nbformat": 4,
 "nbformat_minor": 5
}
