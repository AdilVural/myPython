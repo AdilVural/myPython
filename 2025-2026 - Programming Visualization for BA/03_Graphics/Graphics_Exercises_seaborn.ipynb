{
 "cells": [
  {
   "cell_type": "markdown",
   "id": "94889f04",
   "metadata": {},
   "source": [
    "# Getting started with graphics: Exercises\n",
    "\n",
    "---\n",
    "Erasmus Q-Intelligence B.V.\n",
    "\n",
    "---\n",
    "\n",
    "Below is a set of exercises. For every question, an empty code cell is provided where you can add your code that serves as an answer to the question. If there are additional questions regarding interpreting what you see, you can do so by adding comments (start with `#`), or adding a *Markdown* cell below or above the *Code* cell, and providing your findings there."
   ]
  },
  {
   "cell_type": "markdown",
   "id": "0d97e18c",
   "metadata": {},
   "source": [
    "## Exercise 1.1 (Data loading and exploration)\n",
    "\n",
    "Download the data of cars in the file\n",
    "`mtcars.csv` from Canvas by saving it directly to disk. Store it in an appropriate folder.\n",
    "\n",
    "The data was extracted from the 1974 Motor Trend US magazine, and comprises fuel consumption and 10 aspects of automobile design and performance for 32 automobiles (1973–74 models).\n",
    "\n",
    "**mpg**\tMiles/(US) gallon\n",
    "\n",
    "**cyl**\tNumber of cylinders\n",
    "\n",
    "**disp**\tDisplacement (cu.in.)\n",
    "\n",
    "**hp**\tGross horsepower\n",
    "\n",
    "**drat**\tRear axle ratio\n",
    "\n",
    "**wt**\tWeight (1000 lbs)\n",
    "\n",
    "**qsec**\t1/4 mile time\n",
    "\n",
    "**vs**\tEngine (0 = V-shaped, 1 = straight)\n",
    "\n",
    "**am**\tTransmission (0 = automatic, 1 = manual)\n",
    "\n",
    "**gear**\tNumber of forward gears\n",
    "\n",
    "**carb**\tNumber of carburetors\n"
   ]
  },
  {
   "cell_type": "markdown",
   "id": "dcd2040d",
   "metadata": {},
   "source": [
    "### a\n",
    "Load the `mtcars.csv` file into the notebook and name it `mtcars`. Hint: import pandas."
   ]
  },
  {
   "cell_type": "code",
   "execution_count": null,
   "id": "297c0d32",
   "metadata": {},
   "outputs": [],
   "source": []
  },
  {
   "cell_type": "markdown",
   "id": "04566e82",
   "metadata": {},
   "source": [
    "### b\n",
    "First produce a scatterplot of **wt** vs **hp**, then another scatterplot of **qsec** vs **hp**. \n",
    "Make the first one using seaborn and the second one using pandas. \n",
    "\n",
    "Seaborne uses relplot to create scatterplots"
   ]
  },
  {
   "cell_type": "code",
   "execution_count": null,
   "id": "d3971bc9",
   "metadata": {},
   "outputs": [],
   "source": []
  },
  {
   "cell_type": "code",
   "execution_count": null,
   "id": "6bdf2d6b",
   "metadata": {},
   "outputs": [],
   "source": []
  },
  {
   "cell_type": "markdown",
   "id": "afafdc38",
   "metadata": {},
   "source": [
    "### c\n",
    "Produce histograms of **gear** and **wt**. Play with the number of bins for the latter one to get a more complete picture of the distribution.\n"
   ]
  },
  {
   "cell_type": "code",
   "execution_count": null,
   "id": "7841183a",
   "metadata": {},
   "outputs": [],
   "source": []
  },
  {
   "cell_type": "markdown",
   "id": "e073d6e7",
   "metadata": {},
   "source": [
    "### d\n",
    "Produce a density plot of **wt**, do this both using pandas and using seaborn. \n",
    "\n",
    "Tips:\n",
    "1. pandas: .plot(kind='density')\n",
    "2. sns.displot - dont forget to give it a \"kind\" parameter as the default shows a hist-chart"
   ]
  },
  {
   "cell_type": "code",
   "execution_count": null,
   "id": "b9166272",
   "metadata": {},
   "outputs": [],
   "source": []
  },
  {
   "cell_type": "markdown",
   "id": "a1129c85",
   "metadata": {},
   "source": [
    "### e\n",
    "Produce a boxplot of **mpg** using seaborn. Do you find any outliers?"
   ]
  },
  {
   "cell_type": "code",
   "execution_count": null,
   "id": "fedf0425",
   "metadata": {},
   "outputs": [],
   "source": []
  },
  {
   "cell_type": "markdown",
   "id": "03745dcb",
   "metadata": {},
   "source": [
    "### f\n",
    "Produce conditional boxplots of **mpg** and **am**. What do you conclude?"
   ]
  },
  {
   "cell_type": "code",
   "execution_count": null,
   "id": "e7722523",
   "metadata": {},
   "outputs": [],
   "source": []
  },
  {
   "cell_type": "markdown",
   "id": "f07a0d6a",
   "metadata": {},
   "source": [
    "### g\n",
    "\n",
    "Produce barplots of **gear** and **carb**. Use both pandas as seaborn. \n",
    "When you look at the barplot of carb made using pandas, what is the drawback?\n",
    "\n",
    "Tips:\n",
    "1. Use .value_counts() for pandas charts\n",
    "2. Use countplot for sns"
   ]
  },
  {
   "cell_type": "code",
   "execution_count": null,
   "id": "8e0807ba",
   "metadata": {},
   "outputs": [],
   "source": []
  },
  {
   "cell_type": "code",
   "execution_count": null,
   "id": "45c75703",
   "metadata": {},
   "outputs": [],
   "source": []
  },
  {
   "cell_type": "code",
   "execution_count": null,
   "id": "98c94a6f",
   "metadata": {},
   "outputs": [],
   "source": []
  },
  {
   "cell_type": "code",
   "execution_count": null,
   "id": "afb9b499",
   "metadata": {},
   "outputs": [],
   "source": []
  }
 ],
 "metadata": {
  "kernelspec": {
   "display_name": "les3",
   "language": "python",
   "name": "python3"
  },
  "language_info": {
   "codemirror_mode": {
    "name": "ipython",
    "version": 3
   },
   "file_extension": ".py",
   "mimetype": "text/x-python",
   "name": "python",
   "nbconvert_exporter": "python",
   "pygments_lexer": "ipython3",
   "version": "3.13.5"
  }
 },
 "nbformat": 4,
 "nbformat_minor": 5
}
