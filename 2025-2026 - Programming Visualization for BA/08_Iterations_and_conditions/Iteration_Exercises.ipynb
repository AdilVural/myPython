{
 "cells": [
  {
   "cell_type": "markdown",
   "id": "682a12bd",
   "metadata": {},
   "source": [
    "# Erasmus Q-Intelligence\n",
    "## Programming\n",
    "### Iteration - Exercises \n",
    "\n",
    "### Exercise 1 – for and while"
   ]
  },
  {
   "cell_type": "markdown",
   "id": "947860d1",
   "metadata": {},
   "source": [
    "#### a \n",
    "Create a for loop that goes from 10 to 20 and print in each iteration the current\n",
    "number times 2."
   ]
  },
  {
   "cell_type": "code",
   "execution_count": null,
   "id": "acc6df64",
   "metadata": {},
   "outputs": [],
   "source": []
  },
  {
   "cell_type": "markdown",
   "id": "14b08c60",
   "metadata": {},
   "source": [
    "#### b\n",
    "Create a function with 2 input arguments (start_value and increment)\n",
    "- Create a while loop that starts at start_value and counts back to 0 in steps of\n",
    "increment\n",
    "- In each step, increment increases with +1\n",
    "- print the value at the start of each iteration"
   ]
  },
  {
   "cell_type": "code",
   "execution_count": null,
   "id": "16e9b197",
   "metadata": {},
   "outputs": [],
   "source": []
  },
  {
   "cell_type": "markdown",
   "id": "935be2ad",
   "metadata": {},
   "source": [
    "#### C\n",
    "\n",
    "Fibonacci is a series where each number is the sum of the previous two numbers.\n",
    "Starting with 0 and 1 (given), we get:\n",
    "0, 1, 1, 2, 3, 5, 8 ,13, 21 … et cetera\n",
    "Create a function which\n",
    "- given the input argument length\n",
    "- using a for loop\n",
    "creates a Fibonacci-series of  length.\n",
    "\n",
    "**Hint:** using [-1] and [-2] on a list always gets the last and 2nd last element\n",
    "\n",
    "\n",
    "What is the outcome when length is 10?\n",
    "\n"
   ]
  },
  {
   "cell_type": "code",
   "execution_count": null,
   "id": "a769d5d6",
   "metadata": {},
   "outputs": [],
   "source": []
  },
  {
   "cell_type": "markdown",
   "id": "37718dc5",
   "metadata": {},
   "source": [
    "#### D\n",
    "Create a function which\n",
    "- given the input argument max_value\n",
    "- using a while loop\n",
    "creates a Fibonacci-series for which all values are smaller than max_value.\n",
    "What is the outcome when max_value is 500?"
   ]
  },
  {
   "cell_type": "code",
   "execution_count": null,
   "id": "9196150d",
   "metadata": {},
   "outputs": [],
   "source": []
  },
  {
   "cell_type": "markdown",
   "id": "846dc883",
   "metadata": {},
   "source": [
    "### Exercise 2 - Conditions and Functions\n",
    "Write a function with input parameter a numeric value:\n",
    "• If it is positive, print “positive”\n",
    "• If negative, print “negative”\n",
    "• If 0, print “exactly 0”\n",
    "\n",
    "Try your function multiple times to see if the outcome is correct"
   ]
  },
  {
   "cell_type": "code",
   "execution_count": null,
   "id": "bef5b9fc",
   "metadata": {},
   "outputs": [],
   "source": []
  },
  {
   "cell_type": "markdown",
   "id": "90888864",
   "metadata": {},
   "source": [
    "### Exercise 3 - Iteration and Conditions\n",
    "\n",
    "#### A\n",
    "Write a loop that:\n",
    "- Prints numbers from 0 to 30 in steps of 3. So 0, 3, 6, ...\n",
    "- When it reaches the number 21, print 'Blackjack!' instead\n",
    "\n",
    "**Extra:**\n",
    "Modify the loop so that it stops as soon as the sum of the printed numbers is greater than 200."
   ]
  },
  {
   "cell_type": "code",
   "execution_count": null,
   "id": "d5d152aa",
   "metadata": {},
   "outputs": [],
   "source": []
  },
  {
   "cell_type": "code",
   "execution_count": null,
   "id": "9e262f78",
   "metadata": {},
   "outputs": [],
   "source": []
  },
  {
   "cell_type": "markdown",
   "id": "87b6e8e4",
   "metadata": {},
   "source": [
    "#### B\n",
    "Write a function that takes a list as input and does the following:\n",
    "\n",
    "If the list contains numbers, return the average (mean). np.mean()\n",
    "\n",
    "If the list contains words, return the most common word (the “mode”).\n",
    "(Hint: You can use statistics.mode() from Python’s statistics module for this).\n",
    "\n",
    "Give the function a short, clear name.\n",
    "\n",
    "\n",
    "**Example:**\n",
    "- Input: [1, 2, 3, 4, 5] → Output: 3.0 (average)\n",
    "- Input: ['apple', 'banana', 'apple', 'orange', 'apple'] → Output: 'apple' (most common)\n",
    "\n",
    "**Hint:** You can check if something is a number using `isinstance(<your_paramater_name>[0], (int, float))`"
   ]
  },
  {
   "cell_type": "code",
   "execution_count": null,
   "id": "43269edd",
   "metadata": {},
   "outputs": [],
   "source": [
    "import statistics\n",
    "import numpy as np\n"
   ]
  },
  {
   "cell_type": "markdown",
   "id": "68e92c7b",
   "metadata": {},
   "source": [
    "### C\n",
    "Use the animal_species.csv dataset to apply your function from **B** to all columns of the dataframe.\n",
    "\n",
    "**Steps:**\n",
    "1. Load the dataset\n",
    "2. Create an empty list called `results = []`\n",
    "3. Get the column names using `animal_species.columns`\n",
    "4. Use a for loop to iterate through each column name\n",
    "5. For each column, apply your function to `animal_species[column_name]` and get the result\n",
    "6. Append each result to your results list\n",
    "7. Print the final results list ([1, 7, 16, 1997, 12, 'DM', 'M', np.float64(29.287931802277498), np.float64(42.672428212991356), 'Dipodomys', 'merriami', 'Rodent', 'Control'])"
   ]
  },
  {
   "cell_type": "code",
   "execution_count": null,
   "id": "9cb656f2",
   "metadata": {},
   "outputs": [],
   "source": [
    "import pandas as pd\n",
    "animal_species = pd.read_csv('animal_species.csv')\n"
   ]
  },
  {
   "cell_type": "markdown",
   "id": "e3eccd58",
   "metadata": {},
   "source": [
    "#### Exercise 4 – Conditions within DataFrame\n",
    "\n",
    "### a \n",
    "\n",
    "Use the animal_species.csv data-set. Create a new column which divides the dataset into 5 groups based on weight:\n",
    "\n",
    "**Steps:**\n",
    "1. Calculate the 25%, 50%, and 75% quantiles of the weight column using `np.nanquantile()`\n",
    "2. Create an empty list called `weight_categories = []`\n",
    "3. Use a for loop to iterate through each weight value in `animal_species`\n",
    "4. For each weight value, use if/elif/else statements to determine which category it belongs to:\n",
    "   - 'missing' if the weight is missing (use `pd.isna()` to check)\n",
    "   - 'low' if weight is smaller than 25% quantile (qs[0])\n",
    "   - 'moderate' if weight is between 25% and 50% quantile (qs[1])\n",
    "   - 'high' if weight is between 50% and 75% quantile (qs[2])\n",
    "   - 'extreme' if weight is larger than 75% quantile\n",
    "5. Append each category to your `weight_categories` list\n",
    "6. Add the new column to the original dataset as `weight_cat`\n"
   ]
  },
  {
   "cell_type": "code",
   "execution_count": null,
   "id": "75fda551",
   "metadata": {},
   "outputs": [],
   "source": [
    "\n",
    "# Calculate quantiles\n",
    "qs = np.nanquantile(animal_species['weight'], [0.25, 0.5, 0.75])\n"
   ]
  },
  {
   "cell_type": "markdown",
   "id": "9e83f94a",
   "metadata": {},
   "source": [
    "### b\n",
    " Create a boxplot using the new grouping variable of a) to see the differences in\n",
    "distribution of hindfoot_length over the groups created in a)"
   ]
  },
  {
   "cell_type": "code",
   "execution_count": null,
   "id": "83e3575a",
   "metadata": {},
   "outputs": [],
   "source": [
    "\n",
    "import seaborn as sns\n"
   ]
  }
 ],
 "metadata": {
  "kernelspec": {
   "display_name": "base",
   "language": "python",
   "name": "python3"
  },
  "language_info": {
   "codemirror_mode": {
    "name": "ipython",
    "version": 3
   },
   "file_extension": ".py",
   "mimetype": "text/x-python",
   "name": "python",
   "nbconvert_exporter": "python",
   "pygments_lexer": "ipython3",
   "version": "3.13.5"
  }
 },
 "nbformat": 4,
 "nbformat_minor": 5
}
