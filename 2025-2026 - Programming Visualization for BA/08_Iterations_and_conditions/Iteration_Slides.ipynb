{
 "cells": [
  {
   "cell_type": "markdown",
   "id": "297b4363",
   "metadata": {},
   "source": [
    "# Erasmus Q-Intelligence B.V.\n",
    "\n",
    "## Data Science & Business Analytics - Programming\n",
    "\n",
    "### Iteration"
   ]
  },
  {
   "cell_type": "markdown",
   "id": "ec60918b",
   "metadata": {},
   "source": [
    "#### Automation"
   ]
  },
  {
   "cell_type": "markdown",
   "id": "d3c9b1a4",
   "metadata": {},
   "source": [
    "Example of for loops.\n",
    "Here we iteratore over a list of values. Iterating over a list is generally what you use loops for."
   ]
  },
  {
   "cell_type": "code",
   "execution_count": 2,
   "id": "bde5d092",
   "metadata": {},
   "outputs": [
    {
     "name": "stdout",
     "output_type": "stream",
     "text": [
      "Current number is: 0\n",
      "Current number is: 1\n",
      "Current number is: 1\n",
      "Current number is: 3\n",
      "Current number is: 4\n",
      "Current number is: 5\n"
     ]
    }
   ],
   "source": [
    "# For loop example\n",
    "for i in [0, 1, 1, 3, 4, 5]:\n",
    "    print(\"Current number is:\", i)"
   ]
  },
  {
   "cell_type": "markdown",
   "id": "c5fa7e6f",
   "metadata": {},
   "source": [
    "We can also specifiy a range with steps. Here we iterate from 0-8 in steps of 3"
   ]
  },
  {
   "cell_type": "code",
   "execution_count": null,
   "id": "3a0dce2c",
   "metadata": {},
   "outputs": [
    {
     "name": "stdout",
     "output_type": "stream",
     "text": [
      "Current number is: 0\n",
      "Current number is: 3\n",
      "Current number is: 6\n"
     ]
    }
   ],
   "source": [
    "# 'range' is a built in function that generates a sequence of numbers\n",
    "# range(start, stop, step)\n",
    "for i in range(0, 8, 3):\n",
    "    print(\"Current number is:\", i)"
   ]
  },
  {
   "cell_type": "code",
   "execution_count": 3,
   "id": "f1ebc9c7",
   "metadata": {},
   "outputs": [
    {
     "name": "stdout",
     "output_type": "stream",
     "text": [
      "Current number is: 5\n",
      "Current number is: 4\n",
      "Current number is: 3\n",
      "Current number is: 2\n",
      "Current number is: 1\n"
     ]
    }
   ],
   "source": [
    "# Range reversed\n",
    "for i in range(5, 0, -1):\n",
    "    print(\"Current number is:\", i)"
   ]
  },
  {
   "cell_type": "markdown",
   "id": "557c4090",
   "metadata": {},
   "source": [
    "Another for loop over a list, here we use a list of strings"
   ]
  },
  {
   "cell_type": "code",
   "execution_count": 7,
   "id": "02c79c7e",
   "metadata": {},
   "outputs": [
    {
     "name": "stdout",
     "output_type": "stream",
     "text": [
      "Hello John\n",
      "Hello Robb\n",
      "Hello Bran\n"
     ]
    }
   ],
   "source": [
    "# Iteration over the values in a sequence, e.g., a list. Most often used with for loops\n",
    "users = [\"John\", \"Robb\", \"Bran\"]\n",
    "for user in users:\n",
    "    print(\"Hello\", user)"
   ]
  },
  {
   "cell_type": "markdown",
   "id": "520b3557",
   "metadata": {},
   "source": [
    "We can also use while loops. Not used often, generally if you don't know how often you need to iterate or untill specific conditions are met."
   ]
  },
  {
   "cell_type": "code",
   "execution_count": null,
   "id": "66bb3458",
   "metadata": {},
   "outputs": [
    {
     "name": "stdout",
     "output_type": "stream",
     "text": [
      "Counter is: 0\n",
      "Counter is: 5\n"
     ]
    }
   ],
   "source": [
    "# While loop example\n",
    "counter = 0\n",
    "maximum = 5\n",
    "\n",
    "# Loop until counter exceeds maximum, can go infinite if condition never met!\n",
    "while counter <= maximum:\n",
    "    print(\"Counter is:\", counter)\n",
    "    counter += 5 # shorthand for counter = counter + 5"
   ]
  },
  {
   "cell_type": "markdown",
   "id": "a6972a97",
   "metadata": {},
   "source": [
    "We can use a for loop to create new lists. The following code checks each element in a list to see if it's None and creates a boolean list with the results."
   ]
  },
  {
   "cell_type": "code",
   "execution_count": null,
   "id": "88e1e5de",
   "metadata": {},
   "outputs": [
    {
     "data": {
      "text/plain": [
       "[True, False, False, False, False]"
      ]
     },
     "execution_count": 9,
     "metadata": {},
     "output_type": "execute_result"
    }
   ],
   "source": [
    "series = [None, 0, 1, -5, 3]\n",
    "is_null = []\n",
    "for i in series:\n",
    "    is_null.append(i is None) # appends function is used to add at the end of a list. i is None returns True or False\n",
    "is_null"
   ]
  },
  {
   "cell_type": "markdown",
   "id": "41de7e05",
   "metadata": {},
   "source": [
    "Same can be done in a while loop. "
   ]
  },
  {
   "cell_type": "code",
   "execution_count": 15,
   "id": "418e7c25",
   "metadata": {},
   "outputs": [
    {
     "data": {
      "text/plain": [
       "[3, 27, 19683]"
      ]
     },
     "execution_count": 15,
     "metadata": {},
     "output_type": "execute_result"
    }
   ],
   "source": [
    "series = [3]\n",
    "while max(series) < 1000:\n",
    "    # Append the cube of the last element in the list. -1 gets the last element\n",
    "    series.append(series[-1]**3)\n",
    "series"
   ]
  },
  {
   "cell_type": "markdown",
   "id": "54f9e684",
   "metadata": {},
   "source": [
    "### Conditions\n",
    "\n",
    "if and else statements"
   ]
  },
  {
   "cell_type": "code",
   "execution_count": null,
   "id": "f9751bb8",
   "metadata": {},
   "outputs": [
    {
     "name": "stdout",
     "output_type": "stream",
     "text": [
      "input is not equal to five\n"
     ]
    }
   ],
   "source": [
    "input = 6\n",
    "if input == 5:\n",
    "    print('input is exactly five')\n",
    "# Elif and else are optional\n",
    "else:\n",
    "    print('input is not equal to five')"
   ]
  },
  {
   "cell_type": "markdown",
   "id": "11af06d4",
   "metadata": {},
   "source": [
    "Conditions in if statements"
   ]
  },
  {
   "cell_type": "code",
   "execution_count": null,
   "id": "216a00fc",
   "metadata": {},
   "outputs": [],
   "source": [
    "# and, or en not \n",
    "dice1 = 6\n",
    "dice2 = 6\n",
    "\n",
    "if dice1 == 6 and dice2 == 6:\n",
    "    print(\"Max score!\")\n",
    "\n",
    "elif dice1 == 6 or dice2 == 6:\n",
    "    print(\"You rolled at least 1 6!\")\n",
    "\n",
    "if not (dice1 == 6) and not (dice2 == 6):\n",
    "    print(\"You didn't roll a 6!\")"
   ]
  },
  {
   "cell_type": "markdown",
   "id": "3e45097e",
   "metadata": {},
   "source": [
    "conditions in if statements in functions"
   ]
  },
  {
   "cell_type": "code",
   "execution_count": null,
   "id": "ef76f5a3",
   "metadata": {},
   "outputs": [],
   "source": [
    "import math\n",
    "\n",
    "def test_conditions(input):\n",
    "    if (math.isnan(input) != True and (input <= 10 or input > 20)):\n",
    "        print('condition is TRUE')\n",
    "\n",
    "test_conditions(21)"
   ]
  },
  {
   "cell_type": "markdown",
   "id": "81533508",
   "metadata": {},
   "source": [
    "We can combine for and if statements"
   ]
  },
  {
   "cell_type": "code",
   "execution_count": null,
   "id": "c75d6afb",
   "metadata": {},
   "outputs": [
    {
     "name": "stdout",
     "output_type": "stream",
     "text": [
      "0 is divisible by 3\n",
      "1 is not divisible by 3\n",
      "2 is not divisible by 3\n",
      "3 is divisible by 3\n",
      "4 is not divisible by 3\n",
      "5 is not divisible by 3\n",
      "6 is divisible by 3\n",
      "7 is not divisible by 3\n",
      "8 is not divisible by 3\n",
      "9 is divisible by 3\n"
     ]
    }
   ],
   "source": [
    "# For and if combined\n",
    "for i in range(0, 10):\n",
    "    if i % 3 == 0:  # Check if i is divisible by 3 (% is the modulo operator)\n",
    "        print(i, \"is divisible by 3\")\n",
    "    else:\n",
    "        print(i, \"is not divisible by 3\")"
   ]
  },
  {
   "cell_type": "markdown",
   "id": "710a703a",
   "metadata": {},
   "source": [
    "#### Conditions with data.frame\n",
    "\n",
    "If you want to mutate a column of a data frame based on a condition\n",
    "\n",
    "We need to use a for loop, then the function is mapped over all rows of the seleced column"
   ]
  },
  {
   "cell_type": "code",
   "execution_count": 36,
   "id": "6d4563ef",
   "metadata": {},
   "outputs": [
    {
     "data": {
      "text/plain": [
       "size\n",
       "medium         2053\n",
       "small           718\n",
       "large           337\n",
       "extra_large     214\n",
       "Name: count, dtype: int64"
      ]
     },
     "execution_count": 36,
     "metadata": {},
     "output_type": "execute_result"
    }
   ],
   "source": [
    "import pandas as pd\n",
    "planes = pd.read_csv('planes.csv')\n",
    "\n",
    "def get_seat_class(x):\n",
    "    if x < 100:\n",
    "        return 'small'\n",
    "    elif x < 200:\n",
    "        return 'medium'\n",
    "    elif x < 300:\n",
    "        return 'large'\n",
    "    else:\n",
    "        return 'extra_large'\n",
    "\n",
    "size_categories = []\n",
    "for seats in planes['seats']:\n",
    "    size_categories.append(get_seat_class(seats))\n",
    "\n",
    "planes['size'] = size_categories\n",
    "\n",
    "\n",
    "#Takes each value in the planes['seats'] column, applies the function get_seat_class to it and returns a new series with the results\n",
    "# planes['size'] = planes['seats'].apply(get_seat_class)\n",
    "\n",
    "planes['size'].value_counts()"
   ]
  }
 ],
 "metadata": {
  "kernelspec": {
   "display_name": "base",
   "language": "python",
   "name": "python3"
  },
  "language_info": {
   "codemirror_mode": {
    "name": "ipython",
    "version": 3
   },
   "file_extension": ".py",
   "mimetype": "text/x-python",
   "name": "python",
   "nbconvert_exporter": "python",
   "pygments_lexer": "ipython3",
   "version": "3.13.5"
  }
 },
 "nbformat": 4,
 "nbformat_minor": 5
}
