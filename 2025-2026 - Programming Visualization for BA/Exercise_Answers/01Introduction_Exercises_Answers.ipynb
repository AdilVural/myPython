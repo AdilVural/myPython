{
 "cells": [
  {
   "cell_type": "markdown",
   "id": "74e4d68c",
   "metadata": {},
   "source": [
    "# Introduction Exercises\n",
    "\n",
    "---\n",
    "Erasmus Q-Intelligence B.V.\n",
    "\n",
    "---"
   ]
  },
  {
   "cell_type": "markdown",
   "id": "5018de7c",
   "metadata": {},
   "source": [
    "## Exercise 1.1"
   ]
  },
  {
   "cell_type": "markdown",
   "id": "c87ea9c4",
   "metadata": {},
   "source": [
    "# This is a markdown header"
   ]
  },
  {
   "cell_type": "code",
   "execution_count": null,
   "id": "767e43cc",
   "metadata": {},
   "outputs": [],
   "source": [
    "print(\"Hello, World!\")"
   ]
  },
  {
   "cell_type": "markdown",
   "id": "c714c51a",
   "metadata": {},
   "source": [
    "## Exercise 1.2\n",
    "\n",
    "### a"
   ]
  },
  {
   "cell_type": "code",
   "execution_count": null,
   "id": "91bdba97",
   "metadata": {},
   "outputs": [],
   "source": [
    "import pandas as pd"
   ]
  },
  {
   "cell_type": "markdown",
   "id": "ba51a0fb",
   "metadata": {},
   "source": [
    "### b"
   ]
  },
  {
   "cell_type": "code",
   "execution_count": null,
   "id": "31ed62e4",
   "metadata": {},
   "outputs": [],
   "source": [
    "help(pd.read_csv)"
   ]
  },
  {
   "cell_type": "markdown",
   "id": "026bfddf",
   "metadata": {},
   "source": [
    "`sep` is the character that separates the values in the CSV file. This defaults to `,` but can be changed if your file has a different separator, e.g. `;`.\n",
    "\n",
    "`nrows` can be used to limit the number of rows that are imported.\n",
    "\n",
    "### c"
   ]
  },
  {
   "cell_type": "code",
   "execution_count": null,
   "id": "23ff94d9",
   "metadata": {},
   "outputs": [],
   "source": [
    "from math import sqrt\n",
    "sqrt(25)"
   ]
  }
 ],
 "metadata": {
  "kernelspec": {
   "display_name": "Python 3 (ipykernel)",
   "language": "python",
   "name": "python3"
  },
  "language_info": {
   "codemirror_mode": {
    "name": "ipython",
    "version": 3
   },
   "file_extension": ".py",
   "mimetype": "text/x-python",
   "name": "python",
   "nbconvert_exporter": "python",
   "pygments_lexer": "ipython3",
   "version": "3.9.12"
  }
 },
 "nbformat": 4,
 "nbformat_minor": 5
}
