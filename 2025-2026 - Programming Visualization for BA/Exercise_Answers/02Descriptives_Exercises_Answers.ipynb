{
 "cells": [
  {
   "cell_type": "markdown",
   "id": "94889f04",
   "metadata": {},
   "source": [
    "# Descriptive statistics\n",
    "\n",
    "---\n",
    "Erasmus Q-Intelligence B.V.\n",
    "\n",
    "---\n",
    "\n",
    "Below is a set of exercises. For every question, an empty code cell is provided where you can add your code that serves as an answer to the question. If there are additional questions regarding interpreting what you see, you can do so by adding comments (start with `#`), or adding a *Markdown* cell below or above the *Code* cell, and providing your findings there."
   ]
  },
  {
   "cell_type": "markdown",
   "id": "0d97e18c",
   "metadata": {},
   "source": [
    "## Exercise 1.1 (Data loading and exploration)\n",
    "\n",
    "Download the house price data in the file\n",
    "`forsale.csv` from Canvas by saving it directly to disk. Store it in an appropriate folder."
   ]
  },
  {
   "cell_type": "markdown",
   "id": "dcd2040d",
   "metadata": {},
   "source": [
    "### a\n",
    "Load the `forsale.csv` file into the notebook and name it `forsale`. Hint: use the appropriate function from the `pandas` module."
   ]
  },
  {
   "cell_type": "code",
   "execution_count": 2,
   "id": "297c0d32",
   "metadata": {},
   "outputs": [],
   "source": [
    "import pandas as pd\n",
    "forsale = pd.read_csv(\"forsale.csv\")"
   ]
  },
  {
   "cell_type": "markdown",
   "id": "04566e82",
   "metadata": {},
   "source": [
    "### b\n",
    "Display the contents of the `forsale` data, and provide an answer to the following questions:\n",
    "- Are all rows of the `DataFrame` displayed? How can you tell? \n",
    "- What about the columns?\n",
    "- How many rows and columns does the DataFrame contain?\n"
   ]
  },
  {
   "cell_type": "code",
   "execution_count": 3,
   "id": "f6be13f8",
   "metadata": {},
   "outputs": [
    {
     "data": {
      "text/html": [
       "<div>\n",
       "<style scoped>\n",
       "    .dataframe tbody tr th:only-of-type {\n",
       "        vertical-align: middle;\n",
       "    }\n",
       "\n",
       "    .dataframe tbody tr th {\n",
       "        vertical-align: top;\n",
       "    }\n",
       "\n",
       "    .dataframe thead th {\n",
       "        text-align: right;\n",
       "    }\n",
       "</style>\n",
       "<table border=\"1\" class=\"dataframe\">\n",
       "  <thead>\n",
       "    <tr style=\"text-align: right;\">\n",
       "      <th></th>\n",
       "      <th>postcode</th>\n",
       "      <th>pc_numeric</th>\n",
       "      <th>pc_character</th>\n",
       "      <th>city</th>\n",
       "      <th>suburb</th>\n",
       "      <th>latitude</th>\n",
       "      <th>longitude</th>\n",
       "      <th>asking_price</th>\n",
       "      <th>offered_since</th>\n",
       "      <th>living_area</th>\n",
       "      <th>...</th>\n",
       "      <th>type_build</th>\n",
       "      <th>volume</th>\n",
       "      <th>nr_rooms</th>\n",
       "      <th>build_year</th>\n",
       "      <th>bedrooms</th>\n",
       "      <th>bathrooms</th>\n",
       "      <th>alarm</th>\n",
       "      <th>jacuzzi</th>\n",
       "      <th>sauna</th>\n",
       "      <th>bath</th>\n",
       "    </tr>\n",
       "  </thead>\n",
       "  <tbody>\n",
       "    <tr>\n",
       "      <th>0</th>\n",
       "      <td>3112 AA</td>\n",
       "      <td>3112</td>\n",
       "      <td>AA</td>\n",
       "      <td>Schiedam</td>\n",
       "      <td>Rotterdamsedijk</td>\n",
       "      <td>51.91395</td>\n",
       "      <td>4.411872</td>\n",
       "      <td>89500.0</td>\n",
       "      <td>2 months</td>\n",
       "      <td>66</td>\n",
       "      <td>...</td>\n",
       "      <td>Existing</td>\n",
       "      <td>185</td>\n",
       "      <td>3</td>\n",
       "      <td>1951</td>\n",
       "      <td>2</td>\n",
       "      <td>1</td>\n",
       "      <td>0</td>\n",
       "      <td>0</td>\n",
       "      <td>0</td>\n",
       "      <td>0.0</td>\n",
       "    </tr>\n",
       "    <tr>\n",
       "      <th>1</th>\n",
       "      <td>3028 BW</td>\n",
       "      <td>3028</td>\n",
       "      <td>BW</td>\n",
       "      <td>Rotterdam</td>\n",
       "      <td>Oud-Mathenesse</td>\n",
       "      <td>51.91450</td>\n",
       "      <td>4.417260</td>\n",
       "      <td>75000.0</td>\n",
       "      <td>2 months</td>\n",
       "      <td>60</td>\n",
       "      <td>...</td>\n",
       "      <td>Existing</td>\n",
       "      <td>180</td>\n",
       "      <td>3</td>\n",
       "      <td>1950</td>\n",
       "      <td>2</td>\n",
       "      <td>1</td>\n",
       "      <td>0</td>\n",
       "      <td>0</td>\n",
       "      <td>0</td>\n",
       "      <td>0.0</td>\n",
       "    </tr>\n",
       "    <tr>\n",
       "      <th>2</th>\n",
       "      <td>3039 XM</td>\n",
       "      <td>3039</td>\n",
       "      <td>XM</td>\n",
       "      <td>Rotterdam</td>\n",
       "      <td>Blijdorp</td>\n",
       "      <td>51.92686</td>\n",
       "      <td>4.458871</td>\n",
       "      <td>238000.0</td>\n",
       "      <td>2 months</td>\n",
       "      <td>110</td>\n",
       "      <td>...</td>\n",
       "      <td>Existing</td>\n",
       "      <td>300</td>\n",
       "      <td>4</td>\n",
       "      <td>1939</td>\n",
       "      <td>3</td>\n",
       "      <td>1</td>\n",
       "      <td>0</td>\n",
       "      <td>0</td>\n",
       "      <td>0</td>\n",
       "      <td>0.0</td>\n",
       "    </tr>\n",
       "    <tr>\n",
       "      <th>3</th>\n",
       "      <td>3112 MA</td>\n",
       "      <td>3112</td>\n",
       "      <td>MA</td>\n",
       "      <td>Schiedam</td>\n",
       "      <td>Newtonbuurt</td>\n",
       "      <td>51.91765</td>\n",
       "      <td>4.411336</td>\n",
       "      <td>109000.0</td>\n",
       "      <td>2 months</td>\n",
       "      <td>55</td>\n",
       "      <td>...</td>\n",
       "      <td>Existing</td>\n",
       "      <td>160</td>\n",
       "      <td>3</td>\n",
       "      <td>1935</td>\n",
       "      <td>2</td>\n",
       "      <td>1</td>\n",
       "      <td>0</td>\n",
       "      <td>0</td>\n",
       "      <td>0</td>\n",
       "      <td>0.0</td>\n",
       "    </tr>\n",
       "    <tr>\n",
       "      <th>4</th>\n",
       "      <td>2907 MG</td>\n",
       "      <td>2907</td>\n",
       "      <td>MG</td>\n",
       "      <td>Capelle aan den IJssel</td>\n",
       "      <td>Kunstenaarsbuurt</td>\n",
       "      <td>51.95222</td>\n",
       "      <td>4.585006</td>\n",
       "      <td>119000.0</td>\n",
       "      <td>2 months</td>\n",
       "      <td>76</td>\n",
       "      <td>...</td>\n",
       "      <td>Existing</td>\n",
       "      <td>200</td>\n",
       "      <td>3</td>\n",
       "      <td>1984</td>\n",
       "      <td>2</td>\n",
       "      <td>1</td>\n",
       "      <td>0</td>\n",
       "      <td>0</td>\n",
       "      <td>0</td>\n",
       "      <td>0.0</td>\n",
       "    </tr>\n",
       "    <tr>\n",
       "      <th>...</th>\n",
       "      <td>...</td>\n",
       "      <td>...</td>\n",
       "      <td>...</td>\n",
       "      <td>...</td>\n",
       "      <td>...</td>\n",
       "      <td>...</td>\n",
       "      <td>...</td>\n",
       "      <td>...</td>\n",
       "      <td>...</td>\n",
       "      <td>...</td>\n",
       "      <td>...</td>\n",
       "      <td>...</td>\n",
       "      <td>...</td>\n",
       "      <td>...</td>\n",
       "      <td>...</td>\n",
       "      <td>...</td>\n",
       "      <td>...</td>\n",
       "      <td>...</td>\n",
       "      <td>...</td>\n",
       "      <td>...</td>\n",
       "      <td>...</td>\n",
       "    </tr>\n",
       "    <tr>\n",
       "      <th>3378</th>\n",
       "      <td>2907 JG</td>\n",
       "      <td>2907</td>\n",
       "      <td>JG</td>\n",
       "      <td>Capelle aan den IJssel</td>\n",
       "      <td>Operabuurt</td>\n",
       "      <td>51.94760</td>\n",
       "      <td>4.588990</td>\n",
       "      <td>139000.0</td>\n",
       "      <td>7 weeks</td>\n",
       "      <td>65</td>\n",
       "      <td>...</td>\n",
       "      <td>Existing</td>\n",
       "      <td>170</td>\n",
       "      <td>3</td>\n",
       "      <td>1980</td>\n",
       "      <td>2</td>\n",
       "      <td>1</td>\n",
       "      <td>0</td>\n",
       "      <td>0</td>\n",
       "      <td>0</td>\n",
       "      <td>0.0</td>\n",
       "    </tr>\n",
       "    <tr>\n",
       "      <th>3379</th>\n",
       "      <td>2907 WE</td>\n",
       "      <td>2907</td>\n",
       "      <td>WE</td>\n",
       "      <td>Capelle aan den IJssel</td>\n",
       "      <td>Gebouwenbuurt</td>\n",
       "      <td>51.95037</td>\n",
       "      <td>4.595196</td>\n",
       "      <td>140000.0</td>\n",
       "      <td>7 weeks</td>\n",
       "      <td>65</td>\n",
       "      <td>...</td>\n",
       "      <td>Existing</td>\n",
       "      <td>212</td>\n",
       "      <td>3</td>\n",
       "      <td>1980</td>\n",
       "      <td>2</td>\n",
       "      <td>1</td>\n",
       "      <td>0</td>\n",
       "      <td>0</td>\n",
       "      <td>0</td>\n",
       "      <td>1.0</td>\n",
       "    </tr>\n",
       "    <tr>\n",
       "      <th>3380</th>\n",
       "      <td>3112 LE</td>\n",
       "      <td>3112</td>\n",
       "      <td>LE</td>\n",
       "      <td>Schiedam</td>\n",
       "      <td>Rotterdamsedijk</td>\n",
       "      <td>51.91560</td>\n",
       "      <td>4.412006</td>\n",
       "      <td>128500.0</td>\n",
       "      <td>7 weeks</td>\n",
       "      <td>85</td>\n",
       "      <td>...</td>\n",
       "      <td>Existing</td>\n",
       "      <td>225</td>\n",
       "      <td>4</td>\n",
       "      <td>1940</td>\n",
       "      <td>3</td>\n",
       "      <td>1</td>\n",
       "      <td>0</td>\n",
       "      <td>0</td>\n",
       "      <td>0</td>\n",
       "      <td>0.0</td>\n",
       "    </tr>\n",
       "    <tr>\n",
       "      <th>3381</th>\n",
       "      <td>3112 EJ</td>\n",
       "      <td>3112</td>\n",
       "      <td>EJ</td>\n",
       "      <td>Schiedam</td>\n",
       "      <td>Rotterdamsedijk</td>\n",
       "      <td>51.91520</td>\n",
       "      <td>4.406966</td>\n",
       "      <td>149000.0</td>\n",
       "      <td>8 weeks</td>\n",
       "      <td>100</td>\n",
       "      <td>...</td>\n",
       "      <td>Existing</td>\n",
       "      <td>275</td>\n",
       "      <td>5</td>\n",
       "      <td>1933</td>\n",
       "      <td>3</td>\n",
       "      <td>1</td>\n",
       "      <td>0</td>\n",
       "      <td>0</td>\n",
       "      <td>0</td>\n",
       "      <td>0.0</td>\n",
       "    </tr>\n",
       "    <tr>\n",
       "      <th>3382</th>\n",
       "      <td>3066 AV</td>\n",
       "      <td>3066</td>\n",
       "      <td>AV</td>\n",
       "      <td>Rotterdam</td>\n",
       "      <td>Prinsenland</td>\n",
       "      <td>51.93777</td>\n",
       "      <td>4.553001</td>\n",
       "      <td>215000.0</td>\n",
       "      <td>2 weeks</td>\n",
       "      <td>90</td>\n",
       "      <td>...</td>\n",
       "      <td>Existing</td>\n",
       "      <td>260</td>\n",
       "      <td>4</td>\n",
       "      <td>2011</td>\n",
       "      <td>3</td>\n",
       "      <td>1</td>\n",
       "      <td>0</td>\n",
       "      <td>0</td>\n",
       "      <td>0</td>\n",
       "      <td>0.0</td>\n",
       "    </tr>\n",
       "  </tbody>\n",
       "</table>\n",
       "<p>3383 rows × 21 columns</p>\n",
       "</div>"
      ],
      "text/plain": [
       "     postcode  pc_numeric pc_character                    city  \\\n",
       "0     3112 AA        3112           AA                Schiedam   \n",
       "1     3028 BW        3028           BW               Rotterdam   \n",
       "2     3039 XM        3039           XM               Rotterdam   \n",
       "3     3112 MA        3112           MA                Schiedam   \n",
       "4     2907 MG        2907           MG  Capelle aan den IJssel   \n",
       "...       ...         ...          ...                     ...   \n",
       "3378  2907 JG        2907           JG  Capelle aan den IJssel   \n",
       "3379  2907 WE        2907           WE  Capelle aan den IJssel   \n",
       "3380  3112 LE        3112           LE                Schiedam   \n",
       "3381  3112 EJ        3112           EJ                Schiedam   \n",
       "3382  3066 AV        3066           AV               Rotterdam   \n",
       "\n",
       "                suburb  latitude  longitude  asking_price offered_since  \\\n",
       "0      Rotterdamsedijk  51.91395   4.411872       89500.0      2 months   \n",
       "1       Oud-Mathenesse  51.91450   4.417260       75000.0      2 months   \n",
       "2             Blijdorp  51.92686   4.458871      238000.0      2 months   \n",
       "3          Newtonbuurt  51.91765   4.411336      109000.0      2 months   \n",
       "4     Kunstenaarsbuurt  51.95222   4.585006      119000.0      2 months   \n",
       "...                ...       ...        ...           ...           ...   \n",
       "3378        Operabuurt  51.94760   4.588990      139000.0       7 weeks   \n",
       "3379     Gebouwenbuurt  51.95037   4.595196      140000.0       7 weeks   \n",
       "3380   Rotterdamsedijk  51.91560   4.412006      128500.0       7 weeks   \n",
       "3381   Rotterdamsedijk  51.91520   4.406966      149000.0       8 weeks   \n",
       "3382       Prinsenland  51.93777   4.553001      215000.0       2 weeks   \n",
       "\n",
       "      living_area  ...  type_build volume  nr_rooms  build_year bedrooms  \\\n",
       "0              66  ...    Existing    185         3        1951        2   \n",
       "1              60  ...    Existing    180         3        1950        2   \n",
       "2             110  ...    Existing    300         4        1939        3   \n",
       "3              55  ...    Existing    160         3        1935        2   \n",
       "4              76  ...    Existing    200         3        1984        2   \n",
       "...           ...  ...         ...    ...       ...         ...      ...   \n",
       "3378           65  ...    Existing    170         3        1980        2   \n",
       "3379           65  ...    Existing    212         3        1980        2   \n",
       "3380           85  ...    Existing    225         4        1940        3   \n",
       "3381          100  ...    Existing    275         5        1933        3   \n",
       "3382           90  ...    Existing    260         4        2011        3   \n",
       "\n",
       "      bathrooms  alarm  jacuzzi  sauna  bath  \n",
       "0             1      0        0      0   0.0  \n",
       "1             1      0        0      0   0.0  \n",
       "2             1      0        0      0   0.0  \n",
       "3             1      0        0      0   0.0  \n",
       "4             1      0        0      0   0.0  \n",
       "...         ...    ...      ...    ...   ...  \n",
       "3378          1      0        0      0   0.0  \n",
       "3379          1      0        0      0   1.0  \n",
       "3380          1      0        0      0   0.0  \n",
       "3381          1      0        0      0   0.0  \n",
       "3382          1      0        0      0   0.0  \n",
       "\n",
       "[3383 rows x 21 columns]"
      ]
     },
     "execution_count": 3,
     "metadata": {},
     "output_type": "execute_result"
    }
   ],
   "source": [
    "forsale\n",
    "\n",
    "# Not all rows are displayed. This is indicated by the row containing only cells with ...\n",
    "\n",
    "# The same goes for the columns. This is indicated by the column containing only cells with ...\n",
    "\n",
    "# The DataFrame contains 3383 rows and 21 columns, indicated below the displayed DataFrame."
   ]
  },
  {
   "cell_type": "markdown",
   "id": "afafdc38",
   "metadata": {},
   "source": [
    "### c\n",
    "If not all columns were visible in question **b**, how can you retrieve all column names?"
   ]
  },
  {
   "cell_type": "code",
   "execution_count": 4,
   "id": "7e5384d3",
   "metadata": {},
   "outputs": [
    {
     "data": {
      "text/plain": [
       "array(['postcode', 'pc_numeric', 'pc_character', 'city', 'suburb',\n",
       "       'latitude', 'longitude', 'asking_price', 'offered_since',\n",
       "       'living_area', 'available_now', 'type_build', 'volume', 'nr_rooms',\n",
       "       'build_year', 'bedrooms', 'bathrooms', 'alarm', 'jacuzzi', 'sauna',\n",
       "       'bath'], dtype=object)"
      ]
     },
     "execution_count": 4,
     "metadata": {},
     "output_type": "execute_result"
    }
   ],
   "source": [
    "forsale.columns.values"
   ]
  },
  {
   "cell_type": "markdown",
   "id": "e073d6e7",
   "metadata": {},
   "source": [
    "### d\n",
    "Use the `describe()` method on the `DataFrame` object to see what output this gives you.\n",
    "Note down some of the key points that you have learned about the data."
   ]
  },
  {
   "cell_type": "code",
   "execution_count": null,
   "id": "b9166272",
   "metadata": {},
   "outputs": [
    {
     "data": {
      "text/html": [
       "<div>\n",
       "<style scoped>\n",
       "    .dataframe tbody tr th:only-of-type {\n",
       "        vertical-align: middle;\n",
       "    }\n",
       "\n",
       "    .dataframe tbody tr th {\n",
       "        vertical-align: top;\n",
       "    }\n",
       "\n",
       "    .dataframe thead th {\n",
       "        text-align: right;\n",
       "    }\n",
       "</style>\n",
       "<table border=\"1\" class=\"dataframe\">\n",
       "  <thead>\n",
       "    <tr style=\"text-align: right;\">\n",
       "      <th></th>\n",
       "      <th>pc_numeric</th>\n",
       "      <th>latitude</th>\n",
       "      <th>longitude</th>\n",
       "      <th>asking_price</th>\n",
       "      <th>living_area</th>\n",
       "      <th>available_now</th>\n",
       "      <th>volume</th>\n",
       "      <th>nr_rooms</th>\n",
       "      <th>bedrooms</th>\n",
       "      <th>bathrooms</th>\n",
       "      <th>alarm</th>\n",
       "      <th>jacuzzi</th>\n",
       "      <th>sauna</th>\n",
       "      <th>bath</th>\n",
       "    </tr>\n",
       "  </thead>\n",
       "  <tbody>\n",
       "    <tr>\n",
       "      <th>count</th>\n",
       "      <td>3383.000000</td>\n",
       "      <td>3383.000000</td>\n",
       "      <td>3383.000000</td>\n",
       "      <td>3.383000e+03</td>\n",
       "      <td>3383.000000</td>\n",
       "      <td>3383.000000</td>\n",
       "      <td>3383.000000</td>\n",
       "      <td>3383.000000</td>\n",
       "      <td>3383.000000</td>\n",
       "      <td>3383.000000</td>\n",
       "      <td>3383.000000</td>\n",
       "      <td>3383.000000</td>\n",
       "      <td>3383.000000</td>\n",
       "      <td>3364.000000</td>\n",
       "    </tr>\n",
       "    <tr>\n",
       "      <th>mean</th>\n",
       "      <td>3016.078037</td>\n",
       "      <td>51.914564</td>\n",
       "      <td>4.512907</td>\n",
       "      <td>2.837915e+05</td>\n",
       "      <td>117.621933</td>\n",
       "      <td>0.038427</td>\n",
       "      <td>366.618682</td>\n",
       "      <td>4.146911</td>\n",
       "      <td>2.871711</td>\n",
       "      <td>1.125037</td>\n",
       "      <td>0.064735</td>\n",
       "      <td>0.028082</td>\n",
       "      <td>0.014484</td>\n",
       "      <td>0.521998</td>\n",
       "    </tr>\n",
       "    <tr>\n",
       "      <th>std</th>\n",
       "      <td>135.092919</td>\n",
       "      <td>0.041692</td>\n",
       "      <td>0.076574</td>\n",
       "      <td>2.778955e+05</td>\n",
       "      <td>64.267932</td>\n",
       "      <td>0.192254</td>\n",
       "      <td>291.565008</td>\n",
       "      <td>1.577674</td>\n",
       "      <td>1.277602</td>\n",
       "      <td>0.363190</td>\n",
       "      <td>0.246095</td>\n",
       "      <td>0.165230</td>\n",
       "      <td>0.119493</td>\n",
       "      <td>0.499590</td>\n",
       "    </tr>\n",
       "    <tr>\n",
       "      <th>min</th>\n",
       "      <td>2641.000000</td>\n",
       "      <td>51.827820</td>\n",
       "      <td>4.382499</td>\n",
       "      <td>5.950000e+04</td>\n",
       "      <td>40.000000</td>\n",
       "      <td>0.000000</td>\n",
       "      <td>100.000000</td>\n",
       "      <td>1.000000</td>\n",
       "      <td>1.000000</td>\n",
       "      <td>1.000000</td>\n",
       "      <td>0.000000</td>\n",
       "      <td>0.000000</td>\n",
       "      <td>0.000000</td>\n",
       "      <td>0.000000</td>\n",
       "    </tr>\n",
       "    <tr>\n",
       "      <th>25%</th>\n",
       "      <td>2954.000000</td>\n",
       "      <td>51.885160</td>\n",
       "      <td>4.462559</td>\n",
       "      <td>1.349495e+05</td>\n",
       "      <td>75.000000</td>\n",
       "      <td>0.000000</td>\n",
       "      <td>215.000000</td>\n",
       "      <td>3.000000</td>\n",
       "      <td>2.000000</td>\n",
       "      <td>1.000000</td>\n",
       "      <td>0.000000</td>\n",
       "      <td>0.000000</td>\n",
       "      <td>0.000000</td>\n",
       "      <td>0.000000</td>\n",
       "    </tr>\n",
       "    <tr>\n",
       "      <th>50%</th>\n",
       "      <td>3054.000000</td>\n",
       "      <td>51.914710</td>\n",
       "      <td>4.503749</td>\n",
       "      <td>1.995000e+05</td>\n",
       "      <td>102.000000</td>\n",
       "      <td>0.000000</td>\n",
       "      <td>300.000000</td>\n",
       "      <td>4.000000</td>\n",
       "      <td>3.000000</td>\n",
       "      <td>1.000000</td>\n",
       "      <td>0.000000</td>\n",
       "      <td>0.000000</td>\n",
       "      <td>0.000000</td>\n",
       "      <td>1.000000</td>\n",
       "    </tr>\n",
       "    <tr>\n",
       "      <th>75%</th>\n",
       "      <td>3082.000000</td>\n",
       "      <td>51.942250</td>\n",
       "      <td>4.576634</td>\n",
       "      <td>3.250000e+05</td>\n",
       "      <td>139.500000</td>\n",
       "      <td>0.000000</td>\n",
       "      <td>425.000000</td>\n",
       "      <td>5.000000</td>\n",
       "      <td>4.000000</td>\n",
       "      <td>1.000000</td>\n",
       "      <td>0.000000</td>\n",
       "      <td>0.000000</td>\n",
       "      <td>0.000000</td>\n",
       "      <td>1.000000</td>\n",
       "    </tr>\n",
       "    <tr>\n",
       "      <th>max</th>\n",
       "      <td>3351.000000</td>\n",
       "      <td>52.007600</td>\n",
       "      <td>4.673501</td>\n",
       "      <td>4.500000e+06</td>\n",
       "      <td>758.000000</td>\n",
       "      <td>1.000000</td>\n",
       "      <td>7800.000000</td>\n",
       "      <td>16.000000</td>\n",
       "      <td>13.000000</td>\n",
       "      <td>4.000000</td>\n",
       "      <td>1.000000</td>\n",
       "      <td>1.000000</td>\n",
       "      <td>1.000000</td>\n",
       "      <td>1.000000</td>\n",
       "    </tr>\n",
       "  </tbody>\n",
       "</table>\n",
       "</div>"
      ],
      "text/plain": [
       "        pc_numeric     latitude    longitude  asking_price  living_area  \\\n",
       "count  3383.000000  3383.000000  3383.000000  3.383000e+03  3383.000000   \n",
       "mean   3016.078037    51.914564     4.512907  2.837915e+05   117.621933   \n",
       "std     135.092919     0.041692     0.076574  2.778955e+05    64.267932   \n",
       "min    2641.000000    51.827820     4.382499  5.950000e+04    40.000000   \n",
       "25%    2954.000000    51.885160     4.462559  1.349495e+05    75.000000   \n",
       "50%    3054.000000    51.914710     4.503749  1.995000e+05   102.000000   \n",
       "75%    3082.000000    51.942250     4.576634  3.250000e+05   139.500000   \n",
       "max    3351.000000    52.007600     4.673501  4.500000e+06   758.000000   \n",
       "\n",
       "       available_now       volume     nr_rooms     bedrooms    bathrooms  \\\n",
       "count    3383.000000  3383.000000  3383.000000  3383.000000  3383.000000   \n",
       "mean        0.038427   366.618682     4.146911     2.871711     1.125037   \n",
       "std         0.192254   291.565008     1.577674     1.277602     0.363190   \n",
       "min         0.000000   100.000000     1.000000     1.000000     1.000000   \n",
       "25%         0.000000   215.000000     3.000000     2.000000     1.000000   \n",
       "50%         0.000000   300.000000     4.000000     3.000000     1.000000   \n",
       "75%         0.000000   425.000000     5.000000     4.000000     1.000000   \n",
       "max         1.000000  7800.000000    16.000000    13.000000     4.000000   \n",
       "\n",
       "             alarm      jacuzzi        sauna         bath  \n",
       "count  3383.000000  3383.000000  3383.000000  3364.000000  \n",
       "mean      0.064735     0.028082     0.014484     0.521998  \n",
       "std       0.246095     0.165230     0.119493     0.499590  \n",
       "min       0.000000     0.000000     0.000000     0.000000  \n",
       "25%       0.000000     0.000000     0.000000     0.000000  \n",
       "50%       0.000000     0.000000     0.000000     1.000000  \n",
       "75%       0.000000     0.000000     0.000000     1.000000  \n",
       "max       1.000000     1.000000     1.000000     1.000000  "
      ]
     },
     "execution_count": 5,
     "metadata": {},
     "output_type": "execute_result"
    }
   ],
   "source": [
    "forsale.describe()"
   ]
  },
  {
   "cell_type": "markdown",
   "id": "a1129c85",
   "metadata": {},
   "source": [
    "## Exercise 1.2 (Univariate summary statistics)\n",
    "\n",
    "Now that you are familiar with the basics of the\n",
    "data, let’s answer some simple but important questions. Remember that you can extract a single\n",
    "column vector from a data frame using `df['column_key']`.\n",
    "\n",
    "### a\n",
    "What is the mean living area of a house in this data set? Include code to calculate this\n",
    "using the `mean()` method."
   ]
  },
  {
   "cell_type": "code",
   "execution_count": 6,
   "id": "fedf0425",
   "metadata": {},
   "outputs": [
    {
     "data": {
      "text/plain": [
       "np.float64(117.6219331953887)"
      ]
     },
     "execution_count": 6,
     "metadata": {},
     "output_type": "execute_result"
    }
   ],
   "source": [
    "forsale['living_area'].mean()"
   ]
  },
  {
   "cell_type": "markdown",
   "id": "03745dcb",
   "metadata": {},
   "source": [
    "### b\n",
    "How does that compare to the median price? Can you say something about the expected\n",
    "skewness of the data based on the mean and median?."
   ]
  },
  {
   "cell_type": "code",
   "execution_count": 7,
   "id": "e7722523",
   "metadata": {},
   "outputs": [
    {
     "data": {
      "text/plain": [
       "np.float64(102.0)"
      ]
     },
     "execution_count": 7,
     "metadata": {},
     "output_type": "execute_result"
    }
   ],
   "source": [
    "forsale['living_area'].median()\n",
    "\n",
    "## skewed to the right (median < mean)"
   ]
  },
  {
   "cell_type": "markdown",
   "id": "f07a0d6a",
   "metadata": {},
   "source": [
    "### c\n",
    "\n",
    "What is the least amount of bedrooms any house has in the dataset? And the most bedrooms? Use the `min()` and `max()` methods to answer this question"
   ]
  },
  {
   "cell_type": "code",
   "execution_count": 8,
   "id": "8e0807ba",
   "metadata": {},
   "outputs": [
    {
     "data": {
      "text/plain": [
       "np.int64(1)"
      ]
     },
     "execution_count": 8,
     "metadata": {},
     "output_type": "execute_result"
    }
   ],
   "source": [
    "forsale['bedrooms'].min()"
   ]
  },
  {
   "cell_type": "code",
   "execution_count": 9,
   "id": "b008507c",
   "metadata": {},
   "outputs": [
    {
     "data": {
      "text/plain": [
       "np.int64(13)"
      ]
     },
     "execution_count": 9,
     "metadata": {},
     "output_type": "execute_result"
    }
   ],
   "source": [
    "forsale['bedrooms'].max()"
   ]
  },
  {
   "cell_type": "markdown",
   "id": "54247604",
   "metadata": {},
   "source": [
    "### d\n",
    "\n",
    "Calculate the median of the asking prices, as well as the standard deviation."
   ]
  },
  {
   "cell_type": "code",
   "execution_count": 10,
   "id": "a79d1541",
   "metadata": {},
   "outputs": [
    {
     "data": {
      "text/plain": [
       "np.float64(199500.0)"
      ]
     },
     "execution_count": 10,
     "metadata": {},
     "output_type": "execute_result"
    }
   ],
   "source": [
    "forsale['asking_price'].median()"
   ]
  },
  {
   "cell_type": "code",
   "execution_count": 11,
   "id": "1dead03b",
   "metadata": {},
   "outputs": [
    {
     "data": {
      "text/plain": [
       "np.float64(277895.5000166092)"
      ]
     },
     "execution_count": 11,
     "metadata": {},
     "output_type": "execute_result"
    }
   ],
   "source": [
    "forsale['asking_price'].std()"
   ]
  },
  {
   "cell_type": "markdown",
   "id": "20588db4",
   "metadata": {},
   "source": [
    "### e\n",
    "\n",
    "What values do the variables `nr_rooms`, `jacuzzi`, `bathrooms` and `alarm` take? Make\n",
    "frequency tables of counts for each of these variables separately using the `value_counts()` method.\n",
    "How many houses have six rooms? How many have two bathrooms?"
   ]
  },
  {
   "cell_type": "code",
   "execution_count": null,
   "id": "1f4d344d",
   "metadata": {},
   "outputs": [
    {
     "ename": "NameError",
     "evalue": "name 'forsale' is not defined",
     "output_type": "error",
     "traceback": [
      "\u001b[31m---------------------------------------------------------------------------\u001b[39m",
      "\u001b[31mNameError\u001b[39m                                 Traceback (most recent call last)",
      "\u001b[36mCell\u001b[39m\u001b[36m \u001b[39m\u001b[32mIn[1]\u001b[39m\u001b[32m, line 1\u001b[39m\n\u001b[32m----> \u001b[39m\u001b[32m1\u001b[39m \u001b[43mforsale\u001b[49m[\u001b[33m'\u001b[39m\u001b[33mnr_rooms\u001b[39m\u001b[33m'\u001b[39m].value_counts().sort_index()\n",
      "\u001b[31mNameError\u001b[39m: name 'forsale' is not defined"
     ]
    }
   ],
   "source": [
    "forsale['nr_rooms'].value_counts()"
   ]
  },
  {
   "cell_type": "code",
   "execution_count": 13,
   "id": "4fbb4827",
   "metadata": {},
   "outputs": [
    {
     "data": {
      "text/plain": [
       "jacuzzi\n",
       "0    3288\n",
       "1      95\n",
       "Name: count, dtype: int64"
      ]
     },
     "execution_count": 13,
     "metadata": {},
     "output_type": "execute_result"
    }
   ],
   "source": [
    "forsale['jacuzzi'].value_counts()"
   ]
  },
  {
   "cell_type": "code",
   "execution_count": 14,
   "id": "70ee623d",
   "metadata": {},
   "outputs": [
    {
     "data": {
      "text/plain": [
       "bathrooms\n",
       "1    2994\n",
       "2     359\n",
       "3      26\n",
       "4       4\n",
       "Name: count, dtype: int64"
      ]
     },
     "execution_count": 14,
     "metadata": {},
     "output_type": "execute_result"
    }
   ],
   "source": [
    "forsale['bathrooms'].value_counts()"
   ]
  },
  {
   "cell_type": "code",
   "execution_count": 15,
   "id": "ba9103eb",
   "metadata": {},
   "outputs": [
    {
     "data": {
      "text/plain": [
       "alarm\n",
       "0    3164\n",
       "1     219\n",
       "Name: count, dtype: int64"
      ]
     },
     "execution_count": 15,
     "metadata": {},
     "output_type": "execute_result"
    }
   ],
   "source": [
    "forsale['alarm'].value_counts()"
   ]
  },
  {
   "cell_type": "markdown",
   "id": "504e0205",
   "metadata": {},
   "source": [
    "### f\n",
    "\n",
    "With `pd.crosstab()`, you can make a contingency table with two variables. Note that this is a function, called on the `pandas` (or the alias `pd`) module, not a method that is called on the `forsale` object. It requires *two* arguments, namely the two columns in the data with which you want to make the table. Make sure you actually provide the subsetted dataset (i.e. `df['column_key']`), not just the column key.\n",
    "\n",
    "Make a contingency table for the columns `sauna` and `bath`. How many houses do have a sauna but don't have a bath? How many houses have neither?"
   ]
  },
  {
   "cell_type": "code",
   "execution_count": 16,
   "id": "165b2450",
   "metadata": {},
   "outputs": [
    {
     "data": {
      "text/html": [
       "<div>\n",
       "<style scoped>\n",
       "    .dataframe tbody tr th:only-of-type {\n",
       "        vertical-align: middle;\n",
       "    }\n",
       "\n",
       "    .dataframe tbody tr th {\n",
       "        vertical-align: top;\n",
       "    }\n",
       "\n",
       "    .dataframe thead th {\n",
       "        text-align: right;\n",
       "    }\n",
       "</style>\n",
       "<table border=\"1\" class=\"dataframe\">\n",
       "  <thead>\n",
       "    <tr style=\"text-align: right;\">\n",
       "      <th>bath</th>\n",
       "      <th>0.0</th>\n",
       "      <th>1.0</th>\n",
       "    </tr>\n",
       "    <tr>\n",
       "      <th>sauna</th>\n",
       "      <th></th>\n",
       "      <th></th>\n",
       "    </tr>\n",
       "  </thead>\n",
       "  <tbody>\n",
       "    <tr>\n",
       "      <th>0</th>\n",
       "      <td>1596</td>\n",
       "      <td>1719</td>\n",
       "    </tr>\n",
       "    <tr>\n",
       "      <th>1</th>\n",
       "      <td>12</td>\n",
       "      <td>37</td>\n",
       "    </tr>\n",
       "  </tbody>\n",
       "</table>\n",
       "</div>"
      ],
      "text/plain": [
       "bath    0.0   1.0\n",
       "sauna            \n",
       "0      1596  1719\n",
       "1        12    37"
      ]
     },
     "execution_count": 16,
     "metadata": {},
     "output_type": "execute_result"
    }
   ],
   "source": [
    "pd.crosstab(forsale['sauna'], forsale['bath'])"
   ]
  }
 ],
 "metadata": {
  "kernelspec": {
   "display_name": "les2",
   "language": "python",
   "name": "python3"
  },
  "language_info": {
   "codemirror_mode": {
    "name": "ipython",
    "version": 3
   },
   "file_extension": ".py",
   "mimetype": "text/x-python",
   "name": "python",
   "nbconvert_exporter": "python",
   "pygments_lexer": "ipython3",
   "version": "3.12.5"
  }
 },
 "nbformat": 4,
 "nbformat_minor": 5
}
