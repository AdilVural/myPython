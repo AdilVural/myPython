{
 "cells": [
  {
   "cell_type": "markdown",
   "id": "340a3008",
   "metadata": {},
   "source": [
    "# Programming & Visualization\n",
    "\n",
    "\n",
    "| **Item**            | **Details**              |\n",
    "|----------------------|--------------------------|\n",
    "| Deadline             | 3 oktober, 13:30u        |\n",
    "| Data                 | olympics_prepared.csv  |\n",
    "| Aantal vragen        | 4                        |\n",
    "| Aantal pagina’s      | 4                        |\n",
    "\n",
    "\n",
    "Lever een script of jupyter \n",
    "notebook in met daarin je code om de vragen te beantwoorden én in commentaren (#) \n",
    "uitleg waar nodig/gevraagd. Lever het script / notebook in via Canvas.\n",
    "\n",
    "Gebruik vooral de slides en oefeningen die we in de colleges hebben behandeld"
   ]
  },
  {
   "cell_type": "code",
   "execution_count": null,
   "id": "3a2ba256",
   "metadata": {},
   "outputs": [],
   "source": [
    "# <-- Dit is een comment, gebruik dit vooral voor het beantwoorden van vragen en het maken van observaties"
   ]
  },
  {
   "cell_type": "markdown",
   "id": "388a6066",
   "metadata": {},
   "source": [
    "## Data\n",
    "\n",
    "In deze assignment maken we gebruik van een dataset over de Olympische Spelen, \n",
    "1960-2022. De dataset bestaat uit de 1.357 observaties met de volgende 19 variabelen:\n",
    "\n",
    "| **Kolom**              | **Beschrijving**                               |\n",
    "|-------------------------|-----------------------------------------------|\n",
    "| game                   | Naam van Olympische Spelen (combi locatie en jaar) |\n",
    "| game_season            | Winter- of Zomerspelen                        |\n",
    "| game_year              | Jaartal                                       |\n",
    "| game_location          | Organiserend land                             |\n",
    "| country_name           | Deelnemend land                               |\n",
    "| country_code           | Landcode (van deelnemend land)                 |\n",
    "| continent              | Continent (“”)                                |\n",
    "| language               | Meest gesproken taal (“”)                     |\n",
    "| religion               | Dominante religie (“”)                        |\n",
    "| area                   | Grootte (“”)                                  |\n",
    "| population             | Aantal inwoners                               |\n",
    "| gdp                    | Gross Domestic Product                        |\n",
    "| flag_nr_colors         | Aantal kleuren in de vlag                     |\n",
    "| flag_mainhue           | Hoofdkleur van de vlag                        |\n",
    "| flag_topleft_color     | Kleur linkerbovenhoek van de vlag             |\n",
    "| flag_botright_color    | Kleur rechterbenedenhoek van de vlag          |\n",
    "| gold                   | Aantal gouden medailles                       |\n",
    "| silver                 | Aantal zilveren medailles                     |\n",
    "| bronze                 | Aantal bronzen medailles                      |\n",
    "\n",
    "\n",
    "Ieder observatie is een land, met karakteristieken over dat land en over de deelname \n",
    "aan de desbetreffende Olympische Spelen. Hieronder volgt een viertal vragen over deze \n",
    "dataset die met Python kunnen worden beantwoord."
   ]
  },
  {
   "cell_type": "markdown",
   "id": "66fcc18c",
   "metadata": {},
   "source": [
    "## Q1 Descriptives"
   ]
  },
  {
   "cell_type": "code",
   "execution_count": null,
   "id": "7835c202",
   "metadata": {},
   "outputs": [],
   "source": []
  },
  {
   "cell_type": "markdown",
   "id": "ff017210",
   "metadata": {},
   "source": [
    "### Descriptives a.\n",
    "Lees de data in vanuit het .csv-bestand (pd.read_csv()). Maak gebruik van eenvoudige descriptieve functions om een\n",
    "eerste beeld te krijgen van de beschikbare data. Zeg in het bijzonder iets (in tekst en laat\n",
    "zien welke code je hebt gebruikt om tot deze bevindingen te komen) over de volgende\n",
    "variabelen:\n",
    "1. country_name\n",
    "2. continent\n",
    "3. gold, silver, bronze\n"
   ]
  },
  {
   "cell_type": "code",
   "execution_count": null,
   "id": "09170c13",
   "metadata": {},
   "outputs": [],
   "source": []
  },
  {
   "cell_type": "markdown",
   "id": "d7bcff2e",
   "metadata": {},
   "source": [
    "### Descriptives b\n",
    "\n",
    "\n",
    "Filter uit de dataset de top-10 landen (volgens de traditionele medaillespiegel) van\n",
    "2022 en toon deze medaillespiegel (met alleen naam van het land en aantal gouden,\n",
    "zilveren en bronzen medailles)  \n",
    "\n",
    "Traditionele medailespiegel: Eerst de landen met de meeste gouden medailles, dan de landen met de meeste zilveren medailles en \n",
    "vervolgens de landen met de meeste bronzen medailles"
   ]
  },
  {
   "cell_type": "code",
   "execution_count": null,
   "id": "7eb8504f",
   "metadata": {},
   "outputs": [],
   "source": []
  },
  {
   "cell_type": "markdown",
   "id": "6ca5e660",
   "metadata": {},
   "source": [
    "## Q2 - Wrangling\n",
    "\n",
    "### Wrangling A\n",
    "\n",
    "Voeg de volgende variabelen toe aan de dataset:\n",
    "1. medals - totaal aantal medailles (van het deelnemende land tijdens de \n",
    "desbetreffende Olympische Spelen)\n",
    "2. gdp_per_capita - GDP per inwoner (“”)\n",
    "3. gdp_per_medal - GDP per medaille (“”)\n",
    "4. pop_per_medal - aantal inwoners per medaille (“”)\n",
    "\n"
   ]
  },
  {
   "cell_type": "code",
   "execution_count": null,
   "id": "d3c2234f",
   "metadata": {},
   "outputs": [],
   "source": []
  },
  {
   "cell_type": "markdown",
   "id": "c991c6ba",
   "metadata": {},
   "source": [
    "### Wrangling B\n",
    "\n",
    "Welke landen hebben over alle Winterspelen samen meer dan 250 medailles behaald? Rangschik deze landen op basis van hun totale aantal medailles in aflopende volgorde."
   ]
  },
  {
   "cell_type": "code",
   "execution_count": null,
   "id": "a2ae366d",
   "metadata": {},
   "outputs": [],
   "source": []
  },
  {
   "cell_type": "markdown",
   "id": "5b51d49d",
   "metadata": {},
   "source": [
    "## Q3 – Visualization\n",
    "\n",
    "Gebruik voor deze opdracht alleen de gegevens over de Olympische Spelen van 2022.\n",
    "Maak een visualisatie die de relatie toont tussen GDP per inwoner en het totaal aantal\n",
    "medailles. Gebruik daarvoor seaborn relplot. Voeg de volgende modificaties aan de visualisatie toe:\n",
    "\n",
    "1.  Ieder land heeft zijn eigen kleur gebaseerd op flag_mainhue\n",
    "2.  Een lineaire regressielijn (regplot) die het algemene verband tussen GDP per inwoner en\n",
    "totaal aantal medailles weergeeft (gebruik voor 1. & 2. twee verschillende plots op elkaar)\n",
    "3. Pas labels, titles, thema, etc. aan naar wens"
   ]
  },
  {
   "cell_type": "code",
   "execution_count": null,
   "id": "1ddd4f77",
   "metadata": {},
   "outputs": [],
   "source": []
  },
  {
   "cell_type": "markdown",
   "id": "536cb814",
   "metadata": {},
   "source": [
    "## Q4 - Visualization 2\n",
    "\n",
    "#### Maak de visualisatie in de graph.png na (Staat ook in je notebook).\n",
    "--------------\n",
    "\n",
    "1. Bereken per land het gemiddelde, maximaal en minimaal aantal medailles.\n",
    "2. Kies de top 10 landen op basis van het gemiddelde.\n",
    "3. Maak een barplot voor het gemiddelde en voeg een scatterplot toe voor het maximum (rood) en een scatterplot voor het minimum (groen).\n",
    "4. Voeg een titel, labels en legenda toe.\n",
    "\n",
    "\n",
    "(palette=\"viridis\" wordt gebruikt voor de kleurenschaal)"
   ]
  },
  {
   "cell_type": "markdown",
   "id": "204cf384",
   "metadata": {},
   "source": [
    "![title](graph.png)"
   ]
  },
  {
   "cell_type": "code",
   "execution_count": null,
   "id": "d9b7962f",
   "metadata": {},
   "outputs": [],
   "source": []
  }
 ],
 "metadata": {
  "kernelspec": {
   "display_name": "assignment1",
   "language": "python",
   "name": "python3"
  },
  "language_info": {
   "codemirror_mode": {
    "name": "ipython",
    "version": 3
   },
   "file_extension": ".py",
   "mimetype": "text/x-python",
   "name": "python",
   "nbconvert_exporter": "python",
   "pygments_lexer": "ipython3",
   "version": "3.13.5"
  }
 },
 "nbformat": 4,
 "nbformat_minor": 5
}
