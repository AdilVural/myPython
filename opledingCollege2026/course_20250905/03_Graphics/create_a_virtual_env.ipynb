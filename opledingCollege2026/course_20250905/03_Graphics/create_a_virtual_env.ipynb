{
 "cells": [
  {
   "cell_type": "markdown",
   "id": "78b8ab3d",
   "metadata": {},
   "source": [
    "### To create a virtual environment for Mac/Linux run the following cell.\n",
    "\n",
    "If it doesn't work as a cell, you can run the commands manually in the terminal. Note that when running it in a terminal you first have to remove the !"
   ]
  },
  {
   "cell_type": "code",
   "execution_count": 4,
   "id": "3192d8a9",
   "metadata": {
    "vscode": {
     "languageId": "shellscript"
    }
   },
   "outputs": [
    {
     "name": "stdout",
     "output_type": "stream",
     "text": [
      "Collecting numpy (from -r requirements.txt (line 1))\n",
      "  Using cached numpy-2.3.2-cp313-cp313-macosx_14_0_arm64.whl.metadata (62 kB)\n",
      "Collecting pandas (from -r requirements.txt (line 2))\n",
      "  Using cached pandas-2.3.2-cp313-cp313-macosx_11_0_arm64.whl.metadata (91 kB)\n",
      "Collecting ipykernel (from -r requirements.txt (line 3))\n",
      "  Using cached ipykernel-6.30.1-py3-none-any.whl.metadata (6.2 kB)\n",
      "Collecting matplotlib (from -r requirements.txt (line 4))\n",
      "  Using cached matplotlib-3.10.6-cp313-cp313-macosx_11_0_arm64.whl.metadata (11 kB)\n",
      "Collecting seaborn (from -r requirements.txt (line 5))\n",
      "  Using cached seaborn-0.13.2-py3-none-any.whl.metadata (5.4 kB)\n",
      "Collecting scipy (from -r requirements.txt (line 6))\n",
      "  Using cached scipy-1.16.1-cp313-cp313-macosx_14_0_arm64.whl.metadata (61 kB)\n",
      "Collecting statsmodels (from -r requirements.txt (line 7))\n",
      "  Using cached statsmodels-0.14.5-cp313-cp313-macosx_11_0_arm64.whl.metadata (9.5 kB)\n",
      "Collecting python-dateutil>=2.8.2 (from pandas->-r requirements.txt (line 2))\n",
      "  Using cached python_dateutil-2.9.0.post0-py2.py3-none-any.whl.metadata (8.4 kB)\n",
      "Collecting pytz>=2020.1 (from pandas->-r requirements.txt (line 2))\n",
      "  Using cached pytz-2025.2-py2.py3-none-any.whl.metadata (22 kB)\n",
      "Collecting tzdata>=2022.7 (from pandas->-r requirements.txt (line 2))\n",
      "  Using cached tzdata-2025.2-py2.py3-none-any.whl.metadata (1.4 kB)\n",
      "Collecting appnope>=0.1.2 (from ipykernel->-r requirements.txt (line 3))\n",
      "  Using cached appnope-0.1.4-py2.py3-none-any.whl.metadata (908 bytes)\n",
      "Collecting comm>=0.1.1 (from ipykernel->-r requirements.txt (line 3))\n",
      "  Using cached comm-0.2.3-py3-none-any.whl.metadata (3.7 kB)\n",
      "Collecting debugpy>=1.6.5 (from ipykernel->-r requirements.txt (line 3))\n",
      "  Using cached debugpy-1.8.16-cp313-cp313-macosx_14_0_universal2.whl.metadata (1.3 kB)\n",
      "Collecting ipython>=7.23.1 (from ipykernel->-r requirements.txt (line 3))\n",
      "  Using cached ipython-9.5.0-py3-none-any.whl.metadata (4.4 kB)\n",
      "Collecting jupyter-client>=8.0.0 (from ipykernel->-r requirements.txt (line 3))\n",
      "  Using cached jupyter_client-8.6.3-py3-none-any.whl.metadata (8.3 kB)\n",
      "Collecting jupyter-core!=5.0.*,>=4.12 (from ipykernel->-r requirements.txt (line 3))\n",
      "  Using cached jupyter_core-5.8.1-py3-none-any.whl.metadata (1.6 kB)\n",
      "Collecting matplotlib-inline>=0.1 (from ipykernel->-r requirements.txt (line 3))\n",
      "  Using cached matplotlib_inline-0.1.7-py3-none-any.whl.metadata (3.9 kB)\n",
      "Collecting nest-asyncio>=1.4 (from ipykernel->-r requirements.txt (line 3))\n",
      "  Using cached nest_asyncio-1.6.0-py3-none-any.whl.metadata (2.8 kB)\n",
      "Collecting packaging>=22 (from ipykernel->-r requirements.txt (line 3))\n",
      "  Using cached packaging-25.0-py3-none-any.whl.metadata (3.3 kB)\n",
      "Collecting psutil>=5.7 (from ipykernel->-r requirements.txt (line 3))\n",
      "  Using cached psutil-7.0.0-cp36-abi3-macosx_11_0_arm64.whl.metadata (22 kB)\n",
      "Collecting pyzmq>=25 (from ipykernel->-r requirements.txt (line 3))\n",
      "  Using cached pyzmq-27.0.2-cp312-abi3-macosx_10_15_universal2.whl.metadata (6.0 kB)\n",
      "Collecting tornado>=6.2 (from ipykernel->-r requirements.txt (line 3))\n",
      "  Using cached tornado-6.5.2-cp39-abi3-macosx_10_9_universal2.whl.metadata (2.8 kB)\n",
      "Collecting traitlets>=5.4.0 (from ipykernel->-r requirements.txt (line 3))\n",
      "  Using cached traitlets-5.14.3-py3-none-any.whl.metadata (10 kB)\n",
      "Collecting contourpy>=1.0.1 (from matplotlib->-r requirements.txt (line 4))\n",
      "  Using cached contourpy-1.3.3-cp313-cp313-macosx_11_0_arm64.whl.metadata (5.5 kB)\n",
      "Collecting cycler>=0.10 (from matplotlib->-r requirements.txt (line 4))\n",
      "  Using cached cycler-0.12.1-py3-none-any.whl.metadata (3.8 kB)\n",
      "Collecting fonttools>=4.22.0 (from matplotlib->-r requirements.txt (line 4))\n",
      "  Using cached fonttools-4.59.2-cp313-cp313-macosx_10_13_universal2.whl.metadata (109 kB)\n",
      "Collecting kiwisolver>=1.3.1 (from matplotlib->-r requirements.txt (line 4))\n",
      "  Using cached kiwisolver-1.4.9-cp313-cp313-macosx_11_0_arm64.whl.metadata (6.3 kB)\n",
      "Collecting pillow>=8 (from matplotlib->-r requirements.txt (line 4))\n",
      "  Using cached pillow-11.3.0-cp313-cp313-macosx_11_0_arm64.whl.metadata (9.0 kB)\n",
      "Collecting pyparsing>=2.3.1 (from matplotlib->-r requirements.txt (line 4))\n",
      "  Using cached pyparsing-3.2.3-py3-none-any.whl.metadata (5.0 kB)\n",
      "Collecting patsy>=0.5.6 (from statsmodels->-r requirements.txt (line 7))\n",
      "  Using cached patsy-1.0.1-py2.py3-none-any.whl.metadata (3.3 kB)\n",
      "Collecting decorator (from ipython>=7.23.1->ipykernel->-r requirements.txt (line 3))\n",
      "  Using cached decorator-5.2.1-py3-none-any.whl.metadata (3.9 kB)\n",
      "Collecting ipython-pygments-lexers (from ipython>=7.23.1->ipykernel->-r requirements.txt (line 3))\n",
      "  Using cached ipython_pygments_lexers-1.1.1-py3-none-any.whl.metadata (1.1 kB)\n",
      "Collecting jedi>=0.16 (from ipython>=7.23.1->ipykernel->-r requirements.txt (line 3))\n",
      "  Using cached jedi-0.19.2-py2.py3-none-any.whl.metadata (22 kB)\n",
      "Collecting pexpect>4.3 (from ipython>=7.23.1->ipykernel->-r requirements.txt (line 3))\n",
      "  Using cached pexpect-4.9.0-py2.py3-none-any.whl.metadata (2.5 kB)\n",
      "Collecting prompt_toolkit<3.1.0,>=3.0.41 (from ipython>=7.23.1->ipykernel->-r requirements.txt (line 3))\n",
      "  Using cached prompt_toolkit-3.0.52-py3-none-any.whl.metadata (6.4 kB)\n",
      "Collecting pygments>=2.4.0 (from ipython>=7.23.1->ipykernel->-r requirements.txt (line 3))\n",
      "  Using cached pygments-2.19.2-py3-none-any.whl.metadata (2.5 kB)\n",
      "Collecting stack_data (from ipython>=7.23.1->ipykernel->-r requirements.txt (line 3))\n",
      "  Using cached stack_data-0.6.3-py3-none-any.whl.metadata (18 kB)\n",
      "Collecting wcwidth (from prompt_toolkit<3.1.0,>=3.0.41->ipython>=7.23.1->ipykernel->-r requirements.txt (line 3))\n",
      "  Using cached wcwidth-0.2.13-py2.py3-none-any.whl.metadata (14 kB)\n",
      "Collecting parso<0.9.0,>=0.8.4 (from jedi>=0.16->ipython>=7.23.1->ipykernel->-r requirements.txt (line 3))\n",
      "  Using cached parso-0.8.5-py2.py3-none-any.whl.metadata (8.3 kB)\n",
      "Collecting platformdirs>=2.5 (from jupyter-core!=5.0.*,>=4.12->ipykernel->-r requirements.txt (line 3))\n",
      "  Using cached platformdirs-4.4.0-py3-none-any.whl.metadata (12 kB)\n",
      "Collecting ptyprocess>=0.5 (from pexpect>4.3->ipython>=7.23.1->ipykernel->-r requirements.txt (line 3))\n",
      "  Using cached ptyprocess-0.7.0-py2.py3-none-any.whl.metadata (1.3 kB)\n",
      "Collecting six>=1.5 (from python-dateutil>=2.8.2->pandas->-r requirements.txt (line 2))\n",
      "  Using cached six-1.17.0-py2.py3-none-any.whl.metadata (1.7 kB)\n",
      "Collecting executing>=1.2.0 (from stack_data->ipython>=7.23.1->ipykernel->-r requirements.txt (line 3))\n",
      "  Using cached executing-2.2.1-py2.py3-none-any.whl.metadata (8.9 kB)\n",
      "Collecting asttokens>=2.1.0 (from stack_data->ipython>=7.23.1->ipykernel->-r requirements.txt (line 3))\n",
      "  Using cached asttokens-3.0.0-py3-none-any.whl.metadata (4.7 kB)\n",
      "Collecting pure-eval (from stack_data->ipython>=7.23.1->ipykernel->-r requirements.txt (line 3))\n",
      "  Using cached pure_eval-0.2.3-py3-none-any.whl.metadata (6.3 kB)\n",
      "Using cached numpy-2.3.2-cp313-cp313-macosx_14_0_arm64.whl (5.1 MB)\n",
      "Using cached pandas-2.3.2-cp313-cp313-macosx_11_0_arm64.whl (10.7 MB)\n",
      "Using cached ipykernel-6.30.1-py3-none-any.whl (117 kB)\n",
      "Using cached matplotlib-3.10.6-cp313-cp313-macosx_11_0_arm64.whl (8.1 MB)\n",
      "Using cached seaborn-0.13.2-py3-none-any.whl (294 kB)\n",
      "Using cached scipy-1.16.1-cp313-cp313-macosx_14_0_arm64.whl (20.8 MB)\n",
      "Using cached statsmodels-0.14.5-cp313-cp313-macosx_11_0_arm64.whl (9.7 MB)\n",
      "Using cached appnope-0.1.4-py2.py3-none-any.whl (4.3 kB)\n",
      "Using cached comm-0.2.3-py3-none-any.whl (7.3 kB)\n",
      "Using cached contourpy-1.3.3-cp313-cp313-macosx_11_0_arm64.whl (274 kB)\n",
      "Using cached cycler-0.12.1-py3-none-any.whl (8.3 kB)\n",
      "Using cached debugpy-1.8.16-cp313-cp313-macosx_14_0_universal2.whl (2.5 MB)\n",
      "Using cached fonttools-4.59.2-cp313-cp313-macosx_10_13_universal2.whl (2.8 MB)\n",
      "Using cached ipython-9.5.0-py3-none-any.whl (612 kB)\n",
      "Using cached prompt_toolkit-3.0.52-py3-none-any.whl (391 kB)\n",
      "Using cached jedi-0.19.2-py2.py3-none-any.whl (1.6 MB)\n",
      "Using cached parso-0.8.5-py2.py3-none-any.whl (106 kB)\n",
      "Using cached jupyter_client-8.6.3-py3-none-any.whl (106 kB)\n",
      "Using cached jupyter_core-5.8.1-py3-none-any.whl (28 kB)\n",
      "Using cached kiwisolver-1.4.9-cp313-cp313-macosx_11_0_arm64.whl (64 kB)\n",
      "Using cached matplotlib_inline-0.1.7-py3-none-any.whl (9.9 kB)\n",
      "Using cached nest_asyncio-1.6.0-py3-none-any.whl (5.2 kB)\n",
      "Using cached packaging-25.0-py3-none-any.whl (66 kB)\n",
      "Using cached patsy-1.0.1-py2.py3-none-any.whl (232 kB)\n",
      "Using cached pexpect-4.9.0-py2.py3-none-any.whl (63 kB)\n",
      "Using cached pillow-11.3.0-cp313-cp313-macosx_11_0_arm64.whl (4.7 MB)\n",
      "Using cached platformdirs-4.4.0-py3-none-any.whl (18 kB)\n",
      "Using cached psutil-7.0.0-cp36-abi3-macosx_11_0_arm64.whl (239 kB)\n",
      "Using cached ptyprocess-0.7.0-py2.py3-none-any.whl (13 kB)\n",
      "Using cached pygments-2.19.2-py3-none-any.whl (1.2 MB)\n",
      "Using cached pyparsing-3.2.3-py3-none-any.whl (111 kB)\n",
      "Using cached python_dateutil-2.9.0.post0-py2.py3-none-any.whl (229 kB)\n",
      "Using cached pytz-2025.2-py2.py3-none-any.whl (509 kB)\n",
      "Using cached pyzmq-27.0.2-cp312-abi3-macosx_10_15_universal2.whl (1.3 MB)\n",
      "Using cached six-1.17.0-py2.py3-none-any.whl (11 kB)\n",
      "Using cached tornado-6.5.2-cp39-abi3-macosx_10_9_universal2.whl (442 kB)\n",
      "Using cached traitlets-5.14.3-py3-none-any.whl (85 kB)\n",
      "Using cached tzdata-2025.2-py2.py3-none-any.whl (347 kB)\n",
      "Using cached decorator-5.2.1-py3-none-any.whl (9.2 kB)\n",
      "Using cached ipython_pygments_lexers-1.1.1-py3-none-any.whl (8.1 kB)\n",
      "Using cached stack_data-0.6.3-py3-none-any.whl (24 kB)\n",
      "Using cached asttokens-3.0.0-py3-none-any.whl (26 kB)\n",
      "Using cached executing-2.2.1-py2.py3-none-any.whl (28 kB)\n",
      "Using cached pure_eval-0.2.3-py3-none-any.whl (11 kB)\n",
      "Using cached wcwidth-0.2.13-py2.py3-none-any.whl (34 kB)\n",
      "Installing collected packages: wcwidth, pytz, pure-eval, ptyprocess, tzdata, traitlets, tornado, six, pyzmq, pyparsing, pygments, psutil, prompt_toolkit, platformdirs, pillow, pexpect, parso, packaging, numpy, nest-asyncio, kiwisolver, fonttools, executing, decorator, debugpy, cycler, comm, asttokens, appnope, stack_data, scipy, python-dateutil, patsy, matplotlib-inline, jupyter-core, jedi, ipython-pygments-lexers, contourpy, pandas, matplotlib, jupyter-client, ipython, statsmodels, seaborn, ipykernel\n",
      "\u001b[2K   \u001b[90m━━━━━━━━━━━━━━━━━━━━━━━━━━━━━━━━━━━━━━━━\u001b[0m \u001b[32m45/45\u001b[0m [ipykernel]45\u001b[0m [seaborn]els]til]\n",
      "\u001b[1A\u001b[2KSuccessfully installed appnope-0.1.4 asttokens-3.0.0 comm-0.2.3 contourpy-1.3.3 cycler-0.12.1 debugpy-1.8.16 decorator-5.2.1 executing-2.2.1 fonttools-4.59.2 ipykernel-6.30.1 ipython-9.5.0 ipython-pygments-lexers-1.1.1 jedi-0.19.2 jupyter-client-8.6.3 jupyter-core-5.8.1 kiwisolver-1.4.9 matplotlib-3.10.6 matplotlib-inline-0.1.7 nest-asyncio-1.6.0 numpy-2.3.2 packaging-25.0 pandas-2.3.2 parso-0.8.5 patsy-1.0.1 pexpect-4.9.0 pillow-11.3.0 platformdirs-4.4.0 prompt_toolkit-3.0.52 psutil-7.0.0 ptyprocess-0.7.0 pure-eval-0.2.3 pygments-2.19.2 pyparsing-3.2.3 python-dateutil-2.9.0.post0 pytz-2025.2 pyzmq-27.0.2 scipy-1.16.1 seaborn-0.13.2 six-1.17.0 stack_data-0.6.3 statsmodels-0.14.5 tornado-6.5.2 traitlets-5.14.3 tzdata-2025.2 wcwidth-0.2.13\n",
      "\n",
      "\u001b[1m[\u001b[0m\u001b[34;49mnotice\u001b[0m\u001b[1;39;49m]\u001b[0m\u001b[39;49m A new release of pip is available: \u001b[0m\u001b[31;49m25.1.1\u001b[0m\u001b[39;49m -> \u001b[0m\u001b[32;49m25.2\u001b[0m\n",
      "\u001b[1m[\u001b[0m\u001b[34;49mnotice\u001b[0m\u001b[1;39;49m]\u001b[0m\u001b[39;49m To update, run: \u001b[0m\u001b[32;49mpip install --upgrade pip\u001b[0m\n"
     ]
    }
   ],
   "source": [
    "!python3 -m venv les3\n",
    "!source les3/bin/activate && pip3 install -r requirements.txt"
   ]
  },
  {
   "cell_type": "markdown",
   "id": "21bd281e",
   "metadata": {},
   "source": [
    "### To create a virtual enviornment for Windows run the following cell:\n",
    "\n",
    "If it doesn't work as a cell, you can run the commands manually in the terminal. Note that when running it in a terminal you first have to remove the !"
   ]
  },
  {
   "cell_type": "code",
   "execution_count": 5,
   "id": "fe553639",
   "metadata": {
    "vscode": {
     "languageId": "powershell"
    }
   },
   "outputs": [
    {
     "name": "stdout",
     "output_type": "stream",
     "text": [
      "zsh:1: command not found: python\n",
      "zsh:1: command not found: les3scriptsactivate\n"
     ]
    }
   ],
   "source": [
    "!python -m venv les3\n",
    "!les3\\scripts\\activate && pip install -r requirements.txt"
   ]
  }
 ],
 "metadata": {
  "kernelspec": {
   "display_name": "Python 3",
   "language": "python",
   "name": "python3"
  },
  "language_info": {
   "codemirror_mode": {
    "name": "ipython",
    "version": 3
   },
   "file_extension": ".py",
   "mimetype": "text/x-python",
   "name": "python",
   "nbconvert_exporter": "python",
   "pygments_lexer": "ipython3",
   "version": "3.13.5"
  }
 },
 "nbformat": 4,
 "nbformat_minor": 5
}
