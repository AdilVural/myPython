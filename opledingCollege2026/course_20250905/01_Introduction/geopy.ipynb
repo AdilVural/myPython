{
 "cells": [
  {
   "cell_type": "code",
   "execution_count": 13,
   "id": "8e99841b",
   "metadata": {},
   "outputs": [
    {
     "name": "stdout",
     "output_type": "stream",
     "text": [
      "Requirement already satisfied: geopy in /Library/Frameworks/Python.framework/Versions/3.13/lib/python3.13/site-packages (2.4.1)\n",
      "Requirement already satisfied: geographiclib<3,>=1.52 in /Library/Frameworks/Python.framework/Versions/3.13/lib/python3.13/site-packages (from geopy) (2.1)\n",
      "Note: you may need to restart the kernel to use updated packages.\n"
     ]
    }
   ],
   "source": [
    "pip install geopy"
   ]
  },
  {
   "cell_type": "code",
   "execution_count": 17,
   "id": "62c3fc3b",
   "metadata": {},
   "outputs": [
    {
     "name": "stdout",
     "output_type": "stream",
     "text": [
      "Requirement already satisfied: certifi in /Library/Frameworks/Python.framework/Versions/3.13/lib/python3.13/site-packages (2025.8.3)\n",
      "Note: you may need to restart the kernel to use updated packages.\n",
      "Address: Ankara, Çankaya, Ankara, İç Anadolu Bölgesi, 06420, Türkiye\n",
      "Coordinates: 39.9207759 32.8540497\n"
     ]
    }
   ],
   "source": [
    "%pip install certifi\n",
    "\n",
    "import certifi\n",
    "from geopy.geocoders import Nominatim\n",
    "import ssl\n",
    "\n",
    "ctx = ssl.create_default_context(cafile=certifi.where())\n",
    "\n",
    "geolocator = Nominatim(user_agent=\"geo_app\", ssl_context=ctx)\n",
    "location = geolocator.geocode(\"Ankara, Turkey\")\n",
    "address = location.address\n",
    "print(\"Address:\", address)\n",
    "print(\"Coordinates:\", location.latitude, location.longitude)"
   ]
  }
 ],
 "metadata": {
  "kernelspec": {
   "display_name": "Python 3",
   "language": "python",
   "name": "python3"
  },
  "language_info": {
   "codemirror_mode": {
    "name": "ipython",
    "version": 3
   },
   "file_extension": ".py",
   "mimetype": "text/x-python",
   "name": "python",
   "nbconvert_exporter": "python",
   "pygments_lexer": "ipython3",
   "version": "3.13.7"
  }
 },
 "nbformat": 4,
 "nbformat_minor": 5
}
