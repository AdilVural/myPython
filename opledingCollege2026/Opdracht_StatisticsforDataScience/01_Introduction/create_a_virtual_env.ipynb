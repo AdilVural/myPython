{
 "cells": [
  {
   "cell_type": "markdown",
   "id": "78b8ab3d",
   "metadata": {},
   "source": [
    "### To create a virtual environment for Mac/Linux run the following cell.\n",
    "\n",
    "If it doesn't work as a cell, you can run the commands manually in the terminal. Note that when running it in a terminal you first have to remove the !"
   ]
  },
  {
   "cell_type": "code",
   "execution_count": 4,
   "id": "3192d8a9",
   "metadata": {
    "vscode": {
     "languageId": "shellscript"
    }
   },
   "outputs": [
    {
     "name": "stdout",
     "output_type": "stream",
     "text": [
      "Requirement already satisfied: numpy in ./les1/lib/python3.13/site-packages (from -r requirements.txt (line 1)) (2.3.3)\n",
      "Requirement already satisfied: pandas in ./les1/lib/python3.13/site-packages (from -r requirements.txt (line 2)) (2.3.2)\n",
      "Requirement already satisfied: ipykernel in ./les1/lib/python3.13/site-packages (from -r requirements.txt (line 3)) (6.30.1)\n",
      "\u001b[31mERROR: Could not find a version that satisfies the requirement os (from versions: none)\u001b[0m\u001b[31m\n",
      "\u001b[0m\u001b[31mERROR: No matching distribution found for os\u001b[0m\u001b[31m\n",
      "\u001b[0m"
     ]
    }
   ],
   "source": [
    "!python3 -m venv les1\n",
    "!source les1/bin/activate && pip3 install -r requirements.txt"
   ]
  }
 ],
 "metadata": {
  "kernelspec": {
   "display_name": "Python 3",
   "language": "python",
   "name": "python3"
  },
  "language_info": {
   "codemirror_mode": {
    "name": "ipython",
    "version": 3
   },
   "file_extension": ".py",
   "mimetype": "text/x-python",
   "name": "python",
   "nbconvert_exporter": "python",
   "pygments_lexer": "ipython3",
   "version": "3.13.7"
  }
 },
 "nbformat": 4,
 "nbformat_minor": 5
}
