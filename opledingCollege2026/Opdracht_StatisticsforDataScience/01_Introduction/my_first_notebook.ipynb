{
 "cells": [
  {
   "cell_type": "markdown",
   "id": "84644d08",
   "metadata": {},
   "source": [
    "# Day 1 Eindopdracht “Statistics for Data Science”\n",
    "\n",
    "Voor deze eindopdracht zijn er twee mogelijkheden. Hieronder volgt ten eerste de\n",
    "beschrijving van een opdracht gebaseerd op een dataset over universiteiten in de Verenigde\n",
    "Staten. Het is ook mogelijk om de eindopdracht te baseren op een eigen (bedrijfs)dataset.\n",
    "Aan het einde van dit document volgt meer informatie hierover.\n",
    "\n",
    "Voor beide opdrachten geldt dat de resultaten in drie delen ingeleverd moeten worden,\n",
    "telkens samengevat in een bondig rapport. In dit rapport moet voor elke deelanalyse dui-\n",
    "delijk zijn wat het doel van de berekening is, wat de uitkomst is en vooral wat de conclusie\n",
    "is.\n",
    "\n",
    "Zorg ervoor dat er voldoende details gegeven zijn, bijvoorbeeld bij het uitvoeren van\n",
    "een statistische toets is het van belang om:\n",
    "1. de keuze van de toets duidelijk te motiveren;\n",
    "2. de nul- en alternatieve hypothese te beschrijven;\n",
    "3. de p-waarde te rapporteren;\n",
    "4. de uiteindelijke conclusie te rapporteren in termen van de toepassing (dus niet alleen\n",
    "“de nul-hypothese wordt verworpen”, maar ook wat dit dan betekent).\n",
    "\n",
    "\n",
    "Voor elk deel van de opdracht moet een rapport in pdf formaat ingeleverd worden, sa-\n",
    "men met de volledige Python (of R) code in een apart bestand. Het inleveren verloopt via\n",
    "Canvas (zie onder “Assignments”). Het verwerken van de resultaten met behulp van bij-\n",
    "voorbeeld een Jupyter Notebook of R-Markdown is prima, maar probeer onnodige output\n",
    "te vermijden en lever ook altijd een pdf versie in.\n",
    "De deadlines zijn als volgt:\n",
    "Deel 1: zondag, 28 september (voor het einde van de dag);\n",
    "Deel 2: zondag, 12 oktober (voor het einde van de dag);\n",
    "Deel 3: zondag, 26 oktober (voor het einde van de dag).\n",
    "\n"
   ]
  },
  {
   "cell_type": "markdown",
   "id": "738862ce",
   "metadata": {},
   "source": [
    "## 1 Opdracht obv. universiteitsdata\n",
    "Het databestand college statistics.csv bevat informatie over 777 universiteiten en\n",
    "colleges in de Verenigde Staten in ´e´en specifiek jaar.\n",
    "\n",
    "De variabelen in deze dataset zijn:\n",
    "\n",
    "    01. Private: Public/private indicator\n",
    "    02. Apps: Number of applications received\n",
    "    03. Accept: Number of applicants accepted\n",
    "    04. Enroll: Number of new students enrolled\n",
    "    05. Top10perc: Percentage of new students who were in the top 10% in their high school class\n",
    "    06. Top25perc: Percentage of new students who were in the top 25% of their high school class\n",
    "    07. F.Undergrad: Number of full-time undergraduates\n",
    "    08. P.Undergrad: Number of part-time undergraduates\n",
    "    09. Outstate: Out-of-state tuition\n",
    "    10. Room.Board: Room and board costs\n",
    "    11. Books: Estimated book costs\n",
    "    12. Personal: Estimated personal spending\n",
    "    13. PhD: Percent of faculty with Ph.D.’s\n",
    "    14. Terminal: Percent of faculty with terminal degree\n",
    "    15. S.F.Ratio: Student/faculty ratio\n",
    "    16. perc.alumni: Percent of alumni who donate\n",
    "    17. Expend: Instructional expenditure per student\n",
    "    18. Grad.Rate: Graduation rate\n",
    "\n",
    "In deze opdracht voer je een gedetailleerde statistische analyse uit op deze dataset.\n",
    "Hieronder vind je een lijst van stappen die uitgevoerd moeten worden."
   ]
  },
  {
   "cell_type": "markdown",
   "id": "ad732880",
   "metadata": {},
   "source": [
    "# Deel 1"
   ]
  },
  {
   "cell_type": "markdown",
   "id": "d1026f17",
   "metadata": {},
   "source": [
    "1. Lees de data in als dataframe."
   ]
  },
  {
   "cell_type": "code",
   "execution_count": null,
   "id": "d40e996e",
   "metadata": {
    "scrolled": false
   },
   "outputs": [
    {
     "data": {
      "text/plain": [
       "[22.4, 21.5, 23.7, 21.8, 20.8]"
      ]
     },
     "execution_count": 13,
     "metadata": {},
     "output_type": "execute_result"
    }
   ],
   "source": [
    "[22.4, 21.5, 23.7, 21.8, 20.8]"
   ]
  },
  {
   "cell_type": "markdown",
   "id": "0aa9acec",
   "metadata": {},
   "source": [
    "If we want to reuse this list, we need to store it in a variable."
   ]
  },
  {
   "cell_type": "code",
   "execution_count": null,
   "id": "86fd819b",
   "metadata": {},
   "outputs": [],
   "source": [
    "age = [22.4, 21.5, 23.7, 21.8, 20.8]"
   ]
  },
  {
   "cell_type": "markdown",
   "id": "74aac12d",
   "metadata": {},
   "source": [
    "Running the cell above will not produce any output. If we want to see the contents of a variable, we can use the name of the variable"
   ]
  },
  {
   "cell_type": "code",
   "execution_count": null,
   "id": "f2140362",
   "metadata": {},
   "outputs": [
    {
     "data": {
      "text/plain": [
       "[22.4, 21.5, 23.7, 21.8, 20.8]"
      ]
     },
     "execution_count": 2,
     "metadata": {},
     "output_type": "execute_result"
    }
   ],
   "source": [
    "age"
   ]
  },
  {
   "cell_type": "markdown",
   "id": "72f261c1",
   "metadata": {},
   "source": [
    "We can use the ```len()``` function to find out how many elements the list holds."
   ]
  },
  {
   "cell_type": "code",
   "execution_count": null,
   "id": "ea9a4c9b",
   "metadata": {},
   "outputs": [
    {
     "data": {
      "text/plain": [
       "5"
      ]
     },
     "execution_count": 3,
     "metadata": {},
     "output_type": "execute_result"
    }
   ],
   "source": [
    "len(age)"
   ]
  },
  {
   "cell_type": "markdown",
   "id": "d8db78b4",
   "metadata": {},
   "source": [
    "Use the ```sum()``` function to display the sum of the age list."
   ]
  },
  {
   "cell_type": "code",
   "execution_count": null,
   "id": "a2e47dcf",
   "metadata": {},
   "outputs": [
    {
     "data": {
      "text/plain": [
       "110.2"
      ]
     },
     "execution_count": 4,
     "metadata": {},
     "output_type": "execute_result"
    }
   ],
   "source": [
    "sum(age)"
   ]
  },
  {
   "cell_type": "markdown",
   "id": "dfe0c4e0",
   "metadata": {},
   "source": [
    "Combine above functions to calculate the mean age of the students."
   ]
  },
  {
   "cell_type": "code",
   "execution_count": null,
   "id": "85531a27",
   "metadata": {},
   "outputs": [
    {
     "data": {
      "text/plain": [
       "22.04"
      ]
     },
     "execution_count": 5,
     "metadata": {},
     "output_type": "execute_result"
    }
   ],
   "source": [
    "sum(age) / len(age)"
   ]
  },
  {
   "cell_type": "markdown",
   "id": "cf8c5f26",
   "metadata": {},
   "source": [
    "Store the mean age in a variable."
   ]
  },
  {
   "cell_type": "code",
   "execution_count": null,
   "id": "f85ea20f",
   "metadata": {},
   "outputs": [],
   "source": [
    "mean_age = sum(age) / len(age)"
   ]
  },
  {
   "cell_type": "markdown",
   "id": "13cf6931",
   "metadata": {},
   "source": [
    "Print the mean age."
   ]
  },
  {
   "cell_type": "code",
   "execution_count": null,
   "id": "3d090048",
   "metadata": {},
   "outputs": [
    {
     "data": {
      "text/plain": [
       "22.04"
      ]
     },
     "execution_count": 7,
     "metadata": {},
     "output_type": "execute_result"
    }
   ],
   "source": [
    "mean_age"
   ]
  },
  {
   "cell_type": "markdown",
   "id": "1eaf603e",
   "metadata": {},
   "source": [
    "So far, every cell contained just one line of code. Code cells can hold as many lines as you want. "
   ]
  },
  {
   "cell_type": "code",
   "execution_count": null,
   "id": "f4f71f86",
   "metadata": {},
   "outputs": [
    {
     "name": "stdout",
     "output_type": "stream",
     "text": [
      "There are 5 elements in the age list\n",
      "The mean age of the 5 students is: 22.04\n"
     ]
    }
   ],
   "source": [
    "# Print the length of the list\n",
    "print(\"There are\", len(age), \"elements in the age list\")\n",
    "\n",
    "# Store the mean age in a variable\n",
    "mean_age = sum(age) / len(age)\n",
    "\n",
    "# Print the mean_age\n",
    "print(\"The mean age of the\", len(age), \"students is:\", mean_age)"
   ]
  },
  {
   "cell_type": "markdown",
   "id": "5b49bade",
   "metadata": {},
   "source": [
    "Use the ```help()``` function to get more info on what a function does and which parameters it expects."
   ]
  },
  {
   "cell_type": "code",
   "execution_count": null,
   "id": "daa4c07f",
   "metadata": {},
   "outputs": [
    {
     "name": "stdout",
     "output_type": "stream",
     "text": [
      "Help on built-in function print in module builtins:\n",
      "\n",
      "print(*args, sep=' ', end='\\n', file=None, flush=False)\n",
      "    Prints the values to a stream, or to sys.stdout by default.\n",
      "\n",
      "    sep\n",
      "      string inserted between values, default a space.\n",
      "    end\n",
      "      string appended after the last value, default a newline.\n",
      "    file\n",
      "      a file-like object (stream); defaults to the current sys.stdout.\n",
      "    flush\n",
      "      whether to forcibly flush the stream.\n",
      "\n"
     ]
    }
   ],
   "source": [
    "help(print)"
   ]
  }
 ],
 "metadata": {
  "celltoolbar": "Geen",
  "kernelspec": {
   "display_name": "Python 3",
   "language": "python",
   "name": "python3"
  },
  "language_info": {
   "codemirror_mode": {
    "name": "ipython",
    "version": 3
   },
   "file_extension": ".py",
   "mimetype": "text/x-python",
   "name": "python",
   "nbconvert_exporter": "python",
   "pygments_lexer": "ipython3",
   "version": "3.12.8"
  }
 },
 "nbformat": 4,
 "nbformat_minor": 5
}
