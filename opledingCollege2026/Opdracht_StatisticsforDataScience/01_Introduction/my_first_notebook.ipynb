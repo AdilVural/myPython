{
 "cells": [
  {
   "cell_type": "markdown",
   "id": "84644d08",
   "metadata": {},
   "source": [
    "# Day 1 Eindopdracht “Statistics for Data Science”\n",
    "\n",
    "Voor deze eindopdracht zijn er twee mogelijkheden. Hieronder volgt ten eerste de\n",
    "beschrijving van een opdracht gebaseerd op een dataset over universiteiten in de Verenigde\n",
    "Staten. Het is ook mogelijk om de eindopdracht te baseren op een eigen (bedrijfs)dataset.\n",
    "Aan het einde van dit document volgt meer informatie hierover.\n",
    "\n",
    "Voor beide opdrachten geldt dat de resultaten in drie delen ingeleverd moeten worden,\n",
    "telkens samengevat in een bondig rapport. In dit rapport moet voor elke deelanalyse dui-\n",
    "delijk zijn wat het doel van de berekening is, wat de uitkomst is en vooral wat de conclusie\n",
    "is.\n",
    "\n",
    "Zorg ervoor dat er voldoende details gegeven zijn, bijvoorbeeld bij het uitvoeren van\n",
    "een statistische toets is het van belang om:\n",
    "1. de keuze van de toets duidelijk te motiveren;\n",
    "2. de nul- en alternatieve hypothese te beschrijven;\n",
    "3. de p-waarde te rapporteren;\n",
    "4. de uiteindelijke conclusie te rapporteren in termen van de toepassing (dus niet alleen\n",
    "“de nul-hypothese wordt verworpen”, maar ook wat dit dan betekent).\n",
    "\n",
    "\n",
    "Voor elk deel van de opdracht moet een rapport in pdf formaat ingeleverd worden, sa-\n",
    "men met de volledige Python (of R) code in een apart bestand. Het inleveren verloopt via\n",
    "Canvas (zie onder “Assignments”). Het verwerken van de resultaten met behulp van bij-\n",
    "voorbeeld een Jupyter Notebook of R-Markdown is prima, maar probeer onnodige output\n",
    "te vermijden en lever ook altijd een pdf versie in.\n",
    "De deadlines zijn als volgt:\n",
    "Deel 1: zondag, 28 september (voor het einde van de dag);\n",
    "Deel 2: zondag, 12 oktober (voor het einde van de dag);\n",
    "Deel 3: zondag, 26 oktober (voor het einde van de dag).\n",
    "\n"
   ]
  },
  {
   "cell_type": "markdown",
   "id": "738862ce",
   "metadata": {},
   "source": [
    "## 1 Opdracht obv. universiteitsdata\n",
    "Het databestand college statistics.csv bevat informatie over 777 universiteiten en\n",
    "colleges in de Verenigde Staten in ´e´en specifiek jaar.\n",
    "\n",
    "De variabelen in deze dataset zijn:\n",
    "\n",
    "- Privé (Private): Indicator voor publiek/persoonlijk\n",
    "- Aanvragen (Apps): Aantal ontvangen aanvragen\n",
    "- Acceptatie (Accept): Aantal toegelaten aanvragers\n",
    "- Inschrijving (Enroll): Aantal nieuwe ingeschreven studenten\n",
    "- Top10perc: Percentage nieuwe studenten die in de top 10% van hun middelbare schoolklasse zaten\n",
    "- Top25perc: Percentage nieuwe studenten die in de top 25% van hun middelbare schoolklasse zaten\n",
    "- F.Undergrad: Aantal voltijd bachelorstudenten\n",
    "- P.Undergrad: Aantal deeltijd bachelorstudenten\n",
    "- Outstate: Collegegeld voor studenten van buiten de staat\n",
    "- Kamer en Board (Room.Board): Kosten voor kamer en maaltijden\n",
    "- Boeken (Books): Geschatte kosten voor boeken\n",
    "- Persoonlijk (Personal): Geschatte persoonlijke uitgaven\n",
    "- PhD: Percentage faculteit met een Ph.D.\n",
    "- Terminale graad (Terminal): Percentage faculteit met een terminale graad\n",
    "- S.F.Ratio: Studenten/faculteit ratio\n",
    "- Perc.alumni: Percentage alumni die doneren\n",
    "- Uitgaven (Expend): Onderwijsexpenditures per student\n",
    "- Afstudeerpercentage (Grad.Rate): Afstudeerpercentage\n",
    "\n",
    "In deze opdracht voer je een gedetailleerde statistische analyse uit op deze dataset.\n",
    "Hieronder vind je een lijst van stappen die uitgevoerd moeten worden."
   ]
  },
  {
   "cell_type": "markdown",
   "id": "ad732880",
   "metadata": {},
   "source": [
    "# Deel 1"
   ]
  },
  {
   "cell_type": "markdown",
   "id": "d1026f17",
   "metadata": {},
   "source": [
    "1. Lees de data in als dataframe.\n",
    "inlezen csv-file"
   ]
  },
  {
   "cell_type": "code",
   "execution_count": 4,
   "id": "39e00a44",
   "metadata": {},
   "outputs": [
    {
     "name": "stdout",
     "output_type": "stream",
     "text": [
      "PYTHON: /usr/local/bin/python3\n",
      "VERSIE: 3.13.7 (v3.13.7:bcee1c32211, Aug 14 2025, 19:10:51) [Clang 16.0.0 (clang-1600.0.26.6)]\n",
      "['/Library/Frameworks/Python.framework/Versions/3.13/lib/python313.zip',\n",
      " '/Library/Frameworks/Python.framework/Versions/3.13/lib/python3.13',\n",
      " '/Library/Frameworks/Python.framework/Versions/3.13/lib/python3.13/lib-dynload']\n",
      "SEABORN SPEC: ModuleSpec(name='seaborn', loader=<_frozen_importlib_external.SourceFileLoader object at 0x1060f69f0>, origin='/Library/Frameworks/Python.framework/Versions/3.13/lib/python3.13/site-packages/seaborn/__init__.py', submodule_search_locations=['/Library/Frameworks/Python.framework/Versions/3.13/lib/python3.13/site-packages/seaborn'])\n"
     ]
    }
   ],
   "source": [
    "import sys, importlib.util, pprint\n",
    "print(\"PYTHON:\", sys.executable)\n",
    "print(\"VERSIE:\", sys.version)\n",
    "pprint.pprint(sys.path[:3])\n",
    "print(\"SEABORN SPEC:\", importlib.util.find_spec(\"seaborn\"))"
   ]
  },
  {
   "cell_type": "code",
   "execution_count": 6,
   "id": "7033d7ec",
   "metadata": {},
   "outputs": [],
   "source": [
    "import matplotlib.pyplot as plt\n",
    "import pandas as pd\n",
    "import os\n",
    "import matplotlib.pyplot as plt\n",
    "import seaborn as sns"
   ]
  },
  {
   "cell_type": "code",
   "execution_count": 7,
   "id": "4de4e87c",
   "metadata": {},
   "outputs": [],
   "source": [
    "DATA_PATH = \"/Users/adilvural/Documents/GitHub/myPython/Opdracht_StatisticsforDataScience/college_statistics.csv\"\n",
    "FIG_DIR   = \"/Users/adilvural/Documents/GitHub/myPython/Opdracht_StatisticsforDataScience/college_statistics\"\n",
    "#os.makedirs(FIG_DIR, exist_ok=True)"
   ]
  },
  {
   "cell_type": "code",
   "execution_count": 16,
   "id": "86fd819b",
   "metadata": {},
   "outputs": [
    {
     "name": "stdout",
     "output_type": "stream",
     "text": [
      "(777, 19)\n"
     ]
    }
   ],
   "source": [
    "df = pd.read_csv(DATA_PATH, sep=\",\")\n",
    "df.columns = [c.replace(\".\", \"_\") for c in df.columns]\n",
    "\n",
    "#print (df.info())\n",
    "#Deze functie geeft een samenvatting van het DataFrame, inclusief het aantal niet-lege (non-null) waarden per kolom, het datatype van elke kolom en de geheugengrootte. \n",
    "#Het is handig om een overzicht te krijgen van de structuur van de data en om te controleren op ontbrekende waarden.\n",
    "\n",
    "#print (df.head())\n",
    "#Dit toont de eerste n rijen van het DataFrame (standaard zijn het de eerste 5 rijen als je geen argument opgeeft). \n",
    "#Het is nuttig om snel een blik te werpen op een subset van de gegevens en om te controleren of de data correct is ingelezen.\n",
    "\n",
    "\n",
    "#print (df.describe())\n",
    "#Deze functie geeft een statistische samenvatting van de numerieke kolommen in het DataFrame. \n",
    "#Het omvat statistieken zoals het aantal waarden, het gemiddelde, de standaardafwijking, de minimum- en maximumwaarden, en de kwartielen. \n",
    "#Dit is handig om een idee te krijgen van de distributie van de numerieke gegevens.\n",
    "\n",
    "#print (df.columns)\n",
    "#Dit geeft een lijst van de kolomnamen in het DataFrame terug. Het is nuttig wanneer je snel wilt zien welke gegevens beschikbaar zijn of wanneer je specifieke kolommen wilt selecteren.\n",
    "\n",
    "\n",
    "print (df.shape) \n",
    "#Dit geeft een tuple terug met de afmetingen van het DataFrame in de vorm (aantal_rijen, aantal_kolommen). Het is handig om snel te controleren hoeveel gegevens er in het DataFrame zijn."
   ]
  },
  {
   "cell_type": "markdown",
   "id": "74aac12d",
   "metadata": {},
   "source": [
    "2. Voer beschrijvende statistiek uit door middel van het maken van een aantal grafieken. Creeer geschikte grafieken om de volgende vragen te beantwoorden:\n",
    "- (a) Zijn private universiteiten overwegend kleiner of groter dan publieke universiteiten? Je mag zelf een definitie voor groot/klein definieeren."
   ]
  },
  {
   "cell_type": "code",
   "execution_count": null,
   "id": "f2140362",
   "metadata": {},
   "outputs": [
    {
     "name": "stdout",
     "output_type": "stream",
     "text": [
      "                     Unnamed: 0 Private  Apps  Accept  Enroll  Top10perc  \\\n",
      "0  Abilene Christian University     Yes  1660    1232     721         23   \n",
      "1            Adelphi University     Yes  2186    1924     512         16   \n",
      "2                Adrian College     Yes  1428    1097     336         22   \n",
      "3           Agnes Scott College     Yes   417     349     137         60   \n",
      "4     Alaska Pacific University     Yes   193     146      55         16   \n",
      "5             Albertson College     Yes   587     479     158         38   \n",
      "6       Albertus Magnus College     Yes   353     340     103         17   \n",
      "7                Albion College     Yes  1899    1720     489         37   \n",
      "8              Albright College     Yes  1038     839     227         30   \n",
      "9     Alderson-Broaddus College     Yes   582     498     172         21   \n",
      "\n",
      "   Top25perc  F_Undergrad  P_Undergrad  Outstate  Room_Board  Books  Personal  \\\n",
      "0         52         2885          537      7440        3300    450      2200   \n",
      "1         29         2683         1227     12280        6450    750      1500   \n",
      "2         50         1036           99     11250        3750    400      1165   \n",
      "3         89          510           63     12960        5450    450       875   \n",
      "4         44          249          869      7560        4120    800      1500   \n",
      "5         62          678           41     13500        3335    500       675   \n",
      "6         45          416          230     13290        5720    500      1500   \n",
      "7         68         1594           32     13868        4826    450       850   \n",
      "8         63          973          306     15595        4400    300       500   \n",
      "9         44          799           78     10468        3380    660      1800   \n",
      "\n",
      "   PhD  Terminal  S_F_Ratio  perc_alumni  Expend  Grad_Rate   Size  \n",
      "0   70        78       18.1           12    7041         60  Groot  \n",
      "1   29        30       12.2           16   10527         56  Groot  \n",
      "2   53        66       12.9           30    8735         54  Klein  \n",
      "3   92        97        7.7           37   19016         59  Klein  \n",
      "4   76        72       11.9            2   10922         15  Klein  \n",
      "5   67        73        9.4           11    9727         55  Klein  \n",
      "6   90        93       11.5           26    8861         63  Klein  \n",
      "7   89       100       13.7           37   11487         73  Groot  \n",
      "8   79        84       11.3           23   11644         80  Klein  \n",
      "9   40        41       11.5           15    8991         52  Klein  \n",
      "      Size  Enroll\n",
      "0    Groot     721\n",
      "1    Groot     512\n",
      "2    Klein     336\n",
      "3    Klein     137\n",
      "4    Klein      55\n",
      "..     ...     ...\n",
      "772  Groot     543\n",
      "773  Groot     695\n",
      "774  Groot     695\n",
      "775  Groot    1317\n",
      "776  Groot     691\n",
      "\n",
      "[777 rows x 2 columns]\n"
     ]
    }
   ],
   "source": [
    "# Voeg een kolom 'Size' toe om de gemiddelde grootte te definiëren\n",
    "# aan de hand van Inschrijving (Enroll): Aantal nieuwe ingeschreven studenten kunnen we bepalen of een universiteit groot of klein is!\n",
    "\n",
    "print(df.head(10))  # Print de eerste 10 rijen \n",
    "\n",
    "df['Size'] = df['Enroll'].apply(lambda x: 'Groot' if x > df['Enroll'].median() else 'Klein')\n",
    "\n",
    "#print (df['Size'].value_counts())\n",
    "result = df[['Size', 'Enroll']]\n",
    "print(result)\n",
    "\n",
    "\n",
    "#conclusie:\n",
    "#Het aantal ingeschreven studenten (enroll) is een directe indicator van de grootte van een universiteit. \n",
    "#Het weerspiegelt niet alleen de capaciteit van de instelling, maar ook de populariteit en aantrekkingskracht ervan. \n",
    "#Universiteiten met een hoger aantal ingeschreven studenten hebben vaak meer middelen, programma's en voorzieningen, wat van belang is bij het vergelijken van instellingen.\n",
    "#Door de mediaan te gebruiken als drempelwaarde, kunnen we universiteiten in twee categorieën verdelen:\n",
    "#Groot: Universiteiten met een inschrijving boven de mediaan.\n",
    "#Klein: Universiteiten met een inschrijving gelijk aan of onder de mediaan.\n",
    "#Deze benadering zorgt voor een evenwichtige verdeling van universiteiten in beide categorieën, waardoor we een beter inzicht krijgen in de algemene trends en patronen binnen de dataset."
   ]
  },
  {
   "cell_type": "code",
   "execution_count": 30,
   "id": "a25e382a",
   "metadata": {},
   "outputs": [
    {
     "data": {
      "image/png": "[encoded data removed]",
      "text/plain": [
       "<Figure size 1000x600 with 1 Axes>"
      ]
     },
     "metadata": {},
     "output_type": "display_data"
    }
   ],
   "source": [
    "# Maak een boxplot om de grootte van private versus publieke universiteiten te vergelijken\n",
    "plt.figure(figsize=(10, 6))\n",
    "sns.boxplot(x='Private', y='Enroll', data=df)\n",
    "plt.title('Grootte van Universiteiten: Privé vs. Publiek')\n",
    "plt.ylabel('Aantal Nieuwe Studenten Ingeschreven')\n",
    "plt.xlabel('Type Universiteit')\n",
    "plt.show()"
   ]
  },
  {
   "cell_type": "markdown",
   "id": "d8db78b4",
   "metadata": {},
   "source": [
    "2. Voer beschrijvende statistiek uit door middel van het maken van een aantal grafieken. Creeer geschikte grafieken om de volgende vragen te beantwoorden:\n",
    "- (b) Zijn de meer selectieve universiteiten ook overwegend duurder dan minder selectieve universiteiten? (Je mag zelf bepalen welke kosten je wel/niet mee neemt.)"
   ]
  },
  {
   "cell_type": "code",
   "execution_count": null,
   "id": "a2e47dcf",
   "metadata": {},
   "outputs": [
    {
     "data": {
      "text/plain": [
       "110.2"
      ]
     },
     "execution_count": 4,
     "metadata": {},
     "output_type": "execute_result"
    }
   ],
   "source": [
    "sum(age)"
   ]
  },
  {
   "cell_type": "markdown",
   "id": "dfe0c4e0",
   "metadata": {},
   "source": [
    "2. Voer beschrijvende statistiek uit door middel van het maken van een aantal grafieken. Creeer geschikte grafieken om de volgende vragen te beantwoorden:\n",
    "- (c) Bedenk zelf een extra vraag en cre¨ eer een geschikte figuur om deze vraag meete beantwoorden."
   ]
  },
  {
   "cell_type": "code",
   "execution_count": null,
   "id": "85531a27",
   "metadata": {},
   "outputs": [
    {
     "data": {
      "text/plain": [
       "22.04"
      ]
     },
     "execution_count": 5,
     "metadata": {},
     "output_type": "execute_result"
    }
   ],
   "source": [
    "sum(age) / len(age)"
   ]
  },
  {
   "cell_type": "markdown",
   "id": "cf8c5f26",
   "metadata": {},
   "source": [
    "Store the mean age in a variable."
   ]
  },
  {
   "cell_type": "code",
   "execution_count": null,
   "id": "f85ea20f",
   "metadata": {},
   "outputs": [],
   "source": [
    "mean_age = sum(age) / len(age)"
   ]
  },
  {
   "cell_type": "markdown",
   "id": "13cf6931",
   "metadata": {},
   "source": [
    "Print the mean age."
   ]
  },
  {
   "cell_type": "code",
   "execution_count": null,
   "id": "3d090048",
   "metadata": {},
   "outputs": [
    {
     "data": {
      "text/plain": [
       "22.04"
      ]
     },
     "execution_count": 7,
     "metadata": {},
     "output_type": "execute_result"
    }
   ],
   "source": [
    "mean_age"
   ]
  },
  {
   "cell_type": "markdown",
   "id": "1eaf603e",
   "metadata": {},
   "source": [
    "So far, every cell contained just one line of code. Code cells can hold as many lines as you want. "
   ]
  },
  {
   "cell_type": "code",
   "execution_count": null,
   "id": "f4f71f86",
   "metadata": {},
   "outputs": [
    {
     "name": "stdout",
     "output_type": "stream",
     "text": [
      "There are 5 elements in the age list\n",
      "The mean age of the 5 students is: 22.04\n"
     ]
    }
   ],
   "source": [
    "# Print the length of the list\n",
    "print(\"There are\", len(age), \"elements in the age list\")\n",
    "\n",
    "# Store the mean age in a variable\n",
    "mean_age = sum(age) / len(age)\n",
    "\n",
    "# Print the mean_age\n",
    "print(\"The mean age of the\", len(age), \"students is:\", mean_age)"
   ]
  },
  {
   "cell_type": "markdown",
   "id": "5b49bade",
   "metadata": {},
   "source": [
    "Use the ```help()``` function to get more info on what a function does and which parameters it expects."
   ]
  },
  {
   "cell_type": "code",
   "execution_count": null,
   "id": "daa4c07f",
   "metadata": {},
   "outputs": [
    {
     "name": "stdout",
     "output_type": "stream",
     "text": [
      "Help on built-in function print in module builtins:\n",
      "\n",
      "print(*args, sep=' ', end='\\n', file=None, flush=False)\n",
      "    Prints the values to a stream, or to sys.stdout by default.\n",
      "\n",
      "    sep\n",
      "      string inserted between values, default a space.\n",
      "    end\n",
      "      string appended after the last value, default a newline.\n",
      "    file\n",
      "      a file-like object (stream); defaults to the current sys.stdout.\n",
      "    flush\n",
      "      whether to forcibly flush the stream.\n",
      "\n"
     ]
    }
   ],
   "source": [
    "help(print)"
   ]
  }
 ],
 "metadata": {
  "celltoolbar": "Geen",
  "kernelspec": {
   "display_name": "Python 3",
   "language": "python",
   "name": "python3"
  },
  "language_info": {
   "codemirror_mode": {
    "name": "ipython",
    "version": 3
   },
   "file_extension": ".py",
   "mimetype": "text/x-python",
   "name": "python",
   "nbconvert_exporter": "python",
   "pygments_lexer": "ipython3",
   "version": "3.13.7"
  }
 },
 "nbformat": 4,
 "nbformat_minor": 5
}
