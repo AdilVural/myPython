{
 "cells": [
  {
   "cell_type": "markdown",
   "id": "84644d08",
   "metadata": {},
   "source": [
    "# Day 1 Eindopdracht “Statistics for Data Science”\n",
    "\n",
    "Voor deze eindopdracht zijn er twee mogelijkheden. Hieronder volgt ten eerste de\n",
    "beschrijving van een opdracht gebaseerd op een dataset over universiteiten in de Verenigde\n",
    "Staten. Het is ook mogelijk om de eindopdracht te baseren op een eigen (bedrijfs)dataset.\n",
    "Aan het einde van dit document volgt meer informatie hierover.\n",
    "\n",
    "Voor beide opdrachten geldt dat de resultaten in drie delen ingeleverd moeten worden,\n",
    "telkens samengevat in een bondig rapport. In dit rapport moet voor elke deelanalyse dui-\n",
    "delijk zijn wat het doel van de berekening is, wat de uitkomst is en vooral wat de conclusie\n",
    "is.\n",
    "\n",
    "Zorg ervoor dat er voldoende details gegeven zijn, bijvoorbeeld bij het uitvoeren van\n",
    "een statistische toets is het van belang om:\n",
    "1. de keuze van de toets duidelijk te motiveren;\n",
    "2. de nul- en alternatieve hypothese te beschrijven;\n",
    "3. de p-waarde te rapporteren;\n",
    "4. de uiteindelijke conclusie te rapporteren in termen van de toepassing (dus niet alleen\n",
    "“de nul-hypothese wordt verworpen”, maar ook wat dit dan betekent).\n",
    "\n",
    "\n",
    "Voor elk deel van de opdracht moet een rapport in pdf formaat ingeleverd worden, sa-\n",
    "men met de volledige Python (of R) code in een apart bestand. Het inleveren verloopt via\n",
    "Canvas (zie onder “Assignments”). Het verwerken van de resultaten met behulp van bij-\n",
    "voorbeeld een Jupyter Notebook of R-Markdown is prima, maar probeer onnodige output\n",
    "te vermijden en lever ook altijd een pdf versie in.\n",
    "De deadlines zijn als volgt:\n",
    "Deel 1: zondag, 28 september (voor het einde van de dag);\n",
    "Deel 2: zondag, 12 oktober (voor het einde van de dag);\n",
    "Deel 3: zondag, 26 oktober (voor het einde van de dag).\n",
    "\n"
   ]
  },
  {
   "cell_type": "markdown",
   "id": "738862ce",
   "metadata": {},
   "source": [
    "## 1 Opdracht obv. universiteitsdata\n",
    "Het databestand college statistics.csv bevat informatie over 777 universiteiten en\n",
    "colleges in de Verenigde Staten in ´e´en specifiek jaar.\n",
    "\n",
    "De variabelen in deze dataset zijn:\n",
    "\n",
    "    01. Private: Public/private indicator\n",
    "    02. Apps: Number of applications received\n",
    "    03. Accept: Number of applicants accepted\n",
    "    04. Enroll: Number of new students enrolled\n",
    "    05. Top10perc: Percentage of new students who were in the top 10% in their high school class\n",
    "    06. Top25perc: Percentage of new students who were in the top 25% of their high school class\n",
    "    07. F.Undergrad: Number of full-time undergraduates\n",
    "    08. P.Undergrad: Number of part-time undergraduates\n",
    "    09. Outstate: Out-of-state tuition\n",
    "    10. Room.Board: Room and board costs\n",
    "    11. Books: Estimated book costs\n",
    "    12. Personal: Estimated personal spending\n",
    "    13. PhD: Percent of faculty with Ph.D.’s\n",
    "    14. Terminal: Percent of faculty with terminal degree\n",
    "    15. S.F.Ratio: Student/faculty ratio\n",
    "    16. perc.alumni: Percent of alumni who donate\n",
    "    17. Expend: Instructional expenditure per student\n",
    "    18. Grad.Rate: Graduation rate\n",
    "\n",
    "In deze opdracht voer je een gedetailleerde statistische analyse uit op deze dataset.\n",
    "Hieronder vind je een lijst van stappen die uitgevoerd moeten worden."
   ]
  },
  {
   "cell_type": "markdown",
   "id": "ad732880",
   "metadata": {},
   "source": [
    "# Deel 1"
   ]
  },
  {
   "cell_type": "markdown",
   "id": "d1026f17",
   "metadata": {},
   "source": [
    "1. Lees de data in als dataframe.\n",
    "inlezen csv-file"
   ]
  },
  {
   "cell_type": "code",
   "execution_count": 21,
   "id": "4ee132ab",
   "metadata": {},
   "outputs": [
    {
     "name": "stderr",
     "output_type": "stream",
     "text": [
      "13331.06s - pydevd: Sending message related to process being replaced timed-out after 5 seconds\n"
     ]
    },
    {
     "name": "stdout",
     "output_type": "stream",
     "text": [
      "Requirement already satisfied: seaborn in /opt/anaconda3/lib/python3.12/site-packages (0.13.2)\n",
      "Requirement already satisfied: numpy!=1.24.0,>=1.20 in /opt/anaconda3/lib/python3.12/site-packages (from seaborn) (1.26.4)\n",
      "Requirement already satisfied: pandas>=1.2 in /opt/anaconda3/lib/python3.12/site-packages (from seaborn) (2.2.2)\n",
      "Requirement already satisfied: matplotlib!=3.6.1,>=3.4 in /opt/anaconda3/lib/python3.12/site-packages (from seaborn) (3.8.4)\n",
      "Requirement already satisfied: contourpy>=1.0.1 in /opt/anaconda3/lib/python3.12/site-packages (from matplotlib!=3.6.1,>=3.4->seaborn) (1.2.0)\n",
      "Requirement already satisfied: cycler>=0.10 in /opt/anaconda3/lib/python3.12/site-packages (from matplotlib!=3.6.1,>=3.4->seaborn) (0.11.0)\n",
      "Requirement already satisfied: fonttools>=4.22.0 in /opt/anaconda3/lib/python3.12/site-packages (from matplotlib!=3.6.1,>=3.4->seaborn) (4.51.0)\n",
      "Requirement already satisfied: kiwisolver>=1.3.1 in /opt/anaconda3/lib/python3.12/site-packages (from matplotlib!=3.6.1,>=3.4->seaborn) (1.4.4)\n",
      "Requirement already satisfied: packaging>=20.0 in /opt/anaconda3/lib/python3.12/site-packages (from matplotlib!=3.6.1,>=3.4->seaborn) (23.2)\n",
      "Requirement already satisfied: pillow>=8 in /opt/anaconda3/lib/python3.12/site-packages (from matplotlib!=3.6.1,>=3.4->seaborn) (10.3.0)\n",
      "Requirement already satisfied: pyparsing>=2.3.1 in /opt/anaconda3/lib/python3.12/site-packages (from matplotlib!=3.6.1,>=3.4->seaborn) (3.0.9)\n",
      "Requirement already satisfied: python-dateutil>=2.7 in /opt/anaconda3/lib/python3.12/site-packages (from matplotlib!=3.6.1,>=3.4->seaborn) (2.9.0.post0)\n",
      "Requirement already satisfied: pytz>=2020.1 in /opt/anaconda3/lib/python3.12/site-packages (from pandas>=1.2->seaborn) (2024.1)\n",
      "Requirement already satisfied: tzdata>=2022.7 in /opt/anaconda3/lib/python3.12/site-packages (from pandas>=1.2->seaborn) (2023.3)\n",
      "Requirement already satisfied: six>=1.5 in /opt/anaconda3/lib/python3.12/site-packages (from python-dateutil>=2.7->matplotlib!=3.6.1,>=3.4->seaborn) (1.16.0)\n"
     ]
    }
   ],
   "source": [
    "!pip install seaborn"
   ]
  },
  {
   "cell_type": "code",
   "execution_count": 28,
   "id": "7033d7ec",
   "metadata": {},
   "outputs": [
    {
     "ename": "ModuleNotFoundError",
     "evalue": "No module named 'seaborn'",
     "output_type": "error",
     "traceback": [
      "\u001b[31m---------------------------------------------------------------------------\u001b[39m",
      "\u001b[31mModuleNotFoundError\u001b[39m                       Traceback (most recent call last)",
      "\u001b[36mCell\u001b[39m\u001b[36m \u001b[39m\u001b[32mIn[28]\u001b[39m\u001b[32m, line 5\u001b[39m\n\u001b[32m      3\u001b[39m \u001b[38;5;28;01mimport\u001b[39;00m\u001b[38;5;250m \u001b[39m\u001b[34;01mos\u001b[39;00m\n\u001b[32m      4\u001b[39m \u001b[38;5;28;01mimport\u001b[39;00m\u001b[38;5;250m \u001b[39m\u001b[34;01mmatplotlib\u001b[39;00m\u001b[34;01m.\u001b[39;00m\u001b[34;01mpyplot\u001b[39;00m\u001b[38;5;250m \u001b[39m\u001b[38;5;28;01mas\u001b[39;00m\u001b[38;5;250m \u001b[39m\u001b[34;01mplt\u001b[39;00m\n\u001b[32m----> \u001b[39m\u001b[32m5\u001b[39m \u001b[38;5;28;01mimport\u001b[39;00m\u001b[38;5;250m \u001b[39m\u001b[34;01mseaborn\u001b[39;00m\u001b[38;5;250m \u001b[39m\u001b[38;5;28;01mas\u001b[39;00m\u001b[38;5;250m \u001b[39m\u001b[34;01msns\u001b[39;00m\n\u001b[32m      6\u001b[39m sns.set(style=\u001b[33m\"\u001b[39m\u001b[33mwhitegrid\u001b[39m\u001b[33m\"\u001b[39m)  \n",
      "\u001b[31mModuleNotFoundError\u001b[39m: No module named 'seaborn'"
     ]
    }
   ],
   "source": [
    "import matplotlib.pyplot as plt\n",
    "import pandas as pd\n",
    "import os\n",
    "import matplotlib.pyplot as plt\n",
    "import seaborn as sns\n",
    "sns.set(style=\"whitegrid\")  "
   ]
  },
  {
   "cell_type": "code",
   "execution_count": null,
   "id": "4de4e87c",
   "metadata": {},
   "outputs": [],
   "source": [
    "DATA_PATH = \"/Users/adilvural/Documents/GitHub/myPython/Opdracht_StatisticsforDataScience/college_statistics.csv\"\n",
    "FIG_DIR   = \"/Users/adilvural/Documents/GitHub/myPython/Opdracht_StatisticsforDataScience/college_statistics\"\n",
    "#os.makedirs(FIG_DIR, exist_ok=True)"
   ]
  },
  {
   "cell_type": "code",
   "execution_count": 15,
   "id": "86fd819b",
   "metadata": {},
   "outputs": [
    {
     "name": "stdout",
     "output_type": "stream",
     "text": [
      "<class 'pandas.core.frame.DataFrame'>\n",
      "RangeIndex: 777 entries, 0 to 776\n",
      "Data columns (total 19 columns):\n",
      " #   Column       Non-Null Count  Dtype  \n",
      "---  ------       --------------  -----  \n",
      " 0   Unnamed: 0   777 non-null    object \n",
      " 1   Private      777 non-null    object \n",
      " 2   Apps         777 non-null    int64  \n",
      " 3   Accept       777 non-null    int64  \n",
      " 4   Enroll       777 non-null    int64  \n",
      " 5   Top10perc    777 non-null    int64  \n",
      " 6   Top25perc    777 non-null    int64  \n",
      " 7   F_Undergrad  777 non-null    int64  \n",
      " 8   P_Undergrad  777 non-null    int64  \n",
      " 9   Outstate     777 non-null    int64  \n",
      " 10  Room_Board   777 non-null    int64  \n",
      " 11  Books        777 non-null    int64  \n",
      " 12  Personal     777 non-null    int64  \n",
      " 13  PhD          777 non-null    int64  \n",
      " 14  Terminal     777 non-null    int64  \n",
      " 15  S_F_Ratio    777 non-null    float64\n",
      " 16  perc_alumni  777 non-null    int64  \n",
      " 17  Expend       777 non-null    int64  \n",
      " 18  Grad_Rate    777 non-null    int64  \n",
      "dtypes: float64(1), int64(16), object(2)\n",
      "memory usage: 115.5+ KB\n",
      "None\n"
     ]
    }
   ],
   "source": [
    "df = pd.read_csv(DATA_PATH, sep=\",\")\n",
    "df.columns = [c.replace(\".\", \"_\") for c in df.columns]\n",
    "\n",
    "print (df.info())"
   ]
  },
  {
   "cell_type": "markdown",
   "id": "74aac12d",
   "metadata": {},
   "source": [
    "2. Voer beschrijvende statistiek uit door middel van het maken van een aantal grafieken. Creeer geschikte grafieken om de volgende vragen te beantwoorden:\n",
    "(a) Zijn private universiteiten overwegend kleiner of groter dan publieke universiteiten? Je mag zelf een definitie voor groot/klein definieeren.\n",
    "(b) Zijn de meer selectieve universiteiten ook overwegend duurder dan minder selectieve universiteiten? (Je mag zelf bepalen welke kosten je wel/niet mee neemt.)\n",
    "(c) Bedenk zelf een extra vraag en cre¨ eer een geschikte figuur om deze vraag meete beantwoorden."
   ]
  },
  {
   "cell_type": "code",
   "execution_count": null,
   "id": "f2140362",
   "metadata": {},
   "outputs": [
    {
     "ename": "ModuleNotFoundError",
     "evalue": "No module named 'seaborn'",
     "output_type": "error",
     "traceback": [
      "\u001b[31m---------------------------------------------------------------------------\u001b[39m",
      "\u001b[31mModuleNotFoundError\u001b[39m                       Traceback (most recent call last)",
      "\u001b[36mCell\u001b[39m\u001b[36m \u001b[39m\u001b[32mIn[18]\u001b[39m\u001b[32m, line 2\u001b[39m\n\u001b[32m      1\u001b[39m \u001b[38;5;28;01mimport\u001b[39;00m\u001b[38;5;250m \u001b[39m\u001b[34;01mmatplotlib\u001b[39;00m\u001b[34;01m.\u001b[39;00m\u001b[34;01mpyplot\u001b[39;00m\u001b[38;5;250m \u001b[39m\u001b[38;5;28;01mas\u001b[39;00m\u001b[38;5;250m \u001b[39m\u001b[34;01mplt\u001b[39;00m\n\u001b[32m----> \u001b[39m\u001b[32m2\u001b[39m \u001b[38;5;28;01mimport\u001b[39;00m\u001b[38;5;250m \u001b[39m\u001b[34;01mseaborn\u001b[39;00m\u001b[38;5;250m \u001b[39m\u001b[38;5;28;01mas\u001b[39;00m\u001b[38;5;250m \u001b[39m\u001b[34;01msns\u001b[39;00m\n\u001b[32m      3\u001b[39m \u001b[38;5;66;03m# Voeg een kolom toe om de gemiddelde grootte te definiëren\u001b[39;00m\n\u001b[32m      4\u001b[39m df[\u001b[33m'\u001b[39m\u001b[33mSize\u001b[39m\u001b[33m'\u001b[39m] = df[\u001b[33m'\u001b[39m\u001b[33mEnroll\u001b[39m\u001b[33m'\u001b[39m].apply(\u001b[38;5;28;01mlambda\u001b[39;00m x: \u001b[33m'\u001b[39m\u001b[33mGroot\u001b[39m\u001b[33m'\u001b[39m \u001b[38;5;28;01mif\u001b[39;00m x > df[\u001b[33m'\u001b[39m\u001b[33mEnroll\u001b[39m\u001b[33m'\u001b[39m].median() \u001b[38;5;28;01melse\u001b[39;00m \u001b[33m'\u001b[39m\u001b[33mKlein\u001b[39m\u001b[33m'\u001b[39m)\n",
      "\u001b[31mModuleNotFoundError\u001b[39m: No module named 'seaborn'"
     ]
    }
   ],
   "source": [
    "# Voeg een kolom toe om de gemiddelde grootte te definiëren\n",
    "df['Size'] = df['Enroll'].apply(lambda x: 'Groot' if x > df['Enroll'].median() else 'Klein')\n",
    "# Maak een boxplot om de grootte van private versus publieke universiteiten te vergelijken\n",
    "plt.figure(figsize=(10, 6))\n",
    "sns.boxplot(x='Private', y='Enroll', data=df)\n",
    "plt.title('Grootte van Universiteiten: Privé vs. Publiek')\n",
    "plt.ylabel('Aantal Nieuwe Studenten Ingeschreven')\n",
    "plt.xlabel('Type Universiteit')\n",
    "plt.show()"
   ]
  },
  {
   "cell_type": "markdown",
   "id": "72f261c1",
   "metadata": {},
   "source": [
    "We can use the ```len()``` function to find out how many elements the list holds."
   ]
  },
  {
   "cell_type": "code",
   "execution_count": null,
   "id": "ea9a4c9b",
   "metadata": {},
   "outputs": [
    {
     "data": {
      "text/plain": [
       "5"
      ]
     },
     "execution_count": 3,
     "metadata": {},
     "output_type": "execute_result"
    }
   ],
   "source": [
    "len(age)"
   ]
  },
  {
   "cell_type": "markdown",
   "id": "d8db78b4",
   "metadata": {},
   "source": [
    "Use the ```sum()``` function to display the sum of the age list."
   ]
  },
  {
   "cell_type": "code",
   "execution_count": null,
   "id": "a2e47dcf",
   "metadata": {},
   "outputs": [
    {
     "data": {
      "text/plain": [
       "110.2"
      ]
     },
     "execution_count": 4,
     "metadata": {},
     "output_type": "execute_result"
    }
   ],
   "source": [
    "sum(age)"
   ]
  },
  {
   "cell_type": "markdown",
   "id": "dfe0c4e0",
   "metadata": {},
   "source": [
    "Combine above functions to calculate the mean age of the students."
   ]
  },
  {
   "cell_type": "code",
   "execution_count": null,
   "id": "85531a27",
   "metadata": {},
   "outputs": [
    {
     "data": {
      "text/plain": [
       "22.04"
      ]
     },
     "execution_count": 5,
     "metadata": {},
     "output_type": "execute_result"
    }
   ],
   "source": [
    "sum(age) / len(age)"
   ]
  },
  {
   "cell_type": "markdown",
   "id": "cf8c5f26",
   "metadata": {},
   "source": [
    "Store the mean age in a variable."
   ]
  },
  {
   "cell_type": "code",
   "execution_count": null,
   "id": "f85ea20f",
   "metadata": {},
   "outputs": [],
   "source": [
    "mean_age = sum(age) / len(age)"
   ]
  },
  {
   "cell_type": "markdown",
   "id": "13cf6931",
   "metadata": {},
   "source": [
    "Print the mean age."
   ]
  },
  {
   "cell_type": "code",
   "execution_count": null,
   "id": "3d090048",
   "metadata": {},
   "outputs": [
    {
     "data": {
      "text/plain": [
       "22.04"
      ]
     },
     "execution_count": 7,
     "metadata": {},
     "output_type": "execute_result"
    }
   ],
   "source": [
    "mean_age"
   ]
  },
  {
   "cell_type": "markdown",
   "id": "1eaf603e",
   "metadata": {},
   "source": [
    "So far, every cell contained just one line of code. Code cells can hold as many lines as you want. "
   ]
  },
  {
   "cell_type": "code",
   "execution_count": null,
   "id": "f4f71f86",
   "metadata": {},
   "outputs": [
    {
     "name": "stdout",
     "output_type": "stream",
     "text": [
      "There are 5 elements in the age list\n",
      "The mean age of the 5 students is: 22.04\n"
     ]
    }
   ],
   "source": [
    "# Print the length of the list\n",
    "print(\"There are\", len(age), \"elements in the age list\")\n",
    "\n",
    "# Store the mean age in a variable\n",
    "mean_age = sum(age) / len(age)\n",
    "\n",
    "# Print the mean_age\n",
    "print(\"The mean age of the\", len(age), \"students is:\", mean_age)"
   ]
  },
  {
   "cell_type": "markdown",
   "id": "5b49bade",
   "metadata": {},
   "source": [
    "Use the ```help()``` function to get more info on what a function does and which parameters it expects."
   ]
  },
  {
   "cell_type": "code",
   "execution_count": null,
   "id": "daa4c07f",
   "metadata": {},
   "outputs": [
    {
     "name": "stdout",
     "output_type": "stream",
     "text": [
      "Help on built-in function print in module builtins:\n",
      "\n",
      "print(*args, sep=' ', end='\\n', file=None, flush=False)\n",
      "    Prints the values to a stream, or to sys.stdout by default.\n",
      "\n",
      "    sep\n",
      "      string inserted between values, default a space.\n",
      "    end\n",
      "      string appended after the last value, default a newline.\n",
      "    file\n",
      "      a file-like object (stream); defaults to the current sys.stdout.\n",
      "    flush\n",
      "      whether to forcibly flush the stream.\n",
      "\n"
     ]
    }
   ],
   "source": [
    "help(print)"
   ]
  }
 ],
 "metadata": {
  "celltoolbar": "Geen",
  "kernelspec": {
   "display_name": "Python 3",
   "language": "python",
   "name": "python3"
  },
  "language_info": {
   "codemirror_mode": {
    "name": "ipython",
    "version": 3
   },
   "file_extension": ".py",
   "mimetype": "text/x-python",
   "name": "python",
   "nbconvert_exporter": "python",
   "pygments_lexer": "ipython3",
   "version": "3.13.7"
  }
 },
 "nbformat": 4,
 "nbformat_minor": 5
}
