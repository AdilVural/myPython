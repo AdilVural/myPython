{
 "cells": [
  {
   "cell_type": "markdown",
   "id": "84644d08",
   "metadata": {},
   "source": [
    "# My first notebook\n",
    "\n",
    "Notebooks usually contain multiple cells, each cell containing either markdown (normal text), or code. You can change the cell type in the toolbar below the menu.\n",
    "\n",
    "Run code cells by selecting the cell, and click the Run button, or press Shift + Enter.\n",
    "\n",
    "The following cell only contains a comment. Even though it is a code cell, it will not produce any output."
   ]
  },
  {
   "cell_type": "code",
   "execution_count": null,
   "id": "c3ddde85",
   "metadata": {},
   "outputs": [],
   "source": [
    "# A hashtag (#) indicates a comment, which is ignored by Python"
   ]
  },
  {
   "cell_type": "markdown",
   "id": "738862ce",
   "metadata": {},
   "source": [
    "The next cell creates an list containing the ages of 5 students."
   ]
  },
  {
   "cell_type": "code",
   "execution_count": null,
   "id": "d40e996e",
   "metadata": {
    "scrolled": false
   },
   "outputs": [
    {
     "data": {
      "text/plain": [
       "[22.4, 21.5, 23.7, 21.8, 20.8]"
      ]
     },
     "execution_count": 13,
     "metadata": {},
     "output_type": "execute_result"
    }
   ],
   "source": [
    "[22.4, 21.5, 23.7, 21.8, 20.8]"
   ]
  },
  {
   "cell_type": "markdown",
   "id": "0aa9acec",
   "metadata": {},
   "source": [
    "If we want to reuse this list, we need to store it in a variable."
   ]
  },
  {
   "cell_type": "code",
   "execution_count": 1,
   "id": "86fd819b",
   "metadata": {},
   "outputs": [],
   "source": [
    "age = [22.4, 21.5, 23.7, 21.8, 20.8]"
   ]
  },
  {
   "cell_type": "markdown",
   "id": "74aac12d",
   "metadata": {},
   "source": [
    "Running the cell above will not produce any output. If we want to see the contents of a variable, we can use the name of the variable"
   ]
  },
  {
   "cell_type": "code",
   "execution_count": 2,
   "id": "f2140362",
   "metadata": {},
   "outputs": [
    {
     "data": {
      "text/plain": [
       "[22.4, 21.5, 23.7, 21.8, 20.8]"
      ]
     },
     "execution_count": 2,
     "metadata": {},
     "output_type": "execute_result"
    }
   ],
   "source": [
    "age"
   ]
  },
  {
   "cell_type": "markdown",
   "id": "72f261c1",
   "metadata": {},
   "source": [
    "We can use the ```len()``` function to find out how many elements the list holds."
   ]
  },
  {
   "cell_type": "code",
   "execution_count": 3,
   "id": "ea9a4c9b",
   "metadata": {},
   "outputs": [
    {
     "data": {
      "text/plain": [
       "5"
      ]
     },
     "execution_count": 3,
     "metadata": {},
     "output_type": "execute_result"
    }
   ],
   "source": [
    "len(age)"
   ]
  },
  {
   "cell_type": "markdown",
   "id": "d8db78b4",
   "metadata": {},
   "source": [
    "Use the ```sum()``` function to display the sum of the age list."
   ]
  },
  {
   "cell_type": "code",
   "execution_count": 4,
   "id": "a2e47dcf",
   "metadata": {},
   "outputs": [
    {
     "data": {
      "text/plain": [
       "110.2"
      ]
     },
     "execution_count": 4,
     "metadata": {},
     "output_type": "execute_result"
    }
   ],
   "source": [
    "sum(age)"
   ]
  },
  {
   "cell_type": "markdown",
   "id": "dfe0c4e0",
   "metadata": {},
   "source": [
    "Combine above functions to calculate the mean age of the students."
   ]
  },
  {
   "cell_type": "code",
   "execution_count": 5,
   "id": "85531a27",
   "metadata": {},
   "outputs": [
    {
     "data": {
      "text/plain": [
       "22.04"
      ]
     },
     "execution_count": 5,
     "metadata": {},
     "output_type": "execute_result"
    }
   ],
   "source": [
    "sum(age) / len(age)"
   ]
  },
  {
   "cell_type": "markdown",
   "id": "cf8c5f26",
   "metadata": {},
   "source": [
    "Store the mean age in a variable."
   ]
  },
  {
   "cell_type": "code",
   "execution_count": 6,
   "id": "f85ea20f",
   "metadata": {},
   "outputs": [],
   "source": [
    "mean_age = sum(age) / len(age)"
   ]
  },
  {
   "cell_type": "markdown",
   "id": "13cf6931",
   "metadata": {},
   "source": [
    "Print the mean age."
   ]
  },
  {
   "cell_type": "code",
   "execution_count": 7,
   "id": "3d090048",
   "metadata": {},
   "outputs": [
    {
     "data": {
      "text/plain": [
       "22.04"
      ]
     },
     "execution_count": 7,
     "metadata": {},
     "output_type": "execute_result"
    }
   ],
   "source": [
    "mean_age"
   ]
  },
  {
   "cell_type": "markdown",
   "id": "1eaf603e",
   "metadata": {},
   "source": [
    "So far, every cell contained just one line of code. Code cells can hold as many lines as you want. "
   ]
  },
  {
   "cell_type": "code",
   "execution_count": 8,
   "id": "f4f71f86",
   "metadata": {},
   "outputs": [
    {
     "name": "stdout",
     "output_type": "stream",
     "text": [
      "There are 5 elements in the age list\n",
      "The mean age of the 5 students is: 22.04\n"
     ]
    }
   ],
   "source": [
    "# Print the length of the list\n",
    "print(\"There are\", len(age), \"elements in the age list\")\n",
    "\n",
    "# Store the mean age in a variable\n",
    "mean_age = sum(age) / len(age)\n",
    "\n",
    "# Print the mean_age\n",
    "print(\"The mean age of the\", len(age), \"students is:\", mean_age)"
   ]
  },
  {
   "cell_type": "markdown",
   "id": "5b49bade",
   "metadata": {},
   "source": [
    "Use the ```help()``` function to get more info on what a function does and which parameters it expects."
   ]
  },
  {
   "cell_type": "code",
   "execution_count": 9,
   "id": "daa4c07f",
   "metadata": {},
   "outputs": [
    {
     "name": "stdout",
     "output_type": "stream",
     "text": [
      "Help on built-in function print in module builtins:\n",
      "\n",
      "print(*args, sep=' ', end='\\n', file=None, flush=False)\n",
      "    Prints the values to a stream, or to sys.stdout by default.\n",
      "\n",
      "    sep\n",
      "      string inserted between values, default a space.\n",
      "    end\n",
      "      string appended after the last value, default a newline.\n",
      "    file\n",
      "      a file-like object (stream); defaults to the current sys.stdout.\n",
      "    flush\n",
      "      whether to forcibly flush the stream.\n",
      "\n"
     ]
    }
   ],
   "source": [
    "help(print)"
   ]
  }
 ],
 "metadata": {
  "celltoolbar": "Geen",
  "kernelspec": {
   "display_name": "Python 3",
   "language": "python",
   "name": "python3"
  },
  "language_info": {
   "codemirror_mode": {
    "name": "ipython",
    "version": 3
   },
   "file_extension": ".py",
   "mimetype": "text/x-python",
   "name": "python",
   "nbconvert_exporter": "python",
   "pygments_lexer": "ipython3",
   "version": "3.12.8"
  }
 },
 "nbformat": 4,
 "nbformat_minor": 5
}
