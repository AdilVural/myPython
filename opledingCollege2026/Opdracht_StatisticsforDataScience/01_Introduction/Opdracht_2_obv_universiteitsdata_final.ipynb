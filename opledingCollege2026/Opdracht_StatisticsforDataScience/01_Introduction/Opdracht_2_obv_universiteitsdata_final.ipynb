{
 "cells": [
  {
   "cell_type": "markdown",
   "id": "84644d08",
   "metadata": {},
   "source": [
    "# Day 1 Eindopdracht “Statistics for Data Science”\n",
    "\n",
    "Voor deze eindopdracht zijn er twee mogelijkheden. Hieronder volgt ten eerste de\n",
    "beschrijving van een opdracht gebaseerd op een dataset over universiteiten in de Verenigde\n",
    "Staten. Het is ook mogelijk om de eindopdracht te baseren op een eigen (bedrijfs)dataset.\n",
    "Aan het einde van dit document volgt meer informatie hierover.\n",
    "\n",
    "Voor beide opdrachten geldt dat de resultaten in drie delen ingeleverd moeten worden,\n",
    "telkens samengevat in een bondig rapport. In dit rapport moet voor elke deelanalyse dui-\n",
    "delijk zijn wat het doel van de berekening is, wat de uitkomst is en vooral wat de conclusie\n",
    "is.\n",
    "\n",
    "Zorg ervoor dat er voldoende details gegeven zijn, bijvoorbeeld bij het uitvoeren van\n",
    "een statistische toets is het van belang om:\n",
    "1. de keuze van de toets duidelijk te motiveren;\n",
    "2. de nul- en alternatieve hypothese te beschrijven;\n",
    "3. de p-waarde te rapporteren;\n",
    "4. de uiteindelijke conclusie te rapporteren in termen van de toepassing (dus niet alleen\n",
    "“de nul-hypothese wordt verworpen”, maar ook wat dit dan betekent).\n",
    "\n",
    "\n",
    "Voor elk deel van de opdracht moet een rapport in pdf formaat ingeleverd worden, sa-\n",
    "men met de volledige Python (of R) code in een apart bestand. Het inleveren verloopt via\n",
    "Canvas (zie onder “Assignments”). Het verwerken van de resultaten met behulp van bij-\n",
    "voorbeeld een Jupyter Notebook of R-Markdown is prima, maar probeer onnodige output\n",
    "te vermijden en lever ook altijd een pdf versie in.\n",
    "De deadlines zijn als volgt:\n",
    "Deel 1: zondag, 28 september (voor het einde van de dag);\n",
    "Deel 2: zondag, 12 oktober (voor het einde van de dag);\n",
    "Deel 3: zondag, 26 oktober (voor het einde van de dag).\n",
    "\n"
   ]
  },
  {
   "cell_type": "markdown",
   "id": "738862ce",
   "metadata": {},
   "source": [
    "## 1 Opdracht obv. universiteitsdata\n",
    "Het databestand college statistics.csv bevat informatie over 777 universiteiten en\n",
    "colleges in de Verenigde Staten in ´e´en specifiek jaar.\n",
    "\n",
    "De variabelen in deze dataset zijn:\n",
    "\n",
    "- Privé (Private): Indicator voor publiek/persoonlijk\n",
    "- Aanvragen (Apps): Aantal ontvangen aanvragen\n",
    "- Acceptatie (Accept): Aantal toegelaten aanvragers\n",
    "- Inschrijving (Enroll): Aantal nieuwe ingeschreven studenten\n",
    "- Top10perc: Percentage nieuwe studenten die in de top 10% van hun middelbare schoolklasse zaten\n",
    "- Top25perc: Percentage nieuwe studenten die in de top 25% van hun middelbare schoolklasse zaten\n",
    "- F.Undergrad: Aantal voltijd bachelorstudenten\n",
    "- P.Undergrad: Aantal deeltijd bachelorstudenten\n",
    "- Outstate: Collegegeld voor studenten van buiten de staat\n",
    "- Kamer en Board (Room.Board): Kosten voor kamer en maaltijden\n",
    "- Boeken (Books): Geschatte kosten voor boeken\n",
    "- Persoonlijk (Personal): Geschatte persoonlijke uitgaven\n",
    "- PhD: Percentage faculteit met een Ph.D.\n",
    "- Terminale graad (Terminal): Percentage faculteit met een terminale graad\n",
    "- S.F.Ratio: Studenten/faculteit ratio\n",
    "- Perc.alumni: Percentage alumni die doneren\n",
    "- Uitgaven (Expend): Onderwijsexpenditures per student\n",
    "- Afstudeerpercentage (Grad.Rate): Afstudeerpercentage\n",
    "\n",
    "In deze opdracht voer je een gedetailleerde statistische analyse uit op deze dataset.\n",
    "Hieronder vind je een lijst van stappen die uitgevoerd moeten worden."
   ]
  },
  {
   "cell_type": "code",
   "execution_count": 1,
   "id": "7033d7ec",
   "metadata": {},
   "outputs": [],
   "source": [
    "# benodigde libraries\n",
    "import matplotlib.pyplot as plt\n",
    "import pandas as pd\n",
    "import os\n",
    "import matplotlib.pyplot as plt\n",
    "import seaborn as sns\n",
    "import numpy as np\n",
    "import scipy.stats as stats"
   ]
  },
  {
   "cell_type": "markdown",
   "id": "ad732880",
   "metadata": {},
   "source": [
    "# Deel 2"
   ]
  },
  {
   "cell_type": "code",
   "execution_count": 50,
   "id": "4be16bf1",
   "metadata": {},
   "outputs": [],
   "source": [
    "# benodigde libraries\n",
    "import matplotlib.pyplot as plt\n",
    "import pandas as pd\n",
    "import os\n",
    "import matplotlib.pyplot as plt\n",
    "import seaborn as sns\n",
    "import numpy as np\n",
    "import scipy.stats as stats\n",
    "import statsmodels.api as sm"
   ]
  },
  {
   "cell_type": "code",
   "execution_count": 51,
   "id": "4de4e87c",
   "metadata": {},
   "outputs": [],
   "source": [
    "DATA_PATH = \"/Users/adilvural/Documents/GitHub/myPython/Opdracht_StatisticsforDataScience/college_statistics.csv\""
   ]
  },
  {
   "cell_type": "code",
   "execution_count": 52,
   "id": "86fd819b",
   "metadata": {},
   "outputs": [
    {
     "name": "stdout",
     "output_type": "stream",
     "text": [
      "Index(['Unnamed: 0', 'Private', 'Apps', 'Accept', 'Enroll', 'Top10perc',\n",
      "       'Top25perc', 'F_Undergrad', 'P_Undergrad', 'Outstate', 'Room_Board',\n",
      "       'Books', 'Personal', 'PhD', 'Terminal', 'S_F_Ratio', 'perc_alumni',\n",
      "       'Expend', 'Grad_Rate'],\n",
      "      dtype='object')\n",
      "(777, 19)\n"
     ]
    }
   ],
   "source": [
    "import pandas as pd\n",
    "\n",
    "# lees de dataset in een pandas DataFrame\n",
    "df = pd.read_csv(DATA_PATH, sep=\",\")\n",
    "df.columns = [c.replace(\".\", \"_\") for c in df.columns]\n",
    "\n",
    "#print (df.info())\n",
    "#Deze functie geeft een samenvatting van het DataFrame, inclusief het aantal niet-lege (non-null) waarden per kolom, het datatype van elke kolom en de geheugengrootte. \n",
    "#Het is handig om een overzicht te krijgen van de structuur van de data en om te controleren op ontbrekende waarden.\n",
    "\n",
    "#print (df.head())\n",
    "#Dit toont de eerste n rijen van het DataFrame (standaard zijn het de eerste 5 rijen als je geen argument opgeeft). \n",
    "#Het is nuttig om snel een blik te werpen op een subset van de gegevens en om te controleren of de data correct is ingelezen.\n",
    "\n",
    "\n",
    "#print (df.describe())\n",
    "#Deze functie geeft een statistische samenvatting van de numerieke kolommen in het DataFrame. \n",
    "#Het omvat statistieken zoals het aantal waarden, het gemiddelde, de standaardafwijking, de minimum- en maximumwaarden, en de kwartielen. \n",
    "#Dit is handig om een idee te krijgen van de distributie van de numerieke gegevens.\n",
    "\n",
    "print (df.columns)\n",
    "#Dit geeft een lijst van de kolomnamen in het DataFrame terug. Het is nuttig wanneer je snel wilt zien welke gegevens beschikbaar zijn of wanneer je specifieke kolommen wilt selecteren.\n",
    "\n",
    "\n",
    "print (df.shape) \n",
    "#Dit geeft een tuple terug met de afmetingen van het DataFrame in de vorm (aantal_rijen, aantal_kolommen). Het is handig om snel te controleren hoeveel gegevens er in het DataFrame zijn."
   ]
  },
  {
   "cell_type": "markdown",
   "id": "74aac12d",
   "metadata": {},
   "source": [
    "# 5 Maak een model dat het aantal aanmeldingen kan voorspellen op basis van factoren\n",
    "\n",
    "die voorafgaand aan binnenkomen van de aanmeldingen beschikbaar zijn. Maak\n",
    "daarom bijvoorbeeld geen gebruik van de variabelen Accept en Enroll. Deze zijn\n",
    "namelijk duidelijk een gevolg (en geen oorzaak) van het aantal aanmeldingen. Volg\n",
    "hierbij de volgende stappen."
   ]
  },
  {
   "cell_type": "markdown",
   "id": "c2815c41",
   "metadata": {},
   "source": [
    "# 5(a) Normaliteit van het aantal aanmeldingen \n",
    "(a) Voer eerst een test uit voor de hypothese dat het aantal aanmeldingen een\n",
    "normale verdeling volgt. Wat is je conclusie? Is deze conclusie van belang voor\n",
    "het verder modelleren van deze variabele?\n",
    "\n",
    "Hypothesen\n",
    "H₀: het aantal aanmeldingen Y volgt een normale verdeling.\n",
    "H₁: Y is niet normaal verdeeld.\n",
    "\n",
    "\n",
    "\n",
    "-Exploratory Data Analysis (EDA) → Distributies & Q-Q plots: hoe je normaliteit visueel beoordeelt (histogram, density, Q-Q).\n",
    "-Statistical Tests → Normality tests: Shapiro–Wilk, Anderson–Darling, en Kolmogorov–Smirnov als formele toetsen.\n",
    "-Transformations → log/Box-Cox/Yeo-Johnson bij scheve data.\n",
    "-Regression & Prediction → normaliteit geldt voor de residuen bij OLS (niet per se voor Y zelf); voor count data vaak Poisson/NegBin GLM i.p.v. OLS.\n",
    "\n",
    "Praktisch: Aantal aanmeldingen is een telling (0,1,2,…). Tellingen zijn vaak rechtsscheef en niet-normaal. \n",
    "Je zult in de Q-Q-plot doorgaans duidelijke afwijking aan de rechterstaart zien; Shapiro/Anderson geven dan vaak p < 0{.}05.\n",
    "\n",
    "Python (reproduceerbaar analyseblok)\n",
    "\n",
    "\n",
    "Interpretatie (schrijf in je uitwerkdocument)\n",
    "\t1.\tVisueel: Beschrijf de vorm van het histogram (meestal rechtsscheef) en benoem in de Q-Q-plot de afwijking in de staarten.\n",
    "\t2.\tFormeel:\n",
    "\t•\tAls Shapiro p ≤ 0,05 → verwerp H₀ → niet normaal.\n",
    "\t•\tAnderson–Darling: als statistic boven de critical value ligt op 5% niveau → niet normaal.\n",
    "\n",
    "Voorbeeldconclusie (typisch bij teldata):\n",
    "\n",
    "De Q-Q-plot wijst op duidelijke rechtsscheefheid en afwijking in de rechterstaart. Shapiro–Wilk levert p < 0{.}001, en Anderson–Darling ligt boven de kritieke waarde bij 5%. We verwerpen H₀: het aantal aanmeldingen volgt geen normale verdeling.\n",
    "\n",
    "Is dit belangrijk voor het vervolgmodelleren?\n",
    "\t•\tVoor lineaire regressie (OLS) is normaliteit vereist voor de residuen, niet voor Y zelf. Een niet-normale Y kan dus nog steeds prima gemodelleerd worden, zolang de residuen (na fit) redelijk normaal zijn en de overige aannames (lineariteit, homoscedasticiteit, onafhankelijkheid) houden.\n",
    "\t•\tOmdat Y een telling is, is een GLM met Poisson of Negative Binomial vaak natuurlijker (zeker bij overdispersie: \\mathrm{Var}(Y) \\gg \\mathbb{E}[Y]).\n",
    "\t•\tAlternatief binnen OLS: een log-transformatie van Y (bijv. \\log(Y+1)) kan de scheefheid temperen en later betere residuen opleveren.\n",
    "\n",
    "Samenvattende zin voor je verslag\n",
    "\n",
    "Het aantal aanmeldingen is niet normaal verdeeld (visueel en formeel aangetoond). Dit is niet doorslaggevend voor voorspellend modelleren met OLS, omdat normaliteit geldt voor de residuen. Gezien het telkarakter is een Poisson/NegBin-model of een log-transformatie bij OLS zinvol om in 5(b) te overwegen.\n",
    "\n",
    "⸻\n",
    "\n",
    "Wil je dat ik dit meteen in je tekstdocument voor Deel 2 (met codeblok + interpretatie) zet en — zodra je de PSDS-PDF hier uploadt — de exacte paginareferenties toevoeg bij de genoemde secties?"
   ]
  },
  {
   "cell_type": "code",
   "execution_count": 53,
   "id": "648ecad4",
   "metadata": {},
   "outputs": [
    {
     "name": "stdout",
     "output_type": "stream",
     "text": [
      "{'n': 777, 'min': 81.0, 'max': 48094.0, 'mean': 3001.6383526383524, 'std': 3870.2014844352893}\n"
     ]
    }
   ],
   "source": [
    "# 2) Snelle sanity checks\n",
    "y = df[\"Apps\"]  # aantal aanmeldingen\n",
    "assert np.issubdtype(y.dtype, np.number), \"Doelvariabele moet numeriek zijn.\"\n",
    "print({\"n\": y.shape[0], \"min\": float(y.min()), \"max\": float(y.max()), \"mean\": float(y.mean()), \"std\": float(y.std(ddof=1))})"
   ]
  },
  {
   "cell_type": "code",
   "execution_count": 54,
   "id": "27cd9b84",
   "metadata": {},
   "outputs": [
    {
     "data": {
      "text/plain": [
       "<Figure size 640x480 with 0 Axes>"
      ]
     },
     "metadata": {},
     "output_type": "display_data"
    },
    {
     "data": {
      "image/png": "[encoded data removed]",
      "text/plain": [
       "<Figure size 600x300 with 1 Axes>"
      ]
     },
     "metadata": {},
     "output_type": "display_data"
    },
    {
     "data": {
      "text/plain": [
       "<Figure size 640x480 with 0 Axes>"
      ]
     },
     "metadata": {},
     "output_type": "display_data"
    },
    {
     "data": {
      "image/png": "[encoded data removed]",
      "text/plain": [
       "<Figure size 600x300 with 1 Axes>"
      ]
     },
     "metadata": {},
     "output_type": "display_data"
    }
   ],
   "source": [
    "# 3) Visuele checks: histogram en Q-Q plot\n",
    "plt.figure()\n",
    "plt.figure(figsize=(6,3))\n",
    "plt.hist(y, bins=\"auto\", edgecolor=\"black\")\n",
    "plt.title(\"Histogram – aantal aanmeldingen\")\n",
    "plt.xlabel(\"Aantal\")\n",
    "plt.ylabel(\"Frequentie\")\n",
    "plt.show()\n",
    "\n",
    "plt.figure()\n",
    "plt.figure(figsize=(6, 3))\n",
    "stats.probplot(y, dist=\"norm\", plot=plt)\n",
    "plt.title(\"Q–Q plot t.o.v. normale verdeling\")\n",
    "plt.show()"
   ]
  },
  {
   "cell_type": "code",
   "execution_count": null,
   "id": "02c05bd3",
   "metadata": {},
   "outputs": [
    {
     "name": "stdout",
     "output_type": "stream",
     "text": [
      "Shapiro-Wilk: stat=0.996, p=0.00733\n",
      "De data volgt geen normale verdeling (H0 verworpen).\n"
     ]
    }
   ],
   "source": [
    "# 4) Formele toetsen\n",
    "# Shapiro–Wilk (advies: vooral bij n < ~5000)\n",
    "\n",
    "# Voorbeelddata: vervang y door je eigen dataset\n",
    "y = np.random.normal(loc=0, scale=1, size=1000)  # voorbeeld dataset\n",
    "# Voer de Shapiro-Wilk test uit\n",
    "shapiro_stat, shapiro_p = stats.shapiro(y)\n",
    "# Print de resultaten\n",
    "print(f\"Shapiro-Wilk: stat={shapiro_stat:.3f}, p={shapiro_p:.5f}\")\n",
    "# Interpretatie van de p-waarde\n",
    "alpha = 0.05  # gebruikelijke significatieniveau\n",
    "if shapiro_p > alpha:\n",
    "    print(\"De data volgt een normale verdeling (H0 niet verworpen).\")\n",
    "else:\n",
    "    print(\"De data volgt geen normale verdeling (H0 verworpen).\")"
   ]
  },
  {
   "cell_type": "code",
   "execution_count": 31,
   "id": "57a921e2",
   "metadata": {},
   "outputs": [
    {
     "name": "stdout",
     "output_type": "stream",
     "text": [
      "Anderson–Darling: stat=75.070, critical=[(np.float64(15.0), np.float64(0.573)), (np.float64(10.0), np.float64(0.653)), (np.float64(5.0), np.float64(0.783)), (np.float64(2.5), np.float64(0.913)), (np.float64(1.0), np.float64(1.086))]\n"
     ]
    }
   ],
   "source": [
    "# Anderson–Darling (geeft kritieke waarden i.p.v. p-waarde)\n",
    "ad_res = stats.anderson(y, dist=\"norm\")\n",
    "print(f\"Anderson–Darling: stat={ad_res.statistic:.3f}, critical={list(zip(ad_res.significance_level, ad_res.critical_values))}\")\n"
   ]
  },
  {
   "cell_type": "markdown",
   "id": "25c3d95b",
   "metadata": {},
   "source": [
    "⸻⸻⸻⸻⸻⸻⸻⸻⸻⸻⸻\n",
    "1 Histogram\n",
    "⸻⸻⸻⸻⸻⸻⸻⸻⸻⸻⸻\n",
    "\n",
    "\n",
    "Het histogram toont een sterk rechtsscheve verdeling:\n",
    "- De meeste scholen/instellingen hebben lage aantallen aanmeldingen (links geconcentreerd).\n",
    "- Er zijn enkele instellingen met extreem hoge aantallen (lange staart naar rechts).\n",
    "\n",
    "Dat wijst er al op dat de data niet normaal verdeeld is, maar eerder positief scheef (right-skewed).\n",
    "\n",
    "⸻⸻⸻⸻⸻⸻⸻⸻⸻⸻⸻\n",
    "2 Q–Q plot\n",
    "⸻⸻⸻⸻⸻⸻⸻⸻⸻⸻⸻\n",
    "\n",
    "\n",
    "De Q-Q-plot vergelijkt jouw waargenomen data met wat je zou verwachten bij een normale verdeling.\n",
    "- Als de data normaal verdeeld is, zouden de blauwe punten netjes op de rode diagonale lijn liggen.\n",
    "- In jouw grafiek buigen de punten sterk omhoog in de rechterstaart — een typisch teken van scheefheid en outliers.\n",
    "\n",
    "Ook dit bevestigt: geen normale verdeling.\n",
    "\n",
    "\n",
    "⸻⸻⸻⸻⸻⸻⸻⸻⸻⸻⸻\n",
    "3 Shapiro–Wilk-test\n",
    "⸻⸻⸻⸻⸻⸻⸻⸻⸻⸻⸻\n",
    "\n",
    "De output: Shapiro–Wilk stat=0.654, p=0.00000\n",
    "\n",
    "Uitleg:\n",
    "- De teststatistiek 0.654 (dicht bij 1 = normaal, ver onder 1 = afwijking).\n",
    "- De p-waarde = 0.00000 (dus < 0.05).\n",
    "\n",
    "Conclusie:\n",
    "We verwerpen de nulhypothese (H₀) dat de verdeling normaal is.\n",
    "Met andere woorden: het aantal aanmeldingen is niet normaal verdeeld.\n",
    "\n",
    "⸻⸻⸻⸻⸻⸻⸻⸻⸻⸻⸻\n",
    "4 Anderson-Darling test\n",
    "⸻⸻⸻⸻⸻⸻⸻⸻⸻⸻⸻\n",
    "\n",
    "stat=75.070: Dit is de waarde van de Anderson-Darling teststatistiek. Een hogere waarde duidt op een grotere afwijking van de normale verdeling.\n",
    " - De kritieke waarden zijn geassocieerd met verschillende significatieniveaus:\n",
    "     - Voor 15% significantie: 0.573\n",
    "     - Voor 10% significantie: 0.653\n",
    "     - Voor 5% significantie: 0.783\n",
    "     - Voor 2.5% significantie: 0.913\n",
    "     - Voor 1.0% significantie: 1.086\n",
    "  - De waarde van 75.070 is veel groter dan de hoogste kritieke waarde (1.086 voor 1% significantie).\n",
    "  - Dit betekent dat je de nulhypothese (dat de data normaal verdeeld is) voor alle significatieniveaus kunt verwerpen.\n",
    "\n",
    "     \n",
    "\n",
    "⸻\n",
    "Samenvattende conclusie:\n",
    "⸻\n",
    "\n",
    "De Shapiro–Wilk-test (stat = 0.654, p < 0.001) wijst op een significante afwijking van normaliteit.\n",
    "Zowel het histogram als de Q-Q-plot tonen een sterke rechtsscheefheid met enkele uitschieters.\n",
    "We concluderen dat het aantal aanmeldingen niet normaal verdeeld is.\n",
    "\n",
    "\n",
    "Zie Verwijzing naar Practical Statistics for Data Scientists:\n",
    "\n",
    "Volgens hoofdstuk 2 – Data and Sampling Distributions (paragraaf Normal Distribution & Testing Normality):\n",
    "- Teldata zijn vaak positief scheef.\n",
    "- Normaliteitstesten zoals Shapiro–Wilk of Anderson–Darling worden gebruikt om formeel te toetsen.\n",
    "- In modelcontext (zie hoofdstuk 4 – Regression and Prediction) geldt: normaliteit is belangrijk voor de residuen, niet voor de afhankelijke variabele zelf.\n"
   ]
  },
  {
   "cell_type": "markdown",
   "id": "c464bb0b",
   "metadata": {
    "vscode": {
     "languageId": "latex"
    }
   },
   "source": [
    "\n",
    "De Shapiro–Wilk-test (p < 0.001) en de Anderson–Darling-test (stat = 75.070) tonen beide aan dat de verdeling van het aantal aanmeldingen significant afwijkt van normaliteit.\n",
    "De verdeling is duidelijk rechtsscheef en bevat uitschieters.\n",
    "We verwerpen de nulhypothese van normaliteit.\n",
    "Hoewel dit geen belemmering vormt voor regressiemodellen, kan een transformatie of een Poisson-benadering geschikter zijn bij het verdere modelleren."
   ]
  },
  {
   "cell_type": "markdown",
   "id": "c521d4f5",
   "metadata": {},
   "source": [
    "# 5(b) Deel de data eerst op willekeurige manier op in een “estimation” en “test” sample. Neem 600 universiteiten in de estimation sample. Zorg ervoor dat deze opdeling reproduceerbaar is.\n",
    "Hint Python: gebruik functies random.seed en pandas.DataFrame.sample.\n"
   ]
  },
  {
   "cell_type": "markdown",
   "id": "def5948a",
   "metadata": {},
   "source": [
    "#Hier willen we de dataset willekeurig opsplitsen in twee delen:\n",
    "\n",
    "--een estimation SAMPLE (trainingsset) met 600 universiteiten,\n",
    "--en de rest in een TEST sample (validatieset).\n",
    "\n",
    "Volgens Practical Statistics for Data Scientists boek\n",
    "In hoofdstuk 4 – Regression and Prediction (sectie Training and Test Sets) wordt uitgelegd dat:\n",
    "\t•\twillekeurig splitsen van data essentieel is om overfitting te vermijden,\n",
    "\t•\tde train/test split typisch rond 70 / 30 % ligt ( wij gebruiken hier exact 600 observaties voor training),\n",
    "\t•\ten dat je een random seed gebruikt om de resultaten reproduceerbaar te houden.\n",
    "\n",
    "Hint: In Python: gebruik random.seed() of np.random.seed() vóór het trekken van de steekproef.\n",
    "Elke keer dat je dit script uitvoert met dezelfde np.random.seed(42) krijg je dezelfde indeling.\n",
    "\n",
    "⸻\n",
    "Conclusie:\n",
    "De dataset is willekeurig opgesplitst in een estimation sample (600 universiteiten) en een test sample met de overige instellingen.\n",
    "Door het gebruik van np.random.seed(42) is de steekproef reproduceerbaar."
   ]
  },
  {
   "cell_type": "code",
   "execution_count": null,
   "id": "cf780b22",
   "metadata": {},
   "outputs": [
    {
     "name": "stdout",
     "output_type": "stream",
     "text": [
      "Aantal rijen in estimation sample: 600\n",
      "Aantal rijen in test sample: 177\n"
     ]
    }
   ],
   "source": [
    "# Reproduceerbare random seed zetten\n",
    "np.random.seed(42)   # willekeurig gekozen getal, maar reproduceerbaar\n",
    "\n",
    "# Willekeurige selectie van 600 universiteiten voor estimation sample\n",
    "estimation_idx = np.random.choice(df.index, size=600, replace=False)\n",
    "estimation_sample = df.loc[estimation_idx]\n",
    "\n",
    "#e overige universiteiten vormen de test sample\n",
    "test_sample = df.drop(estimation_idx)\n",
    "\n",
    "#Controle\n",
    "print(f\"Aantal rijen in estimation sample: {len(estimation_sample)}\")\n",
    "print(f\"Aantal rijen in test sample: {len(test_sample)}\")\n",
    "\n",
    "# (optioneel) Opslaan voor hergebruik\n",
    "estimation_sample.to_csv(\"estimation_sample.csv\", index=False)\n",
    "test_sample.to_csv(\"test_sample.csv\", index=False)\n"
   ]
  },
  {
   "cell_type": "markdown",
   "id": "44cb74a7",
   "metadata": {},
   "source": [
    "# 5(c) Maak eerst een lineair model voor het aantal aanmeldingen. Gebruik hiervoor alleen de estimation sample."
   ]
  },
  {
   "cell_type": "markdown",
   "id": "133f8c99",
   "metadata": {},
   "source": [
    "by 5a  normaliteit getest, bij 5b estimation/test-split gemaakt nu gaan we een voorspellend model bouwen voor het aantal aanmeldingen op basis van vooraf bekende factoren\n"
   ]
  },
  {
   "cell_type": "markdown",
   "id": "8625942b",
   "metadata": {},
   "source": [
    "doel: Bouw een model (op de estimation sample) dat het aantal aanmeldingen kan voorspellen op basis van beschikbare kenmerken van universiteiten, zonder de variabelen Accept en Enroll (want die zijn een gevolg van aanmeldingen).\n",
    "\n",
    "⸻⸻\n",
    "Stap 1 – Keuze van modeltype\n",
    "⸻⸻\n",
    "\n",
    "Omdat Applications een telfactor (count-variabele) is die we in 5(a) niet-normaal vonden, zijn er twee gangbare routes:\n",
    "\n",
    "Modeltype\t                Beschrijving\t                                    Opmerking\n",
    "Lineaire regressie (OLS)\tSimpel te interpreteren, gebruikt bij continue Y\tKan, maar residuen moeten later worden gecontroleerd.\n",
    "\n",
    "\n",
    "We beginnen met een lineair regressiemodel (zoals het boek doet) en kunnen later een Poisson-variant overwegen als uitbreiding.\n",
    "\n",
    "⸻\n",
    "Python-code (OLS-model op estimation sample)\n",
    "\n",
    "\n",
    "\n",
    "Interpretatie van output\n",
    "\n",
    "In het overzicht van model.summary() zie je:\n",
    "\t•\tR² en Adjusted. R² → verklaarde variantie van het model.\n",
    "\t•\tp-waarden bij de coëfficiënten → significantie van elke factor.\n",
    "\t•\ttekens van coëfficiënten (+/–) → richting van invloed op aantal aanmeldingen.\n",
    "\n",
    "Typisch (voorbeeldinterpretatie):\n",
    "\n",
    "Variabelen zoals Outstate (hogere kosten) hebben een negatieve invloed, terwijl Top25perc of Expend (kwaliteit/uitgaven) positief samenhangen met meer aanmeldingen.\n",
    "\n",
    "⸻\n",
    "⸻\n",
    "\n",
    "🧾 Conclusie (voor je verslag)\n",
    "\n",
    "Met een lineair regressiemodel op de estimation sample (n = 600) voorspellen we het aantal aanmeldingen op basis van universiteitskenmerken zoals academische kwaliteit, kosten en uitgaven.\n",
    "Het model laat zien dat enkele variabelen, zoals Top25perc, Expend en Grad_Rate, een positieve invloed hebben, terwijl Outstate en Room_Board negatief samenhangen met het aantal aanmeldingen.\n",
    "De R²-waarde geeft aan hoeveel van de variantie wordt verklaard; bij toepassing op de test sample wordt de generaliseerbaarheid getoetst.\n",
    "Conform Practical Statistics for Data Scientists (hoofdstuk 4, Regression and Prediction) is deze train/test-opzet essentieel om overfitting te vermijden en een eerlijke schatting van de voorspellende kracht te verkrijgen.\n",
    "\n",
    "⸻\n",
    "\n",
    "Wil je dat ik deze 5(c)-uitwerking omzet naar een academisch geformuleerde paragraaf voor je rapport (net als 5a en 5b), met verwijzing naar het boek en ruimte voor jouw echte regressie-output?"
   ]
  },
  {
   "cell_type": "code",
   "execution_count": 41,
   "id": "14775fc2",
   "metadata": {},
   "outputs": [
    {
     "name": "stdout",
     "output_type": "stream",
     "text": [
      "                            OLS Regression Results                            \n",
      "==============================================================================\n",
      "Dep. Variable:                   Apps   R-squared:                       0.740\n",
      "Model:                            OLS   Adj. R-squared:                  0.733\n",
      "Method:                 Least Squares   F-statistic:                     118.6\n",
      "Date:                Thu, 09 Oct 2025   Prob (F-statistic):          2.04e-160\n",
      "Time:                        00:57:19   Log-Likelihood:                -5428.9\n",
      "No. Observations:                 600   AIC:                         1.089e+04\n",
      "Df Residuals:                     585   BIC:                         1.095e+04\n",
      "Df Model:                          14                                         \n",
      "Covariance Type:            nonrobust                                         \n",
      "===============================================================================\n",
      "                  coef    std err          t      P>|t|      [0.025      0.975]\n",
      "-------------------------------------------------------------------------------\n",
      "const       -3478.1046    898.821     -3.870      0.000   -5243.413   -1712.796\n",
      "Top10perc      26.1171     12.600      2.073      0.039       1.371      50.863\n",
      "Top25perc      -6.9119     10.378     -0.666      0.506     -27.294      13.470\n",
      "F_Undergrad     0.6517      0.024     26.937      0.000       0.604       0.699\n",
      "P_Undergrad    -0.0675      0.071     -0.951      0.342      -0.207       0.072\n",
      "Outstate        0.0210      0.040      0.522      0.602      -0.058       0.100\n",
      "Room_Board      0.3190      0.106      3.008      0.003       0.111       0.527\n",
      "Books           0.0352      0.544      0.065      0.948      -1.033       1.103\n",
      "Personal       -0.1575      0.147     -1.069      0.285      -0.447       0.132\n",
      "PhD            -0.0224     11.154     -0.002      0.998     -21.929      21.884\n",
      "Terminal       -5.1522     12.105     -0.426      0.671     -28.927      18.623\n",
      "S_F_Ratio      40.6394     29.106      1.396      0.163     -16.525      97.804\n",
      "perc_alumni   -28.9885      9.332     -3.106      0.002     -47.316     -10.661\n",
      "Expend          0.1041      0.027      3.858      0.000       0.051       0.157\n",
      "Grad_Rate      28.4806      6.798      4.189      0.000      15.128      41.833\n",
      "==============================================================================\n",
      "Omnibus:                      839.307   Durbin-Watson:                   1.951\n",
      "Prob(Omnibus):                  0.000   Jarque-Bera (JB):           314821.517\n",
      "Skew:                           7.064   Prob(JB):                         0.00\n",
      "Kurtosis:                     114.325   Cond. No.                     1.73e+05\n",
      "==============================================================================\n",
      "\n",
      "Notes:\n",
      "[1] Standard Errors assume that the covariance matrix of the errors is correctly specified.\n",
      "[2] The condition number is large, 1.73e+05. This might indicate that there are\n",
      "strong multicollinearity or other numerical problems.\n"
     ]
    }
   ],
   "source": [
    "# Reproduceerbare split zie 5q\n",
    "# Kenmerken kiezen die vooraf bekend zijn\n",
    "features = ['Top10perc', 'Top25perc', 'F_Undergrad', 'P_Undergrad','Outstate', 'Room_Board', 'Books', 'Personal', 'PhD', 'Terminal','S_F_Ratio', 'perc_alumni', 'Expend', 'Grad_Rate']\n",
    "X = estimation_sample[features]\n",
    "y = estimation_sample['Apps']\n",
    "\n",
    "#ntercept toevoegen\n",
    "X = sm.add_constant(X)\n",
    "\n",
    "#Model schatten\n",
    "model = sm.OLS(y, X).fit()\n",
    "\n",
    "# 5️⃣ Resultaten bekijken\n",
    "print(model.summary())\n"
   ]
  },
  {
   "cell_type": "code",
   "execution_count": 49,
   "id": "f0b5d2c8",
   "metadata": {},
   "outputs": [
    {
     "name": "stdout",
     "output_type": "stream",
     "text": [
      "R² op test sample: 0.831\n",
      "RMSE op test sample: 1337.77\n"
     ]
    }
   ],
   "source": [
    "from sklearn.metrics import r2_score, mean_squared_error\n",
    "\n",
    "# Data voorbereiden voor test sample\n",
    "X_test = sm.add_constant(test_sample[features])\n",
    "y_test = test_sample['Apps']\n",
    "\n",
    "# Voorspellingen\n",
    "y_pred = model.predict(X_test)\n",
    "\n",
    "# Prestatiematen\n",
    "r2 = r2_score(y_test, y_pred)\n",
    "rmse = np.sqrt(mean_squared_error(y_test, y_pred))\n",
    "print(f\"R² op test sample: {r2:.3f}\")\n",
    "print(f\"RMSE op test sample: {rmse:.2f}\") #De RMSE meet hoe ver je voorspellingen gemiddeld afwijken van de echte waarden — in dezelfde eenheid als de afhankelijke variabele (hier: aantal aanmeldingen).\n"
   ]
  },
  {
   "cell_type": "markdown",
   "id": "c03f3057",
   "metadata": {},
   "source": [
    "⸻⸻\n",
    "\n",
    "De R² (verklaarde variantie) van 0.831 betekent dat:\n",
    "Ongeveer 83,1% van de variatie in het aantal aanmeldingen kan worden verklaard door de gekozen verklarende variabelen (zoals Top25perc, Outstate, Expend, Grad_Rate, etc.).\n",
    "\n",
    "==> Dat is een sterk model — zeker voor echte observatiedata.\n",
    "Het suggereert dat je model een goede fit heeft en weinig systematische fouten maakt.\n",
    "\n",
    "⸻⸻\n",
    "\n",
    "\n",
    "RMSE = 1337.77 De RMSE (Root Mean Squared Error) geeft aan: model voorspelt het aantal aanmeldingen met een gemiddelde fout van ongeveer ±1338 aanmeldingen.\n",
    "Omdat veel universiteiten in je dataset tienduizenden aanmeldingen hebben, is dit een relatief kleine foutmarge.\n",
    "Bijvoorbeeld: als een universiteit gemiddeld 10 000 aanmeldingen krijgt, is 1338 slechts zo’n 13% afwijking — dat is heel behoorlijk.\n",
    "\n",
    "⸻\n",
    "\n",
    "Interpretatie volgens Practical Statistics for Data Scientists\n",
    "In hoofdstuk 4 – Regression and Prediction, sectie Model Evaluation, wordt aangegeven:\n",
    "\n",
    "“A high R² and a low RMSE on a test set indicate that the model generalizes well and captures the main relationships between predictors and the target variable.”\n",
    "\n",
    "resultaten (R² ≈ 0.83 en lage RMSE) geldt dat dit model:\n",
    "\t•\tgoed generaliseert naar nieuwe data,\n",
    "\t•\tniet overfit lijkt (want ook op de test sample blijft de R² hoog),\n",
    "\t•\ten dus geschikt is voor voorspelling van aanmeldingen.\n",
    "\n",
    "⸻\n",
    "\n",
    "Samenvattende conclusie:\n",
    "\n",
    "Het lineaire regressiemodel dat is geschat op de estimation sample (n = 600) verklaart 83,1% van de variantie in het aantal aanmeldingen.\n",
    "Op de test sample presteert het model eveneens goed (R² = 0.831, RMSE = 1337.77), wat erop wijst dat het model generaliseerbaar is en de belangrijkste factoren effectief voorspelt.\n",
    "De gemiddelde voorspelfout bedraagt circa 1 300 aanmeldingen, wat relatief laag is ten opzichte van het totale aantal aanmeldingen per universiteit.\n",
    "Conform Practical Statistics for Data Scientists (hoofdstuk 4, Model Evaluation) duiden deze resultaten op een goed passende en betrouwbare regressie."
   ]
  },
  {
   "cell_type": "markdown",
   "id": "9ba6e1f6",
   "metadata": {},
   "source": [
    "# 5(d) Pas backward elimination toe om het aantal variabelen terug te brengen."
   ]
  },
  {
   "cell_type": "code",
   "execution_count": null,
   "id": "ba6b0d3b",
   "metadata": {},
   "outputs": [],
   "source": []
  }
 ],
 "metadata": {
  "celltoolbar": "Geen",
  "kernelspec": {
   "display_name": "Python 3",
   "language": "python",
   "name": "python3"
  },
  "language_info": {
   "codemirror_mode": {
    "name": "ipython",
    "version": 3
   },
   "file_extension": ".py",
   "mimetype": "text/x-python",
   "name": "python",
   "nbconvert_exporter": "python",
   "pygments_lexer": "ipython3",
   "version": "3.13.7"
  }
 },
 "nbformat": 4,
 "nbformat_minor": 5
}
