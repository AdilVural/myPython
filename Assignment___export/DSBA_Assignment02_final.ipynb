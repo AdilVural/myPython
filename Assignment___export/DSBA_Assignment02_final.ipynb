{
 "cells": [
  {
   "cell_type": "markdown",
   "id": "e94cb446",
   "metadata": {},
   "source": [
    "# DSBA Programming & Visualization\n",
    "## Assignment 02\n",
    "\n",
    "\n",
    "| **Item**            | **Details**              |\n",
    "|----------------------|--------------------------|\n",
    "| Deadline             | 26 oktober, 23:59u       |\n",
    "| Data                 | olympics_raw.csv, flags_raw.csv, gdp_raw.csv, population_raw.csv  |\n",
    "| Aantal vragen        | 4                        |\n",
    "| Author        | Adil Vural & Oktay Dogan                        |\n",
    "\n",
    "\n",
    "Lever een script of jupyter \n",
    "notebook in met daarin je code om de vragen te beantwoorden én in commentaren (#) \n",
    "uitleg waar nodig/gevraagd. Lever het script / notebook in via Canvas.\n",
    "\n",
    "Gebruik vooral de slides en oefeningen die we in de colleges hebben behandeld"
   ]
  },
  {
   "cell_type": "markdown",
   "id": "c9035674",
   "metadata": {},
   "source": [
    "## Data\n",
    "In deze assignment maken we wederom gebruik van een dataset over de Olympische\n",
    "Spelen, 1896-2022. Daarnaast zijn gegevens beschikbaar over vlaggen,\n",
    "inwonersaantallen en GDP. Het betreft de ruwe databestanden zoals die zijn gebruikt\n",
    "om olympics_prepared.csv te maken, het bestand dat we in assignment 01 hebben\n",
    "gebruikt. (Let op: olympics_prepared bevat alleen data van 1960–2022; vergelijkingen kunnen daardoor afwijken.)\n",
    "\n",
    "\n",
    "Hieronder volgt een viertal vragen over deze dataset die met Python kunnen worden\n",
    "beantwoord."
   ]
  },
  {
   "cell_type": "markdown",
   "id": "f85b6551",
   "metadata": {},
   "source": [
    "## Q1 – Transformations\n",
    "Lees de data in vanuit de 4 `.csv`-bestanden.\n",
    "\n"
   ]
  },
  {
   "cell_type": "code",
   "execution_count": 28,
   "id": "92af9c8c",
   "metadata": {},
   "outputs": [
    {
     "name": "stdout",
     "output_type": "stream",
     "text": [
      "flag columns: Index(['name', 'flag_nr_colors', 'flag_mainhue', 'flag_topleft_color',\n",
      "       'flag_botright_color'],\n",
      "      dtype='object')\n",
      "gdp columns: Index(['country_name', 'country_code', 'indicator_name', 'indicator_code',\n",
      "       'x1960', 'x1961', 'x1962', 'x1963', 'x1964', 'x1965', 'x1966', 'x1967',\n",
      "       'x1968', 'x1969', 'x1970', 'x1971', 'x1972', 'x1973', 'x1974', 'x1975',\n",
      "       'x1976', 'x1977', 'x1978', 'x1979', 'x1980', 'x1981', 'x1982', 'x1983',\n",
      "       'x1984', 'x1985', 'x1986', 'x1987', 'x1988', 'x1989', 'x1990', 'x1991',\n",
      "       'x1992', 'x1993', 'x1994', 'x1995', 'x1996', 'x1997', 'x1998', 'x1999',\n",
      "       'x2000', 'x2001', 'x2002', 'x2003', 'x2004', 'x2005', 'x2006', 'x2007',\n",
      "       'x2008', 'x2009', 'x2010', 'x2011', 'x2012', 'x2013', 'x2014', 'x2015',\n",
      "       'x2016', 'x2017', 'x2018', 'x2019', 'x2020', 'x2021', 'x2022', 'x2023'],\n",
      "      dtype='object')\n",
      "olympics columns: Index(['game', 'medal_type', 'country_name', 'game_location', 'game_season',\n",
      "       'game_year'],\n",
      "      dtype='object')\n",
      "population columns: Index(['entity', 'code', 'year', 'population'], dtype='object')\n"
     ]
    }
   ],
   "source": [
    "import pandas as pd\n",
    "# Data inlezen \n",
    "flags_raw = pd.read_csv('flags_raw.csv')\n",
    "gdp_raw = pd.read_csv('gdp_raw.csv')\n",
    "olympics_raw = pd.read_csv('olympics_raw.csv')\n",
    "population_raw = pd.read_csv('population_raw.csv')\n",
    "\n",
    "# Eerste paar rijen tonen ter controle\n",
    "print('flag columns:',flags_raw.columns)\n",
    "print('gdp columns:',gdp_raw.columns)\n",
    "print('olympics columns:',olympics_raw.columns)\n",
    "print('population columns:',population_raw.columns)"
   ]
  },
  {
   "cell_type": "code",
   "execution_count": 29,
   "id": "f4342bb5",
   "metadata": {},
   "outputs": [
    {
     "name": "stdout",
     "output_type": "stream",
     "text": [
      "Lege waarden per kolom in df_flags:\n",
      " name                   0\n",
      "flag_nr_colors         0\n",
      "flag_mainhue           0\n",
      "flag_topleft_color     0\n",
      "flag_botright_color    0\n",
      "dtype: int64\n",
      "\n",
      "Lege waarden per kolom in df_gdp:\n",
      " country_name        0\n",
      "country_code        0\n",
      "indicator_name      0\n",
      "indicator_code      0\n",
      "x1960             128\n",
      "                 ... \n",
      "x2019               8\n",
      "x2020               9\n",
      "x2021              10\n",
      "x2022              16\n",
      "x2023              32\n",
      "Length: 68, dtype: int64\n",
      "\n",
      "Lege waarden per kolom in df_olympics:\n",
      " game             0\n",
      "medal_type       0\n",
      "country_name     0\n",
      "game_location    0\n",
      "game_season      0\n",
      "game_year        0\n",
      "dtype: int64\n",
      "\n",
      "Lege waarden per kolom in df_population:\n",
      " entity           0\n",
      "code          1332\n",
      "year             0\n",
      "population       0\n",
      "dtype: int64\n"
     ]
    }
   ],
   "source": [
    "# Data check: Toon per dataframe het aantal lege waarden (NaN) per kolom\n",
    "print(\"Lege waarden per kolom in df_flags:\\n\", flags_raw.isna().sum())\n",
    "print(\"\\nLege waarden per kolom in df_gdp:\\n\", gdp_raw.isna().sum())\n",
    "print(\"\\nLege waarden per kolom in df_olympics:\\n\", olympics_raw.isna().sum())\n",
    "print(\"\\nLege waarden per kolom in df_population:\\n\", population_raw.isna().sum())"
   ]
  },
  {
   "cell_type": "markdown",
   "id": "8d700728",
   "metadata": {},
   "source": [
    "### Q1- Transformations A. Melt\n",
    "\n",
    "Het GDP-data.frame is in ‘messy format’. Ieder jaar heeft namelijk een eigen kolom,\n",
    "waardoor een nieuw jaar toevoegen het toevoegen van een nieuwe kolom betekent. Het\n",
    "is netter wanneer nieuwe observaties nieuwe rijen betekenen.\n",
    "Maak vanuit het ruwe GDP-data.frame een nieuw data.frame met kolommen:\n",
    "- `country_name`\n",
    "- `country_code`\n",
    "- `year` (het jaartal, afkomstig uit de kolomnamen in het format ‘xYYYY’). **Tip**: Gebruik value_vars=<your_dataframe>.columns[4:], in de functie om alle jaarkolommen op te halen. Hiermee worden alle kolommen vanaf positie 5 meegenomen.\n",
    "- `gdp` (de waarde van gdp, afkomstig uit die kolommen)\n",
    "\n",
    "\n",
    "Zie onderstaand voorbeeld hoe het getransformeerde GDP-data.frame eruit zou moeten zien."
   ]
  },
  {
   "cell_type": "markdown",
   "id": "84bd0e4f",
   "metadata": {},
   "source": [
    "![title](Voorbeelden/Q1_Transformaties_A_Voorbeeld.png)"
   ]
  },
  {
   "cell_type": "code",
   "execution_count": 30,
   "id": "1e6379ba",
   "metadata": {},
   "outputs": [
    {
     "name": "stdout",
     "output_type": "stream",
     "text": [
      "                  country_name country_code     indicator_name  \\\n",
      "0                        Aruba          ABW  GDP (current US$)   \n",
      "1  Africa Eastern and Southern          AFE  GDP (current US$)   \n",
      "2                  Afghanistan          AFG  GDP (current US$)   \n",
      "3   Africa Western and Central          AFW  GDP (current US$)   \n",
      "\n",
      "   indicator_code         x1960         x1961         x1962         x1963  \\\n",
      "0  NY.GDP.MKTP.CD           NaN           NaN           NaN           NaN   \n",
      "1  NY.GDP.MKTP.CD  2.121696e+10  2.230747e+10  2.370247e+10  2.577938e+10   \n",
      "2  NY.GDP.MKTP.CD           NaN           NaN           NaN           NaN   \n",
      "3  NY.GDP.MKTP.CD  1.188413e+10  1.268566e+10  1.360683e+10  1.443998e+10   \n",
      "\n",
      "          x1964         x1965  ...         x2014         x2015         x2016  \\\n",
      "0           NaN           NaN  ...  2.790850e+09  2.962907e+09  2.983635e+09   \n",
      "1  2.804954e+10  3.037491e+10  ...  9.796897e+11  8.992957e+11  8.298300e+11   \n",
      "2           NaN           NaN  ...  2.049713e+10  1.913422e+10  1.811657e+10   \n",
      "3  1.576911e+10  1.693448e+10  ...  8.945854e+11  7.693673e+11  6.921811e+11   \n",
      "\n",
      "          x2017         x2018         x2019         x2020         x2021  \\\n",
      "0  3.092429e+09  3.276184e+09  3.395799e+09  2.558906e+09  3.103184e+09   \n",
      "1  9.401055e+11  1.012719e+12  1.006527e+12  9.290741e+11  1.086772e+12   \n",
      "2  1.875346e+10  1.805322e+10  1.879944e+10  1.995593e+10  1.426650e+10   \n",
      "3  6.857502e+11  7.681896e+11  8.239336e+11  7.871467e+11  8.459930e+11   \n",
      "\n",
      "          x2022         x2023  \n",
      "0  3.544708e+09           NaN  \n",
      "1  1.183962e+12  1.236163e+12  \n",
      "2  1.450216e+10           NaN  \n",
      "3  8.771408e+11  7.965862e+11  \n",
      "\n",
      "[4 rows x 68 columns]\n"
     ]
    }
   ],
   "source": [
    "# data bekijken\n",
    "print(gdp_raw.head(4))"
   ]
  },
  {
   "cell_type": "code",
   "execution_count": 31,
   "id": "f5bab376",
   "metadata": {},
   "outputs": [
    {
     "name": "stdout",
     "output_type": "stream",
     "text": [
      "                  country_name country_code  year           gdp\n",
      "0                        Aruba          ABW  1960           NaN\n",
      "1  Africa Eastern and Southern          AFE  1960  2.121696e+10\n",
      "2                  Afghanistan          AFG  1960           NaN\n",
      "3   Africa Western and Central          AFW  1960  1.188413e+10\n",
      "4                       Angola          AGO  1960           NaN\n",
      "Index(['country_name', 'country_code', 'year', 'gdp'], dtype='object')\n"
     ]
    }
   ],
   "source": [
    "\n",
    "# After melting, remove the 'x' prefix from the year column and convert to integer. \n",
    "# This is necessary for correct merging later.\n",
    "#gdp_long = gdp_long.assign(year=gdp_long['year'].str.replace('x', '').astype(int))\n",
    "\n",
    "# 1: Melt de GDP-data hiermee maak je van elke jaar kolom een aparte rij per land \n",
    "gdp_long = pd.melt(\n",
    "    gdp_raw,\n",
    "    id_vars=['country_name', 'country_code'],  # vaste kolommen die gelijk blijven. Deze 2 kolommen worden niet gemelt\n",
    "    value_vars=gdp_raw.columns[4:],            # alle jaarkolommen vanaf positie 5 hebben.\n",
    "    var_name='year',                           # nieuwe kolom voor jaartal\n",
    "    value_name='gdp'                           # nieuwe kolom voor GDP-waarde\n",
    ")\n",
    "\n",
    "# 2: Verwijder 'x' uit het jaartal en zet om naar integer\n",
    "gdp_long['year'] = gdp_long['year'].str.replace('x', '').astype(int)\n",
    "\n",
    "# 3: Bekijk het resultaat\n",
    "print(gdp_long.head())\n",
    "print(gdp_long.columns)\n",
    "\n",
    "# controleer de nieuwe data types\n",
    "#print(gdp_long.dtypes)"
   ]
  },
  {
   "cell_type": "markdown",
   "id": "f99b785a",
   "metadata": {},
   "source": [
    "### Q1- Transformations B. Pivot\n",
    "\n",
    "Ook het olympics-data.frame is niet in het format die we nodig hebben voor onze verder\n",
    "analyse. Iedere regel is namelijk een enkele medaille, terwijl wij het aantal medailles per\n",
    "land willen weten. Vind, per Land / Olympische Spelen / Medaillekleur-combinatie het\n",
    "aantal medailles. Zorg dat je niet de informatie over locatie, seizoen en jaar verliest.\n",
    "\n",
    "\n",
    "Vervolgens willen we graag dat GOLD, SILVER en BRONZE ieder een eigen kolom\n",
    "hebben met het aantal medailles behaald van die kleur. Zie onderstaand voorbeeld hoe\n",
    "het getransformeerde olympics-data.frame eruit zou moeten zien.\n",
    "\n",
    "**Tip** Gebruik de argumenten aggfunc='size' (om medailles kleuren te tellen.) , fill_value=0 (voorkomt NaN, bij landen zonder die medaille kleur)"
   ]
  },
  {
   "cell_type": "markdown",
   "id": "dc01f0b1",
   "metadata": {},
   "source": []
  },
  {
   "cell_type": "markdown",
   "id": "4b6daadd",
   "metadata": {},
   "source": [
    "![title](Voorbeelden/Q1_Transformaties_B_Voorbeeld.png)"
   ]
  },
  {
   "cell_type": "code",
   "execution_count": 32,
   "id": "aeec4dfb",
   "metadata": {},
   "outputs": [],
   "source": [
    "# Use pd.pivot_table instead of pd.pivot to handle the extra arguments aggfunc/fill_value. pivot_table is a more flexible function with the same syntax.\n",
    "# After pivoting the medal_type to columns, reset the index to turn the multi-index into columns for easier merging later.\n",
    "#<your_dataframe>.reset_index(inplace=True) \n",
    "#<,>.columns.name = None  # Remove the 'medal_type' name from columns - not needed but looks better"
   ]
  },
  {
   "cell_type": "code",
   "execution_count": 33,
   "id": "07ec580f",
   "metadata": {},
   "outputs": [
    {
     "name": "stdout",
     "output_type": "stream",
     "text": [
      "          game medal_type country_name game_location game_season  game_year\n",
      "0  athens-1896       GOLD    Australia        Greece      Summer       1896\n",
      "1  athens-1896       GOLD    Australia        Greece      Summer       1896\n",
      "2  athens-1896     BRONZE      Austria        Greece      Summer       1896\n",
      "3  athens-1896       GOLD      Austria        Greece      Summer       1896\n",
      "4  athens-1896     BRONZE      Austria        Greece      Summer       1896\n",
      "5  athens-1896       GOLD      Austria        Greece      Summer       1896\n"
     ]
    }
   ],
   "source": [
    "# olympics_raw data bekijken\n",
    "print(olympics_raw.head(6))"
   ]
  },
  {
   "cell_type": "code",
   "execution_count": 34,
   "id": "9126780b",
   "metadata": {},
   "outputs": [
    {
     "name": "stdout",
     "output_type": "stream",
     "text": [
      "  country_name  game_year  game_location game_season  BRONZE  GOLD  SILVER\n",
      "0  Afghanistan       2008          China      Summer       1     0       0\n",
      "1  Afghanistan       2012  Great Britain      Summer       1     0       0\n",
      "2      Algeria       1984  United States      Summer       2     0       0\n",
      "3      Algeria       1992          Spain      Summer       1     1       0\n",
      "4      Algeria       1996  United States      Summer       1     2       0\n",
      "5      Algeria       2000      Australia      Summer       3     1       1\n"
     ]
    }
   ],
   "source": [
    "# Pivot maken van de olympics data\n",
    "olympics_pivot = pd.pivot_table(\n",
    "    olympics_raw ,\n",
    "    index=['country_name', 'game_year', 'game_location', 'game_season'],  # Groepeert op deze kolommen\n",
    "    columns='medal_type',                                                 # medaillekleur wordt kolom\n",
    "    aggfunc='size',                                                       # telt aantal medailles\n",
    "    fill_value=0                                                          # vult lege waarden met 0\n",
    ")\n",
    "olympics_pivot.reset_index(inplace=True)\n",
    "olympics_pivot.columns.name = None  # verwijder de naam van de kolomindex\n",
    "print(olympics_pivot.head(6))"
   ]
  },
  {
   "cell_type": "markdown",
   "id": "c885bc1e",
   "metadata": {},
   "source": [
    "## Q2 – Joins\n",
    "Voeg de dataframes (olympics, gdp, population, flags) samen tot één dataframe, alle observaties uit olympics behoudend. Gebruik de juiste keys."
   ]
  },
  {
   "cell_type": "markdown",
   "id": "ea76d3dd",
   "metadata": {},
   "source": [
    "##De gebruikte join-kolommen in jouw merges zijn:\n",
    "\n",
    "df_olympics:\n",
    "'country_name' en 'game_year' (land en jaar van de olympische spelen)\n",
    "gdp_long:\n",
    "'country_name' en 'year' (land en jaar voor GDP)\n",
    "df_population:\n",
    "'entity' (land) en 'year' (jaar voor populatie)\n",
    "df_flags:\n",
    "'name' (landnaam voor vlag)##"
   ]
  },
  {
   "cell_type": "code",
   "execution_count": 35,
   "id": "4bb5f413",
   "metadata": {},
   "outputs": [
    {
     "name": "stdout",
     "output_type": "stream",
     "text": [
      "gdp_long.columns: Index(['country_name', 'country_code', 'year', 'gdp'], dtype='object')\n",
      "olympics_raw.columns: Index(['game', 'medal_type', 'country_name', 'game_location', 'game_season',\n",
      "       'game_year'],\n",
      "      dtype='object')\n",
      "olympics_pivot.columns: Index(['country_name', 'game_year', 'game_location', 'game_season', 'BRONZE',\n",
      "       'GOLD', 'SILVER'],\n",
      "      dtype='object')\n",
      "population_raw.columns: Index(['entity', 'code', 'year', 'population'], dtype='object')\n"
     ]
    }
   ],
   "source": [
    "# controleer de nieuwe data types\n",
    "#print(gdp_raw.columns)\n",
    "print('gdp_long.columns:', gdp_long.columns)\n",
    "print('olympics_raw.columns:', olympics_raw.columns)\n",
    "print('olympics_pivot.columns:', olympics_pivot.columns)\n",
    "print('population_raw.columns:', population_raw.columns)   "
   ]
  },
  {
   "cell_type": "code",
   "execution_count": 36,
   "id": "7467b1d4",
   "metadata": {},
   "outputs": [
    {
     "name": "stdout",
     "output_type": "stream",
     "text": [
      "finale data columns:  Index(['country_name', 'year', 'game_location', 'game_season', 'BRONZE',\n",
      "       'GOLD', 'SILVER', 'gdp', 'population', 'flag_nr_colors', 'flag_mainhue',\n",
      "       'flag_topleft_color', 'flag_botright_color'],\n",
      "      dtype='object')\n",
      "unieke game_season: ['Summer' 'Winter']\n"
     ]
    }
   ],
   "source": [
    "# === Simpele joins (alle rijen uit olympics_pivot behouden) ===\n",
    "# Zorg dat kolomnamen overeenkomen\n",
    "olympics_pivot = olympics_pivot.rename(columns={\"game_year\": \"year\"})\n",
    "population = population_raw.rename(columns={\"entity\": \"country_name\", \"code\": \"country_code\"})[[\"country_name\", \"year\", \"population\"]]\n",
    "flags_clean = flags_raw.rename(columns={\"name\": \"country_name\"})\n",
    "\n",
    "# Olympics en GDP joinen\n",
    "olympics_gdp = olympics_pivot.merge(\n",
    "    gdp_long[[\"country_name\", \"year\", \"gdp\"]],\n",
    "    how=\"left\",\n",
    "    on=[\"country_name\", \"year\"]\n",
    ")\n",
    "\n",
    "# Olympics, GDP en Population joinen\n",
    "olympics_gdp_population = olympics_gdp.merge(\n",
    "    population,\n",
    "    how=\"left\",\n",
    "    on=[\"country_name\", \"year\"]\n",
    ")\n",
    "\n",
    "# olympics, gdp, population en flags joinen en dat is finale set \n",
    "olympics_gdp_population_flags = olympics_gdp_population.merge(\n",
    "    flags_clean,\n",
    "    how=\"left\",\n",
    "    on=\"country_name\"\n",
    ")\n",
    "print('finale data columns: ',olympics_gdp_population_flags.columns)\n",
    "#print(olympics_gdp_population_flags.head())\n",
    "print ('unieke game_season:',olympics_gdp_population_flags.game_season.unique())\n",
    "\n"
   ]
  },
  {
   "cell_type": "markdown",
   "id": "f568ccd6",
   "metadata": {},
   "source": [
    "## Q3 – Functions and Conditions\n",
    "Maak een functie met als output: een lijst van de landen die bij alle Spelen van een bepaald seizoen meer dan `x` gouden medailles hebben gehaald. Aggregeer en sommeer op medaillekleur per land.\n",
    "\n",
    "De input argumenten van deze functie zijn:\n",
    "- de data (het dataframe uit Q2)\n",
    "- het seizoen (`Winter` of `Summer`)\n",
    "- het aantal medailles (de grens waarboven het land in de output moet\n",
    "voorkomen)\n",
    "\n",
    "Zorg dat de functie ook werkt wanneer alleen de data wordt ingegeven (de andere twee\n",
    "input argumenten moeten dus default-waardes hebben).\n",
    "\n",
    "Zorg dat de functie een informatieve warning geeft wanneer input argument seizoen\n",
    "geen valide waarde bevat."
   ]
  },
  {
   "cell_type": "code",
   "execution_count": 37,
   "id": "500d68f3",
   "metadata": {},
   "outputs": [],
   "source": [
    "def landen_met_x_gouden_medailles(data, seizoen='Summer', x_gouden=0):\n",
    "    # Controleer op geldige seizoenswaarde\n",
    "    if seizoen not in ['Winter', 'Summer']:\n",
    "        raise ValueError(\"Ongeldig seizoen. Kies 'Winter' of 'Summer'.\")\n",
    "    \n",
    "    # Filter de data op het gekozen seizoen\n",
    "    gefilterde_data = data[data['game_season'] == seizoen]\n",
    "    \n",
    "    # Groepeer op land en jaar, en tel het aantal gouden medailles per editie\n",
    "    goud_per_editie = gefilterde_data.groupby(['country_name', 'year'])['GOLD'].sum().reset_index()\n",
    "    \n",
    "    # Vind landen die in alle edities meer dan x gouden medailles hebben gehaald\n",
    "    landen = []\n",
    "    for land, groep in goud_per_editie.groupby('country_name'):\n",
    "        if (groep['GOLD'] > x_gouden).all():\n",
    "            landen.append(land)\n",
    "    return landen"
   ]
  },
  {
   "cell_type": "code",
   "execution_count": 38,
   "id": "28f4b3ea",
   "metadata": {},
   "outputs": [
    {
     "name": "stdout",
     "output_type": "stream",
     "text": [
      "['Olympic Athletes from Russia', 'Republic of Korea', 'Russia', 'Russian Federation', 'Soviet Union', 'Unified Team']\n",
      "['Russia', 'Russian Federation', 'Soviet Union', 'Unified Team']\n",
      "['Russia', 'Soviet Union', 'Unified Team', 'United States']\n",
      "['Soviet Union', 'Unified Team']\n"
     ]
    }
   ],
   "source": [
    "# x_gouden = 1, 2, 10, 20\n",
    "# Test de functie met verschillende parameters\n",
    "landen_met_gouden = landen_met_x_gouden_medailles(olympics_gdp_population_flags\n",
    "                                                , seizoen='Winter'\n",
    "                                                , x_gouden=1)\n",
    "print(landen_met_gouden)\n",
    "\n",
    "landen_met_gouden = landen_met_x_gouden_medailles(olympics_gdp_population_flags\n",
    "                                                , seizoen='Winter'\n",
    "                                                , x_gouden=2)\n",
    "print(landen_met_gouden)\n",
    "\n",
    "landen_met_gouden = landen_met_x_gouden_medailles(olympics_gdp_population_flags\n",
    "                                                , seizoen='Summer'\n",
    "                                                , x_gouden=10)\n",
    "print(landen_met_gouden)\n",
    "\n",
    "landen_met_gouden = landen_met_x_gouden_medailles(olympics_gdp_population_flags\n",
    "                                                , seizoen='Summer'\n",
    "                                                , x_gouden=20)\n",
    "print(landen_met_gouden)"
   ]
  },
  {
   "cell_type": "markdown",
   "id": "31ff9293",
   "metadata": {},
   "source": [
    "## Q4 – Functions and Iteration\n",
    "Update de functie in Q3, door de volgende input argumenten toe te voegen:\n",
    "- `kleur` (GOLD, SILVER, BRONZE)\n",
    "- een parameter om te kiezen of je landen wilt met méér of minder dan de opgegeven grenswaarde als output.\n",
    "\n",
    "Gebruik de functie om de volgende lijst als output te krijgen:\n",
    "- Alle landen die tijdens alle Zomerspelen in totaal minder dan 1 gouden medaille hebben gehaald.\n",
    "\n",
    "\n",
    "Itereer over de functie om het volgende te vinden:\n",
    "- Alle landen die tijdens alle zomerspelen in totaal meer dan 50, meer dan 100, meer dan 250 en meer dan 500 gouden medailles hebben gehaald.\n",
    "\n",
    "\n",
    "Dit zijn dus 4 lijstjes. Gebruik loops."
   ]
  },
  {
   "cell_type": "code",
   "execution_count": 39,
   "id": "8725eab7",
   "metadata": {},
   "outputs": [],
   "source": [
    "def landen_met_medaille(data, seizoen='Summer', grens=0, kleur='GOLD', meer=True):\n",
    "    \"\"\"\n",
    "    Geeft een lijst van landen die bij alle Spelen van een bepaald seizoen meer/minder dan 'grens' medailles van een bepaalde kleur hebben gehaald.\n",
    "    \"\"\"\n",
    "    if seizoen not in ['Winter', 'Summer']:\n",
    "        print(f\"Warning: '{seizoen}' is geen geldig seizoen. Kies 'Winter' of 'Summer'.\")\n",
    "        return []\n",
    "\n",
    "    # Filter op seizoen\n",
    "    df_seizoen = data[data['game_season'] == seizoen]\n",
    "\n",
    "    # Controleer of de gekozen kleur een kolom is\n",
    "    if kleur not in df_seizoen.columns:\n",
    "        print(f\"Warning: '{kleur}' is geen geldige medaillekleur-kolom in deze data.\")\n",
    "        return []\n",
    "\n",
    "    # Groepeer per land en tel het totaal aantal medailles van de gekozen kleur\n",
    "    aantal_per_land = df_seizoen.groupby('country_name')[kleur].sum()\n",
    "\n",
    "    # Selecteer landen die voldoen aan de grens (meer/minder)\n",
    "    if meer:\n",
    "        landen = aantal_per_land[aantal_per_land > grens].index.tolist()\n",
    "    else:\n",
    "        landen = aantal_per_land[aantal_per_land < grens].index.tolist()\n",
    "    return landen\n",
    "\n"
   ]
  },
  {
   "cell_type": "code",
   "execution_count": 40,
   "id": "b210ddae",
   "metadata": {},
   "outputs": [
    {
     "name": "stdout",
     "output_type": "stream",
     "text": [
      "Landen met minder dan 1 gouden medaille (Summer): ['Afghanistan', 'Barbados', 'Bohemia', 'Botswana', 'Burkina Faso', 'Cyprus', 'Djibouti', 'Eritrea', 'Gabon', 'Ghana', 'Guatemala', 'Guyana', 'Haiti', 'Iceland', 'Iraq', 'Kuwait', 'Kyrgyzstan', 'Lebanon', 'Malaysia', 'Mauritius', 'Montenegro', 'Namibia', 'Netherlands Antilles', 'Niger', 'North Macedonia', 'Paraguay', 'Republic of Moldova', 'Samoa', 'San Marino', 'Saudi Arabia', 'Senegal', 'Sri Lanka', 'Sudan', 'Togo', 'Tonga', 'Turkmenistan', 'United Arab Republic', 'United Republic of Tanzania', 'Virgin Islands, US', 'West Indies Federation', 'Zambia']\n",
      "Landen met minder dan 1 gouden medaille (Summer): 41 x landen\n"
     ]
    }
   ],
   "source": [
    "# Alle landen die tijdens alle Zomerspelen in totaal minder dan 1 gouden medaille hebben gehaald\n",
    "landen_minder_dan_1_goud = landen_met_medaille(olympics_gdp_population_flags, seizoen='Summer', grens=1, kleur='GOLD', meer=False)\n",
    "print(\"Landen met minder dan 1 gouden medaille (Summer):\", landen_minder_dan_1_goud)\n",
    "print('Landen met minder dan 1 gouden medaille (Summer):', len(landen_minder_dan_1_goud), 'x landen')\n"
   ]
  },
  {
   "cell_type": "code",
   "execution_count": 41,
   "id": "74c13890",
   "metadata": {},
   "outputs": [
    {
     "name": "stdout",
     "output_type": "stream",
     "text": [
      "Landen met meer dan 50 gouden medailles (Summer): ['Australia', 'Bulgaria', 'Canada', 'China', 'Cuba', 'Federal Republic of Germany', 'Finland', 'France', 'German Democratic Republic (Germany)', 'Germany', 'Hungary', 'Italy', 'Japan', 'Netherlands', 'New Zealand', 'Norway', 'Poland', 'Republic of Korea', 'Romania', 'Russian Federation', 'Soviet Union', 'Sweden', 'Switzerland', 'United Kingdom', 'United States']\n",
      "Landen met minder dan 1 gouden medaille (Summer): 25 x landen\n",
      "Landen met meer dan 100 gouden medailles (Summer): ['Australia', 'China', 'France', 'German Democratic Republic (Germany)', 'Germany', 'Hungary', 'Italy', 'Japan', 'Russian Federation', 'Soviet Union', 'Sweden', 'United Kingdom', 'United States']\n",
      "Landen met minder dan 1 gouden medaille (Summer): 13 x landen\n",
      "Landen met meer dan 250 gouden medailles (Summer): ['China', 'Soviet Union', 'United Kingdom', 'United States']\n",
      "Landen met minder dan 1 gouden medaille (Summer): 4 x landen\n",
      "Landen met meer dan 500 gouden medailles (Summer): ['United States']\n",
      "Landen met minder dan 1 gouden medaille (Summer): 1 x landen\n"
     ]
    }
   ],
   "source": [
    "# Loops voor meer dan 50, 100, 250, 500 gouden medailles\n",
    "grenzen = [50, 100, 250, 500]\n",
    "for grens in grenzen:\n",
    "    landen_meer = landen_met_medaille(olympics_gdp_population_flags\n",
    "                                      , seizoen='Summer'\n",
    "                                      , grens=grens, kleur='GOLD'\n",
    "                                      , meer=True)\n",
    "    print(f\"Landen met meer dan {grens} gouden medailles (Summer):\", landen_meer)\n",
    "    print(f'Landen met minder dan 1 gouden medaille (Summer):', len(landen_meer), 'x landen')"
   ]
  },
  {
   "cell_type": "markdown",
   "id": "f76c9151",
   "metadata": {},
   "source": []
  }
 ],
 "metadata": {
  "kernelspec": {
   "display_name": "Python 3",
   "language": "python",
   "name": "python3"
  },
  "language_info": {
   "codemirror_mode": {
    "name": "ipython",
    "version": 3
   },
   "file_extension": ".py",
   "mimetype": "text/x-python",
   "name": "python",
   "nbconvert_exporter": "python",
   "pygments_lexer": "ipython3",
   "version": "3.13.7"
  }
 },
 "nbformat": 4,
 "nbformat_minor": 5
}
