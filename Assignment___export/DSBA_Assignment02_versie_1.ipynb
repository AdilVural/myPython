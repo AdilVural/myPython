{
 "cells": [
  {
   "cell_type": "markdown",
   "metadata": {},
   "source": [
    "# DSBA Programming & Visualization\n",
    "## Assignment 02\n",
    "\n",
    "\n",
    "| **Item**            | **Details**              |\n",
    "|----------------------|--------------------------|\n",
    "| Deadline             | 26 oktober, 23:59u       |\n",
    "| Data                 | olympics_raw.csv, flags_raw.csv, gdp_raw.csv, population_raw.csv  |\n",
    "| Aantal vragen        | 4                        |\n",
    "\n",
    "\n",
    "Lever een script of jupyter \n",
    "notebook in met daarin je code om de vragen te beantwoorden én in commentaren (#) \n",
    "uitleg waar nodig/gevraagd. Lever het script / notebook in via Canvas.\n",
    "\n",
    "Gebruik vooral de slides en oefeningen die we in de colleges hebben behandeld"
   ]
  },
  {
   "cell_type": "markdown",
   "id": "c9035674",
   "metadata": {},
   "source": [
    "## Data\n",
    "In deze assignment maken we wederom gebruik van een dataset over de Olympische\n",
    "Spelen, 1896-2022. Daarnaast zijn gegevens beschikbaar over vlaggen,\n",
    "inwonersaantallen en GDP. Het betreft de ruwe databestanden zoals die zijn gebruikt\n",
    "om olympics_prepared.csv te maken, het bestand dat we in assignment 01 hebben\n",
    "gebruikt. (Let op: olympics_prepared bevat alleen data van 1960–2022; vergelijkingen kunnen daardoor afwijken.)\n",
    "\n",
    "\n",
    "Hieronder volgt een viertal vragen over deze dataset die met Python kunnen worden\n",
    "beantwoord."
   ]
  },
  {
   "cell_type": "markdown",
   "metadata": {},
   "source": [
    "## Q1 – Transformations\n",
    "Lees de data in vanuit de 4 `.csv`-bestanden.\n",
    "\n"
   ]
  },
  {
   "cell_type": "code",
   "execution_count": 1,
   "id": "92af9c8c",
   "metadata": {},
   "outputs": [
    {
     "name": "stdout",
     "output_type": "stream",
     "text": [
      "             name  flag_nr_colors flag_mainhue flag_topleft_color  \\\n",
      "0     Afghanistan               5        green              black   \n",
      "1         Albania               3          red                red   \n",
      "2         Algeria               3        green              green   \n",
      "3  American-Samoa               5         blue               blue   \n",
      "4         Andorra               3         gold               blue   \n",
      "\n",
      "  flag_botright_color  \n",
      "0               green  \n",
      "1                 red  \n",
      "2               white  \n",
      "3                 red  \n",
      "4                 red  \n",
      "                  country_name country_code     indicator_name  \\\n",
      "0                        Aruba          ABW  GDP (current US$)   \n",
      "1  Africa Eastern and Southern          AFE  GDP (current US$)   \n",
      "2                  Afghanistan          AFG  GDP (current US$)   \n",
      "3   Africa Western and Central          AFW  GDP (current US$)   \n",
      "4                       Angola          AGO  GDP (current US$)   \n",
      "\n",
      "   indicator_code         x1960         x1961         x1962         x1963  \\\n",
      "0  NY.GDP.MKTP.CD           NaN           NaN           NaN           NaN   \n",
      "1  NY.GDP.MKTP.CD  2.121696e+10  2.230747e+10  2.370247e+10  2.577938e+10   \n",
      "2  NY.GDP.MKTP.CD           NaN           NaN           NaN           NaN   \n",
      "3  NY.GDP.MKTP.CD  1.188413e+10  1.268566e+10  1.360683e+10  1.443998e+10   \n",
      "4  NY.GDP.MKTP.CD           NaN           NaN           NaN           NaN   \n",
      "\n",
      "          x1964         x1965  ...         x2014         x2015         x2016  \\\n",
      "0           NaN           NaN  ...  2.790850e+09  2.962907e+09  2.983635e+09   \n",
      "1  2.804954e+10  3.037491e+10  ...  9.796897e+11  8.992957e+11  8.298300e+11   \n",
      "2           NaN           NaN  ...  2.049713e+10  1.913422e+10  1.811657e+10   \n",
      "3  1.576911e+10  1.693448e+10  ...  8.945854e+11  7.693673e+11  6.921811e+11   \n",
      "4           NaN           NaN  ...  1.359668e+11  9.049642e+10  5.276162e+10   \n",
      "\n",
      "          x2017         x2018         x2019         x2020         x2021  \\\n",
      "0  3.092429e+09  3.276184e+09  3.395799e+09  2.558906e+09  3.103184e+09   \n",
      "1  9.401055e+11  1.012719e+12  1.006527e+12  9.290741e+11  1.086772e+12   \n",
      "2  1.875346e+10  1.805322e+10  1.879944e+10  1.995593e+10  1.426650e+10   \n",
      "3  6.857502e+11  7.681896e+11  8.239336e+11  7.871467e+11  8.459930e+11   \n",
      "4  7.369015e+10  7.945069e+10  7.089796e+10  4.850156e+10  6.650513e+10   \n",
      "\n",
      "          x2022         x2023  \n",
      "0  3.544708e+09           NaN  \n",
      "1  1.183962e+12  1.236163e+12  \n",
      "2  1.450216e+10           NaN  \n",
      "3  8.771408e+11  7.965862e+11  \n",
      "4  1.043997e+11  8.472296e+10  \n",
      "\n",
      "[5 rows x 68 columns]\n",
      "          game medal_type country_name game_location game_season  game_year\n",
      "0  athens-1896       GOLD    Australia        Greece      Summer       1896\n",
      "1  athens-1896       GOLD    Australia        Greece      Summer       1896\n",
      "2  athens-1896     BRONZE      Austria        Greece      Summer       1896\n",
      "3  athens-1896       GOLD      Austria        Greece      Summer       1896\n",
      "4  athens-1896     BRONZE      Austria        Greece      Summer       1896\n",
      "        entity code  year  population\n",
      "0  Afghanistan  AFG  1950     7776182\n",
      "1  Afghanistan  AFG  1951     7879343\n",
      "2  Afghanistan  AFG  1952     7987783\n",
      "3  Afghanistan  AFG  1953     8096703\n",
      "4  Afghanistan  AFG  1954     8207953\n"
     ]
    }
   ],
   "source": [
    "import pandas as pd\n",
    "\n",
    "# Data inlezen \n",
    "\n",
    "flags_path = 'flags_raw.csv'\n",
    "gdp_path = 'gdp_raw.csv'\n",
    "olympics_path = 'olympics_raw.csv'\n",
    "population_path = 'population_raw.csv'\n",
    "\n",
    "df_flags = pd.read_csv(flags_path)\n",
    "df_gdp = pd.read_csv(gdp_path)\n",
    "df_olympics = pd.read_csv(olympics_path)\n",
    "df_population = pd.read_csv(population_path)\n",
    "\n",
    "# Eerste paar rijen tonen ter controle\n",
    "print(df_flags.head())\n",
    "print(df_gdp.head())\n",
    "print(df_olympics.head())\n",
    "print(df_population.head())\n",
    "\n"
   ]
  },
  {
   "cell_type": "code",
   "execution_count": 113,
   "id": "ef997b78",
   "metadata": {},
   "outputs": [
    {
     "name": "stdout",
     "output_type": "stream",
     "text": [
      "name                   object\n",
      "flag_nr_colors          int64\n",
      "flag_mainhue           object\n",
      "flag_topleft_color     object\n",
      "flag_botright_color    object\n",
      "dtype: object\n",
      "country_name       object\n",
      "country_code       object\n",
      "indicator_name     object\n",
      "indicator_code     object\n",
      "x1960             float64\n",
      "                   ...   \n",
      "x2019             float64\n",
      "x2020             float64\n",
      "x2021             float64\n",
      "x2022             float64\n",
      "x2023             float64\n",
      "Length: 68, dtype: object\n",
      "game             object\n",
      "medal_type       object\n",
      "country_name     object\n",
      "game_location    object\n",
      "game_season      object\n",
      "game_year         int64\n",
      "dtype: object\n",
      "entity        object\n",
      "code          object\n",
      "year           int64\n",
      "population     int64\n",
      "dtype: object\n"
     ]
    }
   ],
   "source": [
    "# Data check: Toon de datatypes van de kolommen per ingelezen bestand\n",
    "print(df_flags.dtypes)\n",
    "print(df_gdp.dtypes)\n",
    "print(df_olympics.dtypes)\n",
    "print(df_population.dtypes)"
   ]
  },
  {
   "cell_type": "code",
   "execution_count": 2,
   "id": "f4342bb5",
   "metadata": {},
   "outputs": [
    {
     "name": "stdout",
     "output_type": "stream",
     "text": [
      "Lege waarden per kolom in df_flags:\n",
      " name                   0\n",
      "flag_nr_colors         0\n",
      "flag_mainhue           0\n",
      "flag_topleft_color     0\n",
      "flag_botright_color    0\n",
      "dtype: int64\n",
      "\n",
      "Lege waarden per kolom in df_gdp:\n",
      " country_name        0\n",
      "country_code        0\n",
      "indicator_name      0\n",
      "indicator_code      0\n",
      "x1960             128\n",
      "                 ... \n",
      "x2019               8\n",
      "x2020               9\n",
      "x2021              10\n",
      "x2022              16\n",
      "x2023              32\n",
      "Length: 68, dtype: int64\n",
      "\n",
      "Lege waarden per kolom in df_olympics:\n",
      " game             0\n",
      "medal_type       0\n",
      "country_name     0\n",
      "game_location    0\n",
      "game_season      0\n",
      "game_year        0\n",
      "dtype: int64\n",
      "\n",
      "Lege waarden per kolom in df_population:\n",
      " entity           0\n",
      "code          1332\n",
      "year             0\n",
      "population       0\n",
      "dtype: int64\n"
     ]
    }
   ],
   "source": [
    "# Data check: Toon per dataframe het aantal lege waarden (NaN) per kolom\n",
    "print(\"Lege waarden per kolom in df_flags:\\n\", df_flags.isna().sum())\n",
    "print(\"\\nLege waarden per kolom in df_gdp:\\n\", df_gdp.isna().sum())\n",
    "print(\"\\nLege waarden per kolom in df_olympics:\\n\", df_olympics.isna().sum())\n",
    "print(\"\\nLege waarden per kolom in df_population:\\n\", df_population.isna().sum())"
   ]
  },
  {
   "cell_type": "markdown",
   "id": "8d700728",
   "metadata": {},
   "source": [
    "### Q1- Transformations A. Melt\n",
    "\n",
    "Het GDP-data.frame is in ‘messy format’. Ieder jaar heeft namelijk een eigen kolom,\n",
    "waardoor een nieuw jaar toevoegen het toevoegen van een nieuwe kolom betekent. Het\n",
    "is netter wanneer nieuwe observaties nieuwe rijen betekenen.\n",
    "Maak vanuit het ruwe GDP-data.frame een nieuw data.frame met kolommen:\n",
    "- `country_name`\n",
    "- `country_code`\n",
    "- `year` (het jaartal, afkomstig uit de kolomnamen in het format ‘xYYYY’). **Tip**: Gebruik value_vars=<your_dataframe>.columns[4:], in de functie om alle jaarkolommen op te halen. Hiermee worden alle kolommen vanaf positie 5 meegenomen.\n",
    "- `gdp` (de waarde van gdp, afkomstig uit die kolommen)\n",
    "\n",
    "\n",
    "Zie onderstaand voorbeeld hoe het getransformeerde GDP-data.frame eruit zou moeten zien."
   ]
  },
  {
   "cell_type": "markdown",
   "id": "84bd0e4f",
   "metadata": {},
   "source": [
    "![title](Voorbeelden/Q1_Transformaties_A_Voorbeeld.png)"
   ]
  },
  {
   "cell_type": "code",
   "execution_count": 3,
   "id": "1e6379ba",
   "metadata": {},
   "outputs": [
    {
     "name": "stdout",
     "output_type": "stream",
     "text": [
      "                  country_name country_code     indicator_name  \\\n",
      "0                        Aruba          ABW  GDP (current US$)   \n",
      "1  Africa Eastern and Southern          AFE  GDP (current US$)   \n",
      "2                  Afghanistan          AFG  GDP (current US$)   \n",
      "3   Africa Western and Central          AFW  GDP (current US$)   \n",
      "4                       Angola          AGO  GDP (current US$)   \n",
      "\n",
      "   indicator_code         x1960         x1961         x1962         x1963  \\\n",
      "0  NY.GDP.MKTP.CD           NaN           NaN           NaN           NaN   \n",
      "1  NY.GDP.MKTP.CD  2.121696e+10  2.230747e+10  2.370247e+10  2.577938e+10   \n",
      "2  NY.GDP.MKTP.CD           NaN           NaN           NaN           NaN   \n",
      "3  NY.GDP.MKTP.CD  1.188413e+10  1.268566e+10  1.360683e+10  1.443998e+10   \n",
      "4  NY.GDP.MKTP.CD           NaN           NaN           NaN           NaN   \n",
      "\n",
      "          x1964         x1965  ...         x2014         x2015         x2016  \\\n",
      "0           NaN           NaN  ...  2.790850e+09  2.962907e+09  2.983635e+09   \n",
      "1  2.804954e+10  3.037491e+10  ...  9.796897e+11  8.992957e+11  8.298300e+11   \n",
      "2           NaN           NaN  ...  2.049713e+10  1.913422e+10  1.811657e+10   \n",
      "3  1.576911e+10  1.693448e+10  ...  8.945854e+11  7.693673e+11  6.921811e+11   \n",
      "4           NaN           NaN  ...  1.359668e+11  9.049642e+10  5.276162e+10   \n",
      "\n",
      "          x2017         x2018         x2019         x2020         x2021  \\\n",
      "0  3.092429e+09  3.276184e+09  3.395799e+09  2.558906e+09  3.103184e+09   \n",
      "1  9.401055e+11  1.012719e+12  1.006527e+12  9.290741e+11  1.086772e+12   \n",
      "2  1.875346e+10  1.805322e+10  1.879944e+10  1.995593e+10  1.426650e+10   \n",
      "3  6.857502e+11  7.681896e+11  8.239336e+11  7.871467e+11  8.459930e+11   \n",
      "4  7.369015e+10  7.945069e+10  7.089796e+10  4.850156e+10  6.650513e+10   \n",
      "\n",
      "          x2022         x2023  \n",
      "0  3.544708e+09           NaN  \n",
      "1  1.183962e+12  1.236163e+12  \n",
      "2  1.450216e+10           NaN  \n",
      "3  8.771408e+11  7.965862e+11  \n",
      "4  1.043997e+11  8.472296e+10  \n",
      "\n",
      "[5 rows x 68 columns]\n"
     ]
    }
   ],
   "source": [
    "# data bekijken\n",
    "print(df_gdp.head())"
   ]
  },
  {
   "cell_type": "code",
   "execution_count": 4,
   "id": "f5bab376",
   "metadata": {},
   "outputs": [
    {
     "name": "stdout",
     "output_type": "stream",
     "text": [
      "                  country_name country_code  year           gdp\n",
      "0                        Aruba          ABW  1960           NaN\n",
      "1  Africa Eastern and Southern          AFE  1960  2.121696e+10\n",
      "2                  Afghanistan          AFG  1960           NaN\n",
      "3   Africa Western and Central          AFW  1960  1.188413e+10\n",
      "4                       Angola          AGO  1960           NaN\n"
     ]
    }
   ],
   "source": [
    "\n",
    "# After melting, remove the 'x' prefix from the year column and convert to integer. This is necessary for correct merging later.\n",
    "#gdp_long = gdp_long.assign(year=gdp_long['year'].str.replace('x', '').astype(int))\n",
    "\n",
    "\n",
    "# 1: Melt de GDP-data hiermee maak je van elke jaar kolom een aparte rij per land \n",
    "gdp_long = pd.melt(\n",
    "    df_gdp,\n",
    "    id_vars=['country_name', 'country_code'],  # vaste kolommen die gelijk blijven. Deze 2 kolommen worden niet gemelt\n",
    "    value_vars=df_gdp.columns[4:],             # alle jaarkolommen vanaf positie 5 hebben.\n",
    "    var_name='year',                           # nieuwe kolom voor jaartal\n",
    "    value_name='gdp'                           # nieuwe kolom voor GDP-waarde\n",
    ")\n",
    "\n",
    "# 2: Verwijder 'x' uit het jaartal en zet om naar integer\n",
    "\n",
    "gdp_long['year'] = gdp_long['year'].str.replace('x', '').astype(int)\n",
    "\n",
    "# 3: Bekijk het resultaat\n",
    "print(gdp_long.head())\n",
    "\n",
    "# controleer de nieuwe data types\n",
    "#print(gdp_long.dtypes)"
   ]
  },
  {
   "cell_type": "markdown",
   "id": "f99b785a",
   "metadata": {},
   "source": [
    "### Q1- Transformations B. Pivot\n",
    "\n",
    "Ook het olympics-data.frame is niet in het format die we nodig hebben voor onze verder\n",
    "analyse. Iedere regel is namelijk een enkele medaille, terwijl wij het aantal medailles per\n",
    "land willen weten. Vind, per Land / Olympische Spelen / Medaillekleur-combinatie het\n",
    "aantal medailles. Zorg dat je niet de informatie over locatie, seizoen en jaar verliest.\n",
    "\n",
    "\n",
    "Vervolgens willen we graag dat GOLD, SILVER en BRONZE ieder een eigen kolom\n",
    "hebben met het aantal medailles behaald van die kleur. Zie onderstaand voorbeeld hoe\n",
    "het getransformeerde olympics-data.frame eruit zou moeten zien.\n",
    "\n",
    "**Tip** Gebruik de argumenten aggfunc='size' (om medailles kleuren te tellen.) , fill_value=0 (voorkomt NaN, bij landen zonder die medaille kleur)"
   ]
  },
  {
   "cell_type": "markdown",
   "id": "dc01f0b1",
   "metadata": {},
   "source": []
  },
  {
   "cell_type": "markdown",
   "id": "4b6daadd",
   "metadata": {},
   "source": [
    "![title](Voorbeelden/Q1_Transformaties_B_Voorbeeld.png)"
   ]
  },
  {
   "cell_type": "code",
   "execution_count": 117,
   "id": "aeec4dfb",
   "metadata": {},
   "outputs": [],
   "source": [
    "# Use pd.pivot_table instead of pd.pivot to handle the extra arguments aggfunc/fill_value. pivot_table is a more flexible function with the same syntax.\n",
    "\n",
    "# After pivoting the medal_type to columns, reset the index to turn the multi-index into columns for easier merging later.\n",
    "#<your_dataframe>.reset_index(inplace=True) \n",
    "#<your_dataframe>.columns.name = None  # Remove the 'medal_type' name from columns - not needed but looks better"
   ]
  },
  {
   "cell_type": "code",
   "execution_count": 5,
   "id": "07ec580f",
   "metadata": {},
   "outputs": [
    {
     "name": "stdout",
     "output_type": "stream",
     "text": [
      "          game medal_type country_name game_location game_season  game_year\n",
      "0  athens-1896       GOLD    Australia        Greece      Summer       1896\n",
      "1  athens-1896       GOLD    Australia        Greece      Summer       1896\n",
      "2  athens-1896     BRONZE      Austria        Greece      Summer       1896\n",
      "3  athens-1896       GOLD      Austria        Greece      Summer       1896\n",
      "4  athens-1896     BRONZE      Austria        Greece      Summer       1896\n"
     ]
    }
   ],
   "source": [
    "# Nogmaals de data bekijken\n",
    "print(df_olympics.head())"
   ]
  },
  {
   "cell_type": "code",
   "execution_count": 119,
   "id": "9126780b",
   "metadata": {},
   "outputs": [
    {
     "name": "stdout",
     "output_type": "stream",
     "text": [
      "  country_name  game_year  game_location game_season  BRONZE  GOLD  SILVER\n",
      "0  Afghanistan       2008          China      Summer       1     0       0\n",
      "1  Afghanistan       2012  Great Britain      Summer       1     0       0\n",
      "2      Algeria       1984  United States      Summer       2     0       0\n",
      "3      Algeria       1992          Spain      Summer       1     1       0\n",
      "4      Algeria       1996  United States      Summer       1     2       0\n"
     ]
    }
   ],
   "source": [
    "# Pivot maken van de olympics data\n",
    "olympics_pivot = pd.pivot_table(\n",
    "    df_olympics,\n",
    "    index=['country_name', 'game_year', 'game_location', 'game_season'],  # Groepeert op deze kolommen\n",
    "    columns='medal_type',                                                 # medaillekleur wordt kolom\n",
    "    aggfunc='size',                                                       # telt aantal medailles\n",
    "    fill_value=0                                                          # vult lege waarden met 0\n",
    ")\n",
    "olympics_pivot.reset_index(inplace=True)\n",
    "olympics_pivot.columns.name = None  # verwijder de naam van de kolomindex\n",
    "print(olympics_pivot.head())"
   ]
  },
  {
   "cell_type": "markdown",
   "metadata": {},
   "source": [
    "## Q2 – Joins\n",
    "Voeg de dataframes (olympics, gdp, population, flags) samen tot één dataframe, alle observaties uit olympics behoudend. Gebruik de juiste keys."
   ]
  },
  {
   "cell_type": "markdown",
   "id": "ea76d3dd",
   "metadata": {},
   "source": [
    "##De gebruikte join-kolommen in jouw merges zijn:\n",
    "\n",
    "df_olympics:\n",
    "'country_name' en 'game_year' (land en jaar van de olympische spelen)\n",
    "gdp_long:\n",
    "'country_name' en 'year' (land en jaar voor GDP)\n",
    "df_population:\n",
    "'entity' (land) en 'year' (jaar voor populatie)\n",
    "df_flags:\n",
    "'name' (landnaam voor vlag)##"
   ]
  },
  {
   "cell_type": "code",
   "execution_count": 120,
   "id": "e2b321ac",
   "metadata": {},
   "outputs": [
    {
     "name": "stdout",
     "output_type": "stream",
     "text": [
      "          game medal_type country_name game_location game_season  game_year  \\\n",
      "0  athens-1896       GOLD    Australia        Greece      Summer       1896   \n",
      "1  athens-1896       GOLD    Australia        Greece      Summer       1896   \n",
      "2  athens-1896     BRONZE      Austria        Greece      Summer       1896   \n",
      "3  athens-1896       GOLD      Austria        Greece      Summer       1896   \n",
      "4  athens-1896     BRONZE      Austria        Greece      Summer       1896   \n",
      "\n",
      "  country_code  year_x  gdp entity code  year_y  population       name  \\\n",
      "0          NaN     NaN  NaN    NaN  NaN     NaN         NaN  Australia   \n",
      "1          NaN     NaN  NaN    NaN  NaN     NaN         NaN  Australia   \n",
      "2          NaN     NaN  NaN    NaN  NaN     NaN         NaN    Austria   \n",
      "3          NaN     NaN  NaN    NaN  NaN     NaN         NaN    Austria   \n",
      "4          NaN     NaN  NaN    NaN  NaN     NaN         NaN    Austria   \n",
      "\n",
      "   flag_nr_colors flag_mainhue flag_topleft_color flag_botright_color  \n",
      "0             3.0         blue              white                blue  \n",
      "1             3.0         blue              white                blue  \n",
      "2             2.0          red                red                 red  \n",
      "3             2.0          red                red                 red  \n",
      "4             2.0          red                red                 red  \n"
     ]
    }
   ],
   "source": [
    "merged_df = df_olympics.merge(\n",
    "    gdp_long,      # gdp_long gebruiken i.p.v. df_gdp\n",
    "    how='left',\n",
    "    left_on=['country_name', 'game_year'],\n",
    "    right_on=['country_name', 'year']\n",
    ").merge(\n",
    "    df_population,\n",
    "    how='left',\n",
    "    left_on=['country_name', 'game_year'],\n",
    "    right_on=['entity', 'year']  \n",
    ").merge(\n",
    "    df_flags,\n",
    "    how='left',\n",
    "    left_on='country_name',\n",
    "    right_on='name'\n",
    ")\n",
    "\n",
    "print(merged_df.head())"
   ]
  },
  {
   "cell_type": "markdown",
   "metadata": {},
   "source": [
    "## Q3 – Functions and Conditions\n",
    "Maak een functie met als output: een lijst van de landen die bij alle Spelen van een bepaald seizoen meer dan `x` gouden medailles hebben gehaald. Aggregeer en sommeer op medaillekleur per land.\n",
    "\n",
    "De input argumenten van deze functie zijn:\n",
    "- de data (het dataframe uit Q2)\n",
    "- het seizoen (`Winter` of `Summer`)\n",
    "- het aantal medailles (de grens waarboven het land in de output moet\n",
    "voorkomen)\n",
    "\n",
    "Zorg dat de functie ook werkt wanneer alleen de data wordt ingegeven (de andere twee\n",
    "input argumenten moeten dus default-waardes hebben).\n",
    "\n",
    "Zorg dat de functie een informatieve warning geeft wanneer input argument seizoen\n",
    "geen valide waarde bevat."
   ]
  },
  {
   "cell_type": "code",
   "execution_count": 121,
   "id": "c2f96e1f",
   "metadata": {},
   "outputs": [
    {
     "name": "stdout",
     "output_type": "stream",
     "text": [
      "['Argentina', 'Australia', 'Austria', 'Belarus', 'Belgium', 'Brazil', 'Bulgaria', 'Canada', 'China', 'Croatia', 'Cuba', 'Czech Republic', 'Czechoslovakia', \"Democratic People's Republic of Korea\", 'Denmark', 'Ethiopia', 'Federal Republic of Germany', 'Finland', 'France', 'German Democratic Republic (Germany)', 'Germany', 'Greece', 'Hungary', 'Ireland', 'Islamic Republic of Iran', 'Italy', 'Jamaica', 'Japan', 'Kazakhstan', 'Kenya', 'MIX', 'Mexico', 'Netherlands', 'New Zealand', 'Norway', 'Poland', 'Republic of Korea', 'Romania', 'Russia', 'Russian Federation', 'South Africa', 'Soviet Union', 'Spain', 'Sweden', 'Switzerland', 'Turkey', 'Ukraine', 'Unified Team', 'United Kingdom', 'United States', 'Yugoslavia']\n"
     ]
    }
   ],
   "source": [
    "def landen_met_goud(data, seizoen='Summer', grens=0):\n",
    "    \"\"\"\n",
    "    Geeft een lijst van landen die bij alle Spelen van een bepaald seizoen meer dan 'grens' gouden medailles hebben gehaald.\n",
    "    \"\"\"\n",
    "    if seizoen not in ['Winter', 'Summer']:\n",
    "        print(f\"Warning: '{seizoen}' is geen geldig seizoen. Kies 'Winter' of 'Summer'.\")\n",
    "        return []\n",
    "    # Filter op seizoen\n",
    "    df_seizoen = data[data['game_season'] == seizoen]\n",
    "\n",
    "    # Groepeer per land en tel het totaal aantal gouden medailles\n",
    "    goud_per_land = df_seizoen.groupby('country_name')['medal_type'].apply(lambda x: (x == 'GOLD').sum())\n",
    "\n",
    "    # Selecteer landen die meer dan 'grens' gouden medailles hebben\n",
    "    landen = goud_per_land[goud_per_land > grens].index.tolist()\n",
    "    return landen\n",
    "\n",
    "# Voorbeeldgebruik:\n",
    "resultaat = landen_met_goud(merged_df, seizoen='Summer', grens=10)\n",
    "print(resultaat)"
   ]
  },
  {
   "cell_type": "code",
   "execution_count": 122,
   "metadata": {},
   "outputs": [
    {
     "name": "stdout",
     "output_type": "stream",
     "text": [
      "Test 1: ['Algeria', 'Argentina', 'Armenia', 'Australasia', 'Australia', 'Austria', 'Azerbaijan', 'Bahamas', 'Bahrain', 'Belarus', 'Belgium', 'Bermuda', 'Brazil', 'Bulgaria', 'Burundi', 'Cameroon', 'Canada', 'Chile', 'China', 'Chinese Taipei', 'Colombia', 'Costa Rica', 'Croatia', 'Cuba', 'Czech Republic', 'Czechoslovakia', \"Côte d'Ivoire\", \"Democratic People's Republic of Korea\", 'Denmark', 'Dominican Republic', 'Ecuador', 'Egypt', 'Estonia', 'Ethiopia', 'Federal Republic of Germany', 'Fiji', 'Finland', 'France', 'Georgia', 'German Democratic Republic (Germany)', 'Germany', 'Greece', 'Grenada', 'Hong Kong, China', 'Hungary', 'Independent Olympic Athletes', 'India', 'Indonesia', 'Ireland', 'Islamic Republic of Iran', 'Israel', 'Italy', 'Jamaica', 'Japan', 'Jordan', 'Kazakhstan', 'Kenya', 'Kosovo', 'Latvia', 'Lithuania', 'Luxembourg', 'MIX', 'Mexico', 'Mongolia', 'Morocco', 'Mozambique', 'Netherlands', 'New Zealand', 'Nigeria', 'Norway', 'Pakistan', 'Panama', 'Peru', 'Philippines', 'Poland', 'Portugal', 'Puerto Rico', 'Qatar', 'Republic of Korea', 'Romania', 'Russia', 'Russian Federation', 'Serbia', 'Serbia and Montenegro', 'Singapore', 'Slovakia', 'Slovenia', 'South Africa', 'Soviet Union', 'Spain', 'Suriname', 'Sweden', 'Switzerland', 'Syrian Arab Republic', 'Tajikistan', 'Thailand', 'Trinidad and Tobago', 'Tunisia', 'Turkey', 'Uganda', 'Ukraine', 'Unified Team', 'United Arab Emirates', 'United Kingdom', 'United States', 'Uruguay', 'Uzbekistan', 'Venezuela', 'Vietnam', 'Yugoslavia', 'Zimbabwe']\n",
      "Test 2: ['Argentina', 'Australia', 'Austria', 'Belarus', 'Belgium', 'Brazil', 'Bulgaria', 'Canada', 'China', 'Croatia', 'Cuba', 'Czech Republic', 'Czechoslovakia', \"Democratic People's Republic of Korea\", 'Denmark', 'Ethiopia', 'Federal Republic of Germany', 'Finland', 'France', 'German Democratic Republic (Germany)', 'Germany', 'Greece', 'Hungary', 'Ireland', 'Islamic Republic of Iran', 'Italy', 'Jamaica', 'Japan', 'Kazakhstan', 'Kenya', 'MIX', 'Mexico', 'Netherlands', 'New Zealand', 'Norway', 'Poland', 'Republic of Korea', 'Romania', 'Russia', 'Russian Federation', 'South Africa', 'Soviet Union', 'Spain', 'Sweden', 'Switzerland', 'Turkey', 'Ukraine', 'Unified Team', 'United Kingdom', 'United States', 'Yugoslavia']\n",
      "Test 3: ['Australia', 'Austria', 'Belarus', 'Canada', 'China', 'Czech Republic', 'Federal Republic of Germany', 'Finland', 'France', 'German Democratic Republic (Germany)', 'Germany', 'Italy', 'Japan', 'Netherlands', 'Norway', 'Poland', 'Republic of Korea', 'Russia', 'Russian Federation', 'Soviet Union', 'Sweden', 'Switzerland', 'Unified Team', 'United Kingdom', 'United States']\n",
      "Warning: 'Herfst' is geen geldig seizoen. Kies 'Winter' of 'Summer'.\n",
      "Test 4: []\n"
     ]
    }
   ],
   "source": [
    "# Test 1: standaardwaarden\n",
    "print(\"Test 1:\", landen_met_goud(merged_df))\n",
    "\n",
    "# Test 2: Summer, grens=10\n",
    "print(\"Test 2:\", landen_met_goud(merged_df, seizoen='Summer', grens=10))\n",
    "\n",
    "# Test 3: Winter, grens=5\n",
    "print(\"Test 3:\", landen_met_goud(merged_df, seizoen='Winter', grens=5))\n",
    "\n",
    "# Test 4: Ongeldig seizoen\n",
    "print(\"Test 4:\", landen_met_goud(merged_df, seizoen='Herfst', grens=1))"
   ]
  },
  {
   "cell_type": "markdown",
   "metadata": {},
   "source": [
    "## Q4 – Functions and Iteration\n",
    "Update de functie in Q3, door de volgende input argumenten toe te voegen:\n",
    "- `kleur` (GOLD, SILVER, BRONZE)\n",
    "- een parameter om te kiezen of je landen wilt met méér of minder dan de opgegeven grenswaarde als output.\n",
    "\n",
    "Gebruik de functie om de volgende lijst als output te krijgen:\n",
    "- Alle landen die tijdens alle Zomerspelen in totaal minder dan 1 gouden medaille hebben gehaald.\n",
    "\n",
    "\n",
    "Itereer over de functie om het volgende te vinden:\n",
    "- Alle landen die tijdens alle zomerspelen in totaal meer dan 50, meer dan 100, meer dan 250 en meer dan 500 gouden medailles hebben gehaald.\n",
    "\n",
    "\n",
    "Dit zijn dus 4 lijstjes. Gebruik loops."
   ]
  },
  {
   "cell_type": "code",
   "execution_count": 123,
   "metadata": {},
   "outputs": [
    {
     "name": "stdout",
     "output_type": "stream",
     "text": [
      "Landen met minder dan 1 gouden medaille (Summer): ['Afghanistan', 'Barbados', 'Bohemia', 'Botswana', 'Burkina Faso', 'Cyprus', 'Djibouti', 'Eritrea', 'Gabon', 'Ghana', 'Guatemala', 'Guyana', 'Haiti', 'Iceland', 'Iraq', 'Kuwait', 'Kyrgyzstan', 'Lebanon', 'Malaysia', 'Mauritius', 'Montenegro', 'Namibia', 'Netherlands Antilles', 'Niger', 'North Macedonia', 'Paraguay', 'Republic of Moldova', 'Samoa', 'San Marino', 'Saudi Arabia', 'Senegal', 'Sri Lanka', 'Sudan', 'Togo', 'Tonga', 'Turkmenistan', 'United Arab Republic', 'United Republic of Tanzania', 'Virgin Islands, US', 'West Indies Federation', 'Zambia']\n",
      "Landen met meer dan 50 gouden medailles (Summer): ['Australia', 'Bulgaria', 'Canada', 'China', 'Cuba', 'Federal Republic of Germany', 'Finland', 'France', 'German Democratic Republic (Germany)', 'Germany', 'Hungary', 'Italy', 'Japan', 'Netherlands', 'New Zealand', 'Norway', 'Poland', 'Republic of Korea', 'Romania', 'Russian Federation', 'Soviet Union', 'Sweden', 'Switzerland', 'United Kingdom', 'United States']\n",
      "Landen met meer dan 100 gouden medailles (Summer): ['Australia', 'China', 'France', 'German Democratic Republic (Germany)', 'Germany', 'Hungary', 'Italy', 'Japan', 'Russian Federation', 'Soviet Union', 'Sweden', 'United Kingdom', 'United States']\n",
      "Landen met meer dan 250 gouden medailles (Summer): ['China', 'Soviet Union', 'United Kingdom', 'United States']\n",
      "Landen met meer dan 500 gouden medailles (Summer): ['United States']\n"
     ]
    }
   ],
   "source": [
    "def landen_met_medaille(data, seizoen='Summer', grens=0, kleur='GOLD', meer=True):\n",
    "    \"\"\"\n",
    "    Geeft een lijst van landen die bij alle Spelen van een bepaald seizoen meer/minder dan 'grens' medailles van een bepaalde kleur hebben gehaald.\n",
    "    \"\"\"\n",
    "    if seizoen not in ['Winter', 'Summer']:\n",
    "        print(f\"Warning: '{seizoen}' is geen geldig seizoen. Kies 'Winter' of 'Summer'.\")\n",
    "        return []\n",
    "\n",
    "    # Filter op seizoen\n",
    "    df_seizoen = data[data['game_season'] == seizoen]\n",
    "\n",
    "    # Groepeer per land en tel het totaal aantal medailles van de gekozen kleur\n",
    "    aantal_per_land = df_seizoen.groupby('country_name')['medal_type'].apply(lambda x: (x == kleur).sum())\n",
    "\n",
    "    # Selecteer landen die voldoen aan de grens (meer/minder)\n",
    "    if meer:\n",
    "        landen = aantal_per_land[aantal_per_land > grens].index.tolist()\n",
    "    else:\n",
    "        landen = aantal_per_land[aantal_per_land < grens].index.tolist()\n",
    "    return landen\n",
    "\n",
    "# Alle landen die tijdens alle Zomerspelen in totaal minder dan 1 gouden medaille hebben gehaald\n",
    "landen_minder_dan_1_goud = landen_met_medaille(merged_df, seizoen='Summer', grens=1, kleur='GOLD', meer=False)\n",
    "print(\"Landen met minder dan 1 gouden medaille (Summer):\", landen_minder_dan_1_goud)\n",
    "\n",
    "# Loops voor meer dan 50, 100, 250, 500 gouden medailles\n",
    "grenzen = [50, 100, 250, 500]\n",
    "for grens in grenzen:\n",
    "    landen_meer = landen_met_medaille(merged_df, seizoen='Summer', grens=grens, kleur='GOLD', meer=True)\n",
    "    print(f\"Landen met meer dan {grens} gouden medailles (Summer):\", landen_meer)"
   ]
  }
 ],
 "metadata": {
  "kernelspec": {
   "display_name": "Python 3",
   "language": "python",
   "name": "python3"
  },
  "language_info": {
   "codemirror_mode": {
    "name": "ipython",
    "version": 3
   },
   "file_extension": ".py",
   "mimetype": "text/x-python",
   "name": "python",
   "nbconvert_exporter": "python",
   "pygments_lexer": "ipython3",
   "version": "3.13.7"
  }
 },
 "nbformat": 4,
 "nbformat_minor": 5
}
